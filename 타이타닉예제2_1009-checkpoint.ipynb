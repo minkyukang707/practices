{
 "cells": [
  {
   "cell_type": "code",
   "execution_count": 1,
   "id": "9d782d33",
   "metadata": {},
   "outputs": [],
   "source": [
    "import seaborn as sns "
   ]
  },
  {
   "cell_type": "code",
   "execution_count": 2,
   "id": "0fc4c8c6",
   "metadata": {},
   "outputs": [],
   "source": [
    "titanic = sns.load_dataset('titanic')"
   ]
  },
  {
   "cell_type": "code",
   "execution_count": 3,
   "id": "0f089c88",
   "metadata": {},
   "outputs": [],
   "source": [
    "#타이타닉 데이터셋에서 age, fare 2개 열을 선택하여 데이터프레임 만들기\n",
    "df=titanic.loc[:,['age','fare']]"
   ]
  },
  {
   "cell_type": "code",
   "execution_count": 4,
   "id": "b683f626",
   "metadata": {},
   "outputs": [
    {
     "data": {
      "text/html": [
       "<div>\n",
       "<style scoped>\n",
       "    .dataframe tbody tr th:only-of-type {\n",
       "        vertical-align: middle;\n",
       "    }\n",
       "\n",
       "    .dataframe tbody tr th {\n",
       "        vertical-align: top;\n",
       "    }\n",
       "\n",
       "    .dataframe thead th {\n",
       "        text-align: right;\n",
       "    }\n",
       "</style>\n",
       "<table border=\"1\" class=\"dataframe\">\n",
       "  <thead>\n",
       "    <tr style=\"text-align: right;\">\n",
       "      <th></th>\n",
       "      <th>age</th>\n",
       "      <th>fare</th>\n",
       "    </tr>\n",
       "  </thead>\n",
       "  <tbody>\n",
       "    <tr>\n",
       "      <th>0</th>\n",
       "      <td>22.0</td>\n",
       "      <td>7.2500</td>\n",
       "    </tr>\n",
       "    <tr>\n",
       "      <th>1</th>\n",
       "      <td>38.0</td>\n",
       "      <td>71.2833</td>\n",
       "    </tr>\n",
       "    <tr>\n",
       "      <th>2</th>\n",
       "      <td>26.0</td>\n",
       "      <td>7.9250</td>\n",
       "    </tr>\n",
       "    <tr>\n",
       "      <th>3</th>\n",
       "      <td>35.0</td>\n",
       "      <td>53.1000</td>\n",
       "    </tr>\n",
       "    <tr>\n",
       "      <th>4</th>\n",
       "      <td>35.0</td>\n",
       "      <td>8.0500</td>\n",
       "    </tr>\n",
       "  </tbody>\n",
       "</table>\n",
       "</div>"
      ],
      "text/plain": [
       "    age     fare\n",
       "0  22.0   7.2500\n",
       "1  38.0  71.2833\n",
       "2  26.0   7.9250\n",
       "3  35.0  53.1000\n",
       "4  35.0   8.0500"
      ]
     },
     "execution_count": 4,
     "metadata": {},
     "output_type": "execute_result"
    }
   ],
   "source": [
    "df.head()"
   ]
  },
  {
   "cell_type": "code",
   "execution_count": 5,
   "id": "a7b2588a",
   "metadata": {},
   "outputs": [],
   "source": [
    "#df데이터 셋에 ten 컬럼 10을 넣어 추가하기\n",
    "df['ten']=10"
   ]
  },
  {
   "cell_type": "code",
   "execution_count": 6,
   "id": "8eb7426a",
   "metadata": {},
   "outputs": [],
   "source": [
    "#10을 더하여 저장하는 add_10함수 생성하기\n",
    "#두개의 변수를 더하여 저장하는 add_two_obj함수 생성하기\n",
    "def add_10(n):\n",
    "    return n+10\n",
    "\n",
    "def add_two_obj(a,b):\n",
    "    return a+b"
   ]
  },
  {
   "cell_type": "code",
   "execution_count": 7,
   "id": "1f6e5391",
   "metadata": {},
   "outputs": [
    {
     "name": "stdout",
     "output_type": "stream",
     "text": [
      "0    22.0\n",
      "1    38.0\n",
      "2    26.0\n",
      "3    35.0\n",
      "4    35.0\n",
      "Name: age, dtype: float64\n",
      "0    32.0\n",
      "1    48.0\n",
      "2    36.0\n",
      "3    45.0\n",
      "4    45.0\n",
      "Name: age, dtype: float64\n"
     ]
    }
   ],
   "source": [
    "#apply: 시리즈 데이터에 함수 적용하기\n",
    "#시리즈 데이터 각각의 요소에 add_10함수 적용\n",
    "sr1= df['age'].apply(add_10)\n",
    "print(df['age'].head())\n",
    "print(sr1.head())"
   ]
  },
  {
   "cell_type": "code",
   "execution_count": 8,
   "id": "48b0f124",
   "metadata": {},
   "outputs": [
    {
     "name": "stdout",
     "output_type": "stream",
     "text": [
      "0    32.0\n",
      "1    48.0\n",
      "2    36.0\n",
      "3    45.0\n",
      "4    45.0\n",
      "Name: age, dtype: float64\n"
     ]
    }
   ],
   "source": [
    "sr2=df['age'].apply(add_two_obj,b=10)\n",
    "print(sr2.head())"
   ]
  },
  {
   "cell_type": "code",
   "execution_count": 9,
   "id": "6b0286fb",
   "metadata": {},
   "outputs": [
    {
     "name": "stdout",
     "output_type": "stream",
     "text": [
      "0    32.0\n",
      "1    48.0\n",
      "2    36.0\n",
      "3    45.0\n",
      "4    45.0\n",
      "Name: age, dtype: float64\n"
     ]
    }
   ],
   "source": [
    "#람다 방식을 이용하여 add-10함수 실행하기\n",
    "sr3=df['age'].apply(lambda x:add_10(x))\n",
    "print(sr3.head())"
   ]
  },
  {
   "cell_type": "code",
   "execution_count": 11,
   "id": "0fed2aa9",
   "metadata": {},
   "outputs": [
    {
     "name": "stdout",
     "output_type": "stream",
     "text": [
      "    age     fare  ten\n",
      "0  22.0   7.2500   10\n",
      "1  38.0  71.2833   10\n",
      "2  26.0   7.9250   10\n",
      "3  35.0  53.1000   10\n",
      "4  35.0   8.0500   10\n",
      "    age     fare  ten\n",
      "0  32.0  17.2500   20\n",
      "1  48.0  81.2833   20\n",
      "2  36.0  17.9250   20\n",
      "3  45.0  63.1000   20\n",
      "4  45.0  18.0500   20\n"
     ]
    }
   ],
   "source": [
    "#applymap: 데이터 프레임객체에 적용되어 데이터프레임객체 전체 요소에 실행됨\n",
    "df_map=df.applymap(add_10)\n",
    "print(df.head())\n",
    "print(df_map.head())"
   ]
  },
  {
   "cell_type": "code",
   "execution_count": 12,
   "id": "2d2462ee",
   "metadata": {},
   "outputs": [],
   "source": [
    "def missing_value(series): #시리즈를 인수로 전달 \n",
    "    return series.isnull() #불린 시리즈를 반환 \n",
    "\n",
    "#dataframe.apply(적용함수, axis=0) #행기준, 열값=시리즈객체"
   ]
  },
  {
   "cell_type": "code",
   "execution_count": 13,
   "id": "42622d4e",
   "metadata": {},
   "outputs": [
    {
     "name": "stdout",
     "output_type": "stream",
     "text": [
      "    age     fare  ten\n",
      "0  22.0   7.2500   10\n",
      "1  38.0  71.2833   10\n",
      "2  26.0   7.9250   10\n",
      "3  35.0  53.1000   10\n",
      "4  35.0   8.0500   10\n",
      "     age   fare    ten\n",
      "0  False  False  False\n",
      "1  False  False  False\n",
      "2  False  False  False\n",
      "3  False  False  False\n",
      "4  False  False  False\n",
      "<class 'pandas.core.frame.DataFrame'>\n"
     ]
    }
   ],
   "source": [
    "result= df.apply(missing_value, axis=0)\n",
    "print(df.head())\n",
    "print(result.head())\n",
    "print(type(result))"
   ]
  },
  {
   "cell_type": "code",
   "execution_count": 16,
   "id": "cac63ab3",
   "metadata": {},
   "outputs": [],
   "source": [
    "#모든 시리즈에 최대값과 최소값의 차이를 출력하기\n",
    "def max_min(s):\n",
    "    return s.max()-s.min() #값으로 반환"
   ]
  },
  {
   "cell_type": "code",
   "execution_count": 17,
   "id": "5f1bc2f7",
   "metadata": {},
   "outputs": [
    {
     "name": "stdout",
     "output_type": "stream",
     "text": [
      "age      79.5800\n",
      "fare    512.3292\n",
      "ten       0.0000\n",
      "dtype: float64\n",
      "<class 'pandas.core.series.Series'>\n"
     ]
    }
   ],
   "source": [
    "result = df.apply(max_min,axis=0)\n",
    "print(result)\n",
    "print(type(result))"
   ]
  },
  {
   "cell_type": "code",
   "execution_count": 18,
   "id": "e11fa85f",
   "metadata": {},
   "outputs": [
    {
     "name": "stdout",
     "output_type": "stream",
     "text": [
      "    age     fare  ten   add\n",
      "0  22.0   7.2500   10  32.0\n",
      "1  38.0  71.2833   10  48.0\n",
      "2  26.0   7.9250   10  36.0\n",
      "3  35.0  53.1000   10  45.0\n",
      "4  35.0   8.0500   10  45.0\n"
     ]
    }
   ],
   "source": [
    "#add_two_obj함수: 두개의 매개변수를 받아서 합을 리턴\n",
    "#age컬럼과 ten 컬럼의 합을 add컬럼에 저장 \n",
    "df['add'] = df['age']+df['ten']\n",
    "print(df.head())"
   ]
  },
  {
   "cell_type": "code",
   "execution_count": 21,
   "id": "eebc92e9",
   "metadata": {},
   "outputs": [
    {
     "name": "stdout",
     "output_type": "stream",
     "text": [
      "    age     fare  ten   add  add2\n",
      "0  22.0   7.2500   10  32.0  32.0\n",
      "1  38.0  71.2833   10  48.0  48.0\n",
      "2  26.0   7.9250   10  36.0  36.0\n",
      "3  35.0  53.1000   10  45.0  45.0\n",
      "4  35.0   8.0500   10  45.0  45.0\n"
     ]
    }
   ],
   "source": [
    "#age컬럼과 ten컬럼의 합을 add2컬럼에 저장 \n",
    "#add_two_obj 함수를 사용하기\n",
    "#x:df의 한 행\n",
    "df['add2'] = df.apply(lambda x:add_two_obj(x['age'],x['ten']),axis=1)\n",
    "print(df.head())"
   ]
  },
  {
   "cell_type": "code",
   "execution_count": 22,
   "id": "fb5fc9d7",
   "metadata": {},
   "outputs": [],
   "source": [
    "#각 열의 nan개수 반환 - 데이터프레임 전달하면 시리즈 반환 \n",
    "def missing_count(x):\n",
    "    return missing_value(x).sum()\n",
    "\n",
    "#데이터프레임의 총 nan개수 - 데이터프레임 전달하면 값을 반환 \n",
    "def total_number_missing(x):\n",
    "    return missing_count(x).sum()"
   ]
  },
  {
   "cell_type": "code",
   "execution_count": 23,
   "id": "c6d109af",
   "metadata": {},
   "outputs": [
    {
     "name": "stdout",
     "output_type": "stream",
     "text": [
      "     age   fare    ten    add   add2\n",
      "0  False  False  False  False  False\n",
      "1  False  False  False  False  False\n",
      "2  False  False  False  False  False\n",
      "3  False  False  False  False  False\n",
      "4  False  False  False  False  False\n",
      "<class 'pandas.core.frame.DataFrame'>\n"
     ]
    }
   ],
   "source": [
    "result = df.apply(missing_value)\n",
    "print(result.head())\n",
    "print(type(result))"
   ]
  },
  {
   "cell_type": "code",
   "execution_count": 24,
   "id": "ee60e612",
   "metadata": {},
   "outputs": [
    {
     "name": "stdout",
     "output_type": "stream",
     "text": [
      "age     177\n",
      "fare      0\n",
      "ten       0\n",
      "add     177\n",
      "add2    177\n",
      "dtype: int64\n",
      "<class 'pandas.core.series.Series'>\n"
     ]
    }
   ],
   "source": [
    "result = df.apply(missing_count)\n",
    "print(result.head())\n",
    "print(type(result))"
   ]
  },
  {
   "cell_type": "code",
   "execution_count": 25,
   "id": "4fc5ffa0",
   "metadata": {},
   "outputs": [
    {
     "name": "stdout",
     "output_type": "stream",
     "text": [
      "age     177\n",
      "fare      0\n",
      "ten       0\n",
      "add     177\n",
      "add2    177\n",
      "dtype: int64\n",
      "<class 'pandas.core.series.Series'>\n"
     ]
    }
   ],
   "source": [
    "result = df.pipe(missing_count)\n",
    "print(result.head())\n",
    "print(type(result))"
   ]
  },
  {
   "cell_type": "code",
   "execution_count": 26,
   "id": "0eca30d9",
   "metadata": {},
   "outputs": [
    {
     "name": "stdout",
     "output_type": "stream",
     "text": [
      "age     177\n",
      "fare      0\n",
      "ten       0\n",
      "add     177\n",
      "add2    177\n",
      "dtype: int64\n",
      "<class 'pandas.core.series.Series'>\n"
     ]
    }
   ],
   "source": [
    "result = df.apply(total_number_missing)\n",
    "print(result.head())\n",
    "print(type(result)) #시리즈 객체"
   ]
  },
  {
   "cell_type": "markdown",
   "id": "9d594928",
   "metadata": {},
   "source": [
    "# 데이터프레임 컬럼 관련 예제"
   ]
  },
  {
   "cell_type": "code",
   "execution_count": 27,
   "id": "1e022f32",
   "metadata": {},
   "outputs": [
    {
     "name": "stdout",
     "output_type": "stream",
     "text": [
      "   survived  pclass     sex   age\n",
      "0         0       3    male  22.0\n",
      "1         1       1  female  38.0\n",
      "2         1       3  female  26.0\n",
      "3         1       1  female  35.0\n",
      "4         0       3    male  35.0\n"
     ]
    }
   ],
   "source": [
    "df=titanic.loc[0:4, 'survived':'age']\n",
    "print(df)"
   ]
  },
  {
   "cell_type": "code",
   "execution_count": 28,
   "id": "a2c9c8db",
   "metadata": {},
   "outputs": [
    {
     "name": "stdout",
     "output_type": "stream",
     "text": [
      "Index(['survived', 'pclass', 'sex', 'age'], dtype='object')\n",
      "['survived', 'pclass', 'sex', 'age']\n",
      "<class 'list'>\n"
     ]
    }
   ],
   "source": [
    "#열 이름의 리스트 만들기\n",
    "print(df.columns)\n",
    "columns = list(df.columns)\n",
    "print(columns)\n",
    "print(type(columns))"
   ]
  },
  {
   "cell_type": "code",
   "execution_count": 29,
   "id": "51a35f71",
   "metadata": {},
   "outputs": [
    {
     "name": "stdout",
     "output_type": "stream",
     "text": [
      "['survived' 'pclass' 'sex' 'age']\n",
      "<class 'numpy.ndarray'>\n"
     ]
    }
   ],
   "source": [
    "print(df.columns.values)\n",
    "print(type(df.columns.values))"
   ]
  },
  {
   "cell_type": "code",
   "execution_count": 30,
   "id": "3d850eb4",
   "metadata": {},
   "outputs": [
    {
     "name": "stdout",
     "output_type": "stream",
     "text": [
      "['survived', 'pclass', 'sex', 'age']\n",
      "<class 'list'>\n"
     ]
    }
   ],
   "source": [
    "#배열 객체를 리스트로 변환하기\n",
    "columns = list(df.columns.values)\n",
    "print(columns)\n",
    "print(type(columns))"
   ]
  },
  {
   "cell_type": "code",
   "execution_count": 31,
   "id": "c2e89f54",
   "metadata": {},
   "outputs": [
    {
     "name": "stdout",
     "output_type": "stream",
     "text": [
      "['age', 'pclass', 'sex', 'survived']\n",
      "    age  pclass     sex  survived\n",
      "0  22.0       3    male         0\n",
      "1  38.0       1  female         1\n",
      "2  26.0       3  female         1\n",
      "3  35.0       1  female         1\n",
      "4  35.0       3    male         0\n"
     ]
    }
   ],
   "source": [
    "#열 이름을 알파벳순으로 정렬하기\n",
    "columns_sorted = sorted(columns) #알파벳 순으로 정렬\n",
    "print(columns_sorted)\n",
    "#컬럼명 순으로 조회하기\n",
    "df_sorted = df[columns_sorted]\n",
    "print(df_sorted)"
   ]
  },
  {
   "cell_type": "code",
   "execution_count": 32,
   "id": "709feecc",
   "metadata": {},
   "outputs": [
    {
     "name": "stdout",
     "output_type": "stream",
     "text": [
      "['survived', 'sex', 'pclass', 'age']\n",
      "   survived     sex  pclass   age\n",
      "0         0    male       3  22.0\n",
      "1         1  female       1  38.0\n",
      "2         1  female       3  26.0\n",
      "3         1  female       1  35.0\n",
      "4         0    male       3  35.0\n"
     ]
    }
   ],
   "source": [
    "#열 이름을 알파벳 역순으로 정렬\n",
    "#컬렴명 역순으로 조회하기\n",
    "columns_reversed = list(reversed(columns_sorted))\n",
    "print(columns_reversed)\n",
    "df_reversed = df[columns_reversed]\n",
    "print(df_reversed)"
   ]
  },
  {
   "cell_type": "code",
   "execution_count": 33,
   "id": "bfcfd3a9",
   "metadata": {},
   "outputs": [
    {
     "name": "stdout",
     "output_type": "stream",
     "text": [
      "   pclass     sex   age  survived\n",
      "0       3    male  22.0         0\n",
      "1       1  female  38.0         1\n",
      "2       3  female  26.0         1\n",
      "3       1  female  35.0         1\n",
      "4       3    male  35.0         0\n"
     ]
    }
   ],
   "source": [
    "#열이름을 사용자가 정의한 임의의 순서로 재배치하기\n",
    "columns_customed = ['pclass','sex','age','survived']\n",
    "df_customed = df[columns_customed]\n",
    "print(df_customed)"
   ]
  },
  {
   "cell_type": "markdown",
   "id": "f855adfa",
   "metadata": {},
   "source": [
    "# 주가데이터 파일을 데이터프레임 객체로 저장"
   ]
  },
  {
   "cell_type": "code",
   "execution_count": 34,
   "id": "6e23ae80",
   "metadata": {},
   "outputs": [],
   "source": [
    "import pandas as pd "
   ]
  },
  {
   "cell_type": "code",
   "execution_count": 35,
   "id": "fc72190d",
   "metadata": {},
   "outputs": [
    {
     "name": "stdout",
     "output_type": "stream",
     "text": [
      "          연월일   당일종가  전일종가     시가     고가     저가     거래량\n",
      "0  2018-07-02  10100   600  10850  10900  10000  137977\n",
      "1  2018-06-29  10700   300  10550  10900   9990  170253\n",
      "2  2018-06-28  10400   500  10900  10950  10150  155769\n",
      "3  2018-06-27  10900   100  10800  11050  10500  133548\n",
      "4  2018-06-26  10800   350  10900  11000  10700   63039\n",
      "5  2018-06-25  11150   150  11400  11450  11000   55519\n",
      "6  2018-06-22  11300   100  11250  11450  10750  134805\n",
      "7  2018-06-21  11200   350  11350  11750  11200  133002\n",
      "8  2018-06-20  11550   250  11200  11600  10900  308596\n",
      "9  2018-06-19  11300   700  11850  11950  11300  180656\n",
      "10 2018-06-18  12000  1400  13400  13400  12000  309787\n",
      "11 2018-06-15  13400    50  13600  13600  12900  201376\n",
      "12 2018-06-14  13450   250  13200  13700  13150  347451\n",
      "13 2018-06-12  13200  1250  12200  13300  12050  558148\n",
      "14 2018-06-11  11950     0  12000  12250  11950   62293\n",
      "15 2018-06-08  11950     0  11950  12200  11800   59258\n",
      "16 2018-06-07  11950   200  12200  12300  11900   49088\n",
      "17 2018-06-05  12150   250  11800  12250  11800   42485\n",
      "18 2018-06-04  11900     0  11900  12200  11700   25171\n",
      "19 2018-06-01  11900   100  11800  12100  11750   32062\n",
      "연월일     datetime64[ns]\n",
      "당일종가             int64\n",
      "전일종가             int64\n",
      "시가               int64\n",
      "고가               int64\n",
      "저가               int64\n",
      "거래량              int64\n",
      "dtype: object\n"
     ]
    }
   ],
   "source": [
    "df = pd.read_excel('C:/pyy/주가데이터.xlsx', engine = 'openpyxl')\n",
    "print(df)\n",
    "print(df.dtypes)"
   ]
  },
  {
   "cell_type": "code",
   "execution_count": 36,
   "id": "f72e4740",
   "metadata": {},
   "outputs": [
    {
     "name": "stdout",
     "output_type": "stream",
     "text": [
      "연월일     datetime64[ns]\n",
      "당일종가             int64\n",
      "전일종가             int64\n",
      "시가               int64\n",
      "고가               int64\n",
      "저가               int64\n",
      "거래량              int64\n",
      "년                int64\n",
      "월                int64\n",
      "일                int64\n",
      "dtype: object\n"
     ]
    }
   ],
   "source": [
    "#연월일 컬럼으로 새로운 컬럼 생성\n",
    "df['년'] = df['연월일'].dt.year\n",
    "df['월'] = df['연월일'].dt.month\n",
    "df['일'] = df['연월일'].dt.day\n",
    "print(df.dtypes)"
   ]
  },
  {
   "cell_type": "code",
   "execution_count": 37,
   "id": "f7c756f9",
   "metadata": {},
   "outputs": [
    {
     "name": "stdout",
     "output_type": "stream",
     "text": [
      "연월일     datetime64[ns]\n",
      "당일종가             int64\n",
      "전일종가             int64\n",
      "시가               int64\n",
      "고가               int64\n",
      "저가               int64\n",
      "거래량              int64\n",
      "년                int64\n",
      "월                int64\n",
      "일                int64\n",
      "연월일2            object\n",
      "dtype: object\n",
      "0     2018-07-02\n",
      "1     2018-06-29\n",
      "2     2018-06-28\n",
      "3     2018-06-27\n",
      "4     2018-06-26\n",
      "5     2018-06-25\n",
      "6     2018-06-22\n",
      "7     2018-06-21\n",
      "8     2018-06-20\n",
      "9     2018-06-19\n",
      "10    2018-06-18\n",
      "11    2018-06-15\n",
      "12    2018-06-14\n",
      "13    2018-06-12\n",
      "14    2018-06-11\n",
      "15    2018-06-08\n",
      "16    2018-06-07\n",
      "17    2018-06-05\n",
      "18    2018-06-04\n",
      "19    2018-06-01\n",
      "Name: 연월일2, dtype: object\n"
     ]
    }
   ],
   "source": [
    "#연월일 컬럼을 문자열형으로 변경하여 연월일2 컬럼에 저장 \n",
    "df['연월일2']=df['연월일'].astype('str')\n",
    "print(df.dtypes)\n",
    "print(df['연월일2'])"
   ]
  },
  {
   "cell_type": "code",
   "execution_count": 38,
   "id": "efaa321e",
   "metadata": {},
   "outputs": [
    {
     "name": "stdout",
     "output_type": "stream",
     "text": [
      "<class 'pandas.core.series.Series'>\n",
      "object\n",
      "0     [2018, 07, 02]\n",
      "1     [2018, 06, 29]\n",
      "2     [2018, 06, 28]\n",
      "3     [2018, 06, 27]\n",
      "4     [2018, 06, 26]\n",
      "5     [2018, 06, 25]\n",
      "6     [2018, 06, 22]\n",
      "7     [2018, 06, 21]\n",
      "8     [2018, 06, 20]\n",
      "9     [2018, 06, 19]\n",
      "10    [2018, 06, 18]\n",
      "11    [2018, 06, 15]\n",
      "12    [2018, 06, 14]\n",
      "13    [2018, 06, 12]\n",
      "14    [2018, 06, 11]\n",
      "15    [2018, 06, 08]\n",
      "16    [2018, 06, 07]\n",
      "17    [2018, 06, 05]\n",
      "18    [2018, 06, 04]\n",
      "19    [2018, 06, 01]\n",
      "Name: 연월일2, dtype: object\n"
     ]
    }
   ],
   "source": [
    "#문자열을 split() 메서드로 분리\n",
    "#문자열의 멤버함수인 split()\n",
    "#.str: 문자열로 형변환 \n",
    "dates = df['연월일2'].str.split('-')\n",
    "print(type(df['연월일2']))\n",
    "print(df['연월일2'].dtype)\n",
    "print(dates)"
   ]
  },
  {
   "cell_type": "code",
   "execution_count": 39,
   "id": "8d89e612",
   "metadata": {},
   "outputs": [
    {
     "name": "stdout",
     "output_type": "stream",
     "text": [
      "연월일     datetime64[ns]\n",
      "당일종가             int64\n",
      "전일종가             int64\n",
      "시가               int64\n",
      "고가               int64\n",
      "저가               int64\n",
      "거래량              int64\n",
      "년                int64\n",
      "월                int64\n",
      "일                int64\n",
      "연월일2            object\n",
      "년2              object\n",
      "월2              object\n",
      "일2              object\n",
      "dtype: object\n",
      "         연월일   당일종가  전일종가     시가     고가     저가     거래량     년  월   일  \\\n",
      "0 2018-07-02  10100   600  10850  10900  10000  137977  2018  7   2   \n",
      "1 2018-06-29  10700   300  10550  10900   9990  170253  2018  6  29   \n",
      "2 2018-06-28  10400   500  10900  10950  10150  155769  2018  6  28   \n",
      "3 2018-06-27  10900   100  10800  11050  10500  133548  2018  6  27   \n",
      "4 2018-06-26  10800   350  10900  11000  10700   63039  2018  6  26   \n",
      "\n",
      "         연월일2    년2  월2  일2  \n",
      "0  2018-07-02  2018  07  02  \n",
      "1  2018-06-29  2018  06  29  \n",
      "2  2018-06-28  2018  06  28  \n",
      "3  2018-06-27  2018  06  27  \n",
      "4  2018-06-26  2018  06  26  \n"
     ]
    }
   ],
   "source": [
    "df['년2']=dates.str.get(0)\n",
    "df['월2']=dates.str.get(1)\n",
    "df['일2']=dates.str.get(2)\n",
    "print(df.dtypes)\n",
    "print(df.head())"
   ]
  },
  {
   "cell_type": "markdown",
   "id": "79cd2cd5",
   "metadata": {},
   "source": [
    "# 필터: 조건에 맞는 데이터를 조회"
   ]
  },
  {
   "cell_type": "code",
   "execution_count": 40,
   "id": "2c255eae",
   "metadata": {},
   "outputs": [
    {
     "name": "stdout",
     "output_type": "stream",
     "text": [
      "0    False\n",
      "1    False\n",
      "2    False\n",
      "3    False\n",
      "4    False\n",
      "Name: age, dtype: bool\n"
     ]
    }
   ],
   "source": [
    "#타이타닉 승객중 10댜(10~19세)인 승객만 조회하기\n",
    "mask1 = (titanic.age >=10) & (titanic.age<20)\n",
    "print(mask1.head())"
   ]
  },
  {
   "cell_type": "code",
   "execution_count": 41,
   "id": "997a90b7",
   "metadata": {},
   "outputs": [
    {
     "name": "stdout",
     "output_type": "stream",
     "text": [
      "    survived  pclass     sex   age  sibsp  parch      fare embarked   class  \\\n",
      "9          1       2  female  14.0      1      0   30.0708        C  Second   \n",
      "14         0       3  female  14.0      0      0    7.8542        S   Third   \n",
      "22         1       3  female  15.0      0      0    8.0292        Q   Third   \n",
      "27         0       1    male  19.0      3      2  263.0000        S   First   \n",
      "38         0       3  female  18.0      2      0   18.0000        S   Third   \n",
      "\n",
      "      who  adult_male deck  embark_town alive  alone  \n",
      "9   child       False  NaN    Cherbourg   yes  False  \n",
      "14  child       False  NaN  Southampton    no   True  \n",
      "22  child       False  NaN   Queenstown   yes   True  \n",
      "27    man        True    C  Southampton    no  False  \n",
      "38  woman       False  NaN  Southampton    no  False  \n"
     ]
    }
   ],
   "source": [
    "df_teenage = titanic.loc[mask1,:]\n",
    "print(df_teenage.head())"
   ]
  },
  {
   "cell_type": "code",
   "execution_count": 43,
   "id": "59b44005",
   "metadata": {},
   "outputs": [
    {
     "name": "stdout",
     "output_type": "stream",
     "text": [
      "     survived  pclass     sex   age  sibsp  parch      fare embarked   class  \\\n",
      "10          1       3  female  4.00      1      1   16.7000        S   Third   \n",
      "24          0       3  female  8.00      3      1   21.0750        S   Third   \n",
      "43          1       2  female  3.00      1      2   41.5792        C  Second   \n",
      "58          1       2  female  5.00      1      2   27.7500        S  Second   \n",
      "119         0       3  female  2.00      4      2   31.2750        S   Third   \n",
      "147         0       3  female  9.00      2      2   34.3750        S   Third   \n",
      "172         1       3  female  1.00      1      1   11.1333        S   Third   \n",
      "184         1       3  female  4.00      0      2   22.0250        S   Third   \n",
      "205         0       3  female  2.00      0      1   10.4625        S   Third   \n",
      "233         1       3  female  5.00      4      2   31.3875        S   Third   \n",
      "237         1       2  female  8.00      0      2   26.2500        S  Second   \n",
      "297         0       1  female  2.00      1      2  151.5500        S   First   \n",
      "374         0       3  female  3.00      3      1   21.0750        S   Third   \n",
      "381         1       3  female  1.00      0      2   15.7417        C   Third   \n",
      "448         1       3  female  5.00      2      1   19.2583        C   Third   \n",
      "469         1       3  female  0.75      2      1   19.2583        C   Third   \n",
      "479         1       3  female  2.00      0      1   12.2875        S   Third   \n",
      "530         1       2  female  2.00      1      1   26.0000        S  Second   \n",
      "535         1       2  female  7.00      0      2   26.2500        S  Second   \n",
      "541         0       3  female  9.00      4      2   31.2750        S   Third   \n",
      "618         1       2  female  4.00      2      1   39.0000        S  Second   \n",
      "634         0       3  female  9.00      3      2   27.9000        S   Third   \n",
      "642         0       3  female  2.00      3      2   27.9000        S   Third   \n",
      "644         1       3  female  0.75      2      1   19.2583        C   Third   \n",
      "691         1       3  female  4.00      0      1   13.4167        C   Third   \n",
      "720         1       2  female  6.00      0      1   33.0000        S  Second   \n",
      "750         1       2  female  4.00      1      1   23.0000        S  Second   \n",
      "777         1       3  female  5.00      0      0   12.4750        S   Third   \n",
      "813         0       3  female  6.00      4      2   31.2750        S   Third   \n",
      "852         0       3  female  9.00      1      1   15.2458        C   Third   \n",
      "\n",
      "       who  adult_male deck  embark_town alive  alone  \n",
      "10   child       False    G  Southampton   yes  False  \n",
      "24   child       False  NaN  Southampton    no  False  \n",
      "43   child       False  NaN    Cherbourg   yes  False  \n",
      "58   child       False  NaN  Southampton   yes  False  \n",
      "119  child       False  NaN  Southampton    no  False  \n",
      "147  child       False  NaN  Southampton    no  False  \n",
      "172  child       False  NaN  Southampton   yes  False  \n",
      "184  child       False  NaN  Southampton   yes  False  \n",
      "205  child       False    G  Southampton    no  False  \n",
      "233  child       False  NaN  Southampton   yes  False  \n",
      "237  child       False  NaN  Southampton   yes  False  \n",
      "297  child       False    C  Southampton    no  False  \n",
      "374  child       False  NaN  Southampton    no  False  \n",
      "381  child       False  NaN    Cherbourg   yes  False  \n",
      "448  child       False  NaN    Cherbourg   yes  False  \n",
      "469  child       False  NaN    Cherbourg   yes  False  \n",
      "479  child       False  NaN  Southampton   yes  False  \n",
      "530  child       False  NaN  Southampton   yes  False  \n",
      "535  child       False  NaN  Southampton   yes  False  \n",
      "541  child       False  NaN  Southampton    no  False  \n",
      "618  child       False    F  Southampton   yes  False  \n",
      "634  child       False  NaN  Southampton    no  False  \n",
      "642  child       False  NaN  Southampton    no  False  \n",
      "644  child       False  NaN    Cherbourg   yes  False  \n",
      "691  child       False  NaN    Cherbourg   yes  False  \n",
      "720  child       False  NaN  Southampton   yes  False  \n",
      "750  child       False  NaN  Southampton   yes  False  \n",
      "777  child       False  NaN  Southampton   yes   True  \n",
      "813  child       False  NaN  Southampton    no  False  \n",
      "852  child       False  NaN    Cherbourg    no  False  \n"
     ]
    }
   ],
   "source": [
    "#나이가 10세미만이고 여성인 승객만 따로 선택 \n",
    "mask2 = (titanic.age<10) & (titanic.sex =='female')\n",
    "df_female_under10 = titanic.loc[mask2,:]\n",
    "print(df_female_under10)"
   ]
  },
  {
   "cell_type": "code",
   "execution_count": 44,
   "id": "7f88e4af",
   "metadata": {},
   "outputs": [
    {
     "name": "stdout",
     "output_type": "stream",
     "text": [
      "       age     sex  alone\n",
      "7     2.00    male  False\n",
      "10    4.00  female  False\n",
      "16    2.00    male  False\n",
      "24    8.00  female  False\n",
      "33   66.00    male   True\n",
      "..     ...     ...    ...\n",
      "831   0.83    male  False\n",
      "850   4.00    male  False\n",
      "851  74.00    male   True\n",
      "852   9.00  female  False\n",
      "869   4.00    male  False\n",
      "\n",
      "[88 rows x 3 columns]\n"
     ]
    }
   ],
   "source": [
    "#나이가 10세 미만이거나 60세 이상인 승객의 age,sex,alone 컬럼만 조회\n",
    "mask3 = (titanic.age <10) | (titanic.age>=60)\n",
    "df_under10_morethan60 = titanic.loc[mask3,['age','sex','alone']]\n",
    "print(df_under10_morethan60)"
   ]
  },
  {
   "cell_type": "code",
   "execution_count": 46,
   "id": "21359429",
   "metadata": {},
   "outputs": [
    {
     "name": "stdout",
     "output_type": "stream",
     "text": [
      "     survived  pclass     sex   age  sibsp  parch      fare embarked   class  \\\n",
      "7           0       3    male   2.0      3      1   21.0750        S   Third   \n",
      "16          0       3    male   2.0      4      1   29.1250        Q   Third   \n",
      "24          0       3  female   8.0      3      1   21.0750        S   Third   \n",
      "27          0       1    male  19.0      3      2  263.0000        S   First   \n",
      "50          0       3    male   7.0      4      1   39.6875        S   Third   \n",
      "59          0       3    male  11.0      5      2   46.9000        S   Third   \n",
      "63          0       3    male   4.0      3      2   27.9000        S   Third   \n",
      "68          1       3  female  17.0      4      2    7.9250        S   Third   \n",
      "71          0       3  female  16.0      5      2   46.9000        S   Third   \n",
      "85          1       3  female  33.0      3      0   15.8500        S   Third   \n",
      "88          1       1  female  23.0      3      2  263.0000        S   First   \n",
      "119         0       3  female   2.0      4      2   31.2750        S   Third   \n",
      "164         0       3    male   1.0      4      1   39.6875        S   Third   \n",
      "171         0       3    male   4.0      4      1   29.1250        Q   Third   \n",
      "176         0       3    male   NaN      3      1   25.4667        S   Third   \n",
      "182         0       3    male   9.0      4      2   31.3875        S   Third   \n",
      "229         0       3  female   NaN      3      1   25.4667        S   Third   \n",
      "233         1       3  female   5.0      4      2   31.3875        S   Third   \n",
      "261         1       3    male   3.0      4      2   31.3875        S   Third   \n",
      "266         0       3    male  16.0      4      1   39.6875        S   Third   \n",
      "278         0       3    male   7.0      4      1   29.1250        Q   Third   \n",
      "341         1       1  female  24.0      3      2  263.0000        S   First   \n",
      "374         0       3  female   3.0      3      1   21.0750        S   Third   \n",
      "386         0       3    male   1.0      5      2   46.9000        S   Third   \n",
      "409         0       3  female   NaN      3      1   25.4667        S   Third   \n",
      "480         0       3    male   9.0      5      2   46.9000        S   Third   \n",
      "485         0       3  female   NaN      3      1   25.4667        S   Third   \n",
      "541         0       3  female   9.0      4      2   31.2750        S   Third   \n",
      "542         0       3  female  11.0      4      2   31.2750        S   Third   \n",
      "634         0       3  female   9.0      3      2   27.9000        S   Third   \n",
      "642         0       3  female   2.0      3      2   27.9000        S   Third   \n",
      "683         0       3    male  14.0      5      2   46.9000        S   Third   \n",
      "686         0       3    male  14.0      4      1   39.6875        S   Third   \n",
      "726         1       2  female  30.0      3      0   21.0000        S  Second   \n",
      "787         0       3    male   8.0      4      1   29.1250        Q   Third   \n",
      "813         0       3  female   6.0      4      2   31.2750        S   Third   \n",
      "819         0       3    male  10.0      3      2   27.9000        S   Third   \n",
      "824         0       3    male   2.0      4      1   39.6875        S   Third   \n",
      "850         0       3    male   4.0      4      2   31.2750        S   Third   \n",
      "\n",
      "       who  adult_male deck  embark_town alive  alone  \n",
      "7    child       False  NaN  Southampton    no  False  \n",
      "16   child       False  NaN   Queenstown    no  False  \n",
      "24   child       False  NaN  Southampton    no  False  \n",
      "27     man        True    C  Southampton    no  False  \n",
      "50   child       False  NaN  Southampton    no  False  \n",
      "59   child       False  NaN  Southampton    no  False  \n",
      "63   child       False  NaN  Southampton    no  False  \n",
      "68   woman       False  NaN  Southampton   yes  False  \n",
      "71   woman       False  NaN  Southampton    no  False  \n",
      "85   woman       False  NaN  Southampton   yes  False  \n",
      "88   woman       False    C  Southampton   yes  False  \n",
      "119  child       False  NaN  Southampton    no  False  \n",
      "164  child       False  NaN  Southampton    no  False  \n",
      "171  child       False  NaN   Queenstown    no  False  \n",
      "176    man        True  NaN  Southampton    no  False  \n",
      "182  child       False  NaN  Southampton    no  False  \n",
      "229  woman       False  NaN  Southampton    no  False  \n",
      "233  child       False  NaN  Southampton   yes  False  \n",
      "261  child       False  NaN  Southampton   yes  False  \n",
      "266    man        True  NaN  Southampton    no  False  \n",
      "278  child       False  NaN   Queenstown    no  False  \n",
      "341  woman       False    C  Southampton   yes  False  \n",
      "374  child       False  NaN  Southampton    no  False  \n",
      "386  child       False  NaN  Southampton    no  False  \n",
      "409  woman       False  NaN  Southampton    no  False  \n",
      "480  child       False  NaN  Southampton    no  False  \n",
      "485  woman       False  NaN  Southampton    no  False  \n",
      "541  child       False  NaN  Southampton    no  False  \n",
      "542  child       False  NaN  Southampton    no  False  \n",
      "634  child       False  NaN  Southampton    no  False  \n",
      "642  child       False  NaN  Southampton    no  False  \n",
      "683  child       False  NaN  Southampton    no  False  \n",
      "686  child       False  NaN  Southampton    no  False  \n",
      "726  woman       False  NaN  Southampton   yes  False  \n",
      "787  child       False  NaN   Queenstown    no  False  \n",
      "813  child       False  NaN  Southampton    no  False  \n",
      "819  child       False  NaN  Southampton    no  False  \n",
      "824  child       False  NaN  Southampton    no  False  \n",
      "850  child       False  NaN  Southampton    no  False  \n"
     ]
    }
   ],
   "source": [
    "#동행자의 수가 3,4,5인 승객들만 조회하기 \n",
    "mask4 = (titanic.sibsp==3) | (titanic.sibsp==4) | (titanic.sibsp==5)\n",
    "df_notalone = titanic.loc[mask4,:]\n",
    "print(df_notalone)"
   ]
  },
  {
   "cell_type": "code",
   "execution_count": 47,
   "id": "4676860a",
   "metadata": {},
   "outputs": [
    {
     "name": "stdout",
     "output_type": "stream",
     "text": [
      "     survived  pclass     sex   age  sibsp  parch      fare embarked   class  \\\n",
      "7           0       3    male   2.0      3      1   21.0750        S   Third   \n",
      "16          0       3    male   2.0      4      1   29.1250        Q   Third   \n",
      "24          0       3  female   8.0      3      1   21.0750        S   Third   \n",
      "27          0       1    male  19.0      3      2  263.0000        S   First   \n",
      "50          0       3    male   7.0      4      1   39.6875        S   Third   \n",
      "59          0       3    male  11.0      5      2   46.9000        S   Third   \n",
      "63          0       3    male   4.0      3      2   27.9000        S   Third   \n",
      "68          1       3  female  17.0      4      2    7.9250        S   Third   \n",
      "71          0       3  female  16.0      5      2   46.9000        S   Third   \n",
      "85          1       3  female  33.0      3      0   15.8500        S   Third   \n",
      "88          1       1  female  23.0      3      2  263.0000        S   First   \n",
      "119         0       3  female   2.0      4      2   31.2750        S   Third   \n",
      "164         0       3    male   1.0      4      1   39.6875        S   Third   \n",
      "171         0       3    male   4.0      4      1   29.1250        Q   Third   \n",
      "176         0       3    male   NaN      3      1   25.4667        S   Third   \n",
      "182         0       3    male   9.0      4      2   31.3875        S   Third   \n",
      "229         0       3  female   NaN      3      1   25.4667        S   Third   \n",
      "233         1       3  female   5.0      4      2   31.3875        S   Third   \n",
      "261         1       3    male   3.0      4      2   31.3875        S   Third   \n",
      "266         0       3    male  16.0      4      1   39.6875        S   Third   \n",
      "278         0       3    male   7.0      4      1   29.1250        Q   Third   \n",
      "341         1       1  female  24.0      3      2  263.0000        S   First   \n",
      "374         0       3  female   3.0      3      1   21.0750        S   Third   \n",
      "386         0       3    male   1.0      5      2   46.9000        S   Third   \n",
      "409         0       3  female   NaN      3      1   25.4667        S   Third   \n",
      "480         0       3    male   9.0      5      2   46.9000        S   Third   \n",
      "485         0       3  female   NaN      3      1   25.4667        S   Third   \n",
      "541         0       3  female   9.0      4      2   31.2750        S   Third   \n",
      "542         0       3  female  11.0      4      2   31.2750        S   Third   \n",
      "634         0       3  female   9.0      3      2   27.9000        S   Third   \n",
      "642         0       3  female   2.0      3      2   27.9000        S   Third   \n",
      "683         0       3    male  14.0      5      2   46.9000        S   Third   \n",
      "686         0       3    male  14.0      4      1   39.6875        S   Third   \n",
      "726         1       2  female  30.0      3      0   21.0000        S  Second   \n",
      "787         0       3    male   8.0      4      1   29.1250        Q   Third   \n",
      "813         0       3  female   6.0      4      2   31.2750        S   Third   \n",
      "819         0       3    male  10.0      3      2   27.9000        S   Third   \n",
      "824         0       3    male   2.0      4      1   39.6875        S   Third   \n",
      "850         0       3    male   4.0      4      2   31.2750        S   Third   \n",
      "\n",
      "       who  adult_male deck  embark_town alive  alone  \n",
      "7    child       False  NaN  Southampton    no  False  \n",
      "16   child       False  NaN   Queenstown    no  False  \n",
      "24   child       False  NaN  Southampton    no  False  \n",
      "27     man        True    C  Southampton    no  False  \n",
      "50   child       False  NaN  Southampton    no  False  \n",
      "59   child       False  NaN  Southampton    no  False  \n",
      "63   child       False  NaN  Southampton    no  False  \n",
      "68   woman       False  NaN  Southampton   yes  False  \n",
      "71   woman       False  NaN  Southampton    no  False  \n",
      "85   woman       False  NaN  Southampton   yes  False  \n",
      "88   woman       False    C  Southampton   yes  False  \n",
      "119  child       False  NaN  Southampton    no  False  \n",
      "164  child       False  NaN  Southampton    no  False  \n",
      "171  child       False  NaN   Queenstown    no  False  \n",
      "176    man        True  NaN  Southampton    no  False  \n",
      "182  child       False  NaN  Southampton    no  False  \n",
      "229  woman       False  NaN  Southampton    no  False  \n",
      "233  child       False  NaN  Southampton   yes  False  \n",
      "261  child       False  NaN  Southampton   yes  False  \n",
      "266    man        True  NaN  Southampton    no  False  \n",
      "278  child       False  NaN   Queenstown    no  False  \n",
      "341  woman       False    C  Southampton   yes  False  \n",
      "374  child       False  NaN  Southampton    no  False  \n",
      "386  child       False  NaN  Southampton    no  False  \n",
      "409  woman       False  NaN  Southampton    no  False  \n",
      "480  child       False  NaN  Southampton    no  False  \n",
      "485  woman       False  NaN  Southampton    no  False  \n",
      "541  child       False  NaN  Southampton    no  False  \n",
      "542  child       False  NaN  Southampton    no  False  \n",
      "634  child       False  NaN  Southampton    no  False  \n",
      "642  child       False  NaN  Southampton    no  False  \n",
      "683  child       False  NaN  Southampton    no  False  \n",
      "686  child       False  NaN  Southampton    no  False  \n",
      "726  woman       False  NaN  Southampton   yes  False  \n",
      "787  child       False  NaN   Queenstown    no  False  \n",
      "813  child       False  NaN  Southampton    no  False  \n",
      "819  child       False  NaN  Southampton    no  False  \n",
      "824  child       False  NaN  Southampton    no  False  \n",
      "850  child       False  NaN  Southampton    no  False  \n"
     ]
    }
   ],
   "source": [
    "#isin() 함수 사용\n",
    "mask5 = titanic['sibsp'].isin([3,4,5])\n",
    "df_notalone = titanic[mask5]\n",
    "print(df_notalone)"
   ]
  },
  {
   "cell_type": "code",
   "execution_count": 48,
   "id": "53a7a01b",
   "metadata": {},
   "outputs": [
    {
     "name": "stdout",
     "output_type": "stream",
     "text": [
      "     survived  pclass     sex   age  sibsp  parch     fare embarked   class  \\\n",
      "1           1       1  female  38.0      1      0  71.2833        C   First   \n",
      "3           1       1  female  35.0      1      0  53.1000        S   First   \n",
      "6           0       1    male  54.0      0      0  51.8625        S   First   \n",
      "9           1       2  female  14.0      1      0  30.0708        C  Second   \n",
      "11          1       1  female  58.0      0      0  26.5500        S   First   \n",
      "..        ...     ...     ...   ...    ...    ...      ...      ...     ...   \n",
      "880         1       2  female  25.0      0      1  26.0000        S  Second   \n",
      "883         0       2    male  28.0      0      0  10.5000        S  Second   \n",
      "886         0       2    male  27.0      0      0  13.0000        S  Second   \n",
      "887         1       1  female  19.0      0      0  30.0000        S   First   \n",
      "889         1       1    male  26.0      0      0  30.0000        C   First   \n",
      "\n",
      "       who  adult_male deck  embark_town alive  alone  \n",
      "1    woman       False    C    Cherbourg   yes  False  \n",
      "3    woman       False    C  Southampton   yes  False  \n",
      "6      man        True    E  Southampton    no   True  \n",
      "9    child       False  NaN    Cherbourg   yes  False  \n",
      "11   woman       False    C  Southampton   yes   True  \n",
      "..     ...         ...  ...          ...   ...    ...  \n",
      "880  woman       False  NaN  Southampton   yes  False  \n",
      "883    man        True  NaN  Southampton    no   True  \n",
      "886    man        True  NaN  Southampton    no   True  \n",
      "887  woman       False    B  Southampton   yes   True  \n",
      "889    man        True    C    Cherbourg   yes   True  \n",
      "\n",
      "[400 rows x 15 columns]\n"
     ]
    }
   ],
   "source": [
    "#class 컬럼 중 first, second 인 행만 조회하기\n",
    "df_12 = titanic[titanic['class'].isin(['First','Second'])]\n",
    "print(df_12)"
   ]
  },
  {
   "cell_type": "code",
   "execution_count": null,
   "id": "3dae59d8",
   "metadata": {},
   "outputs": [],
   "source": []
  }
 ],
 "metadata": {
  "kernelspec": {
   "display_name": "Python 3",
   "language": "python",
   "name": "python3"
  },
  "language_info": {
   "codemirror_mode": {
    "name": "ipython",
    "version": 3
   },
   "file_extension": ".py",
   "mimetype": "text/x-python",
   "name": "python",
   "nbconvert_exporter": "python",
   "pygments_lexer": "ipython3",
   "version": "3.8.8"
  }
 },
 "nbformat": 4,
 "nbformat_minor": 5
}
