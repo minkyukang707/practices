{
 "cells": [
  {
   "cell_type": "code",
   "execution_count": 1,
   "id": "302049ac",
   "metadata": {},
   "outputs": [],
   "source": [
    "import tensorflow as tf \n",
    "from tensorflow.keras import Sequential\n",
    "from tensorflow.keras.layers import Dense,LSTM,Embedding,Bidirectional\n",
    "\n",
    "vocab_size=15000"
   ]
  },
  {
   "cell_type": "code",
   "execution_count": 2,
   "id": "0908510c",
   "metadata": {},
   "outputs": [],
   "source": [
    "def create_model():\n",
    "    model=Sequential([\n",
    "        Embedding(vocab_size=32),\n",
    "        Bidirectional(LSTM(32,return_sequences=True)),\n",
    "        Dense(32,activation='relu'),\n",
    "        Dense(1,activation='sigmoid')\n",
    "    ])\n",
    "    model.compile(loss='binary_crossentropy', optimizer='adam',metrics=['accuracy'])\n",
    "    return model"
   ]
  },
  {
   "cell_type": "code",
   "execution_count": 4,
   "id": "34e73d24",
   "metadata": {},
   "outputs": [
    {
     "data": {
      "text/html": [
       "<div>\n",
       "<style scoped>\n",
       "    .dataframe tbody tr th:only-of-type {\n",
       "        vertical-align: middle;\n",
       "    }\n",
       "\n",
       "    .dataframe tbody tr th {\n",
       "        vertical-align: top;\n",
       "    }\n",
       "\n",
       "    .dataframe thead th {\n",
       "        text-align: right;\n",
       "    }\n",
       "</style>\n",
       "<table border=\"1\" class=\"dataframe\">\n",
       "  <thead>\n",
       "    <tr style=\"text-align: right;\">\n",
       "      <th></th>\n",
       "      <th>id</th>\n",
       "      <th>document</th>\n",
       "      <th>label</th>\n",
       "    </tr>\n",
       "  </thead>\n",
       "  <tbody>\n",
       "    <tr>\n",
       "      <th>0</th>\n",
       "      <td>6270596</td>\n",
       "      <td>굳 ㅋ</td>\n",
       "      <td>1</td>\n",
       "    </tr>\n",
       "    <tr>\n",
       "      <th>1</th>\n",
       "      <td>9274899</td>\n",
       "      <td>GDNTOPCLASSINTHECLUB</td>\n",
       "      <td>0</td>\n",
       "    </tr>\n",
       "    <tr>\n",
       "      <th>2</th>\n",
       "      <td>8544678</td>\n",
       "      <td>뭐야 이 평점들은.... 나쁘진 않지만 10점 짜리는 더더욱 아니잖아</td>\n",
       "      <td>0</td>\n",
       "    </tr>\n",
       "    <tr>\n",
       "      <th>3</th>\n",
       "      <td>6825595</td>\n",
       "      <td>지루하지는 않은데 완전 막장임... 돈주고 보기에는....</td>\n",
       "      <td>0</td>\n",
       "    </tr>\n",
       "    <tr>\n",
       "      <th>4</th>\n",
       "      <td>6723715</td>\n",
       "      <td>3D만 아니었어도 별 다섯 개 줬을텐데.. 왜 3D로 나와서 제 심기를 불편하게 하죠??</td>\n",
       "      <td>0</td>\n",
       "    </tr>\n",
       "  </tbody>\n",
       "</table>\n",
       "</div>"
      ],
      "text/plain": [
       "        id                                           document  label\n",
       "0  6270596                                                굳 ㅋ      1\n",
       "1  9274899                               GDNTOPCLASSINTHECLUB      0\n",
       "2  8544678             뭐야 이 평점들은.... 나쁘진 않지만 10점 짜리는 더더욱 아니잖아      0\n",
       "3  6825595                   지루하지는 않은데 완전 막장임... 돈주고 보기에는....      0\n",
       "4  6723715  3D만 아니었어도 별 다섯 개 줬을텐데.. 왜 3D로 나와서 제 심기를 불편하게 하죠??      0"
      ]
     },
     "execution_count": 4,
     "metadata": {},
     "output_type": "execute_result"
    }
   ],
   "source": [
    "import pandas as pd \n",
    "#테스트 데이터 로드하기\n",
    "test_file=tf.keras.utils.get_file('ratings_text.txt',\n",
    "                                 origin='https://raw.githubusercontent.com/e9t/nsmc/master/ratings_test.txt',\n",
    "                                 extract=True)\n",
    "test=pd.read_csv(test_file,sep='\\t')\n",
    "test.head()"
   ]
  },
  {
   "cell_type": "code",
   "execution_count": 5,
   "id": "ae0c3f7d",
   "metadata": {},
   "outputs": [],
   "source": [
    "import konlpy\n",
    "from konlpy.tag import Okt\n",
    "okt=Okt()"
   ]
  },
  {
   "cell_type": "code",
   "execution_count": 6,
   "id": "1af81b11",
   "metadata": {},
   "outputs": [
    {
     "name": "stderr",
     "output_type": "stream",
     "text": [
      "<ipython-input-6-411edc4c8c55>:5: FutureWarning: The default value of regex will change from True to False in a future version.\n",
      "  train['document']=train['document'].str.replace(\"[^A-Za-z가-힣ㄱ-ㅎㅏ-ㅣ ]\",\"\")\n"
     ]
    }
   ],
   "source": [
    "train_file=tf.keras.utils.get_file('ratings_train.txt',\n",
    "                                  origin='https://raw.githubusercontent.com/e9t/nsmc/master/ratings_train.txt',\n",
    "                                  extract=True)\n",
    "train=pd.read_csv(train_file,sep='\\t')\n",
    "train['document']=train['document'].str.replace(\"[^A-Za-z가-힣ㄱ-ㅎㅏ-ㅣ ]\",\"\")\n",
    "train=train.dropna()"
   ]
  },
  {
   "cell_type": "code",
   "execution_count": 7,
   "id": "08d39260",
   "metadata": {},
   "outputs": [],
   "source": [
    "def word_tokenization(text):\n",
    "    stop_words=['는','을','를','이','가','의','던','고','하','다','은','에',\n",
    "               '들','지','게','도']\n",
    "    return [word for word in okt.morphs(text) if word not in stop_words]"
   ]
  },
  {
   "cell_type": "code",
   "execution_count": 9,
   "id": "99d76b6b",
   "metadata": {},
   "outputs": [
    {
     "data": {
      "text/plain": [
       "0                              [아, 더빙, 진짜, 짜증나네요, 목소리]\n",
       "1        [흠, 포스터, 보고, 초딩, 영화, 줄, 오버, 연기, 조차, 가볍지, 않구나]\n",
       "2                     [너, 무재, 밓었, 다그, 래서, 보는것을, 추천, 한]\n",
       "3                  [교도소, 이야기, 구먼, 솔직히, 재미, 없다, 평점, 조정]\n",
       "4    [사이, 몬페, 그, 익살스런, 연기, 돋보였던, 영화, 스파이더맨, 에서, 늙어,...\n",
       "Name: document, dtype: object"
      ]
     },
     "execution_count": 9,
     "metadata": {},
     "output_type": "execute_result"
    }
   ],
   "source": [
    "data=train['document'].apply((lambda x:word_tokenization(x)))\n",
    "data.head()"
   ]
  },
  {
   "cell_type": "code",
   "execution_count": 11,
   "id": "9cd7ca6a",
   "metadata": {},
   "outputs": [],
   "source": [
    "from tensorflow.keras.preprocessing.text import Tokenizer\n",
    "from tensorflow.keras.preprocessing.sequence import pad_sequences\n",
    "\n",
    "oov_tok=\"<OOV>\" #사전에 없는 단어 \n",
    "vocab_size=15000\n",
    "tokenizer=Tokenizer(oov_token=oov_tok, num_words=vocab_size)\n",
    "tokenizer.fit_on_texts(data)"
   ]
  },
  {
   "cell_type": "code",
   "execution_count": null,
   "id": "0614ee4a",
   "metadata": {},
   "outputs": [],
   "source": [
    "테스트 데이터 전처리\n",
    "1. 한글,영문,공백 제외한 모든 문자 제거\n",
    "2. 결측값 제거\n",
    "3. 테스트할 데이터, 레이블 데이터 분리\n",
    "4. 테스트할 데이터 불용어 부분 제거\n",
    "5. tokenizer를 이용하여 분석할 수 있는 데이터로 변경\n",
    "6. 패딩하기"
   ]
  },
  {
   "cell_type": "code",
   "execution_count": 12,
   "id": "1819277b",
   "metadata": {},
   "outputs": [],
   "source": [
    "import numpy as np"
   ]
  },
  {
   "cell_type": "code",
   "execution_count": 15,
   "id": "1322b22c",
   "metadata": {},
   "outputs": [],
   "source": [
    "def preprocessing(df):\n",
    "    df['document']=df['document'].str.replace(\"[^A-Za-z가-힣ㄱ-ㅎㅏ-ㅣ ]\",\"\") #1\n",
    "    df=df.dropna() #2\n",
    "    test_label=np.asarray(df['label']) #3. 레이블데이터 분리. 배열값\n",
    "    #3. 테스트할 데이터 분리\n",
    "    test_data=df['document'].apply((lambda x:word_tokenization(x))) #4\n",
    "    test_data = tokenizer.texts_to_sequences(test_data) #5\n",
    "    test_data=pad_sequences(test_data, padding='post', maxlen=69) #6\n",
    "    return test_data, test_label"
   ]
  },
  {
   "cell_type": "code",
   "execution_count": 17,
   "id": "349ad45c",
   "metadata": {},
   "outputs": [
    {
     "name": "stderr",
     "output_type": "stream",
     "text": [
      "<ipython-input-15-7ef7baea1958>:2: FutureWarning: The default value of regex will change from True to False in a future version.\n",
      "  df['document']=df['document'].str.replace(\"[^A-Za-z가-힣ㄱ-ㅎㅏ-ㅣ ]\",\"\") #1\n"
     ]
    },
    {
     "data": {
      "text/plain": [
       "array([0], dtype=int64)"
      ]
     },
     "execution_count": 17,
     "metadata": {},
     "output_type": "execute_result"
    }
   ],
   "source": [
    "test_data,test_label=preprocessing(test)\n",
    "test_data[2:3]\n",
    "test_label[2:3]"
   ]
  },
  {
   "cell_type": "code",
   "execution_count": null,
   "id": "41451f25",
   "metadata": {},
   "outputs": [],
   "source": [
    "#테스트 데이터를 이용하여 평가하기\n",
    "#학습되지 않은 기본 모델을 이용하여 평가\n",
    "model2=create_model()\n",
    "model2.evaluate(test_data, test_label)"
   ]
  },
  {
   "cell_type": "code",
   "execution_count": null,
   "id": "e88b292c",
   "metadata": {},
   "outputs": [],
   "source": [
    "#저장된 모델을 로드 후 평가하기\n",
    "checkpoint_path='best_performed_model.ckpt'\n",
    "model2.load_weights(checkpoint_path)\n",
    "model2.evaluate(test_data,test_label)\n",
    "\n",
    "print('감동 ==>>', tokenizer.word_index['감동'])\n",
    "print('영화 ==>>', tokenizer.word_index['영화'])\n",
    "print('나나 ==>>', tokenizer.word_index['나나'])"
   ]
  }
 ],
 "metadata": {
  "kernelspec": {
   "display_name": "Python 3",
   "language": "python",
   "name": "python3"
  },
  "language_info": {
   "codemirror_mode": {
    "name": "ipython",
    "version": 3
   },
   "file_extension": ".py",
   "mimetype": "text/x-python",
   "name": "python",
   "nbconvert_exporter": "python",
   "pygments_lexer": "ipython3",
   "version": "3.8.8"
  }
 },
 "nbformat": 4,
 "nbformat_minor": 5
}
