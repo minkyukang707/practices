{
 "cells": [
  {
   "cell_type": "code",
   "execution_count": 1,
   "id": "52362e99",
   "metadata": {},
   "outputs": [],
   "source": [
    "import pandas as pd "
   ]
  },
  {
   "cell_type": "code",
   "execution_count": 2,
   "id": "c8c62488",
   "metadata": {},
   "outputs": [
    {
     "name": "stdout",
     "output_type": "stream",
     "text": [
      "        0  1      2      3       4     5   6  7                          8\n",
      "0    18.0  8  307.0  130.0  3504.0  12.0  70  1  chevrolet chevelle malibu\n",
      "1    15.0  8  350.0  165.0  3693.0  11.5  70  1          buick skylark 320\n",
      "2    18.0  8  318.0  150.0  3436.0  11.0  70  1         plymouth satellite\n",
      "3    16.0  8  304.0  150.0  3433.0  12.0  70  1              amc rebel sst\n",
      "4    17.0  8  302.0  140.0  3449.0  10.5  70  1                ford torino\n",
      "..    ... ..    ...    ...     ...   ...  .. ..                        ...\n",
      "393  27.0  4  140.0  86.00  2790.0  15.6  82  1            ford mustang gl\n",
      "394  44.0  4   97.0  52.00  2130.0  24.6  82  2                  vw pickup\n",
      "395  32.0  4  135.0  84.00  2295.0  11.6  82  1              dodge rampage\n",
      "396  28.0  4  120.0  79.00  2625.0  18.6  82  1                ford ranger\n",
      "397  31.0  4  119.0  82.00  2720.0  19.4  82  1                 chevy s-10\n",
      "\n",
      "[398 rows x 9 columns]\n"
     ]
    }
   ],
   "source": [
    "df=pd.read_csv('C:/pyy/auto-mpg.csv',header=None)\n",
    "print(df)"
   ]
  },
  {
   "cell_type": "code",
   "execution_count": 3,
   "id": "ef125ec4",
   "metadata": {},
   "outputs": [
    {
     "name": "stdout",
     "output_type": "stream",
     "text": [
      "    mpg  cylinders  displacement horsepower  weight  acceleration  model year  \\\n",
      "0  18.0          8         307.0      130.0  3504.0          12.0          70   \n",
      "1  15.0          8         350.0      165.0  3693.0          11.5          70   \n",
      "2  18.0          8         318.0      150.0  3436.0          11.0          70   \n",
      "3  16.0          8         304.0      150.0  3433.0          12.0          70   \n",
      "4  17.0          8         302.0      140.0  3449.0          10.5          70   \n",
      "\n",
      "   origin                       name  \n",
      "0       1  chevrolet chevelle malibu  \n",
      "1       1          buick skylark 320  \n",
      "2       1         plymouth satellite  \n",
      "3       1              amc rebel sst  \n",
      "4       1                ford torino  \n"
     ]
    }
   ],
   "source": [
    "#컬럼명 생성하기\n",
    "df.columns = ['mpg','cylinders','displacement','horsepower','weight','acceleration','model year','origin','name']\n",
    "print(df.head())"
   ]
  },
  {
   "cell_type": "code",
   "execution_count": 4,
   "id": "27afa502",
   "metadata": {},
   "outputs": [
    {
     "name": "stdout",
     "output_type": "stream",
     "text": [
      "    mpg  cylinders  displacement horsepower  weight  acceleration  model year  \\\n",
      "0  18.0          8         307.0      130.0  3504.0          12.0          70   \n",
      "1  15.0          8         350.0      165.0  3693.0          11.5          70   \n",
      "2  18.0          8         318.0      150.0  3436.0          11.0          70   \n",
      "3  16.0          8         304.0      150.0  3433.0          12.0          70   \n",
      "4  17.0          8         302.0      140.0  3449.0          10.5          70   \n",
      "\n",
      "   origin                       name    kpl  \n",
      "0       1  chevrolet chevelle malibu  7.650  \n",
      "1       1          buick skylark 320  6.375  \n",
      "2       1         plymouth satellite  7.650  \n",
      "3       1              amc rebel sst  6.800  \n",
      "4       1                ford torino  7.225  \n"
     ]
    }
   ],
   "source": [
    "#새로운 컬럼 추가 \n",
    "df['kpl']= df['mpg']*0.425\n",
    "print(df.head())"
   ]
  },
  {
   "cell_type": "code",
   "execution_count": 6,
   "id": "93f3588b",
   "metadata": {},
   "outputs": [
    {
     "data": {
      "text/plain": [
       "array(['130.0', '165.0', '150.0', '140.0', '198.0', '220.0', '215.0',\n",
       "       '225.0', '190.0', '170.0', '160.0', '95.00', '97.00', '85.00',\n",
       "       '88.00', '46.00', '87.00', '90.00', '113.0', '200.0', '210.0',\n",
       "       '193.0', '?', '100.0', '105.0', '175.0', '153.0', '180.0', '110.0',\n",
       "       '72.00', '86.00', '70.00', '76.00', '65.00', '69.00', '60.00',\n",
       "       '80.00', '54.00', '208.0', '155.0', '112.0', '92.00', '145.0',\n",
       "       '137.0', '158.0', '167.0', '94.00', '107.0', '230.0', '49.00',\n",
       "       '75.00', '91.00', '122.0', '67.00', '83.00', '78.00', '52.00',\n",
       "       '61.00', '93.00', '148.0', '129.0', '96.00', '71.00', '98.00',\n",
       "       '115.0', '53.00', '81.00', '79.00', '120.0', '152.0', '102.0',\n",
       "       '108.0', '68.00', '58.00', '149.0', '89.00', '63.00', '48.00',\n",
       "       '66.00', '139.0', '103.0', '125.0', '133.0', '138.0', '135.0',\n",
       "       '142.0', '77.00', '62.00', '132.0', '84.00', '64.00', '74.00',\n",
       "       '116.0', '82.00'], dtype=object)"
      ]
     },
     "execution_count": 6,
     "metadata": {},
     "output_type": "execute_result"
    }
   ],
   "source": [
    "df['kpl']=df['kpl'].round(1)\n",
    "df['horsepower'].unique()"
   ]
  },
  {
   "cell_type": "code",
   "execution_count": 7,
   "id": "13846e70",
   "metadata": {},
   "outputs": [
    {
     "name": "stdout",
     "output_type": "stream",
     "text": [
      "<class 'pandas.core.frame.DataFrame'>\n",
      "Int64Index: 392 entries, 0 to 397\n",
      "Data columns (total 10 columns):\n",
      " #   Column        Non-Null Count  Dtype  \n",
      "---  ------        --------------  -----  \n",
      " 0   mpg           392 non-null    float64\n",
      " 1   cylinders     392 non-null    int64  \n",
      " 2   displacement  392 non-null    float64\n",
      " 3   horsepower    392 non-null    object \n",
      " 4   weight        392 non-null    float64\n",
      " 5   acceleration  392 non-null    float64\n",
      " 6   model year    392 non-null    int64  \n",
      " 7   origin        392 non-null    int64  \n",
      " 8   name          392 non-null    object \n",
      " 9   kpl           392 non-null    float64\n",
      "dtypes: float64(5), int64(3), object(2)\n",
      "memory usage: 33.7+ KB\n",
      "None\n"
     ]
    }
   ],
   "source": [
    "#오류데이터 처리 \n",
    "#NaN데이터로 변경 \n",
    "import numpy as np \n",
    "df['horsepower'].replace('?', np.nan, inplace=True)\n",
    "\n",
    "#결측값을 가진 행 제거하기 \n",
    "df.dropna(subset = ['horsepower'],axis=0,inplace=True)\n",
    "print(df.info())"
   ]
  },
  {
   "cell_type": "code",
   "execution_count": 8,
   "id": "f2ec6a85",
   "metadata": {},
   "outputs": [],
   "source": [
    "#마력의 자료형을 실수형으로 변경\n",
    "df['horsepower']=df['horsepower'].astype('float')"
   ]
  },
  {
   "cell_type": "code",
   "execution_count": 12,
   "id": "40bb1806",
   "metadata": {},
   "outputs": [
    {
     "name": "stdout",
     "output_type": "stream",
     "text": [
      "['USA' 'JAPAN' 'EU']\n",
      "['USA' 'JAPAN' 'EU']\n"
     ]
    }
   ],
   "source": [
    "#origin 컬럼의 값 조회\n",
    "print(df['origin'].unique())\n",
    "\n",
    "# 1:USA, 2:EU, 3:JAPAN 형으로 변경하기 \n",
    "df['origin'].replace({1:'USA',2:'EU',3:'JAPAN'},inplace=True)"
   ]
  },
  {
   "cell_type": "code",
   "execution_count": 13,
   "id": "941f9add",
   "metadata": {},
   "outputs": [],
   "source": [
    "#origin 열의 문자열 자료형을 범주형으로 변환하기\n",
    "df['origin'] = df['origin'].astype('category')"
   ]
  },
  {
   "cell_type": "code",
   "execution_count": 14,
   "id": "3b330e8a",
   "metadata": {},
   "outputs": [
    {
     "name": "stdout",
     "output_type": "stream",
     "text": [
      "[70 71 72 73 74 75 76 77 78 79 80 81 82]\n"
     ]
    }
   ],
   "source": [
    "#model year 컬럼의 고유값을 조회하기 \n",
    "print(df['model year'].unique())"
   ]
  },
  {
   "cell_type": "code",
   "execution_count": 15,
   "id": "242dab1d",
   "metadata": {},
   "outputs": [
    {
     "name": "stdout",
     "output_type": "stream",
     "text": [
      "<class 'pandas.core.frame.DataFrame'>\n",
      "Int64Index: 392 entries, 0 to 397\n",
      "Data columns (total 10 columns):\n",
      " #   Column        Non-Null Count  Dtype   \n",
      "---  ------        --------------  -----   \n",
      " 0   mpg           392 non-null    float64 \n",
      " 1   cylinders     392 non-null    int64   \n",
      " 2   displacement  392 non-null    float64 \n",
      " 3   horsepower    392 non-null    float64 \n",
      " 4   weight        392 non-null    float64 \n",
      " 5   acceleration  392 non-null    float64 \n",
      " 6   model year    392 non-null    category\n",
      " 7   origin        392 non-null    category\n",
      " 8   name          392 non-null    object  \n",
      " 9   kpl           392 non-null    float64 \n",
      "dtypes: category(2), float64(6), int64(1), object(1)\n",
      "memory usage: 29.1+ KB\n",
      "None\n"
     ]
    }
   ],
   "source": [
    "#model year 컬럼의 자료형을 범주형으로 변경하기 \n",
    "df['model year'] = df['model year'].astype('category')\n",
    "print(df.info())"
   ]
  },
  {
   "cell_type": "code",
   "execution_count": null,
   "id": "eeaba321",
   "metadata": {},
   "outputs": [],
   "source": []
  }
 ],
 "metadata": {
  "kernelspec": {
   "display_name": "Python 3",
   "language": "python",
   "name": "python3"
  },
  "language_info": {
   "codemirror_mode": {
    "name": "ipython",
    "version": 3
   },
   "file_extension": ".py",
   "mimetype": "text/x-python",
   "name": "python",
   "nbconvert_exporter": "python",
   "pygments_lexer": "ipython3",
   "version": "3.8.8"
  }
 },
 "nbformat": 4,
 "nbformat_minor": 5
}
