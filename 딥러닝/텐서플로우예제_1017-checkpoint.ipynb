{
 "cells": [
  {
   "cell_type": "markdown",
   "id": "9ded612a",
   "metadata": {},
   "source": [
    "# 텐서플로우로 게이트구현하기"
   ]
  },
  {
   "cell_type": "code",
   "execution_count": 1,
   "id": "227a2b3c",
   "metadata": {},
   "outputs": [],
   "source": [
    "#AND게이트 구현하기\n",
    "import tensorflow as tf\n",
    "import numpy as np"
   ]
  },
  {
   "cell_type": "code",
   "execution_count": 2,
   "id": "5bd7d0b7",
   "metadata": {},
   "outputs": [],
   "source": [
    "from tensorflow.keras.models import Sequential\n",
    "from tensorflow.keras.layers import Dense\n",
    "from tensorflow.keras.optimizers import SGD\n",
    "from tensorflow.keras.losses import mse"
   ]
  },
  {
   "cell_type": "code",
   "execution_count": 5,
   "id": "9a5f4841",
   "metadata": {},
   "outputs": [
    {
     "name": "stdout",
     "output_type": "stream",
     "text": [
      "1/1 [==============================] - 0s 78ms/step - loss: 0.0625 - acc: 1.0000\n"
     ]
    },
    {
     "data": {
      "text/plain": [
       "[0.06250043958425522, 1.0]"
      ]
     },
     "execution_count": 5,
     "metadata": {},
     "output_type": "execute_result"
    }
   ],
   "source": [
    "tf.random.set_seed(777)\n",
    "data=np.array([[0,0],[1,0],[0,1],[1,1]])\n",
    "label=np.array([[0],[0],[0],[1]])\n",
    "model=Sequential()\n",
    "model.add(Dense(1,input_shape=(2,),activation='linear'))\n",
    "model.compile(optimizer=SGD(),loss=mse,metrics=['acc'])\n",
    "model.fit(data,label,epochs=2000,verbose=0) #학습과정 출력안함\n",
    "model.get_weights()\n",
    "model.predict(data).flatten() #예측된 값\n",
    "model.evaluate(data,label) #평가. 손실함수값, 정확도"
   ]
  },
  {
   "cell_type": "code",
   "execution_count": 6,
   "id": "f4de3701",
   "metadata": {},
   "outputs": [
    {
     "name": "stdout",
     "output_type": "stream",
     "text": [
      "1/1 [==============================] - 0s 55ms/step - loss: 0.2500 - acc: 0.2500\n"
     ]
    },
    {
     "data": {
      "text/plain": [
       "[0.2499999850988388, 0.25]"
      ]
     },
     "execution_count": 6,
     "metadata": {},
     "output_type": "execute_result"
    }
   ],
   "source": [
    "#XOR게이트 구현하기 (실패사례)\n",
    "import tensorflow as tf\n",
    "import numpy as np\n",
    "\n",
    "from tensorflow.keras.models import Sequential\n",
    "from tensorflow.keras.layers import Dense\n",
    "from tensorflow.keras.optimizers import SGD\n",
    "from tensorflow.keras.losses import mse\n",
    "\n",
    "tf.random.set_seed(777)\n",
    "data=np.array([[0,0],[1,0],[0,1],[1,1]])\n",
    "label=np.array([[0],[1],[1],[0]])\n",
    "model=Sequential()\n",
    "model.add(Dense(1,input_shape=(2,),activation='linear'))\n",
    "model.compile(optimizer=SGD(),loss=mse,metrics=['acc'])\n",
    "model.fit(data,label,epochs=20000,verbose=0) #학습과정 출력안함\n",
    "model.get_weights()\n",
    "model.predict(data).flatten() #예측된 값\n",
    "model.evaluate(data,label) #평가. 손실함수값, 정확도"
   ]
  },
  {
   "cell_type": "code",
   "execution_count": 12,
   "id": "fbf315df",
   "metadata": {},
   "outputs": [
    {
     "name": "stdout",
     "output_type": "stream",
     "text": [
      "Epoch 1/100\n",
      "1/1 [==============================] - 0s 230ms/step - loss: 0.2646 - acc: 0.5000\n",
      "Epoch 2/100\n",
      "1/1 [==============================] - 0s 998us/step - loss: 0.2621 - acc: 0.2500\n",
      "Epoch 3/100\n",
      "1/1 [==============================] - 0s 2ms/step - loss: 0.2603 - acc: 0.2500\n",
      "Epoch 4/100\n",
      "1/1 [==============================] - 0s 2ms/step - loss: 0.2589 - acc: 0.2500\n",
      "Epoch 5/100\n",
      "1/1 [==============================] - 0s 2ms/step - loss: 0.2578 - acc: 0.2500\n",
      "Epoch 6/100\n",
      "1/1 [==============================] - 0s 2ms/step - loss: 0.2568 - acc: 0.2500\n",
      "Epoch 7/100\n",
      "1/1 [==============================] - 0s 2ms/step - loss: 0.2558 - acc: 0.2500\n",
      "Epoch 8/100\n",
      "1/1 [==============================] - 0s 2ms/step - loss: 0.2550 - acc: 0.2500\n",
      "Epoch 9/100\n",
      "1/1 [==============================] - 0s 2ms/step - loss: 0.2541 - acc: 0.2500\n",
      "Epoch 10/100\n",
      "1/1 [==============================] - 0s 3ms/step - loss: 0.2533 - acc: 0.2500\n",
      "Epoch 11/100\n",
      "1/1 [==============================] - 0s 2ms/step - loss: 0.2526 - acc: 0.5000\n",
      "Epoch 12/100\n",
      "1/1 [==============================] - 0s 2ms/step - loss: 0.2518 - acc: 0.5000\n",
      "Epoch 13/100\n",
      "1/1 [==============================] - 0s 2ms/step - loss: 0.2512 - acc: 0.5000\n",
      "Epoch 14/100\n",
      "1/1 [==============================] - 0s 2ms/step - loss: 0.2505 - acc: 0.5000\n",
      "Epoch 15/100\n",
      "1/1 [==============================] - 0s 2ms/step - loss: 0.2499 - acc: 0.5000\n",
      "Epoch 16/100\n",
      "1/1 [==============================] - 0s 2ms/step - loss: 0.2493 - acc: 0.5000\n",
      "Epoch 17/100\n",
      "1/1 [==============================] - 0s 2ms/step - loss: 0.2487 - acc: 0.5000\n",
      "Epoch 18/100\n",
      "1/1 [==============================] - 0s 2ms/step - loss: 0.2481 - acc: 0.5000\n",
      "Epoch 19/100\n",
      "1/1 [==============================] - 0s 2ms/step - loss: 0.2475 - acc: 0.5000\n",
      "Epoch 20/100\n",
      "1/1 [==============================] - 0s 3ms/step - loss: 0.2470 - acc: 0.5000\n",
      "Epoch 21/100\n",
      "1/1 [==============================] - 0s 3ms/step - loss: 0.2464 - acc: 0.5000\n",
      "Epoch 22/100\n",
      "1/1 [==============================] - 0s 981us/step - loss: 0.2459 - acc: 0.5000\n",
      "Epoch 23/100\n",
      "1/1 [==============================] - 0s 997us/step - loss: 0.2453 - acc: 0.5000\n",
      "Epoch 24/100\n",
      "1/1 [==============================] - 0s 3ms/step - loss: 0.2448 - acc: 0.5000\n",
      "Epoch 25/100\n",
      "1/1 [==============================] - 0s 2ms/step - loss: 0.2443 - acc: 0.5000\n",
      "Epoch 26/100\n",
      "1/1 [==============================] - 0s 2ms/step - loss: 0.2437 - acc: 0.5000\n",
      "Epoch 27/100\n",
      "1/1 [==============================] - 0s 2ms/step - loss: 0.2432 - acc: 0.5000\n",
      "Epoch 28/100\n",
      "1/1 [==============================] - 0s 998us/step - loss: 0.2427 - acc: 0.5000\n",
      "Epoch 29/100\n",
      "1/1 [==============================] - 0s 2ms/step - loss: 0.2422 - acc: 0.5000\n",
      "Epoch 30/100\n",
      "1/1 [==============================] - 0s 2ms/step - loss: 0.2416 - acc: 0.5000\n",
      "Epoch 31/100\n",
      "1/1 [==============================] - 0s 2ms/step - loss: 0.2411 - acc: 0.5000\n",
      "Epoch 32/100\n",
      "1/1 [==============================] - 0s 997us/step - loss: 0.2406 - acc: 0.5000\n",
      "Epoch 33/100\n",
      "1/1 [==============================] - 0s 2ms/step - loss: 0.2401 - acc: 0.5000\n",
      "Epoch 34/100\n",
      "1/1 [==============================] - 0s 998us/step - loss: 0.2396 - acc: 0.5000\n",
      "Epoch 35/100\n",
      "1/1 [==============================] - 0s 2ms/step - loss: 0.2390 - acc: 0.5000\n",
      "Epoch 36/100\n",
      "1/1 [==============================] - 0s 3ms/step - loss: 0.2385 - acc: 0.5000\n",
      "Epoch 37/100\n",
      "1/1 [==============================] - 0s 973us/step - loss: 0.2380 - acc: 0.5000\n",
      "Epoch 38/100\n",
      "1/1 [==============================] - 0s 970us/step - loss: 0.2375 - acc: 0.5000\n",
      "Epoch 39/100\n",
      "1/1 [==============================] - 0s 2ms/step - loss: 0.2369 - acc: 0.5000\n",
      "Epoch 40/100\n",
      "1/1 [==============================] - 0s 2ms/step - loss: 0.2364 - acc: 0.5000\n",
      "Epoch 41/100\n",
      "1/1 [==============================] - 0s 2ms/step - loss: 0.2359 - acc: 0.7500\n",
      "Epoch 42/100\n",
      "1/1 [==============================] - 0s 2ms/step - loss: 0.2354 - acc: 0.7500\n",
      "Epoch 43/100\n",
      "1/1 [==============================] - 0s 2ms/step - loss: 0.2349 - acc: 0.7500\n",
      "Epoch 44/100\n",
      "1/1 [==============================] - 0s 2ms/step - loss: 0.2344 - acc: 0.7500\n",
      "Epoch 45/100\n",
      "1/1 [==============================] - 0s 2ms/step - loss: 0.2339 - acc: 0.7500\n",
      "Epoch 46/100\n",
      "1/1 [==============================] - 0s 997us/step - loss: 0.2334 - acc: 0.7500\n",
      "Epoch 47/100\n",
      "1/1 [==============================] - 0s 2ms/step - loss: 0.2330 - acc: 0.7500\n",
      "Epoch 48/100\n",
      "1/1 [==============================] - 0s 2ms/step - loss: 0.2325 - acc: 0.7500\n",
      "Epoch 49/100\n",
      "1/1 [==============================] - 0s 2ms/step - loss: 0.2320 - acc: 0.7500\n",
      "Epoch 50/100\n",
      "1/1 [==============================] - 0s 2ms/step - loss: 0.2316 - acc: 0.7500\n",
      "Epoch 51/100\n",
      "1/1 [==============================] - 0s 2ms/step - loss: 0.2311 - acc: 0.7500\n",
      "Epoch 52/100\n",
      "1/1 [==============================] - 0s 2ms/step - loss: 0.2307 - acc: 0.7500\n",
      "Epoch 53/100\n",
      "1/1 [==============================] - 0s 2ms/step - loss: 0.2302 - acc: 0.7500\n",
      "Epoch 54/100\n",
      "1/1 [==============================] - 0s 998us/step - loss: 0.2298 - acc: 0.7500\n",
      "Epoch 55/100\n",
      "1/1 [==============================] - 0s 998us/step - loss: 0.2293 - acc: 0.7500\n",
      "Epoch 56/100\n",
      "1/1 [==============================] - 0s 998us/step - loss: 0.2288 - acc: 0.7500\n",
      "Epoch 57/100\n",
      "1/1 [==============================] - 0s 2ms/step - loss: 0.2283 - acc: 0.7500\n",
      "Epoch 58/100\n",
      "1/1 [==============================] - 0s 2ms/step - loss: 0.2278 - acc: 1.0000\n",
      "Epoch 59/100\n",
      "1/1 [==============================] - 0s 2ms/step - loss: 0.2273 - acc: 1.0000\n",
      "Epoch 60/100\n",
      "1/1 [==============================] - 0s 997us/step - loss: 0.2269 - acc: 1.0000\n",
      "Epoch 61/100\n",
      "1/1 [==============================] - 0s 2ms/step - loss: 0.2265 - acc: 1.0000\n",
      "Epoch 62/100\n",
      "1/1 [==============================] - 0s 998us/step - loss: 0.2261 - acc: 1.0000\n",
      "Epoch 63/100\n",
      "1/1 [==============================] - 0s 1ms/step - loss: 0.2258 - acc: 1.0000\n",
      "Epoch 64/100\n",
      "1/1 [==============================] - 0s 2ms/step - loss: 0.2254 - acc: 1.0000\n",
      "Epoch 65/100\n",
      "1/1 [==============================] - 0s 2ms/step - loss: 0.2250 - acc: 1.0000\n",
      "Epoch 66/100\n",
      "1/1 [==============================] - 0s 2ms/step - loss: 0.2246 - acc: 1.0000\n",
      "Epoch 67/100\n",
      "1/1 [==============================] - 0s 998us/step - loss: 0.2242 - acc: 1.0000\n",
      "Epoch 68/100\n",
      "1/1 [==============================] - 0s 2ms/step - loss: 0.2238 - acc: 1.0000\n",
      "Epoch 69/100\n",
      "1/1 [==============================] - 0s 2ms/step - loss: 0.2234 - acc: 1.0000\n",
      "Epoch 70/100\n",
      "1/1 [==============================] - 0s 2ms/step - loss: 0.2230 - acc: 1.0000\n",
      "Epoch 71/100\n",
      "1/1 [==============================] - 0s 997us/step - loss: 0.2226 - acc: 1.0000\n",
      "Epoch 72/100\n",
      "1/1 [==============================] - 0s 2ms/step - loss: 0.2222 - acc: 1.0000\n",
      "Epoch 73/100\n",
      "1/1 [==============================] - 0s 998us/step - loss: 0.2219 - acc: 1.0000\n",
      "Epoch 74/100\n",
      "1/1 [==============================] - 0s 998us/step - loss: 0.2214 - acc: 1.0000\n",
      "Epoch 75/100\n",
      "1/1 [==============================] - 0s 998us/step - loss: 0.2210 - acc: 1.0000\n",
      "Epoch 76/100\n",
      "1/1 [==============================] - 0s 2ms/step - loss: 0.2206 - acc: 1.0000\n",
      "Epoch 77/100\n",
      "1/1 [==============================] - 0s 2ms/step - loss: 0.2203 - acc: 1.0000\n",
      "Epoch 78/100\n",
      "1/1 [==============================] - 0s 2ms/step - loss: 0.2198 - acc: 1.0000\n",
      "Epoch 79/100\n",
      "1/1 [==============================] - 0s 997us/step - loss: 0.2195 - acc: 1.0000\n",
      "Epoch 80/100\n",
      "1/1 [==============================] - 0s 998us/step - loss: 0.2191 - acc: 1.0000\n",
      "Epoch 81/100\n",
      "1/1 [==============================] - 0s 2ms/step - loss: 0.2187 - acc: 1.0000\n",
      "Epoch 82/100\n",
      "1/1 [==============================] - 0s 2ms/step - loss: 0.2183 - acc: 1.0000\n",
      "Epoch 83/100\n",
      "1/1 [==============================] - 0s 2ms/step - loss: 0.2179 - acc: 1.0000\n",
      "Epoch 84/100\n",
      "1/1 [==============================] - 0s 2ms/step - loss: 0.2175 - acc: 1.0000\n",
      "Epoch 85/100\n",
      "1/1 [==============================] - 0s 998us/step - loss: 0.2171 - acc: 1.0000\n",
      "Epoch 86/100\n",
      "1/1 [==============================] - 0s 998us/step - loss: 0.2167 - acc: 1.0000\n",
      "Epoch 87/100\n",
      "1/1 [==============================] - 0s 2ms/step - loss: 0.2163 - acc: 1.0000\n",
      "Epoch 88/100\n"
     ]
    },
    {
     "name": "stdout",
     "output_type": "stream",
     "text": [
      "1/1 [==============================] - 0s 2ms/step - loss: 0.2159 - acc: 1.0000\n",
      "Epoch 89/100\n",
      "1/1 [==============================] - 0s 2ms/step - loss: 0.2155 - acc: 1.0000\n",
      "Epoch 90/100\n",
      "1/1 [==============================] - 0s 2ms/step - loss: 0.2151 - acc: 1.0000\n",
      "Epoch 91/100\n",
      "1/1 [==============================] - 0s 997us/step - loss: 0.2147 - acc: 1.0000\n",
      "Epoch 92/100\n",
      "1/1 [==============================] - 0s 996us/step - loss: 0.2143 - acc: 1.0000\n",
      "Epoch 93/100\n",
      "1/1 [==============================] - 0s 3ms/step - loss: 0.2138 - acc: 1.0000\n",
      "Epoch 94/100\n",
      "1/1 [==============================] - 0s 2ms/step - loss: 0.2135 - acc: 1.0000\n",
      "Epoch 95/100\n",
      "1/1 [==============================] - 0s 998us/step - loss: 0.2130 - acc: 1.0000\n",
      "Epoch 96/100\n",
      "1/1 [==============================] - 0s 997us/step - loss: 0.2126 - acc: 1.0000\n",
      "Epoch 97/100\n",
      "1/1 [==============================] - 0s 2ms/step - loss: 0.2122 - acc: 1.0000\n",
      "Epoch 98/100\n",
      "1/1 [==============================] - 0s 998us/step - loss: 0.2118 - acc: 1.0000\n",
      "Epoch 99/100\n",
      "1/1 [==============================] - 0s 2ms/step - loss: 0.2114 - acc: 1.0000\n",
      "Epoch 100/100\n",
      "1/1 [==============================] - 0s 998us/step - loss: 0.2110 - acc: 1.0000\n",
      "WARNING:tensorflow:6 out of the last 6 calls to <function Model.make_test_function.<locals>.test_function at 0x00000209FD31C700> triggered tf.function retracing. Tracing is expensive and the excessive number of tracings could be due to (1) creating @tf.function repeatedly in a loop, (2) passing tensors with different shapes, (3) passing Python objects instead of tensors. For (1), please define your @tf.function outside of the loop. For (2), @tf.function has experimental_relax_shapes=True option that relaxes argument shapes that can avoid unnecessary retracing. For (3), please refer to https://www.tensorflow.org/guide/function#controlling_retracing and https://www.tensorflow.org/api_docs/python/tf/function for  more details.\n",
      "1/1 [==============================] - 0s 58ms/step - loss: 0.2106 - acc: 1.0000\n",
      "평가: [0.21061018109321594, 1.0]\n",
      "WARNING:tensorflow:6 out of the last 6 calls to <function Model.make_predict_function.<locals>.predict_function at 0x00000209FE4420D0> triggered tf.function retracing. Tracing is expensive and the excessive number of tracings could be due to (1) creating @tf.function repeatedly in a loop, (2) passing tensors with different shapes, (3) passing Python objects instead of tensors. For (1), please define your @tf.function outside of the loop. For (2), @tf.function has experimental_relax_shapes=True option that relaxes argument shapes that can avoid unnecessary retracing. For (3), please refer to https://www.tensorflow.org/guide/function#controlling_retracing and https://www.tensorflow.org/api_docs/python/tf/function for  more details.\n",
      "[[0.48656905]\n",
      " [0.54643035]\n",
      " [0.5521159 ]\n",
      " [0.44650385]]\n"
     ]
    }
   ],
   "source": [
    "#XOR게이트 구현하기 (성공사례)\n",
    "import tensorflow as tf\n",
    "import numpy as np\n",
    "\n",
    "from tensorflow.keras.models import Sequential\n",
    "from tensorflow.keras.layers import Dense\n",
    "from tensorflow.keras.optimizers import RMSprop\n",
    "from tensorflow.keras.losses import mse\n",
    "\n",
    "#데이터 준비하기\n",
    "tf.random.set_seed(777)\n",
    "data=np.array([[0,0],[1,0],[0,1],[1,1]])\n",
    "label=np.array([[0],[1],[1],[0]])\n",
    "#모델 구성하기\n",
    "#relu: 음수는 0으로, 양수는 양수값 그대로\n",
    "#양수인 경우 선형과 동일\n",
    "model=Sequential()\n",
    "model.add(Dense(32,input_shape = (2,), activation ='relu'))\n",
    "#sigmoid: 0~1.0 사이의 값 리턴\n",
    "model.add(Dense(1, activation ='sigmoid'))\n",
    "#모델준비하기\n",
    "#RMSprop: Adagrad 알고리즘을 보완\n",
    "#이전값을 참고하여 보폭을 찾는 알고리즘\n",
    "#Adagrad: 처음접근시는 큰보폭으로 찾고, 가본곳은 작은 보폭으로 \n",
    "#많은 변동시에 학습률이 감소될 수 있다\n",
    "model.compile(optimizer=RMSprop(),loss=mse,metrics=['acc'])\n",
    "#model.compile(optimizer=SGD(),loss=mse,metrics=['acc'])\n",
    "#학습시키기\n",
    "model.fit(data,label,epochs=100)\n",
    "print('평가:',model.evaluate(data,label))\n",
    "result=model.predict(data)\n",
    "print(result)"
   ]
  },
  {
   "cell_type": "markdown",
   "id": "833e5321",
   "metadata": {},
   "source": [
    "# 케라스를 이용한 딥러닝하기"
   ]
  },
  {
   "cell_type": "code",
   "execution_count": null,
   "id": "c569397c",
   "metadata": {},
   "outputs": [],
   "source": [
    "1. 학습데이터 정의 => 학습데이터, 검증데이터, 테스트데이터\n",
    "2. 모델 정의 => 층 구성, 활성화함수\n",
    "3. 학습과정 설정 => 컴파일\n",
    "손실함수, 옵티마이저, 평가지표\n",
    "손실함수\n",
    "- mse: 평균제곱오차, 회귀분석\n",
    "- binary_crossentropy: 이항분류시 사용되는 손실함수 \n",
    "- categorical_crossentropy: 다항분류시 사용되는 손실함수 \n",
    "4. 모델학습 => fit()\n",
    "에폭(epochs): 학습데이터를 반복횟수 지정\n",
    "배치크기(batch_size): 학습데이터 분리하여 학습진행\n",
    "검증데이터(validation_data): 손실값과 평가지표를 에폭마다 출력\n",
    "5. 모델평가 => evaluate(), predict()"
   ]
  },
  {
   "cell_type": "code",
   "execution_count": 15,
   "id": "5c23241a",
   "metadata": {},
   "outputs": [
    {
     "name": "stdout",
     "output_type": "stream",
     "text": [
      "(60000, 28, 28) (60000,)\n",
      "(10000, 28, 28) (10000,)\n"
     ]
    }
   ],
   "source": [
    "#MNIST: 숫자를 학습하여 숫자 인식하기\n",
    "#MNIST 데이터셋 다운받기\n",
    "from tensorflow.keras.datasets.mnist import load_data\n",
    "(x_train,y_train), (x_test,y_test) = load_data(path='mnist.npz')\n",
    "#데이터의 형태\n",
    "print(x_train.shape, y_train.shape)\n",
    "print(x_test.shape, y_test.shape)"
   ]
  },
  {
   "cell_type": "code",
   "execution_count": 16,
   "id": "13e82a29",
   "metadata": {},
   "outputs": [
    {
     "name": "stdout",
     "output_type": "stream",
     "text": [
      "[[  0   0   0   0   0   0   0   0   0   0   0   0   0   0   0   0   0   0\n",
      "    0   0   0   0   0   0   0   0   0   0]\n",
      " [  0   0   0   0   0   0   0   0   0   0   0   0   0   0   0   0   0   0\n",
      "    0   0   0   0   0   0   0   0   0   0]\n",
      " [  0   0   0   0   0   0   0   0   0   0   0   0   0   0   0   0   0   0\n",
      "    0   0   0   0   0   0   0   0   0   0]\n",
      " [  0   0   0   0   0   0   0   0   0   0   0   0   0   0   0   0   0   0\n",
      "    0   0   0   0   0   0   0   0   0   0]\n",
      " [  0   0   0   0   0   0   0   0   0   0   0   0   0   0   0   0   0   0\n",
      "    0   0   0   0   0   0   0   0   0   0]\n",
      " [  0   0   0   0   0   0   0   0   0   0 103 161 254 254 254 255 234 125\n",
      "  125 115   0   0   0   0   0   0   0   0]\n",
      " [  0   0   0   0   0   0   0   0   0   0 209 253 253 253 253 253 253 253\n",
      "  253 253 241  54   0   0   0   0   0   0]\n",
      " [  0   0   0   0   0   0   0   0   0   0 118 142 142 142 142 219 236 142\n",
      "  211 253 253 117   0   0   0   0   0   0]\n",
      " [  0   0   0   0   0   0   0   0   0   0   0   0   0   0   0  13  16  68\n",
      "  196 253 248  69   0   0   0   0   0   0]\n",
      " [  0   0   0   0   0   0   0   0   0   0   0   0   0   0   0   0  86 244\n",
      "  253 246 147   0   0   0   0   0   0   0]\n",
      " [  0   0   0   0   0   0   0   0   0   0  76 128 222 222 222 222 243 253\n",
      "  244  83   0   0   0   0   0   0   0   0]\n",
      " [  0   0   0   0   0   0   0   0   0 183 247 253 253 253 253 253 253 253\n",
      "  249 131   0   0   0   0   0   0   0   0]\n",
      " [  0   0   0   0   0   0   0   0   0 149 175 175 175 144  45  45  65 225\n",
      "  253 234   0   0   0   0   0   0   0   0]\n",
      " [  0   0   0   0   0   0   0   0   0   0   0   0   0   0   0   0   0  50\n",
      "  226 249  88   0   0   0   0   0   0   0]\n",
      " [  0   0   0   0   0   0   0   0   0   0   0   0   0   0   0   0   0   0\n",
      "  156 253 110   0   0   0   0   0   0   0]\n",
      " [  0   0   0   0   0   0   0   0   0   0   0   0   0   0   0   0   0   8\n",
      "  179 249  85   0   0   0   0   0   0   0]\n",
      " [  0   0   0   0   0   0   0   0   0   0   0   0   0   0   0   0  29 192\n",
      "  253 234   0   0   0   0   0   0   0   0]\n",
      " [  0   0   0   0   0   0   0   0   0   0   0   0   0   0   0   0 130 253\n",
      "  248 125   0   0   0   0   0   0   0   0]\n",
      " [  0   0   0   0   0   0   0   0   0   0   0   0   0   0   0  51 226 253\n",
      "  139   0   0   0   0   0   0   0   0   0]\n",
      " [  0   0   0   0   0  89  43   4   0   0   0   0   0   0  51 226 253 215\n",
      "   35   0   0   0   0   0   0   0   0   0]\n",
      " [  0   0   0   0  73 249 253  25   0   0   0   0   0  37 226 253 215  35\n",
      "    0   0   0   0   0   0   0   0   0   0]\n",
      " [  0   0   0   0 118 253 253  25   0   0   0   0  16 141 253 216  35   0\n",
      "    0   0   0   0   0   0   0   0   0   0]\n",
      " [  0   0   0   0 112 253 253 154  97  14  54 143 228 253 217  34   0   0\n",
      "    0   0   0   0   0   0   0   0   0   0]\n",
      " [  0   0   0   0   0 168 247 253 253 253 253 253 252 216  33   0   0   0\n",
      "    0   0   0   0   0   0   0   0   0   0]\n",
      " [  0   0   0   0   0   0   0 111 170 253 253 149  92   0   0   0   0   0\n",
      "    0   0   0   0   0   0   0   0   0   0]\n",
      " [  0   0   0   0   0   0   0   0   0   0   0   0   0   0   0   0   0   0\n",
      "    0   0   0   0   0   0   0   0   0   0]\n",
      " [  0   0   0   0   0   0   0   0   0   0   0   0   0   0   0   0   0   0\n",
      "    0   0   0   0   0   0   0   0   0   0]\n",
      " [  0   0   0   0   0   0   0   0   0   0   0   0   0   0   0   0   0   0\n",
      "    0   0   0   0   0   0   0   0   0   0]]\n"
     ]
    },
    {
     "data": {
      "text/plain": [
       "Text(0.5, 1.0, '29852-th data, label is 5')"
      ]
     },
     "execution_count": 16,
     "metadata": {},
     "output_type": "execute_result"
    },
    {
     "data": {
      "image/png": "[encoded data removed]",
      "text/plain": [
       "<Figure size 432x288 with 1 Axes>"
      ]
     },
     "metadata": {
      "needs_background": "light"
     },
     "output_type": "display_data"
    }
   ],
   "source": [
    "#임의의 3개의 이미지를 출력하기\n",
    "import matplotlib.pyplot as plt\n",
    "import numpy as np\n",
    "# 0~59999까지의 임의의 수 3개를 선택\n",
    "random_idx=np.random.randint(60000, size=3)\n",
    "print(x_train[random_idx[0],:])\n",
    "for idx in random_idx:\n",
    "    img=x_train[idx,:]\n",
    "    label=y_train[idx]# 숫자\n",
    "\n",
    "plt.figure()\n",
    "plt.imshow(img) #이미지 출력하기. 0~255로 이루어진 데이터를 이미지로 출력\n",
    "plt.title('%d-th data, label is %d'%(idx,label),fontsize=15)"
   ]
  },
  {
   "cell_type": "code",
   "execution_count": 17,
   "id": "757e82f8",
   "metadata": {},
   "outputs": [
    {
     "name": "stdout",
     "output_type": "stream",
     "text": [
      "훈련데이터 (42000, 28, 28) ,레이블: (42000,)\n",
      "검증데이터 (18000, 28, 28) ,레이블: (18000,)\n"
     ]
    }
   ],
   "source": [
    "#검증데이터 만들기\n",
    "#학습데이터를 7:3의 비율로 분리하여 3을 검증데이터로 저장하기\n",
    "from sklearn.model_selection import train_test_split\n",
    "x_train,x_val,y_train,y_val=train_test_split(x_train,y_train,test_size=0.3,\n",
    "                                            random_state=777)\n",
    "print('훈련데이터',x_train.shape,',레이블:',y_train.shape)\n",
    "print('검증데이터',x_val.shape,',레이블:',y_val.shape)"
   ]
  },
  {
   "cell_type": "code",
   "execution_count": 18,
   "id": "fa370c6d",
   "metadata": {},
   "outputs": [
    {
     "data": {
      "image/png": "[encoded data removed]",
      "text/plain": [
       "<Figure size 432x288 with 1 Axes>"
      ]
     },
     "metadata": {
      "needs_background": "light"
     },
     "output_type": "display_data"
    }
   ],
   "source": [
    "#활성화함수: 소프트맥스(softmax). 다중분류시 많이 사용됨\n",
    "#결과값의 함이 1\n",
    "x=np.arange(-5.0,5.0,0.1)\n",
    "y=np.exp(x)/np.sum(np.exp(x))\n",
    "plt.plot(x,y)\n",
    "plt.title('Softmax Function')\n",
    "plt.show()"
   ]
  },
  {
   "cell_type": "code",
   "execution_count": 21,
   "id": "ad7cfab4",
   "metadata": {},
   "outputs": [
    {
     "name": "stdout",
     "output_type": "stream",
     "text": [
      "학습데이터: 42000\n",
      "검증데이터: 18000\n",
      "테스트데이터: 10000\n"
     ]
    }
   ],
   "source": [
    "#모델 입력을 위한 데이터 전처리\n",
    "num_x_train=x_train.shape[0] #힉습데이터\n",
    "print('학습데이터:',num_x_train)\n",
    "num_x_val=x_val.shape[0] #검증데이터\n",
    "print('검증데이터:',num_x_val)\n",
    "num_x_test=x_test.shape[0] #테스트데이터\n",
    "print('테스트데이터:',num_x_test)"
   ]
  },
  {
   "cell_type": "code",
   "execution_count": 22,
   "id": "1259a1b3",
   "metadata": {},
   "outputs": [
    {
     "name": "stdout",
     "output_type": "stream",
     "text": [
      "(42000, 784)\n"
     ]
    }
   ],
   "source": [
    "#모델의 입력으로 사용하기 위한 전처리 과정입니다\n",
    "#x_train.reshape: x_train(42000,28,28)형태의 배열을 변경\n",
    "#x_train(42000,784) 형태의 2차원 배열로 변경 \n",
    "x_train=(x_train.reshape((num_x_train,28*28))) / 255 #정규화\n",
    "x_val=(x_val.reshape((num_x_val,28*28))) / 255 \n",
    "x_test=(x_test.reshape((num_x_test,28*28))) / 255 \n",
    "\n",
    "print(x_train.shape)"
   ]
  },
  {
   "cell_type": "code",
   "execution_count": null,
   "id": "24411c50",
   "metadata": {},
   "outputs": [],
   "source": [
    "MinMax normalization: X=(x-min) / (max-min) => x/max\n",
    "Robust normalization: X=(x-중간값0/(3분위값 -1분위값))\n",
    "Standardization: X=x-mean/std"
   ]
  },
  {
   "cell_type": "code",
   "execution_count": 23,
   "id": "79f77e61",
   "metadata": {},
   "outputs": [
    {
     "name": "stdout",
     "output_type": "stream",
     "text": [
      "[2 7 6]\n"
     ]
    }
   ],
   "source": [
    "#레이블 전처리\n",
    "print(y_train[0:3])\n",
    "\n",
    "from tensorflow.keras.utils import to_categorical\n",
    "y_train=to_categorical(y_train)\n",
    "y_val=to_categorical(y_val)\n",
    "y_test=to_categorical(y_test)"
   ]
  },
  {
   "cell_type": "code",
   "execution_count": 25,
   "id": "ee2a8b5d",
   "metadata": {},
   "outputs": [
    {
     "name": "stdout",
     "output_type": "stream",
     "text": [
      "[[0. 0. 1. 0. 0. 0. 0. 0. 0. 0.]\n",
      " [0. 0. 0. 0. 0. 0. 0. 1. 0. 0.]\n",
      " [0. 0. 0. 0. 0. 0. 1. 0. 0. 0.]]\n"
     ]
    }
   ],
   "source": [
    "print(y_train[0:3]) #to_categorical 적용"
   ]
  },
  {
   "cell_type": "code",
   "execution_count": 26,
   "id": "bf26250f",
   "metadata": {},
   "outputs": [
    {
     "name": "stdout",
     "output_type": "stream",
     "text": [
      "Model: \"sequential_8\"\n",
      "_________________________________________________________________\n",
      "Layer (type)                 Output Shape              Param #   \n",
      "=================================================================\n",
      "dense_12 (Dense)             (None, 64)                50240     \n",
      "_________________________________________________________________\n",
      "dense_13 (Dense)             (None, 32)                2080      \n",
      "_________________________________________________________________\n",
      "dense_14 (Dense)             (None, 10)                330       \n",
      "=================================================================\n",
      "Total params: 52,650\n",
      "Trainable params: 52,650\n",
      "Non-trainable params: 0\n",
      "_________________________________________________________________\n"
     ]
    }
   ],
   "source": [
    "#모델 구성하기\n",
    "from tensorflow.keras.models import Sequential\n",
    "from tensorflow.keras.layers import Dense\n",
    "model=Sequential()\n",
    "model.add(Dense(64, activation='relu',input_shape=(784,)))\n",
    "model.add(Dense(32, activation='relu'))\n",
    "model.add(Dense(10, activation='softmax')) #출력층의 결과 0~9로 분류\n",
    "#모델의 형태 출력하기\n",
    "model.summary()"
   ]
  },
  {
   "cell_type": "code",
   "execution_count": null,
   "id": "62a51768",
   "metadata": {},
   "outputs": [],
   "source": []
  }
 ],
 "metadata": {
  "kernelspec": {
   "display_name": "Python 3",
   "language": "python",
   "name": "python3"
  },
  "language_info": {
   "codemirror_mode": {
    "name": "ipython",
    "version": 3
   },
   "file_extension": ".py",
   "mimetype": "text/x-python",
   "name": "python",
   "nbconvert_exporter": "python",
   "pygments_lexer": "ipython3",
   "version": "3.8.8"
  }
 },
 "nbformat": 4,
 "nbformat_minor": 5
}
