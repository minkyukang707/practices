{
 "cells": [
  {
   "cell_type": "code",
   "execution_count": 3,
   "id": "f385110f",
   "metadata": {},
   "outputs": [],
   "source": [
    "import numpy as np\n",
    "import pandas as pd \n",
    "import tensorflow as tf\n",
    "import glob as glob"
   ]
  },
  {
   "cell_type": "code",
   "execution_count": null,
   "id": "b6035ef8",
   "metadata": {},
   "outputs": [],
   "source": [
    "glob.glob: ./clothes/*/*.jpg\n",
    ".: 현재폴더\n",
    "clothes: 현재폴더 하위의 clothes폴더\n",
    "*: clothes하위의 모든 폴더(파일)\n",
    "*.jpg: 모든 jpg파일\n",
    "recursive: 지정한 폴더의 하위폴더까지 검색설정\n",
    "\n",
    "all_data: glob함수에서 전달된 jpg파일목록을 배열로 저장"
   ]
  },
  {
   "cell_type": "code",
   "execution_count": 8,
   "id": "250dee9c",
   "metadata": {},
   "outputs": [
    {
     "data": {
      "text/plain": [
       "array(['C:/py/workspace/20210608/clothes\\\\black_dress\\\\0097960878307e559459d98c9f9eaeeea0db1f94.jpg',\n",
       "       'C:/py/workspace/20210608/clothes\\\\black_dress\\\\038098f911bf30451c109d19870668c39dcf0c11.jpg',\n",
       "       'C:/py/workspace/20210608/clothes\\\\black_dress\\\\0522170fba54aa3e80914857c97ecea5cc091411.jpg',\n",
       "       'C:/py/workspace/20210608/clothes\\\\black_dress\\\\0561718aec3cca983c7397d03204c20d641f02b9.jpg',\n",
       "       'C:/py/workspace/20210608/clothes\\\\black_dress\\\\06130b80c92914dcccb56634594b4aeab7db5944.jpg'],\n",
       "      dtype='<U90')"
      ]
     },
     "execution_count": 8,
     "metadata": {},
     "output_type": "execute_result"
    }
   ],
   "source": [
    "all_data=np.array(glob.glob('C:/py/workspace/20210608/clothes/*/*.jpg',recursive=True))\n",
    "all_data[:5]"
   ]
  },
  {
   "cell_type": "code",
   "execution_count": 13,
   "id": "a15274cd",
   "metadata": {},
   "outputs": [],
   "source": [
    "def check_cc(color,clothes):\n",
    "    labels=np.zeros(11,) #[1,0,0,0,0,0,1,0,0,0,0]\n",
    "    #color check\n",
    "    if(color =='black'):\n",
    "        labels[0]=1\n",
    "        color_index=0\n",
    "    elif (color =='blue'):\n",
    "        labels[1]=1\n",
    "        color_index=1\n",
    "    elif (color =='brown'):\n",
    "        labels[2]=1\n",
    "        color_index=2\n",
    "    elif (color =='green'):\n",
    "        labels[3]=1\n",
    "        color_index=3\n",
    "    elif (color =='red'):\n",
    "        labels[4]=1\n",
    "        color_index=4\n",
    "    elif (color =='white'):\n",
    "        labels[5]=1\n",
    "        color_index=5\n",
    "    if (clothes =='dress'):\n",
    "        labels[6]=1\n",
    "    elif (clothes =='shirt'):\n",
    "        labels[7]=1\n",
    "    elif (clothes =='pants'):\n",
    "        labels[8]=1\n",
    "    elif (clothes =='shorts'):\n",
    "        labels[9]=1\n",
    "    elif (clothes =='shoes'):\n",
    "        labels[10]=1\n",
    "    return labels, color_index\n",
    "        "
   ]
  },
  {
   "cell_type": "code",
   "execution_count": 14,
   "id": "3d0afc70",
   "metadata": {},
   "outputs": [],
   "source": [
    "all_data.shape #11385개\n",
    "all_labels=np.empty((all_data.shape[0],11)) \n",
    "all_color_labels=np.empty((all_data.shape[0],1))"
   ]
  },
  {
   "cell_type": "code",
   "execution_count": 15,
   "id": "de2de3ad",
   "metadata": {},
   "outputs": [
    {
     "name": "stdout",
     "output_type": "stream",
     "text": [
      "[[1. 0. 0. 0. 0. 0. 1. 0. 0. 0. 0.]\n",
      " [1. 0. 0. 0. 0. 0. 1. 0. 0. 0. 0.]\n",
      " [1. 0. 0. 0. 0. 0. 1. 0. 0. 0. 0.]\n",
      " [1. 0. 0. 0. 0. 0. 1. 0. 0. 0. 0.]\n",
      " [1. 0. 0. 0. 0. 0. 1. 0. 0. 0. 0.]\n",
      " [1. 0. 0. 0. 0. 0. 1. 0. 0. 0. 0.]\n",
      " [1. 0. 0. 0. 0. 0. 1. 0. 0. 0. 0.]\n",
      " [1. 0. 0. 0. 0. 0. 1. 0. 0. 0. 0.]\n",
      " [1. 0. 0. 0. 0. 0. 1. 0. 0. 0. 0.]\n",
      " [1. 0. 0. 0. 0. 0. 1. 0. 0. 0. 0.]]\n"
     ]
    }
   ],
   "source": [
    "for i,data in enumerate(all_data):\n",
    "    color_and_clothes=all_data[i].split('\\\\')[1].split('_')\n",
    "    color=color_and_clothes[0] #black\n",
    "    clothes=color_and_clothes[1] #dress\n",
    "    labels, color_index=check_cc(color,clothes)\n",
    "    all_labels[i]=labels;\n",
    "    all_color_labels[i]=color_index\n",
    "\n",
    "print(all_labels[:10])"
   ]
  },
  {
   "cell_type": "code",
   "execution_count": 18,
   "id": "586c4d4b",
   "metadata": {},
   "outputs": [
    {
     "name": "stdout",
     "output_type": "stream",
     "text": [
      "(5578,)\n",
      "(2391,)\n",
      "(3416,)\n"
     ]
    }
   ],
   "source": [
    "#훈련,테스트,검증 데이터로 분리\n",
    "from sklearn.model_selection import train_test_split\n",
    "#훈련데이터와 테스트 데이터분리\n",
    "train_x,test_x,train_y,test_y = train_test_split(all_data, all_labels,shuffle=\n",
    "                                                True,test_size=0.3, random_state=99)\n",
    "#훈련데이터와 검증데이터 분리\n",
    "train_x,val_x,train_y,val_y=train_test_split(train_x,train_y,shuffle=True,\n",
    "                                            test_size=0.3,random_state=99)\n",
    "\n",
    "print(train_x.shape)\n",
    "print(val_x.shape)\n",
    "print(test_x.shape)"
   ]
  },
  {
   "cell_type": "code",
   "execution_count": 21,
   "id": "31f33a54",
   "metadata": {},
   "outputs": [],
   "source": [
    "train_df=pd.DataFrame({'image':train_x,'black':train_y[:,0],'blue':train_y[:,1],\n",
    "                    'brown':train_y[:,2],'green':train_y[:,3],'red':train_y[:,4],\n",
    "                    'white':train_y[:,5],'dress':train_y[:,6],'shirt':train_y[:,7],\n",
    "                    'pants':train_y[:,8],'shortsk':train_y[:,9],'shoes':train_y[:,10]})\n",
    "\n",
    "val_df=pd.DataFrame({'image':val_x,'black':val_y[:,0],'blue':val_y[:,1],\n",
    "                    'brown':val_y[:,2],'green':val_y[:,3],'red':val_y[:,4],\n",
    "                    'white':val_y[:,5],'dress':val_y[:,6],'shirt':val_y[:,7],\n",
    "                    'pants':val_y[:,8],'shortsk':val_y[:,9],'shoes':val_y[:,10]})\n",
    "\n",
    "test_df=pd.DataFrame({'image':test_x,'black':test_y[:,0],'blue':test_y[:,1],\n",
    "                    'brown':test_y[:,2],'green':test_y[:,3],'red':test_y[:,4],\n",
    "                    'white':test_y[:,5],'dress':test_y[:,6],'shirt':test_y[:,7],\n",
    "                    'pants':test_y[:,8],'shortsk':test_y[:,9],'shoes':test_y[:,10]})"
   ]
  },
  {
   "cell_type": "code",
   "execution_count": 22,
   "id": "43962caa",
   "metadata": {},
   "outputs": [
    {
     "data": {
      "text/html": [
       "<div>\n",
       "<style scoped>\n",
       "    .dataframe tbody tr th:only-of-type {\n",
       "        vertical-align: middle;\n",
       "    }\n",
       "\n",
       "    .dataframe tbody tr th {\n",
       "        vertical-align: top;\n",
       "    }\n",
       "\n",
       "    .dataframe thead th {\n",
       "        text-align: right;\n",
       "    }\n",
       "</style>\n",
       "<table border=\"1\" class=\"dataframe\">\n",
       "  <thead>\n",
       "    <tr style=\"text-align: right;\">\n",
       "      <th></th>\n",
       "      <th>image</th>\n",
       "      <th>black</th>\n",
       "      <th>blue</th>\n",
       "      <th>brown</th>\n",
       "      <th>green</th>\n",
       "      <th>red</th>\n",
       "      <th>white</th>\n",
       "      <th>dress</th>\n",
       "      <th>shirt</th>\n",
       "      <th>pants</th>\n",
       "      <th>shortsk</th>\n",
       "      <th>shoes</th>\n",
       "    </tr>\n",
       "  </thead>\n",
       "  <tbody>\n",
       "    <tr>\n",
       "      <th>0</th>\n",
       "      <td>C:/py/workspace/20210608/clothes\\green_shoes\\f...</td>\n",
       "      <td>0.0</td>\n",
       "      <td>0.0</td>\n",
       "      <td>0.0</td>\n",
       "      <td>1.0</td>\n",
       "      <td>0.0</td>\n",
       "      <td>0.0</td>\n",
       "      <td>0.0</td>\n",
       "      <td>0.0</td>\n",
       "      <td>0.0</td>\n",
       "      <td>0.0</td>\n",
       "      <td>1.0</td>\n",
       "    </tr>\n",
       "    <tr>\n",
       "      <th>1</th>\n",
       "      <td>C:/py/workspace/20210608/clothes\\brown_pants\\8...</td>\n",
       "      <td>0.0</td>\n",
       "      <td>0.0</td>\n",
       "      <td>1.0</td>\n",
       "      <td>0.0</td>\n",
       "      <td>0.0</td>\n",
       "      <td>0.0</td>\n",
       "      <td>0.0</td>\n",
       "      <td>0.0</td>\n",
       "      <td>1.0</td>\n",
       "      <td>0.0</td>\n",
       "      <td>0.0</td>\n",
       "    </tr>\n",
       "    <tr>\n",
       "      <th>2</th>\n",
       "      <td>C:/py/workspace/20210608/clothes\\white_dress\\e...</td>\n",
       "      <td>0.0</td>\n",
       "      <td>0.0</td>\n",
       "      <td>0.0</td>\n",
       "      <td>0.0</td>\n",
       "      <td>0.0</td>\n",
       "      <td>1.0</td>\n",
       "      <td>1.0</td>\n",
       "      <td>0.0</td>\n",
       "      <td>0.0</td>\n",
       "      <td>0.0</td>\n",
       "      <td>0.0</td>\n",
       "    </tr>\n",
       "    <tr>\n",
       "      <th>3</th>\n",
       "      <td>C:/py/workspace/20210608/clothes\\black_shoes\\f...</td>\n",
       "      <td>1.0</td>\n",
       "      <td>0.0</td>\n",
       "      <td>0.0</td>\n",
       "      <td>0.0</td>\n",
       "      <td>0.0</td>\n",
       "      <td>0.0</td>\n",
       "      <td>0.0</td>\n",
       "      <td>0.0</td>\n",
       "      <td>0.0</td>\n",
       "      <td>0.0</td>\n",
       "      <td>1.0</td>\n",
       "    </tr>\n",
       "    <tr>\n",
       "      <th>4</th>\n",
       "      <td>C:/py/workspace/20210608/clothes\\blue_pants\\b3...</td>\n",
       "      <td>0.0</td>\n",
       "      <td>1.0</td>\n",
       "      <td>0.0</td>\n",
       "      <td>0.0</td>\n",
       "      <td>0.0</td>\n",
       "      <td>0.0</td>\n",
       "      <td>0.0</td>\n",
       "      <td>0.0</td>\n",
       "      <td>1.0</td>\n",
       "      <td>0.0</td>\n",
       "      <td>0.0</td>\n",
       "    </tr>\n",
       "  </tbody>\n",
       "</table>\n",
       "</div>"
      ],
      "text/plain": [
       "                                               image  black  blue  brown  \\\n",
       "0  C:/py/workspace/20210608/clothes\\green_shoes\\f...    0.0   0.0    0.0   \n",
       "1  C:/py/workspace/20210608/clothes\\brown_pants\\8...    0.0   0.0    1.0   \n",
       "2  C:/py/workspace/20210608/clothes\\white_dress\\e...    0.0   0.0    0.0   \n",
       "3  C:/py/workspace/20210608/clothes\\black_shoes\\f...    1.0   0.0    0.0   \n",
       "4  C:/py/workspace/20210608/clothes\\blue_pants\\b3...    0.0   1.0    0.0   \n",
       "\n",
       "   green  red  white  dress  shirt  pants  shortsk  shoes  \n",
       "0    1.0  0.0    0.0    0.0    0.0    0.0      0.0    1.0  \n",
       "1    0.0  0.0    0.0    0.0    0.0    1.0      0.0    0.0  \n",
       "2    0.0  0.0    1.0    1.0    0.0    0.0      0.0    0.0  \n",
       "3    0.0  0.0    0.0    0.0    0.0    0.0      0.0    1.0  \n",
       "4    0.0  0.0    0.0    0.0    0.0    1.0      0.0    0.0  "
      ]
     },
     "execution_count": 22,
     "metadata": {},
     "output_type": "execute_result"
    }
   ],
   "source": [
    "train_df.head()"
   ]
  },
  {
   "cell_type": "code",
   "execution_count": 25,
   "id": "1c9163ce",
   "metadata": {},
   "outputs": [
    {
     "name": "stdout",
     "output_type": "stream",
     "text": [
      "<class 'pandas.core.frame.DataFrame'>\n",
      "RangeIndex: 2391 entries, 0 to 2390\n",
      "Data columns (total 12 columns):\n",
      " #   Column   Non-Null Count  Dtype  \n",
      "---  ------   --------------  -----  \n",
      " 0   image    2391 non-null   object \n",
      " 1   black    2391 non-null   float64\n",
      " 2   blue     2391 non-null   float64\n",
      " 3   brown    2391 non-null   float64\n",
      " 4   green    2391 non-null   float64\n",
      " 5   red      2391 non-null   float64\n",
      " 6   white    2391 non-null   float64\n",
      " 7   dress    2391 non-null   float64\n",
      " 8   shirt    2391 non-null   float64\n",
      " 9   pants    2391 non-null   float64\n",
      " 10  shortsk  2391 non-null   float64\n",
      " 11  shoes    2391 non-null   float64\n",
      "dtypes: float64(11), object(1)\n",
      "memory usage: 224.3+ KB\n"
     ]
    }
   ],
   "source": [
    "#csv파일로 저장 \n",
    "train_df.to_csv('C:/pyy/train.csv',index=None)\n",
    "test_df.to_csv('C:/pyy/test.csv',index=None)\n",
    "val_df.to_csv('C:/pyy/val.csv',index=None)\n",
    "\n",
    "df=pd.read_csv('C:/pyy/val.csv')\n",
    "df.info()"
   ]
  },
  {
   "cell_type": "code",
   "execution_count": null,
   "id": "b9636502",
   "metadata": {},
   "outputs": [],
   "source": []
  }
 ],
 "metadata": {
  "kernelspec": {
   "display_name": "Python 3",
   "language": "python",
   "name": "python3"
  },
  "language_info": {
   "codemirror_mode": {
    "name": "ipython",
    "version": 3
   },
   "file_extension": ".py",
   "mimetype": "text/x-python",
   "name": "python",
   "nbconvert_exporter": "python",
   "pygments_lexer": "ipython3",
   "version": "3.8.8"
  }
 },
 "nbformat": 4,
 "nbformat_minor": 5
}
