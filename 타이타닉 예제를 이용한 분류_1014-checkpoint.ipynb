{
 "cells": [
  {
   "cell_type": "markdown",
   "id": "601a2449",
   "metadata": {},
   "source": [
    "<컬렴명 설명>\n",
    "pclass: passenger class, 승객등급\n",
    "survived: 생존여부\n",
    "name:승객이름\n",
    "sex:승객성별\n",
    "age:승객나이\n",
    "sibsp:탑승 한 형제/배우자 수\n",
    "parch: 탑승 한 부모/자녀 수\n",
    "ticket: 티켓번호\n",
    "fare: 승객 지불 요금\n",
    "cabin: 선실이름\n",
    "embarked: 승선항(c: 쉘 부르그, q:퀸즈타운, s:사우스햄튼)\n",
    "body:사망자 확인번호\n",
    "home.dest:고향/목적지"
   ]
  },
  {
   "cell_type": "code",
   "execution_count": 2,
   "id": "d7727cf7",
   "metadata": {},
   "outputs": [],
   "source": [
    "import pandas as pd \n",
    "import numpy as np\n",
    "import matplotlib.pyplot as plt\n",
    "import seaborn as sns"
   ]
  },
  {
   "cell_type": "code",
   "execution_count": 11,
   "id": "0a66ae2e",
   "metadata": {},
   "outputs": [
    {
     "name": "stdout",
     "output_type": "stream",
     "text": [
      "<class 'pandas.core.frame.DataFrame'>\n",
      "RangeIndex: 916 entries, 0 to 915\n",
      "Data columns (total 13 columns):\n",
      " #   Column     Non-Null Count  Dtype  \n",
      "---  ------     --------------  -----  \n",
      " 0   pclass     916 non-null    int64  \n",
      " 1   survived   916 non-null    int64  \n",
      " 2   name       916 non-null    object \n",
      " 3   sex        916 non-null    object \n",
      " 4   age        741 non-null    float64\n",
      " 5   sibsp      916 non-null    int64  \n",
      " 6   parch      916 non-null    int64  \n",
      " 7   ticket     916 non-null    object \n",
      " 8   fare       916 non-null    float64\n",
      " 9   cabin      214 non-null    object \n",
      " 10  embarked   914 non-null    object \n",
      " 11  body       85 non-null     float64\n",
      " 12  home.dest  527 non-null    object \n",
      "dtypes: float64(3), int64(4), object(6)\n",
      "memory usage: 93.2+ KB\n",
      "<class 'pandas.core.frame.DataFrame'>\n",
      "RangeIndex: 393 entries, 0 to 392\n",
      "Data columns (total 13 columns):\n",
      " #   Column     Non-Null Count  Dtype  \n",
      "---  ------     --------------  -----  \n",
      " 0   pclass     393 non-null    int64  \n",
      " 1   survived   393 non-null    int64  \n",
      " 2   name       393 non-null    object \n",
      " 3   sex        393 non-null    object \n",
      " 4   age        305 non-null    float64\n",
      " 5   sibsp      393 non-null    int64  \n",
      " 6   parch      393 non-null    int64  \n",
      " 7   ticket     393 non-null    object \n",
      " 8   fare       393 non-null    float64\n",
      " 9   cabin      81 non-null     object \n",
      " 10  embarked   393 non-null    object \n",
      " 11  body       36 non-null     float64\n",
      " 12  home.dest  218 non-null    object \n",
      "dtypes: float64(3), int64(4), object(6)\n",
      "memory usage: 40.0+ KB\n"
     ]
    }
   ],
   "source": [
    "df_train=pd.read_csv('C:/pyy/titanic_train.csv')\n",
    "df_test=pd.read_csv('C:/pyy/titanic_test.csv')\n",
    "df_train.info()\n",
    "df_test.info()"
   ]
  },
  {
   "cell_type": "code",
   "execution_count": 12,
   "id": "4cb0acd8",
   "metadata": {},
   "outputs": [
    {
     "name": "stdout",
     "output_type": "stream",
     "text": [
      "0    563\n",
      "1    353\n",
      "Name: survived, dtype: int64\n"
     ]
    },
    {
     "data": {
      "text/plain": [
       "<AxesSubplot:>"
      ]
     },
     "execution_count": 12,
     "metadata": {},
     "output_type": "execute_result"
    },
    {
     "data": {
      "image/png": "[encoded data removed]",
      "text/plain": [
       "<Figure size 432x288 with 1 Axes>"
      ]
     },
     "metadata": {
      "needs_background": "light"
     },
     "output_type": "display_data"
    }
   ],
   "source": [
    "#df_train: surved데이터의 항목별 건수 출력하기\n",
    "print(df_train['survived'].value_counts())\n",
    "#막대그래프로 작성하기\n",
    "df_train['survived'].value_counts().plot.bar()"
   ]
  },
  {
   "cell_type": "code",
   "execution_count": 13,
   "id": "1b648258",
   "metadata": {},
   "outputs": [
    {
     "data": {
      "image/png": "[encoded data removed]",
      "text/plain": [
       "<Figure size 432x288 with 1 Axes>"
      ]
     },
     "metadata": {
      "needs_background": "light"
     },
     "output_type": "display_data"
    }
   ],
   "source": [
    "#df_train: pclass별 survived데이터의 항목별 건수를 그래프로 작성\n",
    "df_train[['pclass','survived']].value_counts().sort_index()\n",
    "ax=sns.countplot(x='pclass',hue='survived',data=df_train)"
   ]
  },
  {
   "cell_type": "code",
   "execution_count": 14,
   "id": "d9becc9f",
   "metadata": {},
   "outputs": [
    {
     "data": {
      "image/png": "[encoded data removed]",
      "text/plain": [
       "<Figure size 432x288 with 1 Axes>"
      ]
     },
     "metadata": {
      "needs_background": "light"
     },
     "output_type": "display_data"
    }
   ],
   "source": [
    "#df_train: sex별 survived데이터의 항목별 건수를 그래프로 작성\n",
    "df_train[['sex','survived']].value_counts().sort_index()\n",
    "ax=sns.countplot(x='sex',hue='survived',data=df_train)"
   ]
  },
  {
   "cell_type": "markdown",
   "id": "14c223ac",
   "metadata": {},
   "source": [
    "# 생존자 분류"
   ]
  },
  {
   "cell_type": "markdown",
   "id": "ec5347ab",
   "metadata": {},
   "source": [
    "분류:KNN, SVM, 의사결정트리, 로지스틱회귀모델\n",
    "Logistic regression: 예측값을 0~1사이의 값으로 제한\n",
    "0.5보다 큰 경우: 1\n",
    "0.5보다 작은 경우: 0\n",
    "\n",
    "결측값처리 필요\n",
    "1. 삭제\n",
    "- 처리가 쉽다. 중요한 정보 삭제 가능\n",
    "2. 변경\n",
    "- 평균값 또는 중앙값 또는 최빈값 등으로 결측값을 변경"
   ]
  },
  {
   "cell_type": "code",
   "execution_count": 16,
   "id": "b6432004",
   "metadata": {},
   "outputs": [
    {
     "data": {
      "text/plain": [
       "30.23144399460193"
      ]
     },
     "execution_count": 16,
     "metadata": {},
     "output_type": "execute_result"
    }
   ],
   "source": [
    "#1. age컬럼의 결측값을 평균값으로 변경하기\n",
    "age_mean=df_train['age'].mean()\n",
    "df_train['age']=df_train['age'].fillna(age_mean)\n",
    "df_test['age']=df_test['age'].fillna(age_mean)\n",
    "age_mean"
   ]
  },
  {
   "cell_type": "code",
   "execution_count": 17,
   "id": "592780fc",
   "metadata": {},
   "outputs": [
    {
     "data": {
      "text/plain": [
       "30.231443994601886"
      ]
     },
     "execution_count": 17,
     "metadata": {},
     "output_type": "execute_result"
    }
   ],
   "source": [
    "age_mean=df_train['age'].mean(skipna=False)\n",
    "age_mean"
   ]
  },
  {
   "cell_type": "code",
   "execution_count": 18,
   "id": "2127019e",
   "metadata": {},
   "outputs": [
    {
     "data": {
      "text/plain": [
       "29.299076517875264"
      ]
     },
     "execution_count": 18,
     "metadata": {},
     "output_type": "execute_result"
    }
   ],
   "source": [
    "df_test['age'].mean()"
   ]
  },
  {
   "cell_type": "code",
   "execution_count": 23,
   "id": "0da5ec52",
   "metadata": {},
   "outputs": [],
   "source": [
    "#2. embarked 컬럼의 결측값을 최빈값으로 변경하기\n",
    "df_train['embarked'].value_counts().idxmax() #최빈값출력\n",
    "replace_embarked=df_train['embarked'].value_counts().index[0] #최빈값 선택\n",
    "df_train['embarked']=df_train['embarked'].fillna(replace_embarked)\n",
    "df_test['embarked']=df_test['embarked'].fillna(replace_embarked)"
   ]
  },
  {
   "cell_type": "code",
   "execution_count": null,
   "id": "00ec745e",
   "metadata": {},
   "outputs": [],
   "source": [
    "#3.데이터셋에서 필요없는 피처제거\n",
    "df_train=df_train.drop(['name','ticket','body','cabin','home.dest'],axis=1)\n",
    "df_test=df_test.drop(['name','ticket','body','cabin','home.dest'],axis=1)"
   ]
  },
  {
   "cell_type": "code",
   "execution_count": null,
   "id": "9cd8519c",
   "metadata": {},
   "outputs": [],
   "source": [
    "#4.one-hot encoding을 위한 통합 데이터 프레임(whole_df)을 생성\n",
    "#whole_df: df_train + df_test"
   ]
  },
  {
   "cell_type": "code",
   "execution_count": 32,
   "id": "8011d166",
   "metadata": {},
   "outputs": [
    {
     "name": "stdout",
     "output_type": "stream",
     "text": [
      "<class 'pandas.core.frame.DataFrame'>\n",
      "Int64Index: 1309 entries, 0 to 392\n",
      "Data columns (total 8 columns):\n",
      " #   Column    Non-Null Count  Dtype  \n",
      "---  ------    --------------  -----  \n",
      " 0   pclass    1309 non-null   int64  \n",
      " 1   survived  1309 non-null   int64  \n",
      " 2   sex       1309 non-null   object \n",
      " 3   age       1309 non-null   float64\n",
      " 4   sibsp     1309 non-null   int64  \n",
      " 5   parch     1309 non-null   int64  \n",
      " 6   fare      1309 non-null   float64\n",
      " 7   embarked  1309 non-null   object \n",
      "dtypes: float64(2), int64(4), object(2)\n",
      "memory usage: 92.0+ KB\n"
     ]
    }
   ],
   "source": [
    "whole_df=df_train.append(df_test)\n",
    "whole_df.info()\n",
    "train_num=len(df_train)"
   ]
  },
  {
   "cell_type": "code",
   "execution_count": 33,
   "id": "750fae10",
   "metadata": {},
   "outputs": [
    {
     "name": "stdout",
     "output_type": "stream",
     "text": [
      "<class 'pandas.core.frame.DataFrame'>\n",
      "Int64Index: 1309 entries, 0 to 392\n",
      "Data columns (total 11 columns):\n",
      " #   Column      Non-Null Count  Dtype  \n",
      "---  ------      --------------  -----  \n",
      " 0   pclass      1309 non-null   int64  \n",
      " 1   survived    1309 non-null   int64  \n",
      " 2   age         1309 non-null   float64\n",
      " 3   sibsp       1309 non-null   int64  \n",
      " 4   parch       1309 non-null   int64  \n",
      " 5   fare        1309 non-null   float64\n",
      " 6   sex_female  1309 non-null   uint8  \n",
      " 7   sex_male    1309 non-null   uint8  \n",
      " 8   embarked_C  1309 non-null   uint8  \n",
      " 9   embarked_Q  1309 non-null   uint8  \n",
      " 10  embarked_S  1309 non-null   uint8  \n",
      "dtypes: float64(2), int64(4), uint8(5)\n",
      "memory usage: 78.0 KB\n"
     ]
    }
   ],
   "source": [
    "#one-hot 인코딩하기\n",
    "whole_df_encoded=pd.get_dummies(whole_df)\n",
    "whole_df_encoded.info()"
   ]
  },
  {
   "cell_type": "code",
   "execution_count": 34,
   "id": "f5b3effd",
   "metadata": {},
   "outputs": [
    {
     "name": "stdout",
     "output_type": "stream",
     "text": [
      "<class 'pandas.core.frame.DataFrame'>\n",
      "Int64Index: 916 entries, 0 to 915\n",
      "Data columns (total 11 columns):\n",
      " #   Column      Non-Null Count  Dtype  \n",
      "---  ------      --------------  -----  \n",
      " 0   pclass      916 non-null    int64  \n",
      " 1   survived    916 non-null    int64  \n",
      " 2   age         916 non-null    float64\n",
      " 3   sibsp       916 non-null    int64  \n",
      " 4   parch       916 non-null    int64  \n",
      " 5   fare        916 non-null    float64\n",
      " 6   sex_female  916 non-null    uint8  \n",
      " 7   sex_male    916 non-null    uint8  \n",
      " 8   embarked_C  916 non-null    uint8  \n",
      " 9   embarked_Q  916 non-null    uint8  \n",
      " 10  embarked_S  916 non-null    uint8  \n",
      "dtypes: float64(2), int64(4), uint8(5)\n",
      "memory usage: 54.6 KB\n",
      "<class 'pandas.core.frame.DataFrame'>\n",
      "Int64Index: 393 entries, 0 to 392\n",
      "Data columns (total 11 columns):\n",
      " #   Column      Non-Null Count  Dtype  \n",
      "---  ------      --------------  -----  \n",
      " 0   pclass      393 non-null    int64  \n",
      " 1   survived    393 non-null    int64  \n",
      " 2   age         393 non-null    float64\n",
      " 3   sibsp       393 non-null    int64  \n",
      " 4   parch       393 non-null    int64  \n",
      " 5   fare        393 non-null    float64\n",
      " 6   sex_female  393 non-null    uint8  \n",
      " 7   sex_male    393 non-null    uint8  \n",
      " 8   embarked_C  393 non-null    uint8  \n",
      " 9   embarked_Q  393 non-null    uint8  \n",
      " 10  embarked_S  393 non-null    uint8  \n",
      "dtypes: float64(2), int64(4), uint8(5)\n",
      "memory usage: 23.4 KB\n"
     ]
    }
   ],
   "source": [
    "#whole_df를 다시 훈련용/검증용 데이터로 분리\n",
    "df_train=whole_df_encoded[:train_num]\n",
    "df_test=whole_df_encoded[train_num:]\n",
    "df_train.info()\n",
    "df_test.info()"
   ]
  },
  {
   "cell_type": "code",
   "execution_count": 41,
   "id": "5ee70289",
   "metadata": {},
   "outputs": [],
   "source": [
    "#5. df_train, df_test 독립변수와 속성변수 분리하기 \n",
    "#독립변수: survived외의 모든 피처\n",
    "#속성변수: survived\n",
    "x_train=df_train.loc[:,df_train.columns!='survived'].values\n",
    "y_train=df_train['survived'].values\n",
    "\n",
    "x_test=df_test.loc[:,df_test.columns!='survived'].values\n",
    "y_test=df_test['survived'].values"
   ]
  },
  {
   "cell_type": "code",
   "execution_count": 45,
   "id": "f0b84596",
   "metadata": {},
   "outputs": [],
   "source": [
    "#로지스틱 회귀모델을 이용하여 분류하기\n",
    "from sklearn.linear_model import LogisticRegression"
   ]
  },
  {
   "cell_type": "markdown",
   "id": "294f3b1c",
   "metadata": {},
   "source": [
    "/usr/local/lib/python3.7/site-packages/sklearn/linear_model/_logistic.py:764: ConvergenceWarning: lbfgs failed to converge (status=1):\n",
    "\n",
    "STOP: TOTAL NO. of ITERATIONS REACHED LIMIT.\n",
    "\n",
    "\n",
    "\n",
    "Increase the number of iterations (max_iter) or scale the data as shown in:\n",
    "    https://scikit-learn.org/stable/modules/preprocessing.html\n",
    "Please also refer to the documentation for alternative solver options:\n",
    "    https://scikit-learn.org/stable/modules/linear_model.html#logistic-regression\n",
    "  extra_warning_msg=_LOGISTIC_SOLVER_CONVERGENCE_MSG)\n",
    "  \n",
    "로지스틱 레그레션 에러,   \n",
    "LogisticRegression()으로 학습을 했을 때 아래와 같은 경고문이 뜹니다. \n",
    "\n",
    "default max_iter 100으로는 converged가 되지 않는것 같습니다. \n",
    "사이킷런 0.22 버전에서는 default solver가 'liblinear’ 에서 ‘lbfgs’ 로 변경되면서 이런 warnng도 내어주는 군요. \n",
    "max_iter=500으로 늘려야 할 것 같습니다.  \n",
    "적절값 테스트는 반복 변경해 가면서 찾아야 할 것 같습니다. \n",
    "\n",
    "#vi train1.py\n",
    "\n",
    "clf = LogisticRegression(solver='liblinear') -> solver 추가후 정상적인 실행\n"
   ]
  },
  {
   "cell_type": "code",
   "execution_count": 52,
   "id": "1165947a",
   "metadata": {},
   "outputs": [],
   "source": [
    "lr=LogisticRegression(solver='liblinear',random_state=1)\n",
    "lr.fit(x_train,y_train)\n",
    "y_pred=lr.predict(x_test)"
   ]
  },
  {
   "cell_type": "code",
   "execution_count": 54,
   "id": "f37cab09",
   "metadata": {},
   "outputs": [
    {
     "name": "stdout",
     "output_type": "stream",
     "text": [
      "실제: [0 1 0 0 0 1 1 1 0 1]\n",
      "예측: [0 1 0 0 0 1 0 0 0 0]\n"
     ]
    }
   ],
   "source": [
    "print('실제:',y_test[:10])\n",
    "print('예측:',y_pred[:10])"
   ]
  },
  {
   "cell_type": "code",
   "execution_count": 55,
   "id": "a0c056c2",
   "metadata": {},
   "outputs": [
    {
     "name": "stdout",
     "output_type": "stream",
     "text": [
      "[[214  32]\n",
      " [ 48  99]]\n"
     ]
    }
   ],
   "source": [
    "#분류모델 평가방법 : Confusion Matrix\n",
    "from sklearn.metrics import confusion_matrix\n",
    "confmat=confusion_matrix(y_true=y_test, y_pred=y_pred)\n",
    "print(confmat)"
   ]
  },
  {
   "cell_type": "code",
   "execution_count": 59,
   "id": "d0910ed0",
   "metadata": {},
   "outputs": [
    {
     "name": "stdout",
     "output_type": "stream",
     "text": [
      "정확도(accuracy):0.796\n",
      "정밀도(precision):0.756\n",
      "재현율(recall):0.673\n",
      "F1-score:%.3f 0.712230215827338\n"
     ]
    }
   ],
   "source": [
    "from sklearn.metrics import accuracy_score,precision_score, recall_score,f1_score\n",
    "print('정확도(accuracy):%.3f'%accuracy_score(y_test,y_pred))\n",
    "print('정밀도(precision):%.3f'%precision_score(y_test,y_pred))\n",
    "print('재현율(recall):%.3f'%recall_score(y_test,y_pred))\n",
    "print('F1-score:%.3f',f1_score(y_test,y_pred))"
   ]
  },
  {
   "cell_type": "markdown",
   "id": "fe883109",
   "metadata": {},
   "source": [
    "# cabin피처 활용하기"
   ]
  },
  {
   "cell_type": "code",
   "execution_count": 91,
   "id": "e3fa8141",
   "metadata": {},
   "outputs": [],
   "source": [
    "df_train=pd.read_csv('C:/pyy/titanic_train.csv')\n",
    "df_test=pd.read_csv('C:/pyy/titanic_test.csv')\n",
    "df_train=df_train.drop(['ticket','body','home.dest'],axis=1)\n",
    "df_test=df_test.drop(['ticket','body','home.dest'],axis=1)"
   ]
  },
  {
   "cell_type": "code",
   "execution_count": 92,
   "id": "e4eda5ec",
   "metadata": {},
   "outputs": [],
   "source": [
    "#age의 결측값을 평균값으로 대체\n",
    "df_train['age']=df_train['age'].fillna(age_mean)\n",
    "df_test['age']=df_test['age'].fillna(age_mean)\n",
    "\n",
    "#embark: 2개의 결측값을 최빈값으로 대체\n",
    "embarked_mode=df_train['embarked'].value_counts().index[0]\n",
    "df_train['embarked']=df_train['embarked'].fillna(embarked_mode)\n",
    "df_test['embarked']=df_test['embarked'].fillna(embarked_mode)"
   ]
  },
  {
   "cell_type": "code",
   "execution_count": 93,
   "id": "0508030a",
   "metadata": {},
   "outputs": [
    {
     "data": {
      "text/plain": [
       "C23 C25 C27        6\n",
       "G6                 5\n",
       "B57 B59 B63 B66    5\n",
       "C22 C26            4\n",
       "F33                4\n",
       "                  ..\n",
       "E10                1\n",
       "C103               1\n",
       "D34                1\n",
       "D6                 1\n",
       "A10                1\n",
       "Name: cabin, Length: 186, dtype: int64"
      ]
     },
     "execution_count": 93,
     "metadata": {},
     "output_type": "execute_result"
    }
   ],
   "source": [
    "whole_df=df_train.append(df_test)\n",
    "train_idx_num=len(df_train)\n",
    "#cabin 컬럼의 내용의 빈도값을 조회\n",
    "whole_df['cabin'].value_counts()"
   ]
  },
  {
   "cell_type": "code",
   "execution_count": 94,
   "id": "e0a4adf8",
   "metadata": {},
   "outputs": [
    {
     "name": "stdout",
     "output_type": "stream",
     "text": [
      "빈도값 조회: \n",
      " X                  1014\n",
      "C23 C25 C27           6\n",
      "B57 B59 B63 B66       5\n",
      "G6                    5\n",
      "C78                   4\n",
      "                   ... \n",
      "E10                   1\n",
      "C103                  1\n",
      "D34                   1\n",
      "D6                    1\n",
      "A10                   1\n",
      "Name: cabin, Length: 187, dtype: int64\n",
      "값들 조회\n",
      ": ['X' 'E36' 'C68' 'E24' 'C22 C26' 'D38' 'B50' 'A24' 'C111' 'F' 'C6' 'C87'\n",
      " 'E8' 'B45' 'C93' 'D28' 'D36' 'C125' 'B35' 'T' 'B73' 'B57 B59 B63 B66'\n",
      " 'A26' 'A18' 'B96 B98' 'G6' 'C78' 'C101' 'D9' 'D33' 'C128' 'E50' 'B26'\n",
      " 'B69' 'E121' 'C123' 'B94' 'A34' 'D' 'C39' 'D43' 'E31' 'B5' 'D17' 'F33'\n",
      " 'E44' 'D7' 'A21' 'D34' 'A29' 'D35' 'A11' 'B51 B53 B55' 'D46' 'E60' 'C30'\n",
      " 'D26' 'E68' 'A9' 'B71' 'D37' 'F2' 'C55 C57' 'C89' 'C124' 'C23 C25 C27'\n",
      " 'C126' 'E49' 'F E46' 'E46' 'D19' 'B58 B60' 'C82' 'B52 B54 B56' 'C92'\n",
      " 'E45' 'F G73' 'C65' 'E25' 'B3' 'D40' 'C91' 'B102' 'B61' 'F G63' 'A20'\n",
      " 'B36' 'C7' 'B77' 'D20' 'C148' 'C105' 'E38' 'B86' 'C132' 'C86' 'A14' 'C54'\n",
      " 'A5' 'B49' 'B28' 'B24' 'C2' 'F4' 'A6' 'C83' 'B42' 'A36' 'C52' 'D56'\n",
      " 'C116' 'B19' 'E77' 'F E57' 'E101' 'B18' 'C95' 'D15' 'E33' 'B30' 'D21'\n",
      " 'E10' 'C130' 'D6' 'C51' 'D30' 'E67' 'C110' 'C103' 'C90' 'C118' 'C97'\n",
      " 'D47' 'E34' 'B4' 'D50' 'C62 C64' 'E17' 'B41' 'C49' 'C85' 'B20' 'C28'\n",
      " 'E63' 'C99' 'D49' 'A10' 'A16' 'B37' 'C80' 'B78' 'E12' 'C104' 'A31' 'D11'\n",
      " 'D48' 'D10 D12' 'B38' 'D45' 'C50' 'C31' 'B82 B84' 'A32' 'C53' 'B10' 'C70'\n",
      " 'A23' 'C106' 'C46' 'E58' 'B11' 'F E69' 'B80' 'E39 E41' 'D22' 'E40' 'A19'\n",
      " 'C32' 'B79' 'C45' 'B22' 'B39' 'C47' 'B101' 'A7' 'E52' 'F38']\n"
     ]
    }
   ],
   "source": [
    "#cabin 컬럼의 결측데이터를 X로 변환\n",
    "whole_df['cabin']=whole_df['cabin'].fillna('X')\n",
    "print('빈도값 조회: \\n',whole_df['cabin'].value_counts())\n",
    "print('값들 조회\\n:',whole_df['cabin'].unique())"
   ]
  },
  {
   "cell_type": "code",
   "execution_count": 95,
   "id": "e91235b3",
   "metadata": {},
   "outputs": [
    {
     "data": {
      "text/plain": [
       "X    1014\n",
       "C      94\n",
       "B      65\n",
       "D      46\n",
       "E      41\n",
       "A      22\n",
       "F      21\n",
       "G       5\n",
       "T       1\n",
       "Name: cabin, dtype: int64"
      ]
     },
     "execution_count": 95,
     "metadata": {},
     "output_type": "execute_result"
    }
   ],
   "source": [
    "#cabon 컬럼의 첫번째 문자만 추출하여 cabib컬럼을 변경하기\n",
    "# 'D10 D12'-> 'D'로 저장\n",
    "whole_df['cabin']=whole_df['cabin'].apply(lambda x:x[0])\n",
    "whole_df['cabin'].value_counts()"
   ]
  },
  {
   "cell_type": "code",
   "execution_count": 96,
   "id": "2a8b546d",
   "metadata": {},
   "outputs": [
    {
     "data": {
      "text/plain": [
       "X    1020\n",
       "C      94\n",
       "B      65\n",
       "D      46\n",
       "E      41\n",
       "A      22\n",
       "F      21\n",
       "Name: cabin, dtype: int64"
      ]
     },
     "execution_count": 96,
     "metadata": {},
     "output_type": "execute_result"
    }
   ],
   "source": [
    "#G,T값의 빈도수가 너무 적으므로 X로 치환\n",
    "whole_df['cabin']=whole_df['cabin'].replace({'G':'X','T':'X'})\n",
    "whole_df['cabin'].value_counts()"
   ]
  },
  {
   "cell_type": "markdown",
   "id": "7e680c94",
   "metadata": {},
   "source": [
    "# name피처 활용하기"
   ]
  },
  {
   "cell_type": "code",
   "execution_count": 97,
   "id": "71ce54dd",
   "metadata": {},
   "outputs": [
    {
     "data": {
      "text/plain": [
       "0    Mellinger, Miss. Madeleine Violet\n",
       "1                    Wells, Miss. Joan\n",
       "2       Duran y More, Miss. Florentina\n",
       "3                   Scanlan, Mr. James\n",
       "4         Bradley, Miss. Bridget Delia\n",
       "Name: name, dtype: object"
      ]
     },
     "execution_count": 97,
     "metadata": {},
     "output_type": "execute_result"
    }
   ],
   "source": [
    "whole_df['name'].head()"
   ]
  },
  {
   "cell_type": "code",
   "execution_count": 98,
   "id": "19e4f9b8",
   "metadata": {},
   "outputs": [
    {
     "data": {
      "text/plain": [
       "['Miss',\n",
       " 'Mr',\n",
       " 'Master',\n",
       " 'Mrs',\n",
       " 'Dr',\n",
       " 'Mlle',\n",
       " 'Col',\n",
       " 'Rev',\n",
       " 'Ms',\n",
       " 'Mme',\n",
       " 'Sir',\n",
       " 'the Countess',\n",
       " 'Dona',\n",
       " 'Jonkheer',\n",
       " 'Lady',\n",
       " 'Major',\n",
       " 'Don',\n",
       " 'Capt']"
      ]
     },
     "execution_count": 98,
     "metadata": {},
     "output_type": "execute_result"
    }
   ],
   "source": [
    "#name의 ','를 기준으로 두번째 문자열이 사회적 지위에 해당하는 문자\n",
    "#name의 두번째 문자의 내용을 중복없이 출력하기\n",
    "name_grade=whole_df['name'].apply(lambda x:x.split(', ')[1].split('.')[0])\n",
    "name_grade=name_grade.unique().tolist()\n",
    "name_grade"
   ]
  },
  {
   "cell_type": "code",
   "execution_count": 99,
   "id": "c616261b",
   "metadata": {},
   "outputs": [
    {
     "name": "stdout",
     "output_type": "stream",
     "text": [
      "A ['Rev', 'Col', 'Major', 'Dr', 'Capt', 'Sir']\n",
      "B ['Ms', 'Mme', 'Mrs', 'Dona']\n",
      "C ['Jonkheer', 'the Countess']\n",
      "D ['Mr', 'Don']\n",
      "E ['Master']\n",
      "F ['Miss', 'Mlle', 'Lady']\n"
     ]
    },
    {
     "data": {
      "text/plain": [
       "'\\nfor k,v in grade_dict.items():\\n    print(k,v)\\n'"
      ]
     },
     "execution_count": 99,
     "metadata": {},
     "output_type": "execute_result"
    }
   ],
   "source": [
    "#호칭에 따라서 사회적지위(1910년 기준)을 정의합니다 \n",
    "grade_dict={\n",
    "    'A':['Rev','Col','Major','Dr','Capt','Sir'], #명예직\n",
    "    'B':['Ms','Mme','Mrs','Dona'], #여성\n",
    "    'C':['Jonkheer','the Countess'], #귀족,작위\n",
    "    'D':['Mr','Don'], #남성\n",
    "    'E':['Master'],#젊은남성\n",
    "    'F':['Miss','Mlle','Lady']#젊은여성\n",
    "}\n",
    "\n",
    "for g in grade_dict.keys():\n",
    "    print(g,grade_dict[g])\n",
    "'''\n",
    "for k,v in grade_dict.items():\n",
    "    print(k,v)\n",
    "'''"
   ]
  },
  {
   "cell_type": "code",
   "execution_count": 100,
   "id": "b980d28b",
   "metadata": {},
   "outputs": [],
   "source": [
    "#name컬럼을 A~G까지의 값으로 변경하기\n",
    "#G그룹:name_grade의 값이 A~F의 속하지 않은 경우\n",
    "#함수이름: give_grade\n",
    "def give_grade(x):\n",
    "    #g:그룹의 내용\n",
    "    g=x.split(', ')[1].split('.')[0]\n",
    "    for k,v in grade_dict.items():\n",
    "        for title in v:\n",
    "            if g==title:\n",
    "                return k\n",
    "    return 'G'"
   ]
  },
  {
   "cell_type": "code",
   "execution_count": 101,
   "id": "a9af2706",
   "metadata": {},
   "outputs": [
    {
     "data": {
      "text/plain": [
       "D    758\n",
       "F    263\n",
       "B    201\n",
       "E     61\n",
       "A     24\n",
       "C      2\n",
       "Name: name, dtype: int64"
      ]
     },
     "execution_count": 101,
     "metadata": {},
     "output_type": "execute_result"
    }
   ],
   "source": [
    "whole_df['name']=whole_df['name'].apply(lambda x : give_grade(x))\n",
    "whole_df['name'].value_counts()"
   ]
  },
  {
   "cell_type": "code",
   "execution_count": 102,
   "id": "2db804f1",
   "metadata": {},
   "outputs": [
    {
     "data": {
      "image/png": "[encoded data removed]",
      "text/plain": [
       "<Figure size 432x288 with 1 Axes>"
      ]
     },
     "metadata": {
      "needs_background": "light"
     },
     "output_type": "display_data"
    }
   ],
   "source": [
    "#name 별 생존여부 작성\n",
    "import seaborn as sns\n",
    "ax=sns.countplot(x='name',hue='survived',data=whole_df)"
   ]
  },
  {
   "cell_type": "code",
   "execution_count": 103,
   "id": "f2b258c5",
   "metadata": {},
   "outputs": [
    {
     "name": "stdout",
     "output_type": "stream",
     "text": [
      "<class 'pandas.core.frame.DataFrame'>\n",
      "Int64Index: 1309 entries, 0 to 392\n",
      "Data columns (total 24 columns):\n",
      " #   Column      Non-Null Count  Dtype  \n",
      "---  ------      --------------  -----  \n",
      " 0   pclass      1309 non-null   int64  \n",
      " 1   survived    1309 non-null   int64  \n",
      " 2   age         1309 non-null   float64\n",
      " 3   sibsp       1309 non-null   int64  \n",
      " 4   parch       1309 non-null   int64  \n",
      " 5   fare        1309 non-null   float64\n",
      " 6   name_A      1309 non-null   uint8  \n",
      " 7   name_B      1309 non-null   uint8  \n",
      " 8   name_C      1309 non-null   uint8  \n",
      " 9   name_D      1309 non-null   uint8  \n",
      " 10  name_E      1309 non-null   uint8  \n",
      " 11  name_F      1309 non-null   uint8  \n",
      " 12  sex_female  1309 non-null   uint8  \n",
      " 13  sex_male    1309 non-null   uint8  \n",
      " 14  cabin_A     1309 non-null   uint8  \n",
      " 15  cabin_B     1309 non-null   uint8  \n",
      " 16  cabin_C     1309 non-null   uint8  \n",
      " 17  cabin_D     1309 non-null   uint8  \n",
      " 18  cabin_E     1309 non-null   uint8  \n",
      " 19  cabin_F     1309 non-null   uint8  \n",
      " 20  cabin_X     1309 non-null   uint8  \n",
      " 21  embarked_C  1309 non-null   uint8  \n",
      " 22  embarked_Q  1309 non-null   uint8  \n",
      " 23  embarked_S  1309 non-null   uint8  \n",
      "dtypes: float64(2), int64(4), uint8(18)\n",
      "memory usage: 126.9 KB\n"
     ]
    }
   ],
   "source": [
    "#onehot 인코딩\n",
    "whole_df_encoded=pd.get_dummies(whole_df)\n",
    "whole_df_encoded.info()"
   ]
  },
  {
   "cell_type": "code",
   "execution_count": 108,
   "id": "b966089e",
   "metadata": {},
   "outputs": [
    {
     "name": "stdout",
     "output_type": "stream",
     "text": [
      "[[ 3.         38.          0.          0.          7.8958      0.\n",
      "   0.          0.          1.          0.          0.          0.\n",
      "   1.          0.          0.          0.          0.          0.\n",
      "   0.          1.          0.          0.          1.        ]\n",
      " [ 2.         21.          0.          1.         21.          0.\n",
      "   0.          0.          0.          0.          1.          1.\n",
      "   0.          0.          0.          0.          0.          0.\n",
      "   0.          1.          0.          0.          1.        ]\n",
      " [ 2.         42.          1.          0.         27.          0.\n",
      "   0.          0.          1.          0.          0.          0.\n",
      "   1.          0.          0.          0.          0.          0.\n",
      "   0.          1.          0.          0.          1.        ]\n",
      " [ 3.         30.23144399  0.          0.         14.5         0.\n",
      "   0.          0.          1.          0.          0.          0.\n",
      "   1.          0.          0.          0.          0.          0.\n",
      "   0.          1.          0.          0.          1.        ]\n",
      " [ 2.         25.          0.          0.         31.5         0.\n",
      "   0.          0.          1.          0.          0.          0.\n",
      "   1.          0.          0.          0.          0.          0.\n",
      "   0.          1.          0.          0.          1.        ]\n",
      " [ 3.          4.          1.          1.         16.7         0.\n",
      "   0.          0.          0.          0.          1.          1.\n",
      "   0.          0.          0.          0.          0.          0.\n",
      "   0.          1.          0.          0.          1.        ]\n",
      " [ 1.         48.          0.          0.         26.55        0.\n",
      "   0.          0.          1.          0.          0.          0.\n",
      "   1.          0.          0.          0.          0.          1.\n",
      "   0.          0.          0.          0.          1.        ]\n",
      " [ 1.         52.          0.          0.         30.5         1.\n",
      "   0.          0.          0.          0.          0.          0.\n",
      "   1.          0.          0.          1.          0.          0.\n",
      "   0.          0.          0.          0.          1.        ]\n",
      " [ 2.         57.          0.          0.         13.          0.\n",
      "   0.          0.          1.          0.          0.          0.\n",
      "   1.          0.          0.          0.          0.          0.\n",
      "   0.          1.          0.          0.          1.        ]\n",
      " [ 3.         30.23144399  0.          0.          8.1125      0.\n",
      "   0.          0.          1.          0.          0.          0.\n",
      "   1.          0.          0.          0.          0.          0.\n",
      "   0.          1.          0.          0.          1.        ]]\n",
      "[0 1 0 0 0 1 1 1 0 1]\n"
     ]
    }
   ],
   "source": [
    "#훈련데이터/검증데이터 분리\n",
    "df_train=whole_df_encoded[:train_idx_num]\n",
    "df_test=whole_df_encoded[train_idx_num:]\n",
    "\n",
    "#학습데이터의 독립변수\n",
    "x_train=df_train.loc[:,df_train.columns!='survived'].values\n",
    "#학습데이터의 종속변수 \n",
    "y_train=df_train['survived'].values\n",
    "\n",
    "#검증데이터의 독립변수\n",
    "x_test=df_test.loc[:,df_test.columns!='survived'].values\n",
    "#검증데이터의 종속변수\n",
    "y_test=df_test['survived'].values\n",
    "\n",
    "print(x_test[:10])\n",
    "print(y_test[:10])"
   ]
  },
  {
   "cell_type": "code",
   "execution_count": 113,
   "id": "3dbe9fc5",
   "metadata": {},
   "outputs": [
    {
     "name": "stdout",
     "output_type": "stream",
     "text": [
      "예측값: [0 1 0 0 0 1 0 0 0 0]\n",
      "실제값: [0 1 0 0 0 1 1 1 0 1]\n"
     ]
    }
   ],
   "source": [
    "#로지스틱 회귀모델 \n",
    "lr=LogisticRegression(solver='liblinear',random_state=0)\n",
    "lr.fit(x_train,y_train)\n",
    "#예측값 구하기\n",
    "y_pred=lr.predict(x_test)\n",
    "print('예측값:',y_pred[:10])\n",
    "print('실제값:',y_test[:10])"
   ]
  },
  {
   "cell_type": "code",
   "execution_count": 114,
   "id": "816dc8e6",
   "metadata": {},
   "outputs": [
    {
     "name": "stdout",
     "output_type": "stream",
     "text": [
      "정확도(accirucy): 0.7938931297709924\n",
      "정밀도(Precision): 0.7357142857142858\n",
      "재현율(Recall): 0.7006802721088435\n",
      "F1-score: 0.7177700348432055\n"
     ]
    }
   ],
   "source": [
    "#정확도,정밀도,재현율,F1 score구하기\n",
    "print('정확도(accirucy):', accuracy_score(y_test,y_pred))\n",
    "print('정밀도(Precision):',precision_score(y_test,y_pred))  \n",
    "print('재현율(Recall):',recall_score(y_test,y_pred))    \n",
    "print('F1-score:',f1_score(y_test,y_pred)) "
   ]
  },
  {
   "cell_type": "code",
   "execution_count": null,
   "id": "4b57c5ab",
   "metadata": {},
   "outputs": [],
   "source": []
  },
  {
   "cell_type": "code",
   "execution_count": null,
   "id": "c84dc893",
   "metadata": {},
   "outputs": [],
   "source": []
  }
 ],
 "metadata": {
  "kernelspec": {
   "display_name": "Python 3",
   "language": "python",
   "name": "python3"
  },
  "language_info": {
   "codemirror_mode": {
    "name": "ipython",
    "version": 3
   },
   "file_extension": ".py",
   "mimetype": "text/x-python",
   "name": "python",
   "nbconvert_exporter": "python",
   "pygments_lexer": "ipython3",
   "version": "3.8.8"
  }
 },
 "nbformat": 4,
 "nbformat_minor": 5
}
