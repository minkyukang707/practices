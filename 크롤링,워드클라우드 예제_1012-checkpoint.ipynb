{
 "cells": [
  {
   "cell_type": "markdown",
   "id": "071537ce",
   "metadata": {},
   "source": [
    "# 형태소분석기 모듈을 이용하여 단어 추출"
   ]
  },
  {
   "cell_type": "code",
   "execution_count": 1,
   "id": "d9166bc5",
   "metadata": {},
   "outputs": [],
   "source": [
    "#df: 나무위키에서 수집한 텍스트데이터 중 한글만 저장하고 있는 데이터프레임객체\n",
    "#konlpy의 형태소 분석기 모듈을 이용하여 단어를 추출하기 \n",
    "from konlpy.tag import Okt\n",
    "from collections import Counter\n",
    "nouns_tagger = Okt() # 명사추출을 위한 형태소 분석기"
   ]
  },
  {
   "cell_type": "code",
   "execution_count": 2,
   "id": "37a407c3",
   "metadata": {},
   "outputs": [
    {
     "ename": "NameError",
     "evalue": "name 'df' is not defined",
     "output_type": "error",
     "traceback": [
      "\u001b[1;31m---------------------------------------------------------------------------\u001b[0m",
      "\u001b[1;31mNameError\u001b[0m                                 Traceback (most recent call last)",
      "\u001b[1;32m<ipython-input-2-79f4f1fb0ecc>\u001b[0m in \u001b[0;36m<module>\u001b[1;34m\u001b[0m\n\u001b[0;32m      1\u001b[0m \u001b[1;31m#각 피처마다 말뭉치를 생성합니다.\u001b[0m\u001b[1;33m\u001b[0m\u001b[1;33m\u001b[0m\u001b[1;33m\u001b[0m\u001b[0m\n\u001b[1;32m----> 2\u001b[1;33m \u001b[0mtitle_corpus\u001b[0m \u001b[1;33m=\u001b[0m \u001b[1;34m\"\"\u001b[0m\u001b[1;33m.\u001b[0m\u001b[0mjoin\u001b[0m\u001b[1;33m(\u001b[0m\u001b[0mdf\u001b[0m\u001b[1;33m[\u001b[0m\u001b[1;34m'title'\u001b[0m\u001b[1;33m]\u001b[0m\u001b[1;33m.\u001b[0m\u001b[0mtolist\u001b[0m\u001b[1;33m(\u001b[0m\u001b[1;33m)\u001b[0m\u001b[1;33m)\u001b[0m\u001b[1;33m\u001b[0m\u001b[1;33m\u001b[0m\u001b[0m\n\u001b[0m\u001b[0;32m      3\u001b[0m \u001b[0mcategory_corpus\u001b[0m \u001b[1;33m=\u001b[0m \u001b[1;34m\"\"\u001b[0m\u001b[1;33m.\u001b[0m\u001b[0mjoin\u001b[0m\u001b[1;33m(\u001b[0m\u001b[0mdf\u001b[0m\u001b[1;33m[\u001b[0m\u001b[1;34m'category'\u001b[0m\u001b[1;33m]\u001b[0m\u001b[1;33m.\u001b[0m\u001b[0mtolist\u001b[0m\u001b[1;33m(\u001b[0m\u001b[1;33m)\u001b[0m\u001b[1;33m)\u001b[0m\u001b[1;33m\u001b[0m\u001b[1;33m\u001b[0m\u001b[0m\n\u001b[0;32m      4\u001b[0m \u001b[0mcontent_corpus\u001b[0m \u001b[1;33m=\u001b[0m \u001b[1;34m\"\"\u001b[0m\u001b[1;33m.\u001b[0m\u001b[0mjoin\u001b[0m\u001b[1;33m(\u001b[0m\u001b[0mdf\u001b[0m\u001b[1;33m[\u001b[0m\u001b[1;34m'content_text'\u001b[0m\u001b[1;33m]\u001b[0m\u001b[1;33m.\u001b[0m\u001b[0mtolist\u001b[0m\u001b[1;33m(\u001b[0m\u001b[1;33m)\u001b[0m\u001b[1;33m)\u001b[0m\u001b[1;33m\u001b[0m\u001b[1;33m\u001b[0m\u001b[0m\n",
      "\u001b[1;31mNameError\u001b[0m: name 'df' is not defined"
     ]
    }
   ],
   "source": [
    "#각 피처마다 말뭉치를 생성합니다. \n",
    "title_corpus = \"\".join(df['title'].tolist())\n",
    "category_corpus = \"\".join(df['category'].tolist())\n",
    "content_corpus = \"\".join(df['content_text'].tolist())"
   ]
  },
  {
   "cell_type": "code",
   "execution_count": null,
   "id": "be96831b",
   "metadata": {},
   "outputs": [],
   "source": [
    "#content 내용부분 시각화 \n",
    "nouns = nouns_tagger.nouns(content_corpus)\n",
    "#각 단어들의 빈도수 계산\n",
    "count=Counter(nouns)\n",
    "\n",
    "#한글자 단어들은 제거하기\n",
    "# x: 단어 \n",
    "# count[x]: 단어빈도수 \n",
    "remove_char_counter=Counter({x:count[x] for x in count if len(x)>1})\n",
    "remove_char_counter"
   ]
  },
  {
   "cell_type": "code",
   "execution_count": null,
   "id": "b418f988",
   "metadata": {},
   "outputs": [],
   "source": [
    "#불용어 제거하기\n",
    "#불용어 파일 읽기\n",
    "korean_stopwords = 'C:/pyy/korean_stopwords.txt'\n",
    "with open(korean_stopwords, encoding ='utf8') as f:\n",
    "    stopwords=f.readlines()\n",
    "stopwords=[x.strip() for x in stopwords]\n",
    "stopwords[:10]"
   ]
  },
  {
   "cell_type": "code",
   "execution_count": null,
   "id": "52238b37",
   "metadata": {},
   "outputs": [],
   "source": [
    "#remove_char_counter 데이터에서 불용어를 제거합니다\n",
    "remove_char_counter = Counter({x:remove_char_counter[x]\n",
    "                              for x in remove_char_counter if x not in stopwords})\n",
    "print(remove_char_counter)"
   ]
  },
  {
   "cell_type": "code",
   "execution_count": null,
   "id": "b4a2a884",
   "metadata": {},
   "outputs": [],
   "source": [
    "'''\n",
    "워드 클라우드 시각화\n",
    "한글 출력을 위한 폰트 설정하기\n",
    "폰트 다운로드: http://hangeul.naver.com/webfont/NanumGothic/NanumGothic.ttf\n",
    "NanumGothic.ttf 다운받기\n",
    "개인 컴퓨터의 사용자 이름 확인 \n",
    "pip install pytagcloud 실행후 \n",
    "c:/users(사용자)/(사용자명)/anaconda3/Lib/site-packages/pytagcloud/fonts 폴더에 복사\n",
    "\n",
    "fonts.json 파일을 메모장으로 열기\n",
    "{\n",
    "'name':'NanumGothic',\n",
    "'ttf':'NanumGothic.ttf',\n",
    "'web':'http://fonts.googleapis.com/css?family=Nanum+Gothic'\n",
    "}\n",
    "추가하기\n",
    "'''"
   ]
  },
  {
   "cell_type": "code",
   "execution_count": null,
   "id": "2ac7bea0",
   "metadata": {},
   "outputs": [],
   "source": [
    "import pytagcloud #wordlcoud 시각화를 위한 모듈\n",
    "# remove_char_counter: 단어의 빈도수 저장 \n",
    "# 단어길이가 두개이상인 단어 \n",
    "# 불용어 제거\n",
    "# most_common(40): 가장 많이 사용된 단어 40개만 저장 \n",
    "ranked_tags = remove_char_counter.most_common(40)\n",
    "ranked_tags # 단어구름 시각화에 표시될 내용\n",
    "taglist = pytagcloud.make_tags(ranked_tags, maxsize =80)\n",
    "\n",
    "# 단어구름 시각화를 wordcloud.jpg 이미지 파일로 저장\n",
    "# fontname = 'NanumGothic': 한글 표시가 가능한 폰트여야함\n",
    "pytagcloud.create_tag_image(taglist, 'wordcloud.jpg',\n",
    "                           size=(900,600), fontname='NanumGothic',\n",
    "                           rectangular=False)"
   ]
  },
  {
   "cell_type": "code",
   "execution_count": null,
   "id": "f97abbae",
   "metadata": {},
   "outputs": [],
   "source": [
    "# 생성된 이미지 바로 콘솔에 출력\n",
    "from IPython.display import image\n",
    "Image(filename='wordcloud.jpg')\n",
    "# title 부분을 단어구름으로 시각화 하기: titlecloud.jpg\n",
    "nouns=nouns_tagger.nouns(title_corpus)\n",
    "count=Counter(nouns) #단어들의 빈도수\n",
    "#한문자 단어 제거 \n",
    "remove_char_counter=Counter({x:count[x] for x in count if len(x)>1})\n",
    "\n",
    "# stopwords: 불용어 저장 객체\n",
    "remove_char_counter=Counter({x:remove_char_counter[x] \n",
    "                            for x in remove_char_counter if x not in stopwords})\n",
    "\n",
    "ranked_tags = remove_char_counter.most_common(40)\n",
    "\n",
    "taglist = pytagcloud.make_tags(ranked_tags, maxsize=50)\n",
    "pytagcloud.create_tage_image(taglist, 'titlecloud.jpg',\n",
    "                            size=(900,600),fontname='NanumGothic',\n",
    "                            rectangular=False)\n",
    "Image(filename='titlecloud.jpg')"
   ]
  },
  {
   "cell_type": "code",
   "execution_count": null,
   "id": "c02c3d70",
   "metadata": {},
   "outputs": [],
   "source": [
    "# category 부분을 단어구름으로 시각화 하기 \n",
    "nouns = nouns_tagger.nouns(category_corpus)\n",
    "count=Counter(nouns)\n",
    "remove_char_counter=Counter({x:count[x] for x in count if len(x)>1})\n",
    "remove_char_counter=Counter({x:remove_char_counter[x] for x in remove_char_counter\n",
    "                            if x not in stopwords})\n",
    "\n",
    "ranked_tags=remove_char_counter.most_common(40)\n",
    "taglist=pytagcloud.make_tags(ranked_tags, maxsize=80)\n",
    "pytagcloud.create_tag_image(taglist,'categorycloud.jpg', size=(900,600),\n",
    "                           fontname='NanumGothic',rectangular=False)\n",
    "Image(filename='categorycloud.jpg')   "
   ]
  }
 ],
 "metadata": {
  "kernelspec": {
   "display_name": "Python 3",
   "language": "python",
   "name": "python3"
  },
  "language_info": {
   "codemirror_mode": {
    "name": "ipython",
    "version": 3
   },
   "file_extension": ".py",
   "mimetype": "text/x-python",
   "name": "python",
   "nbconvert_exporter": "python",
   "pygments_lexer": "ipython3",
   "version": "3.8.8"
  }
 },
 "nbformat": 4,
 "nbformat_minor": 5
}
