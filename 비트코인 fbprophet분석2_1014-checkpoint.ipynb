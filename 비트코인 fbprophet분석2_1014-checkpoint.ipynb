{
 "cells": [
  {
   "cell_type": "markdown",
   "id": "5b65501e",
   "metadata": {},
   "source": [
    "# Facebook Prophet 시계열분석"
   ]
  },
  {
   "cell_type": "markdown",
   "id": "f9954080",
   "metadata": {},
   "source": [
    "# 모듈이 적용되지 않아서 코드만작성"
   ]
  },
  {
   "cell_type": "code",
   "execution_count": 1,
   "id": "34d3ed56",
   "metadata": {},
   "outputs": [],
   "source": [
    "import pandas as pd \n",
    "import numpy as np \n",
    "import matplotlib.pyplot as plt\n",
    "from fbprophet import Prophet"
   ]
  },
  {
   "cell_type": "code",
   "execution_count": null,
   "id": "e7b249b0",
   "metadata": {},
   "outputs": [],
   "source": [
    "file_path='C:/pyy/market-price.csv'\n",
    "bitcoin_df=pd.read_csv(file_path,names=['ds','y'],header=0)\n",
    "bitcoin_df['cap']= 5000 # 상한가 설정\n",
    "bitcoin_df['floor']= 2000 # 하한가 설정\n",
    "#growth='logistic' : 상한 설정시 추가\n",
    "#비선형방식으로 분석\n",
    "prophet=Prophet(seasonality_mode='multiplicativa',\n",
    "               growth='logistic',\n",
    "               yearly_seasonality=True,\n",
    "               weekly_seasonality=True,\n",
    "               daily_seasonality=True,\n",
    "               changepoint_prior_scale=0.5)\n",
    "prophet.fit(bitcoin_df)"
   ]
  },
  {
   "cell_type": "code",
   "execution_count": null,
   "id": "e0d7206d",
   "metadata": {},
   "outputs": [],
   "source": [
    "#5일 이후 예측하기\n",
    "future_data=prophet.make_future_dataframe(period=5,freq='d')\n",
    "#상한가설정\n",
    "future_data['cap']=5000\n",
    "#하한가설정\n",
    "future_data['floor']=2000\n",
    "\n",
    "forecast_data=prophet.predict(future_data)\n",
    "\n",
    "#그래프작성\n",
    "fig=prophet.plot(forecast_data)"
   ]
  },
  {
   "cell_type": "code",
   "execution_count": null,
   "id": "41219f67",
   "metadata": {},
   "outputs": [],
   "source": [
    "#실제데이터와 비교\n",
    "#예측데이터\n",
    "pred_y=forecast_data,yhat,values[-5:]\n",
    "pred_y"
   ]
  },
  {
   "cell_type": "code",
   "execution_count": null,
   "id": "366bc46c",
   "metadata": {},
   "outputs": [],
   "source": [
    "#실제데이터\n",
    "test_file_path='C:/pyy/market-price-test.csv'\n",
    "bitcoin_test_df=pd.read_csv(test_file_path,names=['ds','y'],header=0)\n",
    "test_y=bitcoin_test_df.values\n",
    "#최소예측데이터\n",
    "pred_y_lower=forecast_data.yhat_lower.values[-5:]\n",
    "#최대예측데이터\n",
    "pred_y_upper=forecast_data.yhat_upper.values[-5:]"
   ]
  },
  {
   "cell_type": "code",
   "execution_count": null,
   "id": "1ed605b9",
   "metadata": {},
   "outputs": [],
   "source": [
    "#그래프작성하기\n",
    "plt.plot(pred_y,color='gold') #모델이 예상한 가격 그래프\n",
    "plt.plot(pred_y_lower,color='red') #모델이 예상한 최소가격 그래프\n",
    "plt.plot(pred_y_upper,color='blue') #모델이 예상한 최대가격 그래프\n",
    "plt.plot(test_y,color='green') #실제가격 그래프"
   ]
  },
  {
   "cell_type": "code",
   "execution_count": null,
   "id": "f083486b",
   "metadata": {},
   "outputs": [],
   "source": [
    "#이상치 제거\n",
    "bitcoin_df=pd.read_csv(file_path,names=['ds','y'],header=0)\n",
    "bitcoin_df.loc[bitcoin_df['y']>18000,'y'] =None #결측값처리\n",
    "prophet=Prophet(seasonality_mode='multiplicativa',\n",
    "               yearly_seasonality=True,\n",
    "               weekly_seasonality=True,\n",
    "               daily_seasonaliy=True,\n",
    "               changepoint_prior_scale=0.5)\n",
    "prophet.fit(bitcoin_df)\n",
    "\n",
    "future_data=prophet.make_futre_dataframe(periods=5,freq='d')\n",
    "forecast_data=prophet.predict(future_data)\n",
    "fig=prophet.plot(forecast_data)"
   ]
  },
  {
   "cell_type": "code",
   "execution_count": null,
   "id": "73062104",
   "metadata": {},
   "outputs": [],
   "source": [
    "#실제데이터\n",
    "test_file_path='C:/pyy/market-price-test.csv'\n",
    "bitcoin_test_df=pd.read_csv(test_file_path,names=['ds','y'],header=0)\n",
    "test_y=bitcoin_test_df.values\n",
    "#최소예측데이터\n",
    "pred_y_lower=forecast_data.yhat_lower.values[-5:]\n",
    "#최대예측데이터\n",
    "pred_y_upper=forecast_data.yhat_upper.values[-5:]"
   ]
  },
  {
   "cell_type": "code",
   "execution_count": null,
   "id": "19265d65",
   "metadata": {},
   "outputs": [],
   "source": [
    "#그래프작성하기\n",
    "plt.plot(pred_y,color='gold') #모델이 예상한 가격 그래프\n",
    "plt.plot(pred_y_lower,color='red') #모델이 예상한 최소가격 그래프\n",
    "plt.plot(pred_y_upper,color='blue') #모델이 예상한 최대가격 그래프\n",
    "plt.plot(test_y,color='green') #실제가격 그래프"
   ]
  }
 ],
 "metadata": {
  "kernelspec": {
   "display_name": "Python 3",
   "language": "python",
   "name": "python3"
  },
  "language_info": {
   "codemirror_mode": {
    "name": "ipython",
    "version": 3
   },
   "file_extension": ".py",
   "mimetype": "text/x-python",
   "name": "python",
   "nbconvert_exporter": "python",
   "pygments_lexer": "ipython3",
   "version": "3.8.8"
  }
 },
 "nbformat": 4,
 "nbformat_minor": 5
}
