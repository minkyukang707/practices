{
 "cells": [
  {
   "cell_type": "markdown",
   "id": "ae042bd6",
   "metadata": {},
   "source": [
    "# 라이브러리 및 데이터"
   ]
  },
  {
   "cell_type": "code",
   "execution_count": 11,
   "id": "f0b57271",
   "metadata": {},
   "outputs": [],
   "source": [
    "import pandas as pd \n",
    "import numpy as np\n",
    "file_path='C:/dacon/ddr/'"
   ]
  },
  {
   "cell_type": "code",
   "execution_count": 2,
   "id": "af297754",
   "metadata": {},
   "outputs": [],
   "source": [
    "train=pd.read_csv(file_path+'train.csv')\n",
    "test=pd.read_csv(file_path+'test.csv')\n",
    "submission=pd.read_csv(file_path+'sample_submission.csv')"
   ]
  },
  {
   "cell_type": "markdown",
   "id": "8e37e2bf",
   "metadata": {},
   "source": [
    " # 탐색적 자료분석(Exploratory Data Analysis (EDA))"
   ]
  },
  {
   "cell_type": "code",
   "execution_count": 3,
   "id": "86ec2964",
   "metadata": {},
   "outputs": [
    {
     "data": {
      "text/html": [
       "<div>\n",
       "<style scoped>\n",
       "    .dataframe tbody tr th:only-of-type {\n",
       "        vertical-align: middle;\n",
       "    }\n",
       "\n",
       "    .dataframe tbody tr th {\n",
       "        vertical-align: top;\n",
       "    }\n",
       "\n",
       "    .dataframe thead th {\n",
       "        text-align: right;\n",
       "    }\n",
       "</style>\n",
       "<table border=\"1\" class=\"dataframe\">\n",
       "  <thead>\n",
       "    <tr style=\"text-align: right;\">\n",
       "      <th></th>\n",
       "      <th>date_time</th>\n",
       "      <th>wind_direction</th>\n",
       "      <th>sky_condition</th>\n",
       "      <th>precipitation_form</th>\n",
       "      <th>wind_speed</th>\n",
       "      <th>humidity</th>\n",
       "      <th>low_temp</th>\n",
       "      <th>high_temp</th>\n",
       "      <th>Precipitation_Probability</th>\n",
       "      <th>number_of_rentals</th>\n",
       "    </tr>\n",
       "  </thead>\n",
       "  <tbody>\n",
       "    <tr>\n",
       "      <th>0</th>\n",
       "      <td>2018-04-01</td>\n",
       "      <td>207.500</td>\n",
       "      <td>4.000</td>\n",
       "      <td>0.000</td>\n",
       "      <td>3.050</td>\n",
       "      <td>75.000</td>\n",
       "      <td>12.600</td>\n",
       "      <td>21.000</td>\n",
       "      <td>30.000</td>\n",
       "      <td>22994</td>\n",
       "    </tr>\n",
       "    <tr>\n",
       "      <th>1</th>\n",
       "      <td>2018-04-02</td>\n",
       "      <td>208.317</td>\n",
       "      <td>2.950</td>\n",
       "      <td>0.000</td>\n",
       "      <td>3.278</td>\n",
       "      <td>69.833</td>\n",
       "      <td>12.812</td>\n",
       "      <td>19.000</td>\n",
       "      <td>19.500</td>\n",
       "      <td>28139</td>\n",
       "    </tr>\n",
       "    <tr>\n",
       "      <th>2</th>\n",
       "      <td>2018-04-03</td>\n",
       "      <td>213.516</td>\n",
       "      <td>2.911</td>\n",
       "      <td>0.000</td>\n",
       "      <td>2.690</td>\n",
       "      <td>74.879</td>\n",
       "      <td>10.312</td>\n",
       "      <td>15.316</td>\n",
       "      <td>19.113</td>\n",
       "      <td>26817</td>\n",
       "    </tr>\n",
       "    <tr>\n",
       "      <th>3</th>\n",
       "      <td>2018-04-04</td>\n",
       "      <td>143.836</td>\n",
       "      <td>3.692</td>\n",
       "      <td>0.425</td>\n",
       "      <td>3.138</td>\n",
       "      <td>71.849</td>\n",
       "      <td>8.312</td>\n",
       "      <td>12.368</td>\n",
       "      <td>43.493</td>\n",
       "      <td>26034</td>\n",
       "    </tr>\n",
       "    <tr>\n",
       "      <th>4</th>\n",
       "      <td>2018-04-05</td>\n",
       "      <td>95.905</td>\n",
       "      <td>4.000</td>\n",
       "      <td>0.723</td>\n",
       "      <td>3.186</td>\n",
       "      <td>73.784</td>\n",
       "      <td>5.875</td>\n",
       "      <td>10.421</td>\n",
       "      <td>63.378</td>\n",
       "      <td>2833</td>\n",
       "    </tr>\n",
       "  </tbody>\n",
       "</table>\n",
       "</div>"
      ],
      "text/plain": [
       "    date_time  wind_direction  sky_condition  precipitation_form  wind_speed  \\\n",
       "0  2018-04-01         207.500          4.000               0.000       3.050   \n",
       "1  2018-04-02         208.317          2.950               0.000       3.278   \n",
       "2  2018-04-03         213.516          2.911               0.000       2.690   \n",
       "3  2018-04-04         143.836          3.692               0.425       3.138   \n",
       "4  2018-04-05          95.905          4.000               0.723       3.186   \n",
       "\n",
       "   humidity  low_temp  high_temp  Precipitation_Probability  number_of_rentals  \n",
       "0    75.000    12.600     21.000                     30.000              22994  \n",
       "1    69.833    12.812     19.000                     19.500              28139  \n",
       "2    74.879    10.312     15.316                     19.113              26817  \n",
       "3    71.849     8.312     12.368                     43.493              26034  \n",
       "4    73.784     5.875     10.421                     63.378               2833  "
      ]
     },
     "execution_count": 3,
     "metadata": {},
     "output_type": "execute_result"
    }
   ],
   "source": [
    "train.head()"
   ]
  },
  {
   "cell_type": "code",
   "execution_count": 4,
   "id": "24f8983d",
   "metadata": {},
   "outputs": [
    {
     "data": {
      "text/html": [
       "<div>\n",
       "<style scoped>\n",
       "    .dataframe tbody tr th:only-of-type {\n",
       "        vertical-align: middle;\n",
       "    }\n",
       "\n",
       "    .dataframe tbody tr th {\n",
       "        vertical-align: top;\n",
       "    }\n",
       "\n",
       "    .dataframe thead th {\n",
       "        text-align: right;\n",
       "    }\n",
       "</style>\n",
       "<table border=\"1\" class=\"dataframe\">\n",
       "  <thead>\n",
       "    <tr style=\"text-align: right;\">\n",
       "      <th></th>\n",
       "      <th>date_time</th>\n",
       "      <th>wind_direction</th>\n",
       "      <th>sky_condition</th>\n",
       "      <th>precipitation_form</th>\n",
       "      <th>wind_speed</th>\n",
       "      <th>humidity</th>\n",
       "      <th>low_temp</th>\n",
       "      <th>high_temp</th>\n",
       "      <th>Precipitation_Probability</th>\n",
       "    </tr>\n",
       "  </thead>\n",
       "  <tbody>\n",
       "    <tr>\n",
       "      <th>0</th>\n",
       "      <td>2021-04-01</td>\n",
       "      <td>108.833</td>\n",
       "      <td>3.000</td>\n",
       "      <td>0.000</td>\n",
       "      <td>2.900</td>\n",
       "      <td>28.333</td>\n",
       "      <td>11.800</td>\n",
       "      <td>20.667</td>\n",
       "      <td>18.333</td>\n",
       "    </tr>\n",
       "    <tr>\n",
       "      <th>1</th>\n",
       "      <td>2021-04-02</td>\n",
       "      <td>116.717</td>\n",
       "      <td>3.850</td>\n",
       "      <td>0.000</td>\n",
       "      <td>2.662</td>\n",
       "      <td>46.417</td>\n",
       "      <td>12.000</td>\n",
       "      <td>19.000</td>\n",
       "      <td>28.500</td>\n",
       "    </tr>\n",
       "    <tr>\n",
       "      <th>2</th>\n",
       "      <td>2021-04-03</td>\n",
       "      <td>82.669</td>\n",
       "      <td>4.000</td>\n",
       "      <td>0.565</td>\n",
       "      <td>2.165</td>\n",
       "      <td>77.258</td>\n",
       "      <td>8.875</td>\n",
       "      <td>16.368</td>\n",
       "      <td>52.847</td>\n",
       "    </tr>\n",
       "    <tr>\n",
       "      <th>3</th>\n",
       "      <td>2021-04-04</td>\n",
       "      <td>44.123</td>\n",
       "      <td>3.466</td>\n",
       "      <td>0.466</td>\n",
       "      <td>3.747</td>\n",
       "      <td>63.288</td>\n",
       "      <td>6.250</td>\n",
       "      <td>17.368</td>\n",
       "      <td>37.671</td>\n",
       "    </tr>\n",
       "    <tr>\n",
       "      <th>4</th>\n",
       "      <td>2021-04-05</td>\n",
       "      <td>147.791</td>\n",
       "      <td>1.500</td>\n",
       "      <td>0.000</td>\n",
       "      <td>1.560</td>\n",
       "      <td>48.176</td>\n",
       "      <td>7.188</td>\n",
       "      <td>18.684</td>\n",
       "      <td>4.459</td>\n",
       "    </tr>\n",
       "  </tbody>\n",
       "</table>\n",
       "</div>"
      ],
      "text/plain": [
       "    date_time  wind_direction  sky_condition  precipitation_form  wind_speed  \\\n",
       "0  2021-04-01         108.833          3.000               0.000       2.900   \n",
       "1  2021-04-02         116.717          3.850               0.000       2.662   \n",
       "2  2021-04-03          82.669          4.000               0.565       2.165   \n",
       "3  2021-04-04          44.123          3.466               0.466       3.747   \n",
       "4  2021-04-05         147.791          1.500               0.000       1.560   \n",
       "\n",
       "   humidity  low_temp  high_temp  Precipitation_Probability  \n",
       "0    28.333    11.800     20.667                     18.333  \n",
       "1    46.417    12.000     19.000                     28.500  \n",
       "2    77.258     8.875     16.368                     52.847  \n",
       "3    63.288     6.250     17.368                     37.671  \n",
       "4    48.176     7.188     18.684                      4.459  "
      ]
     },
     "execution_count": 4,
     "metadata": {},
     "output_type": "execute_result"
    }
   ],
   "source": [
    "test.head()"
   ]
  },
  {
   "cell_type": "code",
   "execution_count": 5,
   "id": "26043bbd",
   "metadata": {},
   "outputs": [
    {
     "data": {
      "text/html": [
       "<div>\n",
       "<style scoped>\n",
       "    .dataframe tbody tr th:only-of-type {\n",
       "        vertical-align: middle;\n",
       "    }\n",
       "\n",
       "    .dataframe tbody tr th {\n",
       "        vertical-align: top;\n",
       "    }\n",
       "\n",
       "    .dataframe thead th {\n",
       "        text-align: right;\n",
       "    }\n",
       "</style>\n",
       "<table border=\"1\" class=\"dataframe\">\n",
       "  <thead>\n",
       "    <tr style=\"text-align: right;\">\n",
       "      <th></th>\n",
       "      <th>date_time</th>\n",
       "      <th>number_of_rentals</th>\n",
       "    </tr>\n",
       "  </thead>\n",
       "  <tbody>\n",
       "    <tr>\n",
       "      <th>0</th>\n",
       "      <td>2021-04-01</td>\n",
       "      <td>0</td>\n",
       "    </tr>\n",
       "    <tr>\n",
       "      <th>1</th>\n",
       "      <td>2021-04-02</td>\n",
       "      <td>0</td>\n",
       "    </tr>\n",
       "    <tr>\n",
       "      <th>2</th>\n",
       "      <td>2021-04-03</td>\n",
       "      <td>0</td>\n",
       "    </tr>\n",
       "    <tr>\n",
       "      <th>3</th>\n",
       "      <td>2021-04-04</td>\n",
       "      <td>0</td>\n",
       "    </tr>\n",
       "    <tr>\n",
       "      <th>4</th>\n",
       "      <td>2021-04-05</td>\n",
       "      <td>0</td>\n",
       "    </tr>\n",
       "  </tbody>\n",
       "</table>\n",
       "</div>"
      ],
      "text/plain": [
       "    date_time  number_of_rentals\n",
       "0  2021-04-01                  0\n",
       "1  2021-04-02                  0\n",
       "2  2021-04-03                  0\n",
       "3  2021-04-04                  0\n",
       "4  2021-04-05                  0"
      ]
     },
     "execution_count": 5,
     "metadata": {},
     "output_type": "execute_result"
    }
   ],
   "source": [
    "submission.head()"
   ]
  },
  {
   "cell_type": "code",
   "execution_count": 8,
   "id": "e019a155",
   "metadata": {},
   "outputs": [
    {
     "name": "stdout",
     "output_type": "stream",
     "text": [
      "<class 'pandas.core.frame.DataFrame'>\n",
      "RangeIndex: 273 entries, 0 to 272\n",
      "Data columns (total 10 columns):\n",
      " #   Column                     Non-Null Count  Dtype  \n",
      "---  ------                     --------------  -----  \n",
      " 0   date_time                  273 non-null    object \n",
      " 1   wind_direction             273 non-null    float64\n",
      " 2   sky_condition              273 non-null    float64\n",
      " 3   precipitation_form         273 non-null    float64\n",
      " 4   wind_speed                 273 non-null    float64\n",
      " 5   humidity                   273 non-null    float64\n",
      " 6   low_temp                   273 non-null    float64\n",
      " 7   high_temp                  273 non-null    float64\n",
      " 8   Precipitation_Probability  273 non-null    float64\n",
      " 9   number_of_rentals          273 non-null    int64  \n",
      "dtypes: float64(8), int64(1), object(1)\n",
      "memory usage: 21.5+ KB\n"
     ]
    }
   ],
   "source": [
    "train.info() #결측값 없음"
   ]
  },
  {
   "cell_type": "code",
   "execution_count": 12,
   "id": "24f4295c",
   "metadata": {},
   "outputs": [],
   "source": [
    "#히트맵으로 상관성확인\n",
    "import seaborn as sns\n",
    "import matplotlib.pyplot as plt"
   ]
  },
  {
   "cell_type": "code",
   "execution_count": 13,
   "id": "80c27632",
   "metadata": {},
   "outputs": [
    {
     "data": {
      "text/plain": [
       "<AxesSubplot:>"
      ]
     },
     "execution_count": 13,
     "metadata": {},
     "output_type": "execute_result"
    },
    {
     "data": {
      "image/png": "[encoded data removed]",
      "text/plain": [
       "<Figure size 720x720 with 2 Axes>"
      ]
     },
     "metadata": {
      "needs_background": "light"
     },
     "output_type": "display_data"
    }
   ],
   "source": [
    "plt.figure(figsize=(10,10))\n",
    "sns.heatmap(train.corr(),annot=True)"
   ]
  },
  {
   "cell_type": "markdown",
   "id": "54f7deef",
   "metadata": {},
   "source": [
    "위에 히트맵에 의하면 대여량과 높은 상관계수를 보이는 컬럼들을 알 수 있다. \n",
    "Precipitation_Probability , Precipitation_form, wind_speed,high_temp, sky_condition 등이 대여량과 유의미한 상관을 보인다"
   ]
  },
  {
   "cell_type": "markdown",
   "id": "b6720e52",
   "metadata": {},
   "source": [
    "# 데이터 전처리\n",
    "# Data Cleaning & Pre_Processing"
   ]
  },
  {
   "cell_type": "code",
   "execution_count": 14,
   "id": "821ecf05",
   "metadata": {},
   "outputs": [
    {
     "data": {
      "text/plain": [
       "date_time                    0\n",
       "wind_direction               0\n",
       "sky_condition                0\n",
       "precipitation_form           0\n",
       "wind_speed                   0\n",
       "humidity                     0\n",
       "low_temp                     0\n",
       "high_temp                    0\n",
       "Precipitation_Probability    0\n",
       "number_of_rentals            0\n",
       "dtype: int64"
      ]
     },
     "execution_count": 14,
     "metadata": {},
     "output_type": "execute_result"
    }
   ],
   "source": [
    "train.isna().sum() #결측값 없음을 확인 "
   ]
  },
  {
   "cell_type": "code",
   "execution_count": 44,
   "id": "3558df2c",
   "metadata": {},
   "outputs": [],
   "source": [
    "#features를 제외한 컬럼들을 활용 # 모델링 \n",
    "#문자열을 숫자로 변경, 인코더사용\n",
    "from sklearn import preprocessing \n",
    "le=preprocessing.LabelEncoder()\n",
    "train['date_time'] = le.fit_transform(train['date_time']) #날짜를 변경"
   ]
  },
  {
   "cell_type": "code",
   "execution_count": 60,
   "id": "9e7d3a33",
   "metadata": {},
   "outputs": [
    {
     "name": "stdout",
     "output_type": "stream",
     "text": [
      "<class 'pandas.core.frame.DataFrame'>\n",
      "RangeIndex: 273 entries, 0 to 272\n",
      "Data columns (total 10 columns):\n",
      " #   Column                     Non-Null Count  Dtype  \n",
      "---  ------                     --------------  -----  \n",
      " 0   date_time                  273 non-null    int32  \n",
      " 1   wind_direction             273 non-null    float64\n",
      " 2   sky_condition              273 non-null    float64\n",
      " 3   precipitation_form         273 non-null    float64\n",
      " 4   wind_speed                 273 non-null    float64\n",
      " 5   humidity                   273 non-null    float64\n",
      " 6   low_temp                   273 non-null    float64\n",
      " 7   high_temp                  273 non-null    float64\n",
      " 8   Precipitation_Probability  273 non-null    float64\n",
      " 9   number_of_rentals          273 non-null    int64  \n",
      "dtypes: float64(8), int32(1), int64(1)\n",
      "memory usage: 20.4 KB\n"
     ]
    }
   ],
   "source": [
    "train.info()"
   ]
  },
  {
   "cell_type": "markdown",
   "id": "7772da58",
   "metadata": {},
   "source": [
    "# 변수선택 및 모델구축\n",
    "# Feature Engineering & Inital Modeling"
   ]
  },
  {
   "cell_type": "code",
   "execution_count": 45,
   "id": "f261706f",
   "metadata": {},
   "outputs": [],
   "source": [
    "#회귀분석\n",
    "from sklearn import preprocessing\n",
    "from sklearn import linear_model"
   ]
  },
  {
   "cell_type": "code",
   "execution_count": 46,
   "id": "df92bcbb",
   "metadata": {},
   "outputs": [
    {
     "data": {
      "text/plain": [
       "Index(['date_time', 'wind_direction', 'sky_condition', 'precipitation_form',\n",
       "       'wind_speed', 'humidity', 'low_temp', 'high_temp',\n",
       "       'Precipitation_Probability', 'number_of_rentals'],\n",
       "      dtype='object')"
      ]
     },
     "execution_count": 46,
     "metadata": {},
     "output_type": "execute_result"
    }
   ],
   "source": [
    "train.columns"
   ]
  },
  {
   "cell_type": "code",
   "execution_count": 47,
   "id": "0054e77c",
   "metadata": {},
   "outputs": [
    {
     "name": "stdout",
     "output_type": "stream",
     "text": [
      "(273, 9)\n",
      "(273,)\n",
      "(91, 9)\n"
     ]
    }
   ],
   "source": [
    "features=['date_time','wind_direction', 'sky_condition', 'precipitation_form',\n",
    "       'wind_speed', 'humidity', 'low_temp', 'high_temp',\n",
    "       'Precipitation_Probability']\n",
    "X_train=train[features]\n",
    "y_train=train['number_of_rentals']\n",
    "X_test=test[features]\n",
    "print(X_train.shape)\n",
    "print(y_train.shape)\n",
    "print(X_test.shape)"
   ]
  },
  {
   "cell_type": "code",
   "execution_count": 48,
   "id": "1e2159c0",
   "metadata": {},
   "outputs": [
    {
     "name": "stdout",
     "output_type": "stream",
     "text": [
      "[ 2.54104300e+02  2.34867225e+01  2.56770264e+02 -2.86975464e+04\n",
      " -4.50971298e+03  1.41934412e+01 -9.07994248e+02  1.39928522e+03\n",
      " -1.87939707e+02]\n"
     ]
    }
   ],
   "source": [
    "# 회귀분석 계수를 학습합니다 (회귀 모델학습)\n",
    "lr=linear_model.LinearRegression() #회귀분석을 위한 모델\n",
    "model=lr.fit(X_train,y_train) #학습하기\n",
    "print(lr.coef_)"
   ]
  },
  {
   "cell_type": "code",
   "execution_count": 49,
   "id": "bb828636",
   "metadata": {},
   "outputs": [
    {
     "name": "stdout",
     "output_type": "stream",
     "text": [
      "0.8526458892258102\n"
     ]
    }
   ],
   "source": [
    "print(model.score(X_train, y_train)) # train R2 Score"
   ]
  },
  {
   "cell_type": "code",
   "execution_count": 50,
   "id": "76f04d7e",
   "metadata": {},
   "outputs": [],
   "source": [
    "#statsmodels 라이브러리의 OLS클래스로도 회귀분석 실행 가능\n",
    "import statsmodels.api as sm"
   ]
  },
  {
   "cell_type": "code",
   "execution_count": 51,
   "id": "40ad2744",
   "metadata": {},
   "outputs": [
    {
     "data": {
      "text/html": [
       "<table class=\"simpletable\">\n",
       "<caption>OLS Regression Results</caption>\n",
       "<tr>\n",
       "  <th>Dep. Variable:</th>    <td>number_of_rentals</td> <th>  R-squared:         </th> <td>   0.853</td> \n",
       "</tr>\n",
       "<tr>\n",
       "  <th>Model:</th>                   <td>OLS</td>        <th>  Adj. R-squared:    </th> <td>   0.848</td> \n",
       "</tr>\n",
       "<tr>\n",
       "  <th>Method:</th>             <td>Least Squares</td>   <th>  F-statistic:       </th> <td>   169.1</td> \n",
       "</tr>\n",
       "<tr>\n",
       "  <th>Date:</th>             <td>Tue, 02 Nov 2021</td>  <th>  Prob (F-statistic):</th> <td>5.97e-104</td>\n",
       "</tr>\n",
       "<tr>\n",
       "  <th>Time:</th>                 <td>16:26:39</td>      <th>  Log-Likelihood:    </th> <td> -2917.7</td> \n",
       "</tr>\n",
       "<tr>\n",
       "  <th>No. Observations:</th>      <td>   273</td>       <th>  AIC:               </th> <td>   5855.</td> \n",
       "</tr>\n",
       "<tr>\n",
       "  <th>Df Residuals:</th>          <td>   263</td>       <th>  BIC:               </th> <td>   5891.</td> \n",
       "</tr>\n",
       "<tr>\n",
       "  <th>Df Model:</th>              <td>     9</td>       <th>                     </th>     <td> </td>    \n",
       "</tr>\n",
       "<tr>\n",
       "  <th>Covariance Type:</th>      <td>nonrobust</td>     <th>                     </th>     <td> </td>    \n",
       "</tr>\n",
       "</table>\n",
       "<table class=\"simpletable\">\n",
       "<tr>\n",
       "              <td></td>                 <th>coef</th>     <th>std err</th>      <th>t</th>      <th>P>|t|</th>  <th>[0.025</th>    <th>0.975]</th>  \n",
       "</tr>\n",
       "<tr>\n",
       "  <th>const</th>                     <td> 1.592e+04</td> <td> 9011.491</td> <td>    1.767</td> <td> 0.078</td> <td>-1819.987</td> <td> 3.37e+04</td>\n",
       "</tr>\n",
       "<tr>\n",
       "  <th>date_time</th>                 <td>  254.1043</td> <td>    9.014</td> <td>   28.189</td> <td> 0.000</td> <td>  236.355</td> <td>  271.853</td>\n",
       "</tr>\n",
       "<tr>\n",
       "  <th>wind_direction</th>            <td>   23.4867</td> <td>   13.190</td> <td>    1.781</td> <td> 0.076</td> <td>   -2.484</td> <td>   49.458</td>\n",
       "</tr>\n",
       "<tr>\n",
       "  <th>sky_condition</th>             <td>  256.7703</td> <td> 4672.398</td> <td>    0.055</td> <td> 0.956</td> <td>-8943.298</td> <td> 9456.839</td>\n",
       "</tr>\n",
       "<tr>\n",
       "  <th>precipitation_form</th>        <td> -2.87e+04</td> <td> 2.19e+04</td> <td>   -1.312</td> <td> 0.191</td> <td>-7.18e+04</td> <td> 1.44e+04</td>\n",
       "</tr>\n",
       "<tr>\n",
       "  <th>wind_speed</th>                <td>-4509.7130</td> <td>  890.526</td> <td>   -5.064</td> <td> 0.000</td> <td>-6263.181</td> <td>-2756.245</td>\n",
       "</tr>\n",
       "<tr>\n",
       "  <th>humidity</th>                  <td>   14.1934</td> <td>   88.196</td> <td>    0.161</td> <td> 0.872</td> <td> -159.468</td> <td>  187.854</td>\n",
       "</tr>\n",
       "<tr>\n",
       "  <th>low_temp</th>                  <td> -907.9942</td> <td>  443.477</td> <td>   -2.047</td> <td> 0.042</td> <td>-1781.212</td> <td>  -34.776</td>\n",
       "</tr>\n",
       "<tr>\n",
       "  <th>high_temp</th>                 <td> 1399.2852</td> <td>  416.406</td> <td>    3.360</td> <td> 0.001</td> <td>  579.372</td> <td> 2219.198</td>\n",
       "</tr>\n",
       "<tr>\n",
       "  <th>Precipitation_Probability</th> <td> -187.9397</td> <td>  479.690</td> <td>   -0.392</td> <td> 0.696</td> <td>-1132.461</td> <td>  756.581</td>\n",
       "</tr>\n",
       "</table>\n",
       "<table class=\"simpletable\">\n",
       "<tr>\n",
       "  <th>Omnibus:</th>       <td>34.709</td> <th>  Durbin-Watson:     </th> <td>   1.580</td>\n",
       "</tr>\n",
       "<tr>\n",
       "  <th>Prob(Omnibus):</th> <td> 0.000</td> <th>  Jarque-Bera (JB):  </th> <td>  69.133</td>\n",
       "</tr>\n",
       "<tr>\n",
       "  <th>Skew:</th>          <td>-0.667</td> <th>  Prob(JB):          </th> <td>9.73e-16</td>\n",
       "</tr>\n",
       "<tr>\n",
       "  <th>Kurtosis:</th>      <td> 5.074</td> <th>  Cond. No.          </th> <td>9.04e+03</td>\n",
       "</tr>\n",
       "</table><br/><br/>Notes:<br/>[1] Standard Errors assume that the covariance matrix of the errors is correctly specified.<br/>[2] The condition number is large, 9.04e+03. This might indicate that there are<br/>strong multicollinearity or other numerical problems."
      ],
      "text/plain": [
       "<class 'statsmodels.iolib.summary.Summary'>\n",
       "\"\"\"\n",
       "                            OLS Regression Results                            \n",
       "==============================================================================\n",
       "Dep. Variable:      number_of_rentals   R-squared:                       0.853\n",
       "Model:                            OLS   Adj. R-squared:                  0.848\n",
       "Method:                 Least Squares   F-statistic:                     169.1\n",
       "Date:                Tue, 02 Nov 2021   Prob (F-statistic):          5.97e-104\n",
       "Time:                        16:26:39   Log-Likelihood:                -2917.7\n",
       "No. Observations:                 273   AIC:                             5855.\n",
       "Df Residuals:                     263   BIC:                             5891.\n",
       "Df Model:                           9                                         \n",
       "Covariance Type:            nonrobust                                         \n",
       "=============================================================================================\n",
       "                                coef    std err          t      P>|t|      [0.025      0.975]\n",
       "---------------------------------------------------------------------------------------------\n",
       "const                      1.592e+04   9011.491      1.767      0.078   -1819.987    3.37e+04\n",
       "date_time                   254.1043      9.014     28.189      0.000     236.355     271.853\n",
       "wind_direction               23.4867     13.190      1.781      0.076      -2.484      49.458\n",
       "sky_condition               256.7703   4672.398      0.055      0.956   -8943.298    9456.839\n",
       "precipitation_form         -2.87e+04   2.19e+04     -1.312      0.191   -7.18e+04    1.44e+04\n",
       "wind_speed                -4509.7130    890.526     -5.064      0.000   -6263.181   -2756.245\n",
       "humidity                     14.1934     88.196      0.161      0.872    -159.468     187.854\n",
       "low_temp                   -907.9942    443.477     -2.047      0.042   -1781.212     -34.776\n",
       "high_temp                  1399.2852    416.406      3.360      0.001     579.372    2219.198\n",
       "Precipitation_Probability  -187.9397    479.690     -0.392      0.696   -1132.461     756.581\n",
       "==============================================================================\n",
       "Omnibus:                       34.709   Durbin-Watson:                   1.580\n",
       "Prob(Omnibus):                  0.000   Jarque-Bera (JB):               69.133\n",
       "Skew:                          -0.667   Prob(JB):                     9.73e-16\n",
       "Kurtosis:                       5.074   Cond. No.                     9.04e+03\n",
       "==============================================================================\n",
       "\n",
       "Notes:\n",
       "[1] Standard Errors assume that the covariance matrix of the errors is correctly specified.\n",
       "[2] The condition number is large, 9.04e+03. This might indicate that there are\n",
       "strong multicollinearity or other numerical problems.\n",
       "\"\"\""
      ]
     },
     "execution_count": 51,
     "metadata": {},
     "output_type": "execute_result"
    }
   ],
   "source": [
    "#statsmodel 라이브러리로 회귀분석을 수행합니다\n",
    "X_train=sm.add_constant(X_train)\n",
    "model=sm.OLS(y_train, X_train).fit() # 회귀분석\n",
    "model.summary()"
   ]
  },
  {
   "cell_type": "code",
   "execution_count": 52,
   "id": "9b143793",
   "metadata": {},
   "outputs": [],
   "source": [
    "from statsmodels.stats.outliers_influence import variance_inflation_factor"
   ]
  },
  {
   "cell_type": "code",
   "execution_count": 53,
   "id": "00aea25f",
   "metadata": {},
   "outputs": [
    {
     "data": {
      "text/html": [
       "<div>\n",
       "<style scoped>\n",
       "    .dataframe tbody tr th:only-of-type {\n",
       "        vertical-align: middle;\n",
       "    }\n",
       "\n",
       "    .dataframe tbody tr th {\n",
       "        vertical-align: top;\n",
       "    }\n",
       "\n",
       "    .dataframe thead th {\n",
       "        text-align: right;\n",
       "    }\n",
       "</style>\n",
       "<table border=\"1\" class=\"dataframe\">\n",
       "  <thead>\n",
       "    <tr style=\"text-align: right;\">\n",
       "      <th></th>\n",
       "      <th>VIF Factor</th>\n",
       "      <th>features</th>\n",
       "    </tr>\n",
       "  </thead>\n",
       "  <tbody>\n",
       "    <tr>\n",
       "      <th>0</th>\n",
       "      <td>190.1</td>\n",
       "      <td>const</td>\n",
       "    </tr>\n",
       "    <tr>\n",
       "      <th>1</th>\n",
       "      <td>1.2</td>\n",
       "      <td>date_time</td>\n",
       "    </tr>\n",
       "    <tr>\n",
       "      <th>2</th>\n",
       "      <td>1.3</td>\n",
       "      <td>wind_direction</td>\n",
       "    </tr>\n",
       "    <tr>\n",
       "      <th>3</th>\n",
       "      <td>47.1</td>\n",
       "      <td>sky_condition</td>\n",
       "    </tr>\n",
       "    <tr>\n",
       "      <th>4</th>\n",
       "      <td>46.1</td>\n",
       "      <td>precipitation_form</td>\n",
       "    </tr>\n",
       "    <tr>\n",
       "      <th>5</th>\n",
       "      <td>1.4</td>\n",
       "      <td>wind_speed</td>\n",
       "    </tr>\n",
       "    <tr>\n",
       "      <th>6</th>\n",
       "      <td>2.8</td>\n",
       "      <td>humidity</td>\n",
       "    </tr>\n",
       "    <tr>\n",
       "      <th>7</th>\n",
       "      <td>12.0</td>\n",
       "      <td>low_temp</td>\n",
       "    </tr>\n",
       "    <tr>\n",
       "      <th>8</th>\n",
       "      <td>11.0</td>\n",
       "      <td>high_temp</td>\n",
       "    </tr>\n",
       "    <tr>\n",
       "      <th>9</th>\n",
       "      <td>148.7</td>\n",
       "      <td>Precipitation_Probability</td>\n",
       "    </tr>\n",
       "  </tbody>\n",
       "</table>\n",
       "</div>"
      ],
      "text/plain": [
       "   VIF Factor                   features\n",
       "0       190.1                      const\n",
       "1         1.2                  date_time\n",
       "2         1.3             wind_direction\n",
       "3        47.1              sky_condition\n",
       "4        46.1         precipitation_form\n",
       "5         1.4                 wind_speed\n",
       "6         2.8                   humidity\n",
       "7        12.0                   low_temp\n",
       "8        11.0                  high_temp\n",
       "9       148.7  Precipitation_Probability"
      ]
     },
     "execution_count": 53,
     "metadata": {},
     "output_type": "execute_result"
    }
   ],
   "source": [
    "vif = pd.DataFrame()\n",
    "vif['VIF Factor']=[variance_inflation_factor(X_train.values,i) for i in range(X_train.shape[1])]\n",
    "vif['features']=X_train.columns\n",
    "vif.round(1)"
   ]
  },
  {
   "cell_type": "markdown",
   "id": "05b46756",
   "metadata": {},
   "source": [
    "VIF값에 따라 피쳐들을 재조정하여 했지만 R-square값이 더 나빠졌음 "
   ]
  },
  {
   "cell_type": "code",
   "execution_count": null,
   "id": "72c712e0",
   "metadata": {},
   "outputs": [],
   "source": []
  }
 ],
 "metadata": {
  "kernelspec": {
   "display_name": "Python 3",
   "language": "python",
   "name": "python3"
  },
  "language_info": {
   "codemirror_mode": {
    "name": "ipython",
    "version": 3
   },
   "file_extension": ".py",
   "mimetype": "text/x-python",
   "name": "python",
   "nbconvert_exporter": "python",
   "pygments_lexer": "ipython3",
   "version": "3.8.8"
  }
 },
 "nbformat": 4,
 "nbformat_minor": 5
}
