{
 "cells": [
  {
   "cell_type": "code",
   "execution_count": null,
   "id": "74d7a1cd",
   "metadata": {},
   "outputs": [],
   "source": [
    "###groupby: 컬럼을 기준으로 그룹화"
   ]
  },
  {
   "cell_type": "code",
   "execution_count": 1,
   "id": "f01b82e0",
   "metadata": {},
   "outputs": [],
   "source": [
    "import seaborn as sns "
   ]
  },
  {
   "cell_type": "code",
   "execution_count": 2,
   "id": "ecda1503",
   "metadata": {},
   "outputs": [
    {
     "name": "stdout",
     "output_type": "stream",
     "text": [
      "    age     sex  class     fare  survived\n",
      "0  22.0    male  Third   7.2500         0\n",
      "1  38.0  female  First  71.2833         1\n",
      "2  26.0  female  Third   7.9250         1\n",
      "3  35.0  female  First  53.1000         1\n",
      "4  35.0    male  Third   8.0500         0\n",
      "승객의 인원수: 891\n"
     ]
    }
   ],
   "source": [
    "titanic = sns.load_dataset('titanic')\n",
    "df=titanic.loc[:,['age','sex','class','fare','survived']]\n",
    "print(df.head())\n",
    "\n",
    "#승객의 인원수 출력하기\n",
    "print('승객의 인원수:', len(df))"
   ]
  },
  {
   "cell_type": "code",
   "execution_count": 3,
   "id": "61e62722",
   "metadata": {},
   "outputs": [
    {
     "name": "stdout",
     "output_type": "stream",
     "text": [
      "<pandas.core.groupby.generic.DataFrameGroupBy object at 0x0000021A20284820>\n"
     ]
    }
   ],
   "source": [
    "#class 컬럼으로 분할, class컬럼의 값을 기준으로 분할되어 저장\n",
    "grouped = df.groupby(['class'])\n",
    "print(grouped)"
   ]
  },
  {
   "cell_type": "code",
   "execution_count": 4,
   "id": "fd1d31f1",
   "metadata": {},
   "outputs": [
    {
     "name": "stdout",
     "output_type": "stream",
     "text": [
      "*key: First\n",
      "*number: 216\n",
      "*key: Second\n",
      "*number: 184\n",
      "*key: Third\n",
      "*number: 491\n",
      "    age     sex  class     fare  survived\n",
      "0  22.0    male  Third   7.2500         0\n",
      "2  26.0  female  Third   7.9250         1\n",
      "4  35.0    male  Third   8.0500         0\n",
      "5   NaN    male  Third   8.4583         0\n",
      "7   2.0    male  Third  21.0750         0\n"
     ]
    }
   ],
   "source": [
    "#key:class의 정보\n",
    "#group:df의 데이터중 key에 해당하는 레코드 저장\n",
    "for key, group in grouped:\n",
    "    print('*key:',key)\n",
    "    print('*number:',len(group))\n",
    "print(group.head())"
   ]
  },
  {
   "cell_type": "code",
   "execution_count": 5,
   "id": "5ee89741",
   "metadata": {},
   "outputs": [
    {
     "name": "stdout",
     "output_type": "stream",
     "text": [
      "              age       fare  survived\n",
      "class                                 \n",
      "First   38.233441  84.154687  0.629630\n",
      "Second  29.877630  20.662183  0.472826\n",
      "Third   25.140620  13.675550  0.242363\n"
     ]
    }
   ],
   "source": [
    "#그룹별 평균 출력 \n",
    "average = grouped.mean()\n",
    "print(average)"
   ]
  },
  {
   "cell_type": "code",
   "execution_count": 6,
   "id": "911681d3",
   "metadata": {},
   "outputs": [
    {
     "name": "stdout",
     "output_type": "stream",
     "text": [
      "    age     sex  class     fare  survived\n",
      "0  22.0    male  Third   7.2500         0\n",
      "2  26.0  female  Third   7.9250         1\n",
      "4  35.0    male  Third   8.0500         0\n",
      "5   NaN    male  Third   8.4583         0\n",
      "7   2.0    male  Third  21.0750         0\n"
     ]
    }
   ],
   "source": [
    "#3등석의 정보만 조회하기\n",
    "#get_group(key) : key해당하는 레코드를 리턴\n",
    "group3=grouped.get_group('Third')\n",
    "print(group3.head())"
   ]
  },
  {
   "cell_type": "code",
   "execution_count": 9,
   "id": "8e4b6514",
   "metadata": {},
   "outputs": [
    {
     "name": "stdout",
     "output_type": "stream",
     "text": [
      "<pandas.core.groupby.generic.DataFrameGroupBy object at 0x0000021A55013340>\n",
      "*key: ('First', 'female')\n",
      "*number: 94\n",
      "*key: ('First', 'male')\n",
      "*number: 122\n",
      "*key: ('Second', 'female')\n",
      "*number: 76\n",
      "*key: ('Second', 'male')\n",
      "*number: 108\n",
      "*key: ('Third', 'female')\n",
      "*number: 144\n",
      "*key: ('Third', 'male')\n",
      "*number: 347\n",
      "     age   sex  class     fare  survived\n",
      "0   22.0  male  Third   7.2500         0\n",
      "4   35.0  male  Third   8.0500         0\n",
      "5    NaN  male  Third   8.4583         0\n",
      "7    2.0  male  Third  21.0750         0\n",
      "12  20.0  male  Third   8.0500         0\n"
     ]
    }
   ],
   "source": [
    "#class와 sex로 그룹화하기\n",
    "group2=df.groupby(['class','sex'])\n",
    "print(group2)\n",
    "\n",
    "for key, group in group2:\n",
    "    print('*key:',key)\n",
    "    print('*number:',len(group))\n",
    "print(group.head())"
   ]
  },
  {
   "cell_type": "code",
   "execution_count": 11,
   "id": "6ea8a19e",
   "metadata": {},
   "outputs": [
    {
     "name": "stdout",
     "output_type": "stream",
     "text": [
      "     age     sex  class     fare  survived\n",
      "2   26.0  female  Third   7.9250         1\n",
      "8   27.0  female  Third  11.1333         1\n",
      "10   4.0  female  Third  16.7000         1\n",
      "14  14.0  female  Third   7.8542         0\n",
      "18  31.0  female  Third  18.0000         0\n"
     ]
    }
   ],
   "source": [
    "#group2 그룹에서 3등석의 여자승객만 정보만 group3f에 저장하기\n",
    "group3f = group2.get_group(('Third','female'))\n",
    "print(group3f.head())"
   ]
  },
  {
   "cell_type": "code",
   "execution_count": 12,
   "id": "b1528c78",
   "metadata": {},
   "outputs": [
    {
     "name": "stdout",
     "output_type": "stream",
     "text": [
      "              age       fare  survived\n",
      "class                                 \n",
      "First   14.802856  78.380373  0.484026\n",
      "Second  14.001077  13.417399  0.500623\n",
      "Third   12.495398  11.778142  0.428949\n"
     ]
    }
   ],
   "source": [
    "#class로 그룹화한 객체 grouped 데이터의 모든 열의 표준편차(std)출력하기\n",
    "stdall = grouped.std()\n",
    "print(stdall)"
   ]
  },
  {
   "cell_type": "code",
   "execution_count": 13,
   "id": "9ee06464",
   "metadata": {},
   "outputs": [
    {
     "name": "stdout",
     "output_type": "stream",
     "text": [
      "         age   sex      fare  survived\n",
      "class                                 \n",
      "First   80.0  male  512.3292         1\n",
      "Second  70.0  male   73.5000         1\n",
      "Third   74.0  male   69.5500         1\n",
      "         age     sex  fare  survived\n",
      "class                               \n",
      "First   0.92  female   0.0         0\n",
      "Second  0.67  female   0.0         0\n",
      "Third   0.42  female   0.0         0\n"
     ]
    }
   ],
   "source": [
    "#클래스별 최고령과 최연소를 출력\n",
    "maxage = grouped.max()\n",
    "minage = grouped.min()\n",
    "print(maxage)\n",
    "print(minage)"
   ]
  },
  {
   "cell_type": "code",
   "execution_count": 14,
   "id": "cf5d6018",
   "metadata": {},
   "outputs": [
    {
     "name": "stdout",
     "output_type": "stream",
     "text": [
      "          age      fare  survived\n",
      "class                            \n",
      "First   79.08  512.3292         1\n",
      "Second  69.33   73.5000         1\n",
      "Third   73.58   69.5500         1\n"
     ]
    }
   ],
   "source": [
    "#여러개의 함수를 여러 열에 적용 : agg함수\n",
    "#사용자 정의 함수\n",
    "def max_min(x): # 최대값 - 최소값 \n",
    "    return x.max()-x.min()\n",
    "\n",
    "#각 그룹별 최대값 - 최소값의 차이를 그룹별로 출력 \n",
    "agg_maxmin = grouped.agg(max_min)\n",
    "print(agg_maxmin)"
   ]
  },
  {
   "cell_type": "code",
   "execution_count": 16,
   "id": "86911c67",
   "metadata": {},
   "outputs": [
    {
     "name": "stdout",
     "output_type": "stream",
     "text": [
      "         age   sex      fare  survived\n",
      "class                                 \n",
      "First   80.0  male  512.3292         1\n",
      "Second  70.0  male   73.5000         1\n",
      "Third   74.0  male   69.5500         1\n"
     ]
    }
   ],
   "source": [
    "agg_max = grouped.agg(max)\n",
    "print(agg_max)"
   ]
  },
  {
   "cell_type": "code",
   "execution_count": 17,
   "id": "bd31834b",
   "metadata": {},
   "outputs": [
    {
     "name": "stdout",
     "output_type": "stream",
     "text": [
      "         age           sex       fare           survived    \n",
      "         min   max     min   max  min       max      min max\n",
      "class                                                       \n",
      "First   0.92  80.0  female  male  0.0  512.3292        0   1\n",
      "Second  0.67  70.0  female  male  0.0   73.5000        0   1\n",
      "Third   0.42  74.0  female  male  0.0   69.5500        0   1\n"
     ]
    }
   ],
   "source": [
    "#모든 열에 min,max함수를 적용하여 결과 출력 \n",
    "aggall = grouped.agg(['min','max'])\n",
    "print(aggall)"
   ]
  },
  {
   "cell_type": "code",
   "execution_count": 18,
   "id": "bbe8e748",
   "metadata": {},
   "outputs": [
    {
     "name": "stdout",
     "output_type": "stream",
     "text": [
      "            fare             age\n",
      "             max  min       mean\n",
      "class                           \n",
      "First   512.3292  0.0  38.233441\n",
      "Second   73.5000  0.0  29.877630\n",
      "Third    69.5500  0.0  25.140620\n"
     ]
    }
   ],
   "source": [
    "#각 열마다 다른 함수를 적용하여 집계\n",
    "#요금: 최대값, 최소값\n",
    "#나이: 평균 \n",
    "\n",
    "aggsep = grouped.agg({'fare':['max','min'],'age':'mean'})\n",
    "print(aggsep)"
   ]
  },
  {
   "cell_type": "code",
   "execution_count": 20,
   "id": "6903589f",
   "metadata": {},
   "outputs": [
    {
     "name": "stdout",
     "output_type": "stream",
     "text": [
      "    age     sex  class     fare  survived\n",
      "0  22.0    male  Third   7.2500         0\n",
      "1  38.0  female  First  71.2833         1\n",
      "2  26.0  female  Third   7.9250         1\n",
      "3  35.0  female  First  53.1000         1\n",
      "4  35.0    male  Third   8.0500         0\n",
      "<class 'pandas.core.frame.DataFrame'>\n",
      "<class 'pandas.core.frame.DataFrame'>\n",
      "Int64Index: 707 entries, 0 to 890\n",
      "Data columns (total 5 columns):\n",
      " #   Column    Non-Null Count  Dtype   \n",
      "---  ------    --------------  -----   \n",
      " 0   age       541 non-null    float64 \n",
      " 1   sex       707 non-null    object  \n",
      " 2   class     707 non-null    category\n",
      " 3   fare      707 non-null    float64 \n",
      " 4   survived  707 non-null    int64   \n",
      "dtypes: category(1), float64(2), int64(1), object(1)\n",
      "memory usage: 28.4+ KB\n",
      "None\n"
     ]
    }
   ],
   "source": [
    "#filter함수: 그룹화 데이터의 조건 설정\n",
    "#결과가 참인 경우만 저장됨\n",
    "#그룹화된 데이터의 갯수가 200개 이상인 그룹만 조회하기\n",
    "groupfilter1 = grouped.filter(lambda x:len(x)>=200)\n",
    "print(groupfilter1.head())\n",
    "print(type(groupfilter1))\n",
    "print(groupfilter1.info())"
   ]
  },
  {
   "cell_type": "code",
   "execution_count": 21,
   "id": "d75c60db",
   "metadata": {},
   "outputs": [
    {
     "name": "stdout",
     "output_type": "stream",
     "text": [
      "    age     sex  class     fare  survived\n",
      "0  22.0    male  Third   7.2500         0\n",
      "2  26.0  female  Third   7.9250         1\n",
      "4  35.0    male  Third   8.0500         0\n",
      "5   NaN    male  Third   8.4583         0\n",
      "7   2.0    male  Third  21.0750         0\n",
      "<class 'pandas.core.frame.DataFrame'>\n",
      "Int64Index: 675 entries, 0 to 890\n",
      "Data columns (total 5 columns):\n",
      " #   Column    Non-Null Count  Dtype   \n",
      "---  ------    --------------  -----   \n",
      " 0   age       528 non-null    float64 \n",
      " 1   sex       675 non-null    object  \n",
      " 2   class     675 non-null    category\n",
      " 3   fare      675 non-null    float64 \n",
      " 4   survived  675 non-null    int64   \n",
      "dtypes: category(1), float64(2), int64(1), object(1)\n",
      "memory usage: 27.2+ KB\n",
      "None\n"
     ]
    }
   ],
   "source": [
    "#age열의 평균이 30보다 작은그룹만을 데이터프레임으로 저장\n",
    "agefilter = grouped.filter(lambda x:x.age.mean() <30)\n",
    "print(agefilter.head())\n",
    "print(agefilter.info())"
   ]
  },
  {
   "cell_type": "code",
   "execution_count": 22,
   "id": "9cb95861",
   "metadata": {},
   "outputs": [
    {
     "name": "stdout",
     "output_type": "stream",
     "text": [
      "                     age        fare    survived\n",
      "class                                           \n",
      "First  count  186.000000  216.000000  216.000000\n",
      "       mean    38.233441   84.154687    0.629630\n",
      "       std     14.802856   78.380373    0.484026\n",
      "       min      0.920000    0.000000    0.000000\n",
      "       25%     27.000000   30.923950    0.000000\n",
      "       50%     37.000000   60.287500    1.000000\n",
      "       75%     49.000000   93.500000    1.000000\n",
      "       max     80.000000  512.329200    1.000000\n",
      "Second count  173.000000  184.000000  184.000000\n",
      "       mean    29.877630   20.662183    0.472826\n",
      "       std     14.001077   13.417399    0.500623\n",
      "       min      0.670000    0.000000    0.000000\n",
      "       25%     23.000000   13.000000    0.000000\n",
      "       50%     29.000000   14.250000    0.000000\n",
      "       75%     36.000000   26.000000    1.000000\n",
      "       max     70.000000   73.500000    1.000000\n",
      "Third  count  355.000000  491.000000  491.000000\n",
      "       mean    25.140620   13.675550    0.242363\n",
      "       std     12.495398   11.778142    0.428949\n",
      "       min      0.420000    0.000000    0.000000\n",
      "       25%     18.000000    7.750000    0.000000\n",
      "       50%     24.000000    8.050000    0.000000\n",
      "       75%     32.000000   15.500000    0.000000\n",
      "       max     74.000000   69.550000    1.000000\n"
     ]
    }
   ],
   "source": [
    "#apply : 각 그룹별 용약 통계 정보 조회\n",
    "group_apply = grouped.apply(lambda x:x.describe())\n",
    "print(group_apply)"
   ]
  },
  {
   "cell_type": "code",
   "execution_count": 23,
   "id": "72b23642",
   "metadata": {
    "scrolled": true
   },
   "outputs": [
    {
     "name": "stdout",
     "output_type": "stream",
     "text": [
      "                     age        fare  survived\n",
      "class  sex                                    \n",
      "First  female  34.611765  106.125798  0.968085\n",
      "       male    41.281386   67.226127  0.368852\n",
      "Second female  28.722973   21.970121  0.921053\n",
      "       male    30.740707   19.741782  0.157407\n",
      "Third  female  21.750000   16.118810  0.500000\n",
      "       male    26.507589   12.661633  0.135447\n",
      "<class 'pandas.core.frame.DataFrame'>\n"
     ]
    }
   ],
   "source": [
    "#클래스별, 성별 각 컬럼의 평균 구하기\n",
    "group2 = df.groupby(['class','sex'])\n",
    "gdf = group2.mean()\n",
    "print(gdf)\n",
    "print(type(gdf))"
   ]
  },
  {
   "cell_type": "code",
   "execution_count": 26,
   "id": "39af79b0",
   "metadata": {},
   "outputs": [
    {
     "name": "stdout",
     "output_type": "stream",
     "text": [
      "              age        fare  survived\n",
      "sex                                    \n",
      "female  34.611765  106.125798  0.968085\n",
      "male    41.281386   67.226127  0.368852\n",
      "age          34.611765\n",
      "fare        106.125798\n",
      "survived      0.968085\n",
      "Name: (First, female), dtype: float64\n"
     ]
    }
   ],
   "source": [
    "#gdf데이터에서 class 값이 First인 행을 선택하여 출력 \n",
    "print(gdf.loc['First'])\n",
    "#gdf데이터에서 class값이 First이고, 성별 female인 행을 선택하여 출력 \n",
    "print(gdf.loc[('First','female')])"
   ]
  },
  {
   "cell_type": "code",
   "execution_count": 27,
   "id": "e13e4f59",
   "metadata": {},
   "outputs": [
    {
     "name": "stdout",
     "output_type": "stream",
     "text": [
      "              age       fare  survived\n",
      "class                                 \n",
      "First   41.281386  67.226127  0.368852\n",
      "Second  30.740707  19.741782  0.157407\n",
      "Third   26.507589  12.661633  0.135447\n"
     ]
    }
   ],
   "source": [
    "#성별이 male인 행을 조회하기\n",
    "print(gdf.xs('male',level = 'sex'))"
   ]
  },
  {
   "cell_type": "code",
   "execution_count": 28,
   "id": "b8701571",
   "metadata": {},
   "outputs": [],
   "source": [
    "#피벗테이블\n",
    "import pandas as pd "
   ]
  },
  {
   "cell_type": "code",
   "execution_count": 30,
   "id": "92655b97",
   "metadata": {},
   "outputs": [
    {
     "name": "stdout",
     "output_type": "stream",
     "text": [
      "sex        female       male\n",
      "class                       \n",
      "First   34.611765  41.281386\n",
      "Second  28.722973  30.740707\n",
      "Third   21.750000  26.507589\n",
      "<class 'pandas.core.frame.DataFrame'>\n"
     ]
    }
   ],
   "source": [
    "pdf1 = pd.pivot_table(df,index = 'class', columns = 'sex',values = 'age',aggfunc='mean')\n",
    "#피벗할 데이터프레임, 행위치에 들어갈열, 열 위치에 들어갈 열,데이터로 사용할 열\n",
    "#데이터집계함수 순으로 작성\n",
    "print(pdf1)\n",
    "print(type(pdf1))"
   ]
  },
  {
   "cell_type": "code",
   "execution_count": 31,
   "id": "f443f921",
   "metadata": {},
   "outputs": [
    {
     "name": "stdout",
     "output_type": "stream",
     "text": [
      "            mean              sum     \n",
      "sex       female      male female male\n",
      "class                                 \n",
      "First   0.968085  0.368852     91   45\n",
      "Second  0.921053  0.157407     70   17\n",
      "Third   0.500000  0.135447     72   47\n",
      "<class 'pandas.core.frame.DataFrame'>\n"
     ]
    }
   ],
   "source": [
    "#값에 적용하는 집계함수를 2개 이상 지정 \n",
    "pdf2 = pd.pivot_table(df,index = 'class', columns = 'sex',values = 'survived',\\\n",
    "                      aggfunc=['mean','sum'])\n",
    "print(pdf2)\n",
    "print(type(pdf2))\n"
   ]
  },
  {
   "cell_type": "code",
   "execution_count": 32,
   "id": "25910137",
   "metadata": {},
   "outputs": [
    {
     "name": "stdout",
     "output_type": "stream",
     "text": [
      "      sex   \n",
      "mean  female     0.968085\n",
      "      male       0.368852\n",
      "sum   female    91.000000\n",
      "      male      45.000000\n",
      "Name: First, dtype: float64\n",
      "      sex   \n",
      "mean  female     0.968085\n",
      "      male       0.368852\n",
      "sum   female    91.000000\n",
      "      male      45.000000\n",
      "Name: First, dtype: float64\n"
     ]
    }
   ],
   "source": [
    "#피벗테이블에서 First 데이터만 조회하기\n",
    "print(pdf2.loc['First'])\n",
    "#xs함수 : axis =0 기본값 \n",
    "print(pdf2.xs('First',axis=0))"
   ]
  },
  {
   "cell_type": "code",
   "execution_count": 33,
   "id": "169fbfbd",
   "metadata": {},
   "outputs": [
    {
     "name": "stdout",
     "output_type": "stream",
     "text": [
      "            mean  sum\n",
      "class                \n",
      "First   0.968085   91\n",
      "Second  0.921053   70\n",
      "Third   0.500000   72\n",
      "class\n",
      "First     0.968085\n",
      "Second    0.921053\n",
      "Third     0.500000\n",
      "Name: (mean, female), dtype: float64\n"
     ]
    }
   ],
   "source": [
    "#피벗테이블에서 female데이터만 조회하기 \n",
    "print(pdf2.xs(('female'), level = 'sex', axis=1))\n",
    "#피벗테이블에서 female의 평균 데이터만 조회하기\n",
    "print(pdf2.xs(('mean','female'),axis=1))"
   ]
  },
  {
   "cell_type": "code",
   "execution_count": null,
   "id": "fd167e0d",
   "metadata": {},
   "outputs": [],
   "source": []
  }
 ],
 "metadata": {
  "kernelspec": {
   "display_name": "Python 3",
   "language": "python",
   "name": "python3"
  },
  "language_info": {
   "codemirror_mode": {
    "name": "ipython",
    "version": 3
   },
   "file_extension": ".py",
   "mimetype": "text/x-python",
   "name": "python",
   "nbconvert_exporter": "python",
   "pygments_lexer": "ipython3",
   "version": "3.8.8"
  }
 },
 "nbformat": 4,
 "nbformat_minor": 5
}
