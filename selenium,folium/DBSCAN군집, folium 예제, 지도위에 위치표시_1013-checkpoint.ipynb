{
 "cells": [
  {
   "cell_type": "markdown",
   "id": "aaa63caa",
   "metadata": {},
   "source": [
    "# folium, DBSCAN 예제"
   ]
  },
  {
   "cell_type": "code",
   "execution_count": 2,
   "id": "918e2eca",
   "metadata": {},
   "outputs": [
    {
     "name": "stdout",
     "output_type": "stream",
     "text": [
      "Collecting folium\n",
      "  Using cached folium-0.12.1-py2.py3-none-any.whl (94 kB)\n",
      "Requirement already satisfied: jinja2>=2.9 in c:\\users\\k\\anaconda3\\lib\\site-packages (from folium) (2.11.3)\n",
      "Collecting branca>=0.3.0\n",
      "  Using cached branca-0.4.2-py3-none-any.whl (24 kB)\n",
      "Requirement already satisfied: numpy in c:\\users\\k\\anaconda3\\lib\\site-packages (from folium) (1.19.5)\n",
      "Requirement already satisfied: requests in c:\\users\\k\\anaconda3\\lib\\site-packages (from folium) (2.25.1)\n",
      "Requirement already satisfied: MarkupSafe>=0.23 in c:\\users\\k\\anaconda3\\lib\\site-packages (from jinja2>=2.9->folium) (1.1.1)\n",
      "Requirement already satisfied: idna<3,>=2.5 in c:\\users\\k\\anaconda3\\lib\\site-packages (from requests->folium) (2.10)\n",
      "Requirement already satisfied: urllib3<1.27,>=1.21.1 in c:\\users\\k\\anaconda3\\lib\\site-packages (from requests->folium) (1.26.4)\n",
      "Requirement already satisfied: certifi>=2017.4.17 in c:\\users\\k\\anaconda3\\lib\\site-packages (from requests->folium) (2020.12.5)\n",
      "Requirement already satisfied: chardet<5,>=3.0.2 in c:\\users\\k\\anaconda3\\lib\\site-packages (from requests->folium) (4.0.0)\n",
      "Installing collected packages: branca, folium\n",
      "Successfully installed branca-0.4.2 folium-0.12.1\n"
     ]
    }
   ],
   "source": [
    "!pip install folium"
   ]
  },
  {
   "cell_type": "code",
   "execution_count": 3,
   "id": "50441430",
   "metadata": {},
   "outputs": [],
   "source": [
    "import pandas as pd \n",
    "import folium"
   ]
  },
  {
   "cell_type": "code",
   "execution_count": 4,
   "id": "cf7aae7d",
   "metadata": {},
   "outputs": [],
   "source": [
    "file_path='C:/pyy/2016_middle_shcool_graduates_report.xlsx'"
   ]
  },
  {
   "cell_type": "code",
   "execution_count": 6,
   "id": "733f7315",
   "metadata": {},
   "outputs": [],
   "source": [
    "df=pd.read_excel(file_path, engine='openpyxl',header=0)\n",
    "pd.set_option('display.width',None) #출력화면의 너비\n",
    "pd.set_option('display.max_rows',100) #출력할 행의 개수 한도\n",
    "pd.set_option('display.max_columns',10) #출력할 열의 개수 한도\n",
    "pd.set_option('display.max_colwidth',20) #출력할 열의 너비"
   ]
  },
  {
   "cell_type": "code",
   "execution_count": 7,
   "id": "65a1c681",
   "metadata": {},
   "outputs": [
    {
     "data": {
      "text/plain": [
       "array(['지역', '학교명', '코드', '유형', '주야', '남학생수', '여학생수', '일반고', '특성화고',\n",
       "       '과학고', '외고_국제고', '예고_체고', '마이스터고', '자사고', '자공고', '기타진학', '취업',\n",
       "       '미상', '위도', '경도'], dtype=object)"
      ]
     },
     "execution_count": 7,
     "metadata": {},
     "output_type": "execute_result"
    }
   ],
   "source": [
    "#열의 이름 조회하기\n",
    "df.columns.values"
   ]
  },
  {
   "cell_type": "code",
   "execution_count": 8,
   "id": "62f46c1a",
   "metadata": {},
   "outputs": [
    {
     "data": {
      "text/html": [
       "<div>\n",
       "<style scoped>\n",
       "    .dataframe tbody tr th:only-of-type {\n",
       "        vertical-align: middle;\n",
       "    }\n",
       "\n",
       "    .dataframe tbody tr th {\n",
       "        vertical-align: top;\n",
       "    }\n",
       "\n",
       "    .dataframe thead th {\n",
       "        text-align: right;\n",
       "    }\n",
       "</style>\n",
       "<table border=\"1\" class=\"dataframe\">\n",
       "  <thead>\n",
       "    <tr style=\"text-align: right;\">\n",
       "      <th></th>\n",
       "      <th>지역</th>\n",
       "      <th>학교명</th>\n",
       "      <th>코드</th>\n",
       "      <th>유형</th>\n",
       "      <th>주야</th>\n",
       "      <th>...</th>\n",
       "      <th>기타진학</th>\n",
       "      <th>취업</th>\n",
       "      <th>미상</th>\n",
       "      <th>위도</th>\n",
       "      <th>경도</th>\n",
       "    </tr>\n",
       "  </thead>\n",
       "  <tbody>\n",
       "    <tr>\n",
       "      <th>0</th>\n",
       "      <td>성북구</td>\n",
       "      <td>서울대학교사범대학부설중학교</td>\n",
       "      <td>3</td>\n",
       "      <td>국립</td>\n",
       "      <td>주간</td>\n",
       "      <td>...</td>\n",
       "      <td>0.004</td>\n",
       "      <td>0</td>\n",
       "      <td>0.000</td>\n",
       "      <td>37.594942</td>\n",
       "      <td>127.038909</td>\n",
       "    </tr>\n",
       "    <tr>\n",
       "      <th>1</th>\n",
       "      <td>종로구</td>\n",
       "      <td>서울대학교사범대학부설여자중학교</td>\n",
       "      <td>3</td>\n",
       "      <td>국립</td>\n",
       "      <td>주간</td>\n",
       "      <td>...</td>\n",
       "      <td>0.031</td>\n",
       "      <td>0</td>\n",
       "      <td>0.000</td>\n",
       "      <td>37.577473</td>\n",
       "      <td>127.003857</td>\n",
       "    </tr>\n",
       "    <tr>\n",
       "      <th>2</th>\n",
       "      <td>강남구</td>\n",
       "      <td>개원중학교</td>\n",
       "      <td>3</td>\n",
       "      <td>공립</td>\n",
       "      <td>주간</td>\n",
       "      <td>...</td>\n",
       "      <td>0.009</td>\n",
       "      <td>0</td>\n",
       "      <td>0.003</td>\n",
       "      <td>37.491637</td>\n",
       "      <td>127.071744</td>\n",
       "    </tr>\n",
       "    <tr>\n",
       "      <th>3</th>\n",
       "      <td>강남구</td>\n",
       "      <td>개포중학교</td>\n",
       "      <td>3</td>\n",
       "      <td>공립</td>\n",
       "      <td>주간</td>\n",
       "      <td>...</td>\n",
       "      <td>0.019</td>\n",
       "      <td>0</td>\n",
       "      <td>0.000</td>\n",
       "      <td>37.480439</td>\n",
       "      <td>127.062201</td>\n",
       "    </tr>\n",
       "    <tr>\n",
       "      <th>4</th>\n",
       "      <td>서초구</td>\n",
       "      <td>경원중학교</td>\n",
       "      <td>3</td>\n",
       "      <td>공립</td>\n",
       "      <td>주간</td>\n",
       "      <td>...</td>\n",
       "      <td>0.010</td>\n",
       "      <td>0</td>\n",
       "      <td>0.000</td>\n",
       "      <td>37.510750</td>\n",
       "      <td>127.008900</td>\n",
       "    </tr>\n",
       "  </tbody>\n",
       "</table>\n",
       "<p>5 rows × 20 columns</p>\n",
       "</div>"
      ],
      "text/plain": [
       "    지역               학교명  코드  유형  주야  ...   기타진학  취업     미상         위도  \\\n",
       "0  성북구    서울대학교사범대학부설중학교   3  국립  주간  ...  0.004   0  0.000  37.594942   \n",
       "1  종로구  서울대학교사범대학부설여자중학교   3  국립  주간  ...  0.031   0  0.000  37.577473   \n",
       "2  강남구             개원중학교   3  공립  주간  ...  0.009   0  0.003  37.491637   \n",
       "3  강남구             개포중학교   3  공립  주간  ...  0.019   0  0.000  37.480439   \n",
       "4  서초구             경원중학교   3  공립  주간  ...  0.010   0  0.000  37.510750   \n",
       "\n",
       "           경도  \n",
       "0  127.038909  \n",
       "1  127.003857  \n",
       "2  127.071744  \n",
       "3  127.062201  \n",
       "4  127.008900  \n",
       "\n",
       "[5 rows x 20 columns]"
      ]
     },
     "execution_count": 8,
     "metadata": {},
     "output_type": "execute_result"
    }
   ],
   "source": [
    "df.head()"
   ]
  },
  {
   "cell_type": "code",
   "execution_count": 9,
   "id": "987f84e0",
   "metadata": {},
   "outputs": [
    {
     "name": "stdout",
     "output_type": "stream",
     "text": [
      "<class 'pandas.core.frame.DataFrame'>\n",
      "RangeIndex: 415 entries, 0 to 414\n",
      "Data columns (total 20 columns):\n",
      " #   Column  Non-Null Count  Dtype  \n",
      "---  ------  --------------  -----  \n",
      " 0   지역      415 non-null    object \n",
      " 1   학교명     415 non-null    object \n",
      " 2   코드      415 non-null    int64  \n",
      " 3   유형      415 non-null    object \n",
      " 4   주야      415 non-null    object \n",
      " 5   남학생수    415 non-null    int64  \n",
      " 6   여학생수    415 non-null    int64  \n",
      " 7   일반고     415 non-null    float64\n",
      " 8   특성화고    415 non-null    float64\n",
      " 9   과학고     415 non-null    float64\n",
      " 10  외고_국제고  415 non-null    float64\n",
      " 11  예고_체고   415 non-null    float64\n",
      " 12  마이스터고   415 non-null    float64\n",
      " 13  자사고     415 non-null    float64\n",
      " 14  자공고     415 non-null    float64\n",
      " 15  기타진학    415 non-null    float64\n",
      " 16  취업      415 non-null    int64  \n",
      " 17  미상      415 non-null    float64\n",
      " 18  위도      415 non-null    float64\n",
      " 19  경도      415 non-null    float64\n",
      "dtypes: float64(12), int64(4), object(4)\n",
      "memory usage: 65.0+ KB\n"
     ]
    }
   ],
   "source": [
    "df.info()"
   ]
  },
  {
   "cell_type": "code",
   "execution_count": 18,
   "id": "27703ac9",
   "metadata": {},
   "outputs": [],
   "source": [
    "#df데이터에서 각 중학교의 정보를 지도로 표시하기 \n",
    "#지도에 위치 표시 \n",
    "mschool_map=folium.Map(loaction=[37.55,126.98],zoom_start=12)"
   ]
  },
  {
   "cell_type": "code",
   "execution_count": 19,
   "id": "c6058a55",
   "metadata": {},
   "outputs": [],
   "source": [
    "#중학교 위치정보를 CircleMarker로 표시\n",
    "for name,lat,lng in zip(df.학교명, df.위도, df.경도):\n",
    "    folium.CircleMarker([lat,lng],\n",
    "                       radius=5, #원의반지름\n",
    "                       color='brown', #원의둘레 색상\n",
    "                       fill=True,\n",
    "                       fill_color='coral', #원을 채우는 색\n",
    "                       fill_opacity=0.7, #투명도\n",
    "                       popup=name,\n",
    "                       tooltip=name).add_to(mschool_map)\n",
    "mschool_map.save('C:/pyy/seoul_mschool_location.html')    "
   ]
  },
  {
   "cell_type": "code",
   "execution_count": 22,
   "id": "6e61dec2",
   "metadata": {},
   "outputs": [
    {
     "data": {
      "text/html": [
       "<div>\n",
       "<style scoped>\n",
       "    .dataframe tbody tr th:only-of-type {\n",
       "        vertical-align: middle;\n",
       "    }\n",
       "\n",
       "    .dataframe tbody tr th {\n",
       "        vertical-align: top;\n",
       "    }\n",
       "\n",
       "    .dataframe thead th {\n",
       "        text-align: right;\n",
       "    }\n",
       "</style>\n",
       "<table border=\"1\" class=\"dataframe\">\n",
       "  <thead>\n",
       "    <tr style=\"text-align: right;\">\n",
       "      <th></th>\n",
       "      <th>지역</th>\n",
       "      <th>학교명</th>\n",
       "      <th>코드</th>\n",
       "      <th>유형</th>\n",
       "      <th>주야</th>\n",
       "      <th>...</th>\n",
       "      <th>기타진학</th>\n",
       "      <th>취업</th>\n",
       "      <th>미상</th>\n",
       "      <th>위도</th>\n",
       "      <th>경도</th>\n",
       "    </tr>\n",
       "  </thead>\n",
       "  <tbody>\n",
       "    <tr>\n",
       "      <th>0</th>\n",
       "      <td>성북구</td>\n",
       "      <td>서울대학교사범대학부설중학교</td>\n",
       "      <td>3</td>\n",
       "      <td>국립</td>\n",
       "      <td>주간</td>\n",
       "      <td>...</td>\n",
       "      <td>0.004</td>\n",
       "      <td>0</td>\n",
       "      <td>0.000</td>\n",
       "      <td>37.594942</td>\n",
       "      <td>127.038909</td>\n",
       "    </tr>\n",
       "    <tr>\n",
       "      <th>1</th>\n",
       "      <td>종로구</td>\n",
       "      <td>서울대학교사범대학부설여자중학교</td>\n",
       "      <td>3</td>\n",
       "      <td>국립</td>\n",
       "      <td>주간</td>\n",
       "      <td>...</td>\n",
       "      <td>0.031</td>\n",
       "      <td>0</td>\n",
       "      <td>0.000</td>\n",
       "      <td>37.577473</td>\n",
       "      <td>127.003857</td>\n",
       "    </tr>\n",
       "    <tr>\n",
       "      <th>2</th>\n",
       "      <td>강남구</td>\n",
       "      <td>개원중학교</td>\n",
       "      <td>3</td>\n",
       "      <td>공립</td>\n",
       "      <td>주간</td>\n",
       "      <td>...</td>\n",
       "      <td>0.009</td>\n",
       "      <td>0</td>\n",
       "      <td>0.003</td>\n",
       "      <td>37.491637</td>\n",
       "      <td>127.071744</td>\n",
       "    </tr>\n",
       "    <tr>\n",
       "      <th>3</th>\n",
       "      <td>강남구</td>\n",
       "      <td>개포중학교</td>\n",
       "      <td>3</td>\n",
       "      <td>공립</td>\n",
       "      <td>주간</td>\n",
       "      <td>...</td>\n",
       "      <td>0.019</td>\n",
       "      <td>0</td>\n",
       "      <td>0.000</td>\n",
       "      <td>37.480439</td>\n",
       "      <td>127.062201</td>\n",
       "    </tr>\n",
       "    <tr>\n",
       "      <th>4</th>\n",
       "      <td>서초구</td>\n",
       "      <td>경원중학교</td>\n",
       "      <td>3</td>\n",
       "      <td>공립</td>\n",
       "      <td>주간</td>\n",
       "      <td>...</td>\n",
       "      <td>0.010</td>\n",
       "      <td>0</td>\n",
       "      <td>0.000</td>\n",
       "      <td>37.510750</td>\n",
       "      <td>127.008900</td>\n",
       "    </tr>\n",
       "  </tbody>\n",
       "</table>\n",
       "<p>5 rows × 20 columns</p>\n",
       "</div>"
      ],
      "text/plain": [
       "    지역               학교명  코드  유형  주야  ...   기타진학  취업     미상         위도  \\\n",
       "0  성북구    서울대학교사범대학부설중학교   3  국립  주간  ...  0.004   0  0.000  37.594942   \n",
       "1  종로구  서울대학교사범대학부설여자중학교   3  국립  주간  ...  0.031   0  0.000  37.577473   \n",
       "2  강남구             개원중학교   3  공립  주간  ...  0.009   0  0.003  37.491637   \n",
       "3  강남구             개포중학교   3  공립  주간  ...  0.019   0  0.000  37.480439   \n",
       "4  서초구             경원중학교   3  공립  주간  ...  0.010   0  0.000  37.510750   \n",
       "\n",
       "           경도  \n",
       "0  127.038909  \n",
       "1  127.003857  \n",
       "2  127.071744  \n",
       "3  127.062201  \n",
       "4  127.008900  \n",
       "\n",
       "[5 rows x 20 columns]"
      ]
     },
     "execution_count": 22,
     "metadata": {},
     "output_type": "execute_result"
    }
   ],
   "source": [
    "# 데이터 전처리\n",
    "# 지역, 유형, 주야 컬럼을 원핫인코딩변환\n",
    "df.head()"
   ]
  },
  {
   "cell_type": "code",
   "execution_count": 24,
   "id": "7e995e0c",
   "metadata": {},
   "outputs": [
    {
     "name": "stdout",
     "output_type": "stream",
     "text": [
      "<class 'pandas.core.frame.DataFrame'>\n",
      "RangeIndex: 415 entries, 0 to 414\n",
      "Data columns (total 20 columns):\n",
      " #   Column  Non-Null Count  Dtype  \n",
      "---  ------  --------------  -----  \n",
      " 0   지역      415 non-null    object \n",
      " 1   학교명     415 non-null    object \n",
      " 2   코드      415 non-null    int64  \n",
      " 3   유형      415 non-null    object \n",
      " 4   주야      415 non-null    object \n",
      " 5   남학생수    415 non-null    int64  \n",
      " 6   여학생수    415 non-null    int64  \n",
      " 7   일반고     415 non-null    float64\n",
      " 8   특성화고    415 non-null    float64\n",
      " 9   과학고     415 non-null    float64\n",
      " 10  외고_국제고  415 non-null    float64\n",
      " 11  예고_체고   415 non-null    float64\n",
      " 12  마이스터고   415 non-null    float64\n",
      " 13  자사고     415 non-null    float64\n",
      " 14  자공고     415 non-null    float64\n",
      " 15  기타진학    415 non-null    float64\n",
      " 16  취업      415 non-null    int64  \n",
      " 17  미상      415 non-null    float64\n",
      " 18  위도      415 non-null    float64\n",
      " 19  경도      415 non-null    float64\n",
      "dtypes: float64(12), int64(4), object(4)\n",
      "memory usage: 65.0+ KB\n"
     ]
    }
   ],
   "source": [
    "df.info()"
   ]
  },
  {
   "cell_type": "code",
   "execution_count": 25,
   "id": "b4275840",
   "metadata": {},
   "outputs": [
    {
     "data": {
      "text/plain": [
       "array([3, 5, 9], dtype=int64)"
      ]
     },
     "execution_count": 25,
     "metadata": {},
     "output_type": "execute_result"
    }
   ],
   "source": [
    "df['코드'].unique()"
   ]
  },
  {
   "cell_type": "code",
   "execution_count": 26,
   "id": "59177adb",
   "metadata": {},
   "outputs": [],
   "source": [
    "from sklearn import preprocessing"
   ]
  },
  {
   "cell_type": "code",
   "execution_count": 27,
   "id": "0fb9956f",
   "metadata": {},
   "outputs": [],
   "source": [
    "#문자열 -> 수치형, 숫자의 크기정보는 의미없음. 단순하게 종류로 표시\n",
    "label_encoder = preprocessing.LabelEncoder() # label encoder 생성\n",
    "onehot_encoder = preprocessing.OneHotEncoder() # one hot encoder 생성"
   ]
  },
  {
   "cell_type": "code",
   "execution_count": 28,
   "id": "c60bb9d2",
   "metadata": {},
   "outputs": [],
   "source": [
    "label_location = label_encoder.fit_transform(df['지역'])\n",
    "label_code = label_encoder.fit_transform(df['코드'])\n",
    "label_type = label_encoder.fit_transform(df['유형'])\n",
    "label_day = label_encoder.fit_transform(df['주야'])"
   ]
  },
  {
   "cell_type": "code",
   "execution_count": 29,
   "id": "f33a249e",
   "metadata": {},
   "outputs": [
    {
     "data": {
      "text/plain": [
       "array([16, 22,  0,  0, 14,  0,  0,  0,  0,  0,  0,  0,  0, 14, 14, 14,  0,\n",
       "       14, 14, 14, 14, 14,  0,  0,  0, 14, 14,  0, 14,  0,  0,  0, 14, 14,\n",
       "        0, 14,  0,  0,  0,  0, 17, 17,  1, 17,  1,  1,  1,  1,  1, 17, 17,\n",
       "       17, 17,  1, 17, 17,  1, 17,  1,  1, 17, 17,  1,  1, 17, 17, 17, 17,\n",
       "       17, 17, 17, 17, 17, 17,  1,  1, 17, 17,  1,  1, 18,  3,  3,  3, 18,\n",
       "        3,  3,  3,  3,  3,  3, 18, 18,  3,  3,  3, 18,  3,  3,  3, 18, 18,\n",
       "       18, 18, 18,  3, 18, 18, 18, 18, 18, 18,  3, 18, 18,  3,  3,  7,  6,\n",
       "        6,  6,  6,  6,  7, 19, 19, 19, 19,  7, 19,  7,  7,  7,  7,  6,  7,\n",
       "       19, 19, 19, 19,  6,  6, 19,  6,  6,  6,  6, 19,  7, 10, 10, 10, 10,\n",
       "       10, 24, 24, 24, 24, 10, 24, 10, 24, 24, 24, 24, 24, 10, 10, 10, 10,\n",
       "       10, 24, 24, 10, 24, 24, 10, 10, 11, 11,  4,  4, 11,  4,  4,  4, 11,\n",
       "        4, 11, 11, 11, 11,  4,  4,  4, 11, 11, 11,  4, 11,  4,  4,  4,  4,\n",
       "       11,  4, 11, 11,  8,  8,  9,  8,  8,  8,  9,  9,  9,  9,  8,  8,  8,\n",
       "        8,  8,  8,  9,  8,  9,  9,  8,  8,  8,  8,  8,  8,  9,  8,  8,  8,\n",
       "        9,  9,  9,  8,  8,  8,  8, 12, 12, 21, 21, 21, 12, 13, 13, 21, 21,\n",
       "       13, 12, 21, 21, 12, 12, 12, 12, 21, 12, 13, 12, 13, 21, 21, 21, 13,\n",
       "       21, 21, 21, 13, 13, 13, 12, 13, 21, 21, 13, 13, 12,  5, 15,  5,  5,\n",
       "        5,  5, 15,  5,  5, 15,  5, 15, 15, 15,  5, 15,  5,  5, 15, 15,  2,\n",
       "       16, 16, 16, 16,  2, 16, 16,  2, 16, 16,  2,  2,  2,  2,  2, 16, 16,\n",
       "        2, 16, 16,  2, 16, 16,  2, 22, 23, 23, 22, 22, 23, 22, 20, 22, 20,\n",
       "       22, 20, 20, 11, 20, 20, 20, 20, 23, 23, 22, 23, 22, 20, 23, 23, 17,\n",
       "        2,  8,  4, 15, 15, 16,  5,  3,  9, 12,  3, 21, 18,  2, 13, 17,  1,\n",
       "        1, 21, 12,  6, 13, 16,  3, 16,  0, 17, 22, 12, 22,  3, 14,  0,  4,\n",
       "        5,  8, 11,  2,  9,  4,  8,  2,  6,  6, 13,  0,  1,  1, 17,  2, 21,\n",
       "       22, 16,  0,  7,  5, 23,  8])"
      ]
     },
     "execution_count": 29,
     "metadata": {},
     "output_type": "execute_result"
    }
   ],
   "source": [
    "label_location"
   ]
  },
  {
   "cell_type": "code",
   "execution_count": 30,
   "id": "23ebcb01",
   "metadata": {},
   "outputs": [
    {
     "data": {
      "text/plain": [
       "array([1, 1, 0, 0, 0, 0, 0, 2, 0, 0, 0, 0, 0, 2, 0, 0, 0, 2, 0, 0, 0, 2,\n",
       "       0, 2, 0, 0, 0, 0, 0, 0, 0, 0, 0, 0, 2, 0, 2, 2, 0, 2, 0, 0, 0, 0,\n",
       "       0, 2, 2, 0, 0, 0, 0, 0, 2, 2, 2, 2, 2, 0, 0, 2, 0, 0, 0, 0, 0, 0,\n",
       "       2, 0, 0, 0, 2, 0, 0, 2, 0, 0, 0, 0, 0, 2, 0, 0, 0, 0, 0, 2, 0, 0,\n",
       "       2, 2, 2, 0, 0, 0, 0, 0, 2, 0, 0, 0, 0, 0, 0, 0, 0, 2, 0, 0, 0, 0,\n",
       "       2, 0, 0, 2, 0, 2, 0, 0, 0, 0, 0, 0, 0, 0, 0, 0, 0, 0, 2, 0, 0, 2,\n",
       "       0, 0, 0, 0, 0, 0, 0, 0, 0, 0, 0, 0, 0, 0, 2, 0, 0, 2, 2, 2, 2, 0,\n",
       "       0, 0, 0, 0, 0, 2, 0, 0, 2, 0, 0, 0, 0, 0, 0, 0, 2, 0, 0, 0, 0, 2,\n",
       "       2, 0, 0, 0, 0, 2, 0, 0, 2, 0, 0, 0, 0, 2, 0, 0, 0, 0, 0, 0, 0, 0,\n",
       "       2, 2, 2, 0, 0, 0, 0, 0, 0, 2, 0, 2, 0, 0, 0, 0, 0, 0, 0, 0, 0, 0,\n",
       "       0, 0, 2, 0, 2, 0, 0, 0, 0, 0, 2, 0, 0, 2, 2, 0, 0, 0, 0, 0, 0, 2,\n",
       "       0, 0, 0, 2, 2, 0, 2, 0, 2, 2, 2, 0, 0, 0, 0, 2, 2, 0, 0, 0, 2, 2,\n",
       "       0, 0, 0, 0, 0, 0, 0, 0, 2, 2, 0, 2, 2, 2, 0, 2, 0, 2, 2, 0, 2, 2,\n",
       "       0, 0, 0, 0, 0, 0, 0, 2, 0, 2, 0, 0, 0, 0, 0, 0, 0, 2, 0, 0, 2, 2,\n",
       "       2, 2, 0, 0, 0, 2, 0, 2, 2, 0, 0, 2, 2, 2, 0, 0, 0, 0, 2, 2, 2, 0,\n",
       "       2, 0, 2, 2, 2, 0, 2, 2, 2, 2, 2, 0, 2, 2, 2, 2, 0, 0, 0, 2, 2, 0,\n",
       "       0, 0, 2, 2, 0, 0, 0, 0, 0, 0, 0, 0, 0, 0, 0, 0, 0, 0, 0, 0, 0, 0,\n",
       "       0, 0, 0, 0, 0, 0, 0, 0, 0, 0, 1, 1, 1, 2, 2, 2, 2, 0, 2, 2, 2, 2,\n",
       "       0, 0, 0, 0, 2, 2, 0, 2, 2, 2, 2, 2, 0, 0, 1, 1, 2, 2, 2])"
      ]
     },
     "execution_count": 30,
     "metadata": {},
     "output_type": "execute_result"
    }
   ],
   "source": [
    "label_type"
   ]
  },
  {
   "cell_type": "code",
   "execution_count": 31,
   "id": "05e85d94",
   "metadata": {},
   "outputs": [
    {
     "data": {
      "text/plain": [
       "array(['성북구', '종로구', '강남구', '서초구', '송파구', '강동구', '양천구', '강서구', '금천구',\n",
       "       '구로구', '영등포구', '동대문구', '중랑구', '동작구', '관악구', '노원구', '도봉구', '마포구',\n",
       "       '은평구', '서대문구', '광진구', '성동구', '강북구', '중구', '용산구'], dtype=object)"
      ]
     },
     "execution_count": 31,
     "metadata": {},
     "output_type": "execute_result"
    }
   ],
   "source": [
    "df['지역'].unique()"
   ]
  },
  {
   "cell_type": "code",
   "execution_count": 33,
   "id": "5448502a",
   "metadata": {},
   "outputs": [
    {
     "data": {
      "text/html": [
       "<div>\n",
       "<style scoped>\n",
       "    .dataframe tbody tr th:only-of-type {\n",
       "        vertical-align: middle;\n",
       "    }\n",
       "\n",
       "    .dataframe tbody tr th {\n",
       "        vertical-align: top;\n",
       "    }\n",
       "\n",
       "    .dataframe thead th {\n",
       "        text-align: right;\n",
       "    }\n",
       "</style>\n",
       "<table border=\"1\" class=\"dataframe\">\n",
       "  <thead>\n",
       "    <tr style=\"text-align: right;\">\n",
       "      <th></th>\n",
       "      <th>지역</th>\n",
       "      <th>학교명</th>\n",
       "      <th>코드</th>\n",
       "      <th>유형</th>\n",
       "      <th>주야</th>\n",
       "      <th>...</th>\n",
       "      <th>경도</th>\n",
       "      <th>location</th>\n",
       "      <th>code</th>\n",
       "      <th>type</th>\n",
       "      <th>day</th>\n",
       "    </tr>\n",
       "  </thead>\n",
       "  <tbody>\n",
       "    <tr>\n",
       "      <th>0</th>\n",
       "      <td>성북구</td>\n",
       "      <td>서울대학교사범대학부설중학교</td>\n",
       "      <td>3</td>\n",
       "      <td>국립</td>\n",
       "      <td>주간</td>\n",
       "      <td>...</td>\n",
       "      <td>127.038909</td>\n",
       "      <td>16</td>\n",
       "      <td>0</td>\n",
       "      <td>1</td>\n",
       "      <td>0</td>\n",
       "    </tr>\n",
       "    <tr>\n",
       "      <th>1</th>\n",
       "      <td>종로구</td>\n",
       "      <td>서울대학교사범대학부설여자중학교</td>\n",
       "      <td>3</td>\n",
       "      <td>국립</td>\n",
       "      <td>주간</td>\n",
       "      <td>...</td>\n",
       "      <td>127.003857</td>\n",
       "      <td>22</td>\n",
       "      <td>0</td>\n",
       "      <td>1</td>\n",
       "      <td>0</td>\n",
       "    </tr>\n",
       "    <tr>\n",
       "      <th>2</th>\n",
       "      <td>강남구</td>\n",
       "      <td>개원중학교</td>\n",
       "      <td>3</td>\n",
       "      <td>공립</td>\n",
       "      <td>주간</td>\n",
       "      <td>...</td>\n",
       "      <td>127.071744</td>\n",
       "      <td>0</td>\n",
       "      <td>0</td>\n",
       "      <td>0</td>\n",
       "      <td>0</td>\n",
       "    </tr>\n",
       "    <tr>\n",
       "      <th>3</th>\n",
       "      <td>강남구</td>\n",
       "      <td>개포중학교</td>\n",
       "      <td>3</td>\n",
       "      <td>공립</td>\n",
       "      <td>주간</td>\n",
       "      <td>...</td>\n",
       "      <td>127.062201</td>\n",
       "      <td>0</td>\n",
       "      <td>0</td>\n",
       "      <td>0</td>\n",
       "      <td>0</td>\n",
       "    </tr>\n",
       "    <tr>\n",
       "      <th>4</th>\n",
       "      <td>서초구</td>\n",
       "      <td>경원중학교</td>\n",
       "      <td>3</td>\n",
       "      <td>공립</td>\n",
       "      <td>주간</td>\n",
       "      <td>...</td>\n",
       "      <td>127.008900</td>\n",
       "      <td>14</td>\n",
       "      <td>0</td>\n",
       "      <td>0</td>\n",
       "      <td>0</td>\n",
       "    </tr>\n",
       "  </tbody>\n",
       "</table>\n",
       "<p>5 rows × 24 columns</p>\n",
       "</div>"
      ],
      "text/plain": [
       "    지역               학교명  코드  유형  주야  ...          경도  location  code  type  \\\n",
       "0  성북구    서울대학교사범대학부설중학교   3  국립  주간  ...  127.038909        16     0     1   \n",
       "1  종로구  서울대학교사범대학부설여자중학교   3  국립  주간  ...  127.003857        22     0     1   \n",
       "2  강남구             개원중학교   3  공립  주간  ...  127.071744         0     0     0   \n",
       "3  강남구             개포중학교   3  공립  주간  ...  127.062201         0     0     0   \n",
       "4  서초구             경원중학교   3  공립  주간  ...  127.008900        14     0     0   \n",
       "\n",
       "   day  \n",
       "0    0  \n",
       "1    0  \n",
       "2    0  \n",
       "3    0  \n",
       "4    0  \n",
       "\n",
       "[5 rows x 24 columns]"
      ]
     },
     "execution_count": 33,
     "metadata": {},
     "output_type": "execute_result"
    }
   ],
   "source": [
    "#label_encoder된 데이터를 df의 컬럼으로 추가\n",
    "df['location']=label_location\n",
    "df['code']=label_code\n",
    "df['type']=label_type\n",
    "df['day']=label_day\n",
    "df.head()"
   ]
  },
  {
   "cell_type": "code",
   "execution_count": 34,
   "id": "65b940ee",
   "metadata": {},
   "outputs": [
    {
     "data": {
      "text/plain": [
       "<bound method Series.unique of 0      16\n",
       "1      22\n",
       "2       0\n",
       "3       0\n",
       "4      14\n",
       "       ..\n",
       "410     0\n",
       "411     7\n",
       "412     5\n",
       "413    23\n",
       "414     8\n",
       "Name: location, Length: 415, dtype: int32>"
      ]
     },
     "execution_count": 34,
     "metadata": {},
     "output_type": "execute_result"
    }
   ],
   "source": [
    "df['location'].unique"
   ]
  },
  {
   "cell_type": "code",
   "execution_count": 35,
   "id": "498b0be9",
   "metadata": {},
   "outputs": [
    {
     "data": {
      "text/plain": [
       "<bound method Series.unique of 0      0\n",
       "1      0\n",
       "2      0\n",
       "3      0\n",
       "4      0\n",
       "      ..\n",
       "410    2\n",
       "411    2\n",
       "412    2\n",
       "413    2\n",
       "414    2\n",
       "Name: code, Length: 415, dtype: int64>"
      ]
     },
     "execution_count": 35,
     "metadata": {},
     "output_type": "execute_result"
    }
   ],
   "source": [
    "df['code'].unique"
   ]
  },
  {
   "cell_type": "code",
   "execution_count": 36,
   "id": "d450a65b",
   "metadata": {},
   "outputs": [
    {
     "data": {
      "text/plain": [
       "<bound method Series.unique of 0      1\n",
       "1      1\n",
       "2      0\n",
       "3      0\n",
       "4      0\n",
       "      ..\n",
       "410    1\n",
       "411    1\n",
       "412    2\n",
       "413    2\n",
       "414    2\n",
       "Name: type, Length: 415, dtype: int32>"
      ]
     },
     "execution_count": 36,
     "metadata": {},
     "output_type": "execute_result"
    }
   ],
   "source": [
    "df['type'].unique"
   ]
  },
  {
   "cell_type": "code",
   "execution_count": 37,
   "id": "79743ab9",
   "metadata": {},
   "outputs": [],
   "source": [
    "# DBSCAN 군집모형 - sklearn사용\n",
    "# sklearn 라이브러리에서 cluster 군집모형 가져오기\n",
    "from sklearn import cluster"
   ]
  },
  {
   "cell_type": "code",
   "execution_count": 39,
   "id": "b62b29c4",
   "metadata": {},
   "outputs": [
    {
     "name": "stdout",
     "output_type": "stream",
     "text": [
      "     과학고  외고_국제고    자사고\n",
      "0  0.018   0.007  0.227\n",
      "1  0.000   0.035  0.043\n",
      "2  0.009   0.012  0.090\n",
      "3  0.013   0.013  0.065\n",
      "4  0.007   0.010  0.282\n"
     ]
    }
   ],
   "source": [
    "#분석에 사용할 속성을 선택(과학고,외고국제고,자사고 진학률)\n",
    "columns_list=[9,10,13]\n",
    "X=df.iloc[:,columns_list] #군집분석에 사용될 속성 선택\n",
    "print(X[:5])"
   ]
  },
  {
   "cell_type": "code",
   "execution_count": 40,
   "id": "8b384ca4",
   "metadata": {},
   "outputs": [
    {
     "name": "stdout",
     "output_type": "stream",
     "text": [
      "[[ 2.02375287 -0.57972902  1.84751715]\n",
      " [-0.65047921  1.84782097 -0.48039958]\n",
      " [ 0.68663683 -0.14623795  0.11423133]\n",
      " [ 1.28091062 -0.05953974 -0.20206171]\n",
      " [ 0.38949993 -0.31963438  2.54336183]]\n"
     ]
    }
   ],
   "source": [
    "#설명 변수 데이터를 정규화\n",
    "X=preprocessing.StandardScaler().fit(X).transform(X)\n",
    "print(X[:5])"
   ]
  },
  {
   "cell_type": "code",
   "execution_count": 41,
   "id": "4b434af2",
   "metadata": {},
   "outputs": [],
   "source": [
    "#DBSCAN 모형 객체 생성\n",
    "#eps=0.2: 반지름값 설정\n",
    "#min_samples=5: 클러스터의 포인트의 갯수가 최소 5개는 존재해야 클러스터로 인정\n",
    "dbm=cluster.DBSCAN(eps=0.2, min_samples=5)"
   ]
  },
  {
   "cell_type": "code",
   "execution_count": 42,
   "id": "a67dc403",
   "metadata": {},
   "outputs": [
    {
     "name": "stdout",
     "output_type": "stream",
     "text": [
      "[-1 -1 -1 -1 -1 -1 -1 -1 -1 -1 -1 -1 -1  0 -1 -1 -1 -1 -1 -1  2 -1  0 -1\n",
      " -1 -1 -1 -1  0 -1 -1 -1 -1 -1  0  3 -1 -1 -1 -1 -1 -1 -1  0 -1 -1  1  0\n",
      " -1 -1 -1  0 -1 -1 -1 -1  0 -1  0  0 -1 -1  0 -1 -1 -1  0  0 -1 -1  0 -1\n",
      " -1 -1  0 -1 -1 -1  0  2  0  0  0  0  0 -1 -1 -1  0 -1  0 -1 -1  0 -1  0\n",
      " -1  0  0 -1 -1 -1 -1  1  0 -1  0  0 -1 -1 -1  0 -1 -1 -1 -1 -1  0  1 -1\n",
      " -1  0  2  0 -1 -1  1 -1 -1 -1  0  0  0 -1 -1  0 -1 -1 -1  0  0 -1 -1 -1\n",
      " -1  0 -1 -1 -1  0 -1 -1 -1  0 -1  0  0 -1 -1 -1 -1 -1  0 -1  0  0 -1 -1\n",
      " -1 -1 -1  0 -1 -1 -1  1  0  3  1 -1  0  0 -1  0 -1 -1  0  0  2 -1 -1  3\n",
      "  0  0 -1 -1 -1 -1  0 -1  0  0 -1  0  0  0 -1 -1  0 -1 -1 -1 -1 -1  2  0\n",
      " -1 -1 -1 -1 -1 -1 -1 -1 -1 -1 -1 -1 -1 -1  0 -1 -1 -1  0 -1 -1 -1 -1 -1\n",
      " -1 -1 -1 -1 -1 -1 -1 -1 -1  0 -1 -1 -1  0  0 -1 -1  0 -1  3  0  2 -1 -1\n",
      " -1 -1  0 -1 -1 -1  0 -1  0  0 -1 -1 -1 -1 -1  1 -1  0  1 -1  0  0  1 -1\n",
      "  2 -1  0 -1 -1 -1 -1  0 -1 -1  1  0 -1  0 -1 -1  0  3  0 -1 -1 -1  2 -1\n",
      " -1 -1 -1  0  0  0  1 -1 -1 -1 -1 -1 -1 -1 -1  0 -1  0 -1  0 -1 -1  0  0\n",
      " -1 -1 -1  0 -1  0 -1 -1  0 -1 -1 -1  0  1 -1 -1 -1  0  1  1  1 -1 -1 -1\n",
      " -1 -1 -1 -1 -1 -1 -1 -1 -1 -1 -1 -1 -1 -1 -1 -1 -1  0 -1 -1 -1  0 -1  0\n",
      "  1  1  1  1  1  1  1  1  1  1  1  1  1  1  1  1  1  1  1  1  1  1  1  1\n",
      "  1  1  1  1  1  1  0]\n"
     ]
    }
   ],
   "source": [
    "#모형학습\n",
    "dbm.fit(X)\n",
    "#에측(군집)\n",
    "cluster_label=dbm.labels_\n",
    "print(cluster_label)"
   ]
  },
  {
   "cell_type": "code",
   "execution_count": 43,
   "id": "b5516687",
   "metadata": {},
   "outputs": [
    {
     "data": {
      "text/html": [
       "<div>\n",
       "<style scoped>\n",
       "    .dataframe tbody tr th:only-of-type {\n",
       "        vertical-align: middle;\n",
       "    }\n",
       "\n",
       "    .dataframe tbody tr th {\n",
       "        vertical-align: top;\n",
       "    }\n",
       "\n",
       "    .dataframe thead th {\n",
       "        text-align: right;\n",
       "    }\n",
       "</style>\n",
       "<table border=\"1\" class=\"dataframe\">\n",
       "  <thead>\n",
       "    <tr style=\"text-align: right;\">\n",
       "      <th></th>\n",
       "      <th>지역</th>\n",
       "      <th>학교명</th>\n",
       "      <th>코드</th>\n",
       "      <th>유형</th>\n",
       "      <th>주야</th>\n",
       "      <th>...</th>\n",
       "      <th>location</th>\n",
       "      <th>code</th>\n",
       "      <th>type</th>\n",
       "      <th>day</th>\n",
       "      <th>Cluster</th>\n",
       "    </tr>\n",
       "  </thead>\n",
       "  <tbody>\n",
       "    <tr>\n",
       "      <th>0</th>\n",
       "      <td>성북구</td>\n",
       "      <td>서울대학교사범대학부설중학교</td>\n",
       "      <td>3</td>\n",
       "      <td>국립</td>\n",
       "      <td>주간</td>\n",
       "      <td>...</td>\n",
       "      <td>16</td>\n",
       "      <td>0</td>\n",
       "      <td>1</td>\n",
       "      <td>0</td>\n",
       "      <td>-1</td>\n",
       "    </tr>\n",
       "    <tr>\n",
       "      <th>1</th>\n",
       "      <td>종로구</td>\n",
       "      <td>서울대학교사범대학부설여자중학교</td>\n",
       "      <td>3</td>\n",
       "      <td>국립</td>\n",
       "      <td>주간</td>\n",
       "      <td>...</td>\n",
       "      <td>22</td>\n",
       "      <td>0</td>\n",
       "      <td>1</td>\n",
       "      <td>0</td>\n",
       "      <td>-1</td>\n",
       "    </tr>\n",
       "    <tr>\n",
       "      <th>2</th>\n",
       "      <td>강남구</td>\n",
       "      <td>개원중학교</td>\n",
       "      <td>3</td>\n",
       "      <td>공립</td>\n",
       "      <td>주간</td>\n",
       "      <td>...</td>\n",
       "      <td>0</td>\n",
       "      <td>0</td>\n",
       "      <td>0</td>\n",
       "      <td>0</td>\n",
       "      <td>-1</td>\n",
       "    </tr>\n",
       "    <tr>\n",
       "      <th>3</th>\n",
       "      <td>강남구</td>\n",
       "      <td>개포중학교</td>\n",
       "      <td>3</td>\n",
       "      <td>공립</td>\n",
       "      <td>주간</td>\n",
       "      <td>...</td>\n",
       "      <td>0</td>\n",
       "      <td>0</td>\n",
       "      <td>0</td>\n",
       "      <td>0</td>\n",
       "      <td>-1</td>\n",
       "    </tr>\n",
       "    <tr>\n",
       "      <th>4</th>\n",
       "      <td>서초구</td>\n",
       "      <td>경원중학교</td>\n",
       "      <td>3</td>\n",
       "      <td>공립</td>\n",
       "      <td>주간</td>\n",
       "      <td>...</td>\n",
       "      <td>14</td>\n",
       "      <td>0</td>\n",
       "      <td>0</td>\n",
       "      <td>0</td>\n",
       "      <td>-1</td>\n",
       "    </tr>\n",
       "  </tbody>\n",
       "</table>\n",
       "<p>5 rows × 25 columns</p>\n",
       "</div>"
      ],
      "text/plain": [
       "    지역               학교명  코드  유형  주야  ...  location  code  type  day  Cluster\n",
       "0  성북구    서울대학교사범대학부설중학교   3  국립  주간  ...        16     0     1    0       -1\n",
       "1  종로구  서울대학교사범대학부설여자중학교   3  국립  주간  ...        22     0     1    0       -1\n",
       "2  강남구             개원중학교   3  공립  주간  ...         0     0     0    0       -1\n",
       "3  강남구             개포중학교   3  공립  주간  ...         0     0     0    0       -1\n",
       "4  서초구             경원중학교   3  공립  주간  ...        14     0     0    0       -1\n",
       "\n",
       "[5 rows x 25 columns]"
      ]
     },
     "execution_count": 43,
     "metadata": {},
     "output_type": "execute_result"
    }
   ],
   "source": [
    "#예측결과를 데이터프레임에 추가\n",
    "df['Cluster']=cluster_label\n",
    "df.head()"
   ]
  },
  {
   "cell_type": "code",
   "execution_count": 44,
   "id": "5c967df2",
   "metadata": {},
   "outputs": [
    {
     "name": "stdout",
     "output_type": "stream",
     "text": [
      "<class 'pandas.core.frame.DataFrame'>\n",
      "RangeIndex: 415 entries, 0 to 414\n",
      "Data columns (total 25 columns):\n",
      " #   Column    Non-Null Count  Dtype  \n",
      "---  ------    --------------  -----  \n",
      " 0   지역        415 non-null    object \n",
      " 1   학교명       415 non-null    object \n",
      " 2   코드        415 non-null    int64  \n",
      " 3   유형        415 non-null    object \n",
      " 4   주야        415 non-null    object \n",
      " 5   남학생수      415 non-null    int64  \n",
      " 6   여학생수      415 non-null    int64  \n",
      " 7   일반고       415 non-null    float64\n",
      " 8   특성화고      415 non-null    float64\n",
      " 9   과학고       415 non-null    float64\n",
      " 10  외고_국제고    415 non-null    float64\n",
      " 11  예고_체고     415 non-null    float64\n",
      " 12  마이스터고     415 non-null    float64\n",
      " 13  자사고       415 non-null    float64\n",
      " 14  자공고       415 non-null    float64\n",
      " 15  기타진학      415 non-null    float64\n",
      " 16  취업        415 non-null    int64  \n",
      " 17  미상        415 non-null    float64\n",
      " 18  위도        415 non-null    float64\n",
      " 19  경도        415 non-null    float64\n",
      " 20  location  415 non-null    int32  \n",
      " 21  code      415 non-null    int64  \n",
      " 22  type      415 non-null    int32  \n",
      " 23  day       415 non-null    int32  \n",
      " 24  Cluster   415 non-null    int64  \n",
      "dtypes: float64(12), int32(3), int64(6), object(4)\n",
      "memory usage: 76.3+ KB\n"
     ]
    }
   ],
   "source": [
    "df.info()"
   ]
  },
  {
   "cell_type": "code",
   "execution_count": 45,
   "id": "d43bd0b7",
   "metadata": {},
   "outputs": [
    {
     "data": {
      "text/plain": [
       "array([-1,  0,  2,  3,  1], dtype=int64)"
      ]
     },
     "execution_count": 45,
     "metadata": {},
     "output_type": "execute_result"
    }
   ],
   "source": [
    "df['Cluster'].unique() #4개의 클러스토 그룹화 \n",
    "# -1 그룹: 어느 클러스터에도 속하지 못한 데이터. 노이즈 그룹(Noise)"
   ]
  },
  {
   "cell_type": "code",
   "execution_count": 48,
   "id": "147f5d90",
   "metadata": {},
   "outputs": [
    {
     "name": "stdout",
     "output_type": "stream",
     "text": [
      "* key: -1\n",
      "* number: 255\n",
      "    지역               학교명  유형    과학고  외고_국제고    자사고\n",
      "0  성북구    서울대학교사범대학부설중학교  국립  0.018   0.007  0.227\n",
      "1  종로구  서울대학교사범대학부설여자중학교  국립  0.000   0.035  0.043\n",
      "2  강남구             개원중학교  공립  0.009   0.012  0.090\n",
      "3  강남구             개포중학교  공립  0.013   0.013  0.065\n",
      "4  서초구             경원중학교  공립  0.007   0.010  0.282\n",
      "\n",
      "\n",
      "* key: 0\n",
      "* number: 102\n",
      "     지역      학교명  유형  과학고  외고_국제고    자사고\n",
      "13  서초구  동덕여자중학교  사립  0.0   0.022  0.038\n",
      "22  강남구    수서중학교  공립  0.0   0.019  0.044\n",
      "28  서초구    언남중학교  공립  0.0   0.015  0.050\n",
      "34  강남구    은성중학교  사립  0.0   0.016  0.065\n",
      "43  송파구    거원중학교  공립  0.0   0.021  0.054\n",
      "\n",
      "\n",
      "* key: 1\n",
      "* number: 45\n",
      "       지역      학교명  유형  과학고  외고_국제고    자사고\n",
      "46    강동구    동신중학교  사립  0.0     0.0  0.044\n",
      "103   양천구    신원중학교  공립  0.0     0.0  0.006\n",
      "118   구로구    개봉중학교  공립  0.0     0.0  0.012\n",
      "126  영등포구    대림중학교  공립  0.0     0.0  0.050\n",
      "175   중랑구  혜원여자중학교  사립  0.0     0.0  0.004\n",
      "\n",
      "\n",
      "* key: 2\n",
      "* number: 8\n",
      "      지역    학교명  유형    과학고  외고_국제고    자사고\n",
      "20   서초구  서초중학교  공립  0.003   0.013  0.085\n",
      "79   강동구  한영중학교  사립  0.004   0.011  0.077\n",
      "122  구로구  구일중학교  공립  0.004   0.012  0.079\n",
      "188  동작구  대방중학교  공립  0.003   0.015  0.076\n",
      "214  도봉구  도봉중학교  공립  0.004   0.011  0.072\n",
      "\n",
      "\n",
      "* key: 3\n",
      "* number: 5\n",
      "       지역    학교명  유형  과학고  외고_국제고    자사고\n",
      "35    서초구  이수중학교  공립  0.0   0.004  0.100\n",
      "177  동대문구  휘경중학교  공립  0.0   0.004  0.094\n",
      "191   동작구  문창중학교  공립  0.0   0.004  0.084\n",
      "259   마포구  성사중학교  공립  0.0   0.004  0.078\n",
      "305   강북구  강북중학교  공립  0.0   0.004  0.088\n",
      "\n",
      "\n"
     ]
    }
   ],
   "source": [
    "# 클러스터별로 그룹화하여 그룹별 내용 5개만 출력하기\n",
    "# 조회되는 컬럼은 0,1,3,9,10,13만 조회\n",
    "# cluster컬럼으로 그룹화\n",
    "grouped=df.groupby('Cluster')\n",
    "grouped\n",
    "\n",
    "for key, group in grouped:\n",
    "    print('* key:',key)\n",
    "    print('* number:',len(group))\n",
    "    print(group.iloc[:,[0,1,3,9,10,13]].head())\n",
    "    print('\\n')"
   ]
  },
  {
   "cell_type": "code",
   "execution_count": 52,
   "id": "f6eefde5",
   "metadata": {},
   "outputs": [
    {
     "name": "stdout",
     "output_type": "stream",
     "text": [
      "<class 'pandas.core.frame.DataFrame'>\n",
      "RangeIndex: 415 entries, 0 to 414\n",
      "Data columns (total 25 columns):\n",
      " #   Column    Non-Null Count  Dtype  \n",
      "---  ------    --------------  -----  \n",
      " 0   지역        415 non-null    object \n",
      " 1   학교명       415 non-null    object \n",
      " 2   코드        415 non-null    int64  \n",
      " 3   유형        415 non-null    object \n",
      " 4   주야        415 non-null    object \n",
      " 5   남학생수      415 non-null    int64  \n",
      " 6   여학생수      415 non-null    int64  \n",
      " 7   일반고       415 non-null    float64\n",
      " 8   특성화고      415 non-null    float64\n",
      " 9   과학고       415 non-null    float64\n",
      " 10  외고_국제고    415 non-null    float64\n",
      " 11  예고_체고     415 non-null    float64\n",
      " 12  마이스터고     415 non-null    float64\n",
      " 13  자사고       415 non-null    float64\n",
      " 14  자공고       415 non-null    float64\n",
      " 15  기타진학      415 non-null    float64\n",
      " 16  취업        415 non-null    int64  \n",
      " 17  미상        415 non-null    float64\n",
      " 18  위도        415 non-null    float64\n",
      " 19  경도        415 non-null    float64\n",
      " 20  location  415 non-null    int32  \n",
      " 21  code      415 non-null    int64  \n",
      " 22  type      415 non-null    int32  \n",
      " 23  day       415 non-null    int32  \n",
      " 24  Cluster   415 non-null    int64  \n",
      "dtypes: float64(12), int32(3), int64(6), object(4)\n",
      "memory usage: 76.3+ KB\n"
     ]
    }
   ],
   "source": [
    "#클러스터별로 지도의 색으로 표시하기\n",
    "#그래프로 표현 - 시각화 \n",
    "colors={-1:'grey',0:'coral',1:'blue',2:'green',3:'red',4:'purplr',5:'orange',6:'brown',\n",
    "      7:'brick',8:'yellow',9:'magenta',10:'cyan',11:'tan'}\n",
    "cluster_map=folium.Map(location=[37.55,126.98],zoom_start=12)\n",
    "\n",
    "for name,lat,lng,clus in zip(df.학교명,df.위도,df.경도,df.Cluster):\n",
    "    folium.CircleMarker([lat,lng],\n",
    "                       radius=5,\n",
    "                       color=colors[clus],\n",
    "                       fill=True,\n",
    "                       fill_color=colors[clus],\n",
    "                       fill_opacity=0.7,\n",
    "                       popup=name,\n",
    "                       tooltip=name).add_to(cluster_map)\n",
    "cluster_map.save('C:/pyy/seoul_mschool_cluster.html')    \n",
    "df.info()"
   ]
  },
  {
   "cell_type": "code",
   "execution_count": 55,
   "id": "db25869d",
   "metadata": {},
   "outputs": [
    {
     "name": "stdout",
     "output_type": "stream",
     "text": [
      "     과학고  외고_국제고    자사고  type\n",
      "0  0.018   0.007  0.227     1\n",
      "1  0.000   0.035  0.043     1\n",
      "2  0.009   0.012  0.090     0\n",
      "3  0.013   0.013  0.065     0\n",
      "4  0.007   0.010  0.282     0\n"
     ]
    },
    {
     "data": {
      "text/plain": [
       "-1     281\n",
       " 1      59\n",
       " 5      18\n",
       " 3      11\n",
       " 0       8\n",
       " 4       7\n",
       " 2       6\n",
       " 6       5\n",
       " 7       5\n",
       " 8       5\n",
       " 9       5\n",
       " 10      5\n",
       "Name: Cluster2, dtype: int64"
      ]
     },
     "execution_count": 55,
     "metadata": {},
     "output_type": "execute_result"
    }
   ],
   "source": [
    "# 설명변수 X2\n",
    "# 과학고, 외고국제고, 자사고진학율+ 유형을 넣어서 클러스터 생성하기\n",
    "# 클러스터별로 지도작성하기\n",
    "columns_list2=[9,10,13,22]\n",
    "X2=df.iloc[:,columns_list2] #설명변수\n",
    "print(X2[:5])\n",
    "#설명변수 정규화\n",
    "X2=preprocessing.StandardScaler().fit(X2).transform(X2)\n",
    "dbm2=cluster.DBSCAN(eps=0.2,min_samples=5)\n",
    "dbm2.fit(X2)\n",
    "df['Cluster2']=dbm2.labels_\n",
    "grouped2_cols=[0,1,3]+columns_list2\n",
    "grouped2_cols\n",
    "df['Cluster2'].value_counts()"
   ]
  },
  {
   "cell_type": "code",
   "execution_count": 57,
   "id": "e620c1ef",
   "metadata": {},
   "outputs": [
    {
     "name": "stdout",
     "output_type": "stream",
     "text": [
      "* key: -1\n",
      "* number: 281\n",
      "    지역               학교명  유형    과학고  외고_국제고    자사고  type\n",
      "0  성북구    서울대학교사범대학부설중학교  국립  0.018   0.007  0.227     1\n",
      "1  종로구  서울대학교사범대학부설여자중학교  국립  0.000   0.035  0.043     1\n",
      "2  강남구             개원중학교  공립  0.009   0.012  0.090     0\n",
      "3  강남구             개포중학교  공립  0.013   0.013  0.065     0\n",
      "4  서초구             경원중학교  공립  0.007   0.010  0.282     0\n",
      "\n",
      "\n",
      "* key: 0\n",
      "* number: 8\n",
      "      지역    학교명  유형  과학고  외고_국제고    자사고  type\n",
      "22   강남구  수서중학교  공립  0.0   0.019  0.044     0\n",
      "43   송파구  거원중학교  공립  0.0   0.021  0.054     0\n",
      "51   송파구  방이중학교  공립  0.0   0.021  0.068     0\n",
      "93   강서구  방원중학교  공립  0.0   0.019  0.057     0\n",
      "164  중랑구  원묵중학교  공립  0.0   0.020  0.062     0\n",
      "\n",
      "\n",
      "* key: 1\n",
      "* number: 59\n",
      "     지역    학교명  유형  과학고  외고_국제고    자사고  type\n",
      "28  서초구  언남중학교  공립  0.0   0.015  0.050     0\n",
      "47  강동구  둔촌중학교  공립  0.0   0.010  0.026     0\n",
      "58  강동구  성내중학교  공립  0.0   0.013  0.026     0\n",
      "62  강동구  신명중학교  공립  0.0   0.009  0.031     0\n",
      "67  송파구  오금중학교  공립  0.0   0.015  0.072     0\n",
      "\n",
      "\n",
      "* key: 2\n",
      "* number: 6\n",
      "       지역      학교명  유형  과학고  외고_국제고    자사고  type\n",
      "46    강동구    동신중학교  사립  0.0     0.0  0.044     2\n",
      "279  서대문구  중앙여자중학교  사립  0.0     0.0  0.036     2\n",
      "282  서대문구    한성중학교  사립  0.0     0.0  0.042     2\n",
      "349    중구    장충중학교  사립  0.0     0.0  0.038     2\n",
      "354    중구    한양중학교  사립  0.0     0.0  0.034     2\n",
      "\n",
      "\n",
      "* key: 3\n",
      "* number: 11\n",
      "      지역      학교명  유형  과학고  외고_국제고    자사고  type\n",
      "103  양천구    신원중학교  공립  0.0     0.0  0.006     0\n",
      "118  구로구    개봉중학교  공립  0.0     0.0  0.012     0\n",
      "356  송파구  서울체육중학교  공립  0.0     0.0  0.000     0\n",
      "391  광진구   서울광진학교  공립  0.0     0.0  0.000     0\n",
      "396  관악구   서울정문학교  공립  0.0     0.0  0.000     0\n",
      "\n",
      "\n",
      "* key: 4\n",
      "* number: 7\n",
      "      지역    학교명  유형    과학고  외고_국제고    자사고  type\n",
      "20   서초구  서초중학교  공립  0.003   0.013  0.085     0\n",
      "122  구로구  구일중학교  공립  0.004   0.012  0.079     0\n",
      "188  동작구  대방중학교  공립  0.003   0.015  0.076     0\n",
      "214  도봉구  도봉중학교  공립  0.004   0.011  0.072     0\n",
      "261  마포구  성서중학교  공립  0.004   0.016  0.067     0\n",
      "\n",
      "\n",
      "* key: 5\n",
      "* number: 18\n",
      "      지역      학교명  유형  과학고  외고_국제고    자사고  type\n",
      "175  중랑구  혜원여자중학교  사립  0.0     0.0  0.004     2\n",
      "387  강서구     교남학교  사립  0.0     0.0  0.000     2\n",
      "388  서초구    다니엘학교  사립  0.0     0.0  0.000     2\n",
      "389  강남구     밀알학교  사립  0.0     0.0  0.000     2\n",
      "390  관악구     새롬학교  사립  0.0     0.0  0.000     2\n",
      "\n",
      "\n",
      "* key: 6\n",
      "* number: 5\n",
      "       지역    학교명  유형  과학고  외고_국제고    자사고  type\n",
      "126  영등포구  대림중학교  공립  0.0     0.0  0.050     0\n",
      "178   동작구  강남중학교  공립  0.0     0.0  0.028     0\n",
      "286   성동구  경수중학교  공립  0.0     0.0  0.043     0\n",
      "298   성동구  성원중학교  공립  0.0     0.0  0.042     0\n",
      "318   강북구  수유중학교  공립  0.0     0.0  0.052     0\n",
      "\n",
      "\n",
      "* key: 7\n",
      "* number: 5\n",
      "       지역    학교명  유형  과학고  외고_국제고    자사고  type\n",
      "35    서초구  이수중학교  공립  0.0   0.004  0.100     0\n",
      "177  동대문구  휘경중학교  공립  0.0   0.004  0.094     0\n",
      "191   동작구  문창중학교  공립  0.0   0.004  0.084     0\n",
      "259   마포구  성사중학교  공립  0.0   0.004  0.078     0\n",
      "305   강북구  강북중학교  공립  0.0   0.004  0.088     0\n",
      "\n",
      "\n",
      "* key: 8\n",
      "* number: 5\n",
      "      지역        학교명  유형  과학고  외고_국제고    자사고  type\n",
      "198  관악구  서울문영여자중학교  사립  0.0   0.021  0.014     2\n",
      "316  강북구    성암여자중학교  사립  0.0   0.020  0.008     2\n",
      "327  성북구    한성여자중학교  사립  0.0   0.022  0.011     2\n",
      "334  종로구    덕성여자중학교  사립  0.0   0.023  0.023     2\n",
      "414  노원구    한국삼육중학교  사립  0.0   0.024  0.010     2\n",
      "\n",
      "\n",
      "* key: 9\n",
      "* number: 5\n",
      "      지역      학교명  유형  과학고  외고_국제고    자사고  type\n",
      "66   송파구  영파여자중학교  사립  0.0   0.010  0.010     2\n",
      "162  중랑구  영란여자중학교  사립  0.0   0.011  0.011     2\n",
      "234  도봉구  정의여자중학교  사립  0.0   0.010  0.005     2\n",
      "339  용산구  보성여자중학교  사립  0.0   0.007  0.013     2\n",
      "344  용산구  신광여자중학교  사립  0.0   0.009  0.017     2\n",
      "\n",
      "\n",
      "* key: 10\n",
      "* number: 5\n",
      "      지역        학교명  유형  과학고  외고_국제고  자사고  type\n",
      "384  종로구      서울농학교  국립  0.0     0.0  0.0     1\n",
      "385  마포구     한국우진학교  국립  0.0     0.0  0.0     1\n",
      "386  종로구      서울맹학교  국립  0.0     0.0  0.0     1\n",
      "410  강남구    국립국악중학교  국립  0.0     0.0  0.0     1\n",
      "411  금천구  국립전통예술중학교  국립  0.0     0.0  0.0     1\n",
      "\n",
      "\n"
     ]
    }
   ],
   "source": [
    "grouped2=df.groupby('Cluster2')\n",
    "for key,group in grouped2:\n",
    "    print('* key:',key)\n",
    "    print('* number:',len(group))\n",
    "    print(group.iloc[:,grouped2_cols].head())\n",
    "    print('\\n')"
   ]
  },
  {
   "cell_type": "code",
   "execution_count": 58,
   "id": "f5bb9882",
   "metadata": {},
   "outputs": [],
   "source": [
    "cluster2_map=folium.Map(location=[37.55,126.98],zoom_start=12)"
   ]
  },
  {
   "cell_type": "code",
   "execution_count": 60,
   "id": "fc4b12de",
   "metadata": {},
   "outputs": [],
   "source": [
    "for name,lat,lng,clus in zip(df.학교명,df.위도,df.경도,df.Cluster2):\n",
    "    folium.CircleMarker([lat,lng],\n",
    "                       radius=5,\n",
    "                       color=colors[clus],\n",
    "                       fill=True,\n",
    "                       fill_color=colors[clus],\n",
    "                       fill_opacity=0.7,\n",
    "                       popup=name,\n",
    "                       tooltip=name).add_to(cluster2_map)\n",
    "\n",
    "cluster2_map.save('C:/pyy/seoul_mschool_cluster2.html')"
   ]
  },
  {
   "cell_type": "code",
   "execution_count": null,
   "id": "75db9ff4",
   "metadata": {},
   "outputs": [],
   "source": []
  }
 ],
 "metadata": {
  "kernelspec": {
   "display_name": "Python 3",
   "language": "python",
   "name": "python3"
  },
  "language_info": {
   "codemirror_mode": {
    "name": "ipython",
    "version": 3
   },
   "file_extension": ".py",
   "mimetype": "text/x-python",
   "name": "python",
   "nbconvert_exporter": "python",
   "pygments_lexer": "ipython3",
   "version": "3.8.8"
  }
 },
 "nbformat": 4,
 "nbformat_minor": 5
}
