{
 "cells": [
  {
   "cell_type": "markdown",
   "id": "e0362feb",
   "metadata": {},
   "source": [
    "# 포털사이트 예제"
   ]
  },
  {
   "cell_type": "code",
   "execution_count": 1,
   "id": "fbb1022f",
   "metadata": {},
   "outputs": [],
   "source": [
    "html='''\n",
    "<html>\n",
    "<body>\n",
    "<div id='potal'>\n",
    "<h1>포털목록</h1>\n",
    "<ul class=='items'>\n",
    "<li><a href='http://www.naver.com'>naver</a><li>\n",
    "<li><a href='http://www.daum.net'>daum</a><li>\n",
    "</ul></div></body>\n",
    "<html>\n",
    "'''"
   ]
  },
  {
   "cell_type": "code",
   "execution_count": 2,
   "id": "7c1a7770",
   "metadata": {},
   "outputs": [
    {
     "name": "stdout",
     "output_type": "stream",
     "text": [
      "Requirement already satisfied: beautifulsoup4 in c:\\users\\k\\anaconda3\\lib\\site-packages (4.6.0)\n"
     ]
    }
   ],
   "source": [
    "!pip install beautifulsoup4"
   ]
  },
  {
   "cell_type": "code",
   "execution_count": 3,
   "id": "febf46a3",
   "metadata": {},
   "outputs": [],
   "source": [
    "from bs4 import BeautifulSoup"
   ]
  },
  {
   "cell_type": "code",
   "execution_count": 4,
   "id": "55e2d73a",
   "metadata": {},
   "outputs": [
    {
     "name": "stdout",
     "output_type": "stream",
     "text": [
      "naver > http://www.naver.com\n",
      "daum > http://www.daum.net\n"
     ]
    }
   ],
   "source": [
    "#html.parser : html 분석기\n",
    "soup = BeautifulSoup(html,'html.parser')\n",
    "links = soup.find_all('a') #a태그 전부 찾아서 리스트 리턴 \n",
    "for a in links:\n",
    "    #attrs: 속성값 \n",
    "    #a.atts['href']: 이름이 href인 속성의 값을 리턴\n",
    "    href = a.attrs['href'] #http://www.daum.net\n",
    "    text = a.string #a태그의 내용 #daum\n",
    "    print(text,'>',href)"
   ]
  },
  {
   "cell_type": "code",
   "execution_count": 8,
   "id": "349b33da",
   "metadata": {},
   "outputs": [
    {
     "ename": "AttributeError",
     "evalue": "'NoneType' object has no attribute 'string'",
     "output_type": "error",
     "traceback": [
      "\u001b[1;31m---------------------------------------------------------------------------\u001b[0m",
      "\u001b[1;31mAttributeError\u001b[0m                            Traceback (most recent call last)",
      "\u001b[1;32m<ipython-input-8-f0ae9ddd8f63>\u001b[0m in \u001b[0;36m<module>\u001b[1;34m\u001b[0m\n\u001b[0;32m      9\u001b[0m '''\n\u001b[0;32m     10\u001b[0m \u001b[1;33m\u001b[0m\u001b[0m\n\u001b[1;32m---> 11\u001b[1;33m \u001b[0mh1\u001b[0m\u001b[1;33m=\u001b[0m\u001b[0msoup\u001b[0m\u001b[1;33m.\u001b[0m\u001b[0mselect_one\u001b[0m\u001b[1;33m(\u001b[0m\u001b[1;34m'div#potal>h1'\u001b[0m\u001b[1;33m)\u001b[0m\u001b[1;33m.\u001b[0m\u001b[0mstring\u001b[0m\u001b[1;33m\u001b[0m\u001b[1;33m\u001b[0m\u001b[0m\n\u001b[0m\u001b[0;32m     12\u001b[0m \u001b[0mprint\u001b[0m\u001b[1;33m(\u001b[0m\u001b[1;34m'h1='\u001b[0m\u001b[1;33m,\u001b[0m\u001b[0mh1\u001b[0m\u001b[1;33m)\u001b[0m\u001b[1;33m\u001b[0m\u001b[1;33m\u001b[0m\u001b[0m\n\u001b[0;32m     13\u001b[0m '''\n",
      "\u001b[1;31mAttributeError\u001b[0m: 'NoneType' object has no attribute 'string'"
     ]
    }
   ],
   "source": [
    "#select_one : 선택된 태그 1개\n",
    "'''\n",
    "div#potal >h1 : id속성의 값이 potal인 div태그의 하위태그 중 태그의 이름이 h1\n",
    "=>선택자\n",
    "#potal : id = 'potal' 태그\n",
    ">: 하위태그, 자식노드\n",
    ":하위태그, 자손노드 \n",
    ".string: 선택된 태그의 값(Text노드의 값)\n",
    "'''\n",
    "\n",
    "h1=soup.select_one('div#potal>h1').string\n",
    "print('h1=',h1)\n",
    "'''\n",
    "div#potal: id='potal'인 div 태그\n",
    "ul.items: class = 'items'인 ul 태그\n",
    "'''\n",
    "\n",
    "#li_list : <li...>...</li> 태그 2개\n",
    "li_list = soup.select('div#potal>ul.items>li')\n",
    "print(type(li_list))\n",
    "for li in li_list:\n",
    "    print(li)\n",
    "    print('li=',li.string)\n"
   ]
  },
  {
   "cell_type": "code",
   "execution_count": 9,
   "id": "c1dbbec6",
   "metadata": {},
   "outputs": [
    {
     "name": "stdout",
     "output_type": "stream",
     "text": [
      "<http.client.HTTPResponse object at 0x000001C8BCF443A0>\n",
      "기상청 육상 중기예보\n",
      "○ (강수) 15일(금)~16일(토)은 강원영동에 비가 오겠습니다.<br />○ (기온) 13일(수)~15일(금) 아침 기온은 11~18도, 낮 기온은 18~26도로 오늘(9일, 아침최저기온 16~21도, 낮최고기온 21~30도)보다 낮겠습니다. <br />          16일(토)~19일(화) 아침 기온은 4~17도, 낮 기온은 15~22도로 13~15일보다 낮겠습니다.<br /><br />* 특히, 18일(월)~19일(화) 아침 기온이 전국 대부분 지역에서 5~10도 이하로 내려가 쌀쌀하겠고, 산지를 중심으로 서리가 내리는 곳이 있겠으니, 농작물 관리에 유의하기 바랍니다.\n"
     ]
    }
   ],
   "source": [
    "#인터넷에서 데이터 가져오기 \n",
    "from bs4 import BeautifulSoup\n",
    "import urllib.request as req # 인터넷에 연결할 수 있는 모듈 \n",
    "\n",
    "url = 'https://www.weather.go.kr/weather/forecast/mid-term-rss3.jsp'\n",
    "res=req.urlopen(url) # 인터넷(url)에 연결\n",
    "#url이 전달해준 데이터\n",
    "print(res)\n",
    "soup=BeautifulSoup(res,'html.parser')\n",
    "title = soup.find('title').string\n",
    "wf=soup.find('wf').string\n",
    "print(title)\n",
    "print(wf)"
   ]
  },
  {
   "cell_type": "code",
   "execution_count": 11,
   "id": "d359683e",
   "metadata": {},
   "outputs": [
    {
     "name": "stdout",
     "output_type": "stream",
     "text": [
      "○ (강수) 15일(금)~16일(토)은 강원영동에 비가 오겠습니다.\n",
      "○ (기온) 13일(수)~15일(금) 아침 기온은 11~18도, 낮 기온은 18~26도로 오늘(9일, 아침최저기온 16~21도, 낮최고기온 21~30도)보다 낮겠습니다. \n",
      "          16일(토)~19일(화) 아침 기온은 4~17도, 낮 기온은 15~22도로 13~15일보다 낮겠습니다.\n",
      "\n",
      "* 특히, 18일(월)~19일(화) 아침 기온이 전국 대부분 지역에서 5~10도 이하로 내려가 쌀쌀하겠고, 산지를 중심으로 서리가 내리는 곳이 있겠으니, 농작물 관리에 유의하기 바랍니다.\n"
     ]
    }
   ],
   "source": [
    "'''\n",
    "<![CDATA[....]]>: CDATA섹션\n",
    "=> 순수문자열의 영역\n",
    "마크업언어로 파싱하지 않고 순수문자열로 인식\n",
    "<태그> : 태그\n",
    "10<5: True\n",
    "'''\n",
    "for w in wf.split('<br />'):\n",
    "    print(w)"
   ]
  },
  {
   "cell_type": "code",
   "execution_count": 12,
   "id": "29573eba",
   "metadata": {},
   "outputs": [],
   "source": [
    "#https://www.kma.go.kr/weather/forecast/mid-term-rss3.jsp\n",
    "#내용을 받아서 forcast.xml 파일로 저장하기\n",
    "#import os.path\n",
    "#forcast.xml 파일이 없으면 \n",
    "#if not os.path.exists('forcast.xml'):\n",
    "#req.urlretrieve(url,'forcast.xml') # 파일에 저장 "
   ]
  },
  {
   "cell_type": "code",
   "execution_count": 15,
   "id": "f5fbe170",
   "metadata": {},
   "outputs": [
    {
     "ename": "AttributeError",
     "evalue": "'NoneType' object has no attribute 'string'",
     "output_type": "error",
     "traceback": [
      "\u001b[1;31m---------------------------------------------------------------------------\u001b[0m",
      "\u001b[1;31mAttributeError\u001b[0m                            Traceback (most recent call last)",
      "\u001b[1;32m<ipython-input-15-ed05c2a5a17c>\u001b[0m in \u001b[0;36m<module>\u001b[1;34m\u001b[0m\n\u001b[0;32m      1\u001b[0m \u001b[1;31m#BeautifulSoup 객체를 이용해서 작성된 날짜와 시간정보 출력하기\u001b[0m\u001b[1;33m\u001b[0m\u001b[1;33m\u001b[0m\u001b[1;33m\u001b[0m\u001b[0m\n\u001b[1;32m----> 2\u001b[1;33m \u001b[0mpubDate\u001b[0m \u001b[1;33m=\u001b[0m \u001b[0msoup\u001b[0m\u001b[1;33m.\u001b[0m\u001b[0mselect_one\u001b[0m\u001b[1;33m(\u001b[0m\u001b[1;34m'rss pubDate'\u001b[0m\u001b[1;33m)\u001b[0m\u001b[1;33m.\u001b[0m\u001b[0mstring\u001b[0m\u001b[1;33m\u001b[0m\u001b[1;33m\u001b[0m\u001b[0m\n\u001b[0m\u001b[0;32m      3\u001b[0m \u001b[0mprint\u001b[0m\u001b[1;33m(\u001b[0m\u001b[0mpubDate\u001b[0m\u001b[1;33m)\u001b[0m\u001b[1;33m\u001b[0m\u001b[1;33m\u001b[0m\u001b[0m\n",
      "\u001b[1;31mAttributeError\u001b[0m: 'NoneType' object has no attribute 'string'"
     ]
    }
   ],
   "source": [
    "#BeautifulSoup 객체를 이용해서 작성된 날짜와 시간정보 출력하기\n",
    "pubDate = soup.select_one('rss pubDate').string\n",
    "print(pubDate)"
   ]
  },
  {
   "cell_type": "code",
   "execution_count": 14,
   "id": "428c78f9",
   "metadata": {},
   "outputs": [
    {
     "ename": "AttributeError",
     "evalue": "'NoneType' object has no attribute 'string'",
     "output_type": "error",
     "traceback": [
      "\u001b[1;31m---------------------------------------------------------------------------\u001b[0m",
      "\u001b[1;31mAttributeError\u001b[0m                            Traceback (most recent call last)",
      "\u001b[1;32m<ipython-input-14-e4c9245d024c>\u001b[0m in \u001b[0;36m<module>\u001b[1;34m\u001b[0m\n\u001b[0;32m      1\u001b[0m \u001b[0mrss\u001b[0m \u001b[1;33m=\u001b[0m \u001b[0msoup\u001b[0m\u001b[1;33m.\u001b[0m\u001b[0mfind\u001b[0m\u001b[1;33m(\u001b[0m\u001b[1;34m'rss'\u001b[0m\u001b[1;33m)\u001b[0m\u001b[1;33m\u001b[0m\u001b[1;33m\u001b[0m\u001b[0m\n\u001b[1;32m----> 2\u001b[1;33m \u001b[0mpubDate\u001b[0m\u001b[1;33m=\u001b[0m\u001b[0mrss\u001b[0m\u001b[1;33m.\u001b[0m\u001b[0mfind\u001b[0m\u001b[1;33m(\u001b[0m\u001b[1;34m'pubDate'\u001b[0m\u001b[1;33m)\u001b[0m\u001b[1;33m.\u001b[0m\u001b[0mstring\u001b[0m\u001b[1;33m\u001b[0m\u001b[1;33m\u001b[0m\u001b[0m\n\u001b[0m\u001b[0;32m      3\u001b[0m \u001b[0mprint\u001b[0m\u001b[1;33m(\u001b[0m\u001b[0mpubDate\u001b[0m\u001b[1;33m)\u001b[0m\u001b[1;33m\u001b[0m\u001b[1;33m\u001b[0m\u001b[0m\n",
      "\u001b[1;31mAttributeError\u001b[0m: 'NoneType' object has no attribute 'string'"
     ]
    }
   ],
   "source": [
    "rss = soup.find('rss')\n",
    "pubDate=rss.find('pubDate').string\n",
    "print(pubDate)"
   ]
  },
  {
   "cell_type": "code",
   "execution_count": 16,
   "id": "088cb3e5",
   "metadata": {},
   "outputs": [
    {
     "name": "stdout",
     "output_type": "stream",
     "text": [
      "서울 구름많음\n",
      "인천 구름많음\n",
      "수원 구름많음\n",
      "파주 구름많음\n",
      "이천 구름많음\n",
      "평택 구름많음\n",
      "춘천 맑음\n",
      "원주 맑음\n",
      "강릉 흐림\n",
      "대전 흐리고 비\n",
      "세종 흐리고 비\n",
      "홍성 흐리고 비\n",
      "청주 흐림\n",
      "충주 흐림\n",
      "영동 흐림\n",
      "광주 흐리고 비\n",
      "목포 흐리고 비\n",
      "여수 흐리고 비\n",
      "순천 흐리고 비\n",
      "광양 흐리고 비\n",
      "나주 흐리고 비\n",
      "전주 흐리고 비\n",
      "군산 흐리고 비\n",
      "정읍 흐리고 비\n",
      "남원 흐리고 비\n",
      "고창 흐리고 비\n",
      "무주 흐리고 비\n",
      "부산 흐리고 비\n",
      "울산 흐리고 비\n",
      "창원 흐리고 비\n",
      "진주 흐리고 비\n",
      "거창 흐리고 비\n",
      "통영 흐리고 비\n",
      "대구 흐리고 비\n",
      "안동 흐리고 비\n",
      "포항 흐리고 비\n",
      "경주 흐리고 비\n",
      "울진 흐리고 비\n",
      "울릉도 흐리고 비\n",
      "제주 흐리고 비\n",
      "서귀포 흐리고 비\n"
     ]
    }
   ],
   "source": [
    "#모든 location 태그의 하위태그 중 city 태그를 조회하기\n",
    "for location in soup.find_all('location'):\n",
    "    name = location.find('city').string # 도시명\n",
    "    weather = location.find('wf').string # 흐림\n",
    "    print(name, weather)"
   ]
  },
  {
   "cell_type": "markdown",
   "id": "93d602d4",
   "metadata": {},
   "source": [
    "# 포털사이트 예제2"
   ]
  },
  {
   "cell_type": "code",
   "execution_count": 19,
   "id": "989efd84",
   "metadata": {},
   "outputs": [
    {
     "name": "stdout",
     "output_type": "stream",
     "text": [
      "Numbers\n",
      "Numbers\n",
      "Numbers\n",
      "Numbers\n",
      "Numbers\n",
      "Numbers\n",
      "Numbers\n",
      "Numbers\n"
     ]
    }
   ],
   "source": [
    "#books.html. 파일에 저장된 html 내용분석\n",
    "from bs4 import BeautifulSoup\n",
    "fp = open('C:/pyy/books.html')\n",
    "soup = BeautifulSoup(fp, 'html.parser')\n",
    "#li 태그들 중 4번째 태그의 값 출력\n",
    "print(soup.select('li')[3].string) #Numbers\n",
    "print(soup.find_all('li')[3].string) #Numbers\n",
    "#태그 중 id = nu인 태그의 값 출력 \n",
    "print(soup.select_one('#nu').string)\n",
    "print(soup.select('#nu')[0].string)\n",
    "#li 태그 중 id=nu인 태그의 값 출력\n",
    "print(soup.select_one('li#nu').string)\n",
    "print(soup.select_one(\"li[id='nu']\").string)\n",
    "#ul태그의 하위 태그인 li 태그 중 id=nu인 태그의 값 출력\n",
    "print(soup.select_one('ul > li#nu').string)\n",
    "#id속성이 bible인 태그의 하위 태그인 li태그 중 id=nu인 태그의 값 출력\n",
    "print(soup.select_one('#bible li#nu').string)\n",
    "      "
   ]
  },
  {
   "cell_type": "code",
   "execution_count": 21,
   "id": "84f0d9c7",
   "metadata": {},
   "outputs": [
    {
     "name": "stdout",
     "output_type": "stream",
     "text": [
      "Numbers\n",
      "Numbers\n",
      "Numbers\n"
     ]
    }
   ],
   "source": [
    "#람다식을 이용하여 출력하기\n",
    "sel=lambda q:print(soup.select_one(q).string)\n",
    "sel('#nu')\n",
    "#li 태그 중 4번째 태그의 값을 출력\n",
    "sel('li:nth-of-type(4)')\n",
    "#id속성이 nu인 li태그의 값을 출력\n",
    "sel(\"li[id='nu']\")"
   ]
  },
  {
   "cell_type": "code",
   "execution_count": 22,
   "id": "a76fe5ea",
   "metadata": {},
   "outputs": [
    {
     "name": "stdout",
     "output_type": "stream",
     "text": [
      "[<h3 class=\"h_lst\"><span class=\"blind\">미국 USD</span></h3>, <h3 class=\"h_lst\"><span class=\"blind\">일본 JPY(100엔)</span></h3>, <h3 class=\"h_lst\"><span class=\"blind\">유럽연합 EUR</span></h3>, <h3 class=\"h_lst\"><span class=\"blind\">중국 CNY</span></h3>, <h3 class=\"h_lst\"><span class=\"blind\">달러/일본 엔</span></h3>, <h3 class=\"h_lst\"><span class=\"blind\">유로/달러</span></h3>, <h3 class=\"h_lst\"><span class=\"blind\">영국 파운드/달러</span></h3>, <h3 class=\"h_lst\"><span class=\"blind\">달러인덱스</span></h3>, <h3 class=\"h_lst\"><span class=\"blind\">WTI</span></h3>, <h3 class=\"h_lst\"><span class=\"blind\">휘발유</span></h3>, <h3 class=\"h_lst\"><span class=\"blind\">국제 금</span></h3>, <h3 class=\"h_lst\"><span class=\"blind\">국내 금</span></h3>]\n",
      "미국 USD\t1,196.005.50\t상승********\n",
      "일본 JPY(100엔)\t1,069.671.09\t상승********\n",
      "유럽연합 EUR\t1,382.826.54\t상승********\n",
      "중국 CNY\t185.310.79\t상승********\n",
      "달러/일본 엔\t112.02000.5000\t상승********\n",
      "유로/달러\t1.15730.0014\t상승********\n",
      "영국 파운드/달러\t1.36360.0015\t상승********\n",
      "달러인덱스\t94.0700 0.1500\t하락********\n",
      "WTI\t79.351.05\t상승********\n",
      "휘발유\t1673.05.87\t상승********\n",
      "국제 금\t1756.3 1.60\t하락********\n",
      "국내 금\t67511.69117.60\t상승********\n"
     ]
    }
   ],
   "source": [
    "###네이버 공시된 황율정보 출력하기\n",
    "from bs4 import BeautifulSoup \n",
    "import urllib.request as req\n",
    "url = 'https://finance.naver.com/marketindex/'\n",
    "res=req.urlopen(url)\n",
    "soup=BeautifulSoup(res, 'html.parser', from_encoding='euc-kr')\n",
    "sel = lambda q:soup.select(q)\n",
    "#class속성이 head_info div태그들, 환율,상승/하락값, 상승/하락\n",
    "hlist = sel('div.head_info')\n",
    "#class속성이 h_lst인 h3태그들.통화명\n",
    "htitle = sel('h3.h_lst')\n",
    "print(htitle)\n",
    "for tag, title in zip(hlist, htitle):\n",
    "    #통화명\n",
    "    print(title.select_one('span.blind').string, end='\\t')\n",
    "    #환율정보\n",
    "    value = tag.select_one('span.value').string #환율정보\n",
    "    print(value, end = '')\n",
    "    #환율변동값\n",
    "    change = tag.select_one('span.change').string\n",
    "    print(change, end='\\t')\n",
    "    #상승,하락\n",
    "    blinds = tag.select('span.blind') #상승, 하락\n",
    "    #통화명\n",
    "    b=tag.select('span.blind')[0].string #마지막 태그선택 \n",
    "    #상승 하락\n",
    "    b=tag.select('span.blind')[-1].string #마지막 태그선택\n",
    "    print(b,end='********\\n')"
   ]
  },
  {
   "cell_type": "markdown",
   "id": "ec6d4afb",
   "metadata": {},
   "source": [
    "# 셀레니움 예제"
   ]
  },
  {
   "cell_type": "code",
   "execution_count": 23,
   "id": "4f6cf3ce",
   "metadata": {},
   "outputs": [
    {
     "name": "stdout",
     "output_type": "stream",
     "text": [
      "Collecting selenium\n",
      "  Using cached selenium-3.141.0-py2.py3-none-any.whl (904 kB)\n",
      "Requirement already satisfied: urllib3 in c:\\users\\k\\anaconda3\\lib\\site-packages (from selenium) (1.26.4)\n",
      "Installing collected packages: selenium\n",
      "Successfully installed selenium-3.141.0\n"
     ]
    }
   ],
   "source": [
    "!pip install selenium"
   ]
  },
  {
   "cell_type": "code",
   "execution_count": 1,
   "id": "0eabe667",
   "metadata": {},
   "outputs": [],
   "source": [
    "from selenium import webdriver\n",
    "import time"
   ]
  },
  {
   "cell_type": "code",
   "execution_count": 28,
   "id": "41e3e2e9",
   "metadata": {},
   "outputs": [],
   "source": [
    "driver = webdriver.Chrome('C:/pyy/chromedriver')\n",
    "driver.get('http://python.org')"
   ]
  },
  {
   "cell_type": "code",
   "execution_count": null,
   "id": "1244cf15",
   "metadata": {},
   "outputs": [],
   "source": [
    "#top ul.menu li\n",
    "#top : id 속성값이 top인 태그 선택\n",
    "#ul.mean : #top하위 ul태그 중 class = 'menu'인 태그 \n",
    "#li: ul.menu 하위의 li태그들\n",
    "#find_elements_by_css_selector\n",
    "#태그 선택시 선택자들 사용 방식으로 태그선택\n",
    "menus = driver.find_elements_by_css_selector('#top ul.menu li')\n"
   ]
  }
 ],
 "metadata": {
  "kernelspec": {
   "display_name": "Python 3",
   "language": "python",
   "name": "python3"
  },
  "language_info": {
   "codemirror_mode": {
    "name": "ipython",
    "version": 3
   },
   "file_extension": ".py",
   "mimetype": "text/x-python",
   "name": "python",
   "nbconvert_exporter": "python",
   "pygments_lexer": "ipython3",
   "version": "3.8.8"
  }
 },
 "nbformat": 4,
 "nbformat_minor": 5
}
