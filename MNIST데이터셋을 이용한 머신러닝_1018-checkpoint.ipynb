{
 "cells": [
  {
   "cell_type": "code",
   "execution_count": 1,
   "id": "3348e78c",
   "metadata": {},
   "outputs": [
    {
     "data": {
      "text/plain": [
       "42000"
      ]
     },
     "execution_count": 1,
     "metadata": {},
     "output_type": "execute_result"
    }
   ],
   "source": [
    "#MNIST 데이터셋을 다운받기 \n",
    "from tensorflow.keras.datasets.mnist import load_data\n",
    "(x_train,y_train),(x_test,y_test) = load_data(path='mnist.npz')\n",
    "\n",
    "from sklearn.model_selection import train_test_split\n",
    "x_train, x_val, y_train,y_val = train_test_split(x_train,y_train,test_size=0.3,\n",
    "                                                random_state=777)\n",
    "\n",
    "num_x_train=x_train.shape[0] #학습데이터\n",
    "num_x_val=x_val.shape[0] #검증데이터\n",
    "num_x_test=x_test.shape[0] #테스트데이터\n",
    "num_x_train"
   ]
  },
  {
   "cell_type": "code",
   "execution_count": 3,
   "id": "22c6d4d4",
   "metadata": {},
   "outputs": [
    {
     "name": "stdout",
     "output_type": "stream",
     "text": [
      "[2 7 6]\n"
     ]
    }
   ],
   "source": [
    "x_train=(x_train.reshape((num_x_train,28*28))) /255 #정규화\n",
    "x_val=(x_val.reshape((num_x_val,28*28))) /255\n",
    "x_test=(x_test.reshape((num_x_test,28*28))) /255\n",
    "\n",
    "print(y_train[0:3])"
   ]
  },
  {
   "cell_type": "code",
   "execution_count": 4,
   "id": "cfb6038f",
   "metadata": {},
   "outputs": [
    {
     "name": "stdout",
     "output_type": "stream",
     "text": [
      "[[0. 0. 1. 0. 0. 0. 0. 0. 0. 0.]\n",
      " [0. 0. 0. 0. 0. 0. 0. 1. 0. 0.]\n",
      " [0. 0. 0. 0. 0. 0. 1. 0. 0. 0.]]\n"
     ]
    }
   ],
   "source": [
    "from tensorflow.keras.utils import to_categorical\n",
    "y_train=to_categorical(y_train)\n",
    "y_val=to_categorical(y_val)\n",
    "y_test=to_categorical(y_test)\n",
    "\n",
    "print(y_train[0:3])"
   ]
  },
  {
   "cell_type": "code",
   "execution_count": 7,
   "id": "f4be3150",
   "metadata": {},
   "outputs": [
    {
     "name": "stdout",
     "output_type": "stream",
     "text": [
      "Model: \"sequential\"\n",
      "_________________________________________________________________\n",
      "Layer (type)                 Output Shape              Param #   \n",
      "=================================================================\n",
      "dense (Dense)                (None, 64)                50240     \n",
      "_________________________________________________________________\n",
      "dense_1 (Dense)              (None, 32)                2080      \n",
      "_________________________________________________________________\n",
      "dense_2 (Dense)              (None, 10)                330       \n",
      "=================================================================\n",
      "Total params: 52,650\n",
      "Trainable params: 52,650\n",
      "Non-trainable params: 0\n",
      "_________________________________________________________________\n"
     ]
    }
   ],
   "source": [
    "from tensorflow.keras.models import Sequential\n",
    "from tensorflow.keras.layers import Dense\n",
    "model=Sequential()\n",
    "model.add(Dense(64, activation ='relu', input_shape=(784,)))\n",
    "model.add(Dense(32, activation ='relu'))\n",
    "model.add(Dense(10, activation ='softmax')) #출력층의 결과 0~9분류\n",
    "#모델의 형태 출력하기\n",
    "#Param : 가중치 w1~wn의 갯수\n",
    "#64*(784+1) = 50240\n",
    "#32*(64+1) = 2080\n",
    "#1*(32+1)=330\n",
    "model.summary()"
   ]
  },
  {
   "cell_type": "code",
   "execution_count": 9,
   "id": "49fcbf19",
   "metadata": {},
   "outputs": [],
   "source": [
    "#소프트맥스, 시그모이드 함수 구현하기\n",
    "#np.exp: 지수함수\n",
    "import numpy as np \n",
    "\n",
    "def softmax(arr):\n",
    "    m=np.max(arr)\n",
    "    arr=arr-m\n",
    "    arr=np.exp(arr)\n",
    "    return arr/np.sum(arr)\n",
    "\n",
    "def sigmoid(x):\n",
    "    return 1/(1+np.exp(-x))"
   ]
  },
  {
   "cell_type": "code",
   "execution_count": 10,
   "id": "ec971cce",
   "metadata": {},
   "outputs": [
    {
     "name": "stdout",
     "output_type": "stream",
     "text": [
      "sigmoid: [0.957 0.953 0.948] softmax: [0.367 0.332 0.301]\n",
      "sigmoid: [0.881 0.731 0.668] softmax: [0.61  0.224 0.166]\n"
     ]
    }
   ],
   "source": [
    "case_1= np.array([3.1,3.0,2.9])\n",
    "case_2= np.array([2.0,1.0,0.7])\n",
    "np.set_printoptions(precision=3)\n",
    "print('sigmoid:',sigmoid(case_1),'softmax:',softmax(case_1))\n",
    "print('sigmoid:',sigmoid(case_2),'softmax:',softmax(case_2))"
   ]
  },
  {
   "cell_type": "code",
   "execution_count": 11,
   "id": "d5c81c33",
   "metadata": {},
   "outputs": [
    {
     "name": "stdout",
     "output_type": "stream",
     "text": [
      "Epoch 1/30\n",
      "329/329 [==============================] - 1s 2ms/step - loss: 1.8563 - acc: 0.3665 - val_loss: 1.2477 - val_acc: 0.5933\n",
      "Epoch 2/30\n",
      "329/329 [==============================] - 0s 1ms/step - loss: 0.9844 - acc: 0.6989 - val_loss: 0.7982 - val_acc: 0.7681\n",
      "Epoch 3/30\n",
      "329/329 [==============================] - 0s 1ms/step - loss: 0.7045 - acc: 0.7885 - val_loss: 0.6269 - val_acc: 0.8100\n",
      "Epoch 4/30\n",
      "329/329 [==============================] - 0s 1ms/step - loss: 0.5765 - acc: 0.8285 - val_loss: 0.5305 - val_acc: 0.8456\n",
      "Epoch 5/30\n",
      "329/329 [==============================] - 0s 1ms/step - loss: 0.4981 - acc: 0.8533 - val_loss: 0.4693 - val_acc: 0.8624\n",
      "Epoch 6/30\n",
      "329/329 [==============================] - 0s 1ms/step - loss: 0.4478 - acc: 0.8690 - val_loss: 0.4310 - val_acc: 0.8739\n",
      "Epoch 7/30\n",
      "329/329 [==============================] - 0s 1ms/step - loss: 0.4141 - acc: 0.8792 - val_loss: 0.4024 - val_acc: 0.8838\n",
      "Epoch 8/30\n",
      "329/329 [==============================] - 0s 1ms/step - loss: 0.3907 - acc: 0.8860 - val_loss: 0.3862 - val_acc: 0.8884\n",
      "Epoch 9/30\n",
      "329/329 [==============================] - 0s 1ms/step - loss: 0.3723 - acc: 0.8916 - val_loss: 0.3699 - val_acc: 0.8931\n",
      "Epoch 10/30\n",
      "329/329 [==============================] - 0s 1ms/step - loss: 0.3571 - acc: 0.8959 - val_loss: 0.3569 - val_acc: 0.8959\n",
      "Epoch 11/30\n",
      "329/329 [==============================] - 0s 1ms/step - loss: 0.3444 - acc: 0.9005 - val_loss: 0.3444 - val_acc: 0.9002\n",
      "Epoch 12/30\n",
      "329/329 [==============================] - 0s 1ms/step - loss: 0.3322 - acc: 0.9039 - val_loss: 0.3360 - val_acc: 0.9019\n",
      "Epoch 13/30\n",
      "329/329 [==============================] - 0s 1ms/step - loss: 0.3226 - acc: 0.9058 - val_loss: 0.3245 - val_acc: 0.9077\n",
      "Epoch 14/30\n",
      "329/329 [==============================] - 0s 1ms/step - loss: 0.3134 - acc: 0.9096 - val_loss: 0.3169 - val_acc: 0.9086\n",
      "Epoch 15/30\n",
      "329/329 [==============================] - 0s 1ms/step - loss: 0.3048 - acc: 0.9123 - val_loss: 0.3086 - val_acc: 0.9109\n",
      "Epoch 16/30\n",
      "329/329 [==============================] - 0s 1ms/step - loss: 0.2968 - acc: 0.9144 - val_loss: 0.3053 - val_acc: 0.9123\n",
      "Epoch 17/30\n",
      "329/329 [==============================] - 0s 1ms/step - loss: 0.2901 - acc: 0.9159 - val_loss: 0.2975 - val_acc: 0.9143\n",
      "Epoch 18/30\n",
      "329/329 [==============================] - 0s 1ms/step - loss: 0.2836 - acc: 0.9180 - val_loss: 0.2926 - val_acc: 0.9161\n",
      "Epoch 19/30\n",
      "329/329 [==============================] - 0s 1ms/step - loss: 0.2777 - acc: 0.9196 - val_loss: 0.2874 - val_acc: 0.9182\n",
      "Epoch 20/30\n",
      "329/329 [==============================] - 0s 1ms/step - loss: 0.2720 - acc: 0.9207 - val_loss: 0.2825 - val_acc: 0.9192\n",
      "Epoch 21/30\n",
      "329/329 [==============================] - 0s 1ms/step - loss: 0.2663 - acc: 0.9223 - val_loss: 0.2770 - val_acc: 0.9211\n",
      "Epoch 22/30\n",
      "329/329 [==============================] - 0s 1ms/step - loss: 0.2616 - acc: 0.9239 - val_loss: 0.2725 - val_acc: 0.9232\n",
      "Epoch 23/30\n",
      "329/329 [==============================] - 0s 1ms/step - loss: 0.2565 - acc: 0.9249 - val_loss: 0.2685 - val_acc: 0.9234\n",
      "Epoch 24/30\n",
      "329/329 [==============================] - 0s 1ms/step - loss: 0.2528 - acc: 0.9265 - val_loss: 0.2643 - val_acc: 0.9244\n",
      "Epoch 25/30\n",
      "329/329 [==============================] - 0s 1ms/step - loss: 0.2484 - acc: 0.9277 - val_loss: 0.2601 - val_acc: 0.9259\n",
      "Epoch 26/30\n",
      "329/329 [==============================] - 0s 1ms/step - loss: 0.2430 - acc: 0.9300 - val_loss: 0.2575 - val_acc: 0.9270\n",
      "Epoch 27/30\n",
      "329/329 [==============================] - 0s 1ms/step - loss: 0.2395 - acc: 0.9305 - val_loss: 0.2544 - val_acc: 0.9273\n",
      "Epoch 28/30\n",
      "329/329 [==============================] - 0s 1ms/step - loss: 0.2355 - acc: 0.9318 - val_loss: 0.2510 - val_acc: 0.9287\n",
      "Epoch 29/30\n",
      "329/329 [==============================] - 0s 1ms/step - loss: 0.2315 - acc: 0.9339 - val_loss: 0.2467 - val_acc: 0.9291\n",
      "Epoch 30/30\n",
      "329/329 [==============================] - 0s 1ms/step - loss: 0.2276 - acc: 0.9340 - val_loss: 0.2440 - val_acc: 0.9314\n"
     ]
    }
   ],
   "source": [
    "#학습과정 설정\n",
    "model.compile(optimizer='adam', #옵티마이저: Adam\n",
    "             loss='categorical_crossentropy', #손실함수\n",
    "             metrics=['acc']) #모니터링 할 평가지표: acc\n",
    "#모델학습\n",
    "history=model.fit(x_train,y_train, epochs=30, #30번학습\n",
    "                 batch_size=128, #학습하는 데이터의 갯수\n",
    "                 validation_data=(x_val, y_val)) #검증데이터"
   ]
  },
  {
   "cell_type": "code",
   "execution_count": 14,
   "id": "4a56e88c",
   "metadata": {},
   "outputs": [
    {
     "name": "stdout",
     "output_type": "stream",
     "text": [
      "dict_keys(['loss', 'acc', 'val_loss', 'val_acc'])\n",
      "<class 'keras.callbacks.History'>\n"
     ]
    }
   ],
   "source": [
    "print(history.history.keys())\n",
    "print(type(history))"
   ]
  },
  {
   "cell_type": "code",
   "execution_count": 28,
   "id": "72314057",
   "metadata": {},
   "outputs": [
    {
     "data": {
      "image/png": "[encoded data removed]",
      "text/plain": [
       "<Figure size 720x360 with 2 Axes>"
      ]
     },
     "metadata": {
      "needs_background": "light"
     },
     "output_type": "display_data"
    }
   ],
   "source": [
    "#학습결과 확인\n",
    "#loss, acc,val, val_loss, val_acc를 그래프로 출력하기\n",
    "#훈련 및 검증 데이터의 손실값을 그래프로 출력하기\n",
    "#훈련 및 검증 데이터의 정확도값을 그래프로 출력하기\n",
    "import matplotlib.pyplot as plt\n",
    "his_dict=history.history #loss,acc,val_loss,val_acc\n",
    "loss=his_dict['loss'] #학습데이터의 손실함수값\n",
    "val_loss=his_dict['val_loss'] #검증데이터의 손실함수값\n",
    "epochs=range(1,len(loss)+1) #1~30값\n",
    "fig=plt.figure(figsize=(10,5))\n",
    "#훈련 및검증 손실 그리기\n",
    "ax1=fig.add_subplot(1,2,1) #1행 2열의 1번째 그래프\n",
    "ax1.plot(epochs, loss, color='blue',label='train_loss')\n",
    "ax1.plot(epochs, val_loss, color='orange',label='val_loss')\n",
    "ax1.set_title('train and val loss')\n",
    "ax1.set_xlabel('epochs')\n",
    "ax1.set_ylabel('loss')\n",
    "ax1.legend()\n",
    "\n",
    "\n",
    "acc=his_dict['acc'] # 학습데이터의 정확도\n",
    "val_acc=his_dict['val_acc'] #검증데이터의 정확도\n",
    "\n",
    "#훈련 및 검증정확도 그리기\n",
    "ax2=fig.add_subplot(1,2,2) #1행 2열의 2번째 그래프\n",
    "ax2.plot(epochs, acc, color='blue',label='train_acc')\n",
    "ax2.plot(epochs, val_acc, color='orange',label='val_acc')\n",
    "ax2.set_title('train and val acc')\n",
    "ax2.set_xlabel('epochs')\n",
    "ax2.set_ylabel('acc')\n",
    "ax2.legend()\n",
    "plt.show()"
   ]
  },
  {
   "cell_type": "code",
   "execution_count": 31,
   "id": "c5d1b62e",
   "metadata": {},
   "outputs": [
    {
     "name": "stdout",
     "output_type": "stream",
     "text": [
      "313/313 [==============================] - 0s 531us/step - loss: 0.2377 - acc: 0.9324\n"
     ]
    },
    {
     "data": {
      "text/plain": [
       "7"
      ]
     },
     "execution_count": 31,
     "metadata": {},
     "output_type": "execute_result"
    }
   ],
   "source": [
    "#모델평가: 평가데이터(테스트데이터)로 모델 평가하기\n",
    "#현재특징: 학습데이터 성능이 좋다. \n",
    "#그런데 검증데이터, 테스트데이터의 선능은 학습데이터보다 낮다 => 과대적합\n",
    "model.evaluate(x_test,y_test) #손실함수값, 정확도\n",
    "\n",
    "#예측값 확인하기\n",
    "np.set_printoptions(precision=7) #소숫점이하 7자리까지만 출력\n",
    "results=model.predict(x_test) #예측값\n",
    "results[0]\n",
    "\n",
    "import matplotlib.pyplot as plt\n",
    "#np.argmax: results 데이터 중 가장 큰값을 가지는 인덱스를 저장\n",
    "arg_results=np.argmax(results, axis=-1)\n",
    "arg_results[0]\n"
   ]
  },
  {
   "cell_type": "code",
   "execution_count": 32,
   "id": "1c47e9f1",
   "metadata": {},
   "outputs": [
    {
     "data": {
      "image/png": "[encoded data removed]",
      "text/plain": [
       "<Figure size 432x288 with 1 Axes>"
      ]
     },
     "metadata": {
      "needs_background": "light"
     },
     "output_type": "display_data"
    }
   ],
   "source": [
    "#784개의 벡터를 28*28 매트릭스로 변경\n",
    "plt.imshow(x_test[0].reshape(28,28))\n",
    "plt.title('Predicted value of the first image:'+str(arg_results[0]), fontsize=15)\n",
    "plt.show()"
   ]
  },
  {
   "cell_type": "code",
   "execution_count": null,
   "id": "f56bf53f",
   "metadata": {},
   "outputs": [],
   "source": []
  }
 ],
 "metadata": {
  "kernelspec": {
   "display_name": "Python 3",
   "language": "python",
   "name": "python3"
  },
  "language_info": {
   "codemirror_mode": {
    "name": "ipython",
    "version": 3
   },
   "file_extension": ".py",
   "mimetype": "text/x-python",
   "name": "python",
   "nbconvert_exporter": "python",
   "pygments_lexer": "ipython3",
   "version": "3.8.8"
  }
 },
 "nbformat": 4,
 "nbformat_minor": 5
}
