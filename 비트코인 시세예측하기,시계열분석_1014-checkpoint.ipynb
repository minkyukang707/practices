{
 "cells": [
  {
   "cell_type": "markdown",
   "id": "6a90653b",
   "metadata": {},
   "source": [
    "# 시계열데이터 분석 "
   ]
  },
  {
   "cell_type": "markdown",
   "id": "a0c9ac0c",
   "metadata": {},
   "source": [
    "ARIMA 모델=> statsmodel 모듈을 이용\n",
    "AR: 과거 정보를 사용\n",
    "MA: 이전 정보의 오차를 현재 상태로 추론"
   ]
  },
  {
   "cell_type": "code",
   "execution_count": 19,
   "id": "d1e3d89f",
   "metadata": {},
   "outputs": [],
   "source": [
    "import pandas as pd \n",
    "import numpy as np\n",
    "import matplotlib.pyplot as plt"
   ]
  },
  {
   "cell_type": "code",
   "execution_count": 20,
   "id": "78a6b83c",
   "metadata": {},
   "outputs": [
    {
     "name": "stdout",
     "output_type": "stream",
     "text": [
      "<class 'pandas.core.frame.DataFrame'>\n",
      "RangeIndex: 361 entries, 0 to 360\n",
      "Data columns (total 2 columns):\n",
      " #   Column        Non-Null Count  Dtype  \n",
      "---  ------        --------------  -----  \n",
      " 0   Timestamp     361 non-null    object \n",
      " 1   market-price  361 non-null    float64\n",
      "dtypes: float64(1), object(1)\n",
      "memory usage: 5.8+ KB\n"
     ]
    }
   ],
   "source": [
    "#market-price.csv 파일로드 => bitcoin_df저장\n",
    "file_path='C:/pyy/market-price.csv'\n",
    "bitcoin_df=pd.read_csv(file_path)\n",
    "bitcoin_df.info()"
   ]
  },
  {
   "cell_type": "code",
   "execution_count": 21,
   "id": "83b7d2f5",
   "metadata": {},
   "outputs": [
    {
     "data": {
      "text/html": [
       "<div>\n",
       "<style scoped>\n",
       "    .dataframe tbody tr th:only-of-type {\n",
       "        vertical-align: middle;\n",
       "    }\n",
       "\n",
       "    .dataframe tbody tr th {\n",
       "        vertical-align: top;\n",
       "    }\n",
       "\n",
       "    .dataframe thead th {\n",
       "        text-align: right;\n",
       "    }\n",
       "</style>\n",
       "<table border=\"1\" class=\"dataframe\">\n",
       "  <thead>\n",
       "    <tr style=\"text-align: right;\">\n",
       "      <th></th>\n",
       "      <th>Timestamp</th>\n",
       "      <th>market-price</th>\n",
       "    </tr>\n",
       "  </thead>\n",
       "  <tbody>\n",
       "    <tr>\n",
       "      <th>0</th>\n",
       "      <td>2020-10-13 00:00:00</td>\n",
       "      <td>11540.04</td>\n",
       "    </tr>\n",
       "    <tr>\n",
       "      <th>1</th>\n",
       "      <td>2020-10-14 00:00:00</td>\n",
       "      <td>11428.24</td>\n",
       "    </tr>\n",
       "    <tr>\n",
       "      <th>2</th>\n",
       "      <td>2020-10-15 00:00:00</td>\n",
       "      <td>11431.32</td>\n",
       "    </tr>\n",
       "    <tr>\n",
       "      <th>3</th>\n",
       "      <td>2020-10-16 00:00:00</td>\n",
       "      <td>11503.73</td>\n",
       "    </tr>\n",
       "    <tr>\n",
       "      <th>4</th>\n",
       "      <td>2020-10-17 00:00:00</td>\n",
       "      <td>11327.57</td>\n",
       "    </tr>\n",
       "  </tbody>\n",
       "</table>\n",
       "</div>"
      ],
      "text/plain": [
       "             Timestamp  market-price\n",
       "0  2020-10-13 00:00:00      11540.04\n",
       "1  2020-10-14 00:00:00      11428.24\n",
       "2  2020-10-15 00:00:00      11431.32\n",
       "3  2020-10-16 00:00:00      11503.73\n",
       "4  2020-10-17 00:00:00      11327.57"
      ]
     },
     "execution_count": 21,
     "metadata": {},
     "output_type": "execute_result"
    }
   ],
   "source": [
    "bitcoin_df.head()"
   ]
  },
  {
   "cell_type": "code",
   "execution_count": 22,
   "id": "254b388a",
   "metadata": {},
   "outputs": [
    {
     "name": "stdout",
     "output_type": "stream",
     "text": [
      "<class 'pandas.core.frame.DataFrame'>\n",
      "RangeIndex: 361 entries, 0 to 360\n",
      "Data columns (total 2 columns):\n",
      " #   Column  Non-Null Count  Dtype  \n",
      "---  ------  --------------  -----  \n",
      " 0   day     361 non-null    object \n",
      " 1   price   361 non-null    float64\n",
      "dtypes: float64(1), object(1)\n",
      "memory usage: 5.8+ KB\n"
     ]
    }
   ],
   "source": [
    "#컬렴명 변경하고 다시로드\n",
    "bitcoin_df=pd.read_csv(file_path, names=['day','price'],header=0)\n",
    "bitcoin_df.info()"
   ]
  },
  {
   "cell_type": "code",
   "execution_count": 23,
   "id": "a714db0a",
   "metadata": {},
   "outputs": [
    {
     "data": {
      "text/html": [
       "<div>\n",
       "<style scoped>\n",
       "    .dataframe tbody tr th:only-of-type {\n",
       "        vertical-align: middle;\n",
       "    }\n",
       "\n",
       "    .dataframe tbody tr th {\n",
       "        vertical-align: top;\n",
       "    }\n",
       "\n",
       "    .dataframe thead th {\n",
       "        text-align: right;\n",
       "    }\n",
       "</style>\n",
       "<table border=\"1\" class=\"dataframe\">\n",
       "  <thead>\n",
       "    <tr style=\"text-align: right;\">\n",
       "      <th></th>\n",
       "      <th>day</th>\n",
       "      <th>price</th>\n",
       "    </tr>\n",
       "  </thead>\n",
       "  <tbody>\n",
       "    <tr>\n",
       "      <th>0</th>\n",
       "      <td>2020-10-13 00:00:00</td>\n",
       "      <td>11540.04</td>\n",
       "    </tr>\n",
       "    <tr>\n",
       "      <th>1</th>\n",
       "      <td>2020-10-14 00:00:00</td>\n",
       "      <td>11428.24</td>\n",
       "    </tr>\n",
       "    <tr>\n",
       "      <th>2</th>\n",
       "      <td>2020-10-15 00:00:00</td>\n",
       "      <td>11431.32</td>\n",
       "    </tr>\n",
       "    <tr>\n",
       "      <th>3</th>\n",
       "      <td>2020-10-16 00:00:00</td>\n",
       "      <td>11503.73</td>\n",
       "    </tr>\n",
       "    <tr>\n",
       "      <th>4</th>\n",
       "      <td>2020-10-17 00:00:00</td>\n",
       "      <td>11327.57</td>\n",
       "    </tr>\n",
       "  </tbody>\n",
       "</table>\n",
       "</div>"
      ],
      "text/plain": [
       "                   day     price\n",
       "0  2020-10-13 00:00:00  11540.04\n",
       "1  2020-10-14 00:00:00  11428.24\n",
       "2  2020-10-15 00:00:00  11431.32\n",
       "3  2020-10-16 00:00:00  11503.73\n",
       "4  2020-10-17 00:00:00  11327.57"
      ]
     },
     "execution_count": 23,
     "metadata": {},
     "output_type": "execute_result"
    }
   ],
   "source": [
    "bitcoin_df.head()"
   ]
  },
  {
   "cell_type": "code",
   "execution_count": 24,
   "id": "5d6f7e9b",
   "metadata": {},
   "outputs": [
    {
     "data": {
      "text/plain": [
       "(361, 2)"
      ]
     },
     "execution_count": 24,
     "metadata": {},
     "output_type": "execute_result"
    }
   ],
   "source": [
    "bitcoin_df.shape"
   ]
  },
  {
   "cell_type": "code",
   "execution_count": 25,
   "id": "421f1d7d",
   "metadata": {},
   "outputs": [
    {
     "name": "stdout",
     "output_type": "stream",
     "text": [
      "<class 'pandas.core.frame.DataFrame'>\n",
      "RangeIndex: 361 entries, 0 to 360\n",
      "Data columns (total 2 columns):\n",
      " #   Column  Non-Null Count  Dtype         \n",
      "---  ------  --------------  -----         \n",
      " 0   day     361 non-null    datetime64[ns]\n",
      " 1   price   361 non-null    float64       \n",
      "dtypes: datetime64[ns](1), float64(1)\n",
      "memory usage: 5.8 KB\n"
     ]
    }
   ],
   "source": [
    "#day컬럼을 시계열 피처로 변환하기\n",
    "bitcoin_df['day']=pd.to_datetime(bitcoin_df['day'])\n",
    "bitcoin_df.info()"
   ]
  },
  {
   "cell_type": "code",
   "execution_count": 26,
   "id": "efefbfe4",
   "metadata": {},
   "outputs": [
    {
     "data": {
      "text/html": [
       "<div>\n",
       "<style scoped>\n",
       "    .dataframe tbody tr th:only-of-type {\n",
       "        vertical-align: middle;\n",
       "    }\n",
       "\n",
       "    .dataframe tbody tr th {\n",
       "        vertical-align: top;\n",
       "    }\n",
       "\n",
       "    .dataframe thead th {\n",
       "        text-align: right;\n",
       "    }\n",
       "</style>\n",
       "<table border=\"1\" class=\"dataframe\">\n",
       "  <thead>\n",
       "    <tr style=\"text-align: right;\">\n",
       "      <th></th>\n",
       "      <th>day</th>\n",
       "      <th>price</th>\n",
       "    </tr>\n",
       "  </thead>\n",
       "  <tbody>\n",
       "    <tr>\n",
       "      <th>0</th>\n",
       "      <td>2020-10-13</td>\n",
       "      <td>11540.04</td>\n",
       "    </tr>\n",
       "    <tr>\n",
       "      <th>1</th>\n",
       "      <td>2020-10-14</td>\n",
       "      <td>11428.24</td>\n",
       "    </tr>\n",
       "    <tr>\n",
       "      <th>2</th>\n",
       "      <td>2020-10-15</td>\n",
       "      <td>11431.32</td>\n",
       "    </tr>\n",
       "    <tr>\n",
       "      <th>3</th>\n",
       "      <td>2020-10-16</td>\n",
       "      <td>11503.73</td>\n",
       "    </tr>\n",
       "    <tr>\n",
       "      <th>4</th>\n",
       "      <td>2020-10-17</td>\n",
       "      <td>11327.57</td>\n",
       "    </tr>\n",
       "  </tbody>\n",
       "</table>\n",
       "</div>"
      ],
      "text/plain": [
       "         day     price\n",
       "0 2020-10-13  11540.04\n",
       "1 2020-10-14  11428.24\n",
       "2 2020-10-15  11431.32\n",
       "3 2020-10-16  11503.73\n",
       "4 2020-10-17  11327.57"
      ]
     },
     "execution_count": 26,
     "metadata": {},
     "output_type": "execute_result"
    }
   ],
   "source": [
    "bitcoin_df.head()"
   ]
  },
  {
   "cell_type": "code",
   "execution_count": 27,
   "id": "b4590c73",
   "metadata": {},
   "outputs": [
    {
     "data": {
      "text/html": [
       "<div>\n",
       "<style scoped>\n",
       "    .dataframe tbody tr th:only-of-type {\n",
       "        vertical-align: middle;\n",
       "    }\n",
       "\n",
       "    .dataframe tbody tr th {\n",
       "        vertical-align: top;\n",
       "    }\n",
       "\n",
       "    .dataframe thead th {\n",
       "        text-align: right;\n",
       "    }\n",
       "</style>\n",
       "<table border=\"1\" class=\"dataframe\">\n",
       "  <thead>\n",
       "    <tr style=\"text-align: right;\">\n",
       "      <th></th>\n",
       "      <th>price</th>\n",
       "    </tr>\n",
       "  </thead>\n",
       "  <tbody>\n",
       "    <tr>\n",
       "      <th>count</th>\n",
       "      <td>361.000000</td>\n",
       "    </tr>\n",
       "    <tr>\n",
       "      <th>mean</th>\n",
       "      <td>38649.494238</td>\n",
       "    </tr>\n",
       "    <tr>\n",
       "      <th>std</th>\n",
       "      <td>13969.951555</td>\n",
       "    </tr>\n",
       "    <tr>\n",
       "      <th>min</th>\n",
       "      <td>11327.570000</td>\n",
       "    </tr>\n",
       "    <tr>\n",
       "      <th>25%</th>\n",
       "      <td>31738.590000</td>\n",
       "    </tr>\n",
       "    <tr>\n",
       "      <th>50%</th>\n",
       "      <td>39188.590000</td>\n",
       "    </tr>\n",
       "    <tr>\n",
       "      <th>75%</th>\n",
       "      <td>49056.860000</td>\n",
       "    </tr>\n",
       "    <tr>\n",
       "      <th>max</th>\n",
       "      <td>63554.440000</td>\n",
       "    </tr>\n",
       "  </tbody>\n",
       "</table>\n",
       "</div>"
      ],
      "text/plain": [
       "              price\n",
       "count    361.000000\n",
       "mean   38649.494238\n",
       "std    13969.951555\n",
       "min    11327.570000\n",
       "25%    31738.590000\n",
       "50%    39188.590000\n",
       "75%    49056.860000\n",
       "max    63554.440000"
      ]
     },
     "execution_count": 27,
     "metadata": {},
     "output_type": "execute_result"
    }
   ],
   "source": [
    "bitcoin_df.describe()"
   ]
  },
  {
   "cell_type": "code",
   "execution_count": 28,
   "id": "4682f039",
   "metadata": {},
   "outputs": [],
   "source": [
    "bitcoin_df.set_index('day',inplace=True)"
   ]
  },
  {
   "cell_type": "code",
   "execution_count": 29,
   "id": "e9c9369c",
   "metadata": {},
   "outputs": [
    {
     "data": {
      "image/png": "[encoded data removed]",
      "text/plain": [
       "<Figure size 432x288 with 1 Axes>"
      ]
     },
     "metadata": {
      "needs_background": "light"
     },
     "output_type": "display_data"
    }
   ],
   "source": [
    "#일자별 가격을 시각화하기 \n",
    "bitcoin_df.plot()\n",
    "plt.show()"
   ]
  },
  {
   "cell_type": "code",
   "execution_count": 30,
   "id": "e52a272f",
   "metadata": {},
   "outputs": [
    {
     "data": {
      "text/html": [
       "<div>\n",
       "<style scoped>\n",
       "    .dataframe tbody tr th:only-of-type {\n",
       "        vertical-align: middle;\n",
       "    }\n",
       "\n",
       "    .dataframe tbody tr th {\n",
       "        vertical-align: top;\n",
       "    }\n",
       "\n",
       "    .dataframe thead th {\n",
       "        text-align: right;\n",
       "    }\n",
       "</style>\n",
       "<table border=\"1\" class=\"dataframe\">\n",
       "  <thead>\n",
       "    <tr style=\"text-align: right;\">\n",
       "      <th></th>\n",
       "      <th>price</th>\n",
       "    </tr>\n",
       "    <tr>\n",
       "      <th>day</th>\n",
       "      <th></th>\n",
       "    </tr>\n",
       "  </thead>\n",
       "  <tbody>\n",
       "    <tr>\n",
       "      <th>2021-10-04</th>\n",
       "      <td>48205.72</td>\n",
       "    </tr>\n",
       "    <tr>\n",
       "      <th>2021-10-05</th>\n",
       "      <td>49143.95</td>\n",
       "    </tr>\n",
       "    <tr>\n",
       "      <th>2021-10-06</th>\n",
       "      <td>51505.83</td>\n",
       "    </tr>\n",
       "    <tr>\n",
       "      <th>2021-10-07</th>\n",
       "      <td>55343.76</td>\n",
       "    </tr>\n",
       "    <tr>\n",
       "      <th>2021-10-08</th>\n",
       "      <td>53801.10</td>\n",
       "    </tr>\n",
       "  </tbody>\n",
       "</table>\n",
       "</div>"
      ],
      "text/plain": [
       "               price\n",
       "day                 \n",
       "2021-10-04  48205.72\n",
       "2021-10-05  49143.95\n",
       "2021-10-06  51505.83\n",
       "2021-10-07  55343.76\n",
       "2021-10-08  53801.10"
      ]
     },
     "execution_count": 30,
     "metadata": {},
     "output_type": "execute_result"
    }
   ],
   "source": [
    "bitcoin_df.tail()"
   ]
  },
  {
   "cell_type": "code",
   "execution_count": 31,
   "id": "7f858d42",
   "metadata": {},
   "outputs": [
    {
     "name": "stderr",
     "output_type": "stream",
     "text": [
      "C:\\Users\\K\\anaconda3\\lib\\site-packages\\statsmodels\\tsa\\arima_model.py:472: FutureWarning: \n",
      "statsmodels.tsa.arima_model.ARMA and statsmodels.tsa.arima_model.ARIMA have\n",
      "been deprecated in favor of statsmodels.tsa.arima.model.ARIMA (note the .\n",
      "between arima and model) and\n",
      "statsmodels.tsa.SARIMAX. These will be removed after the 0.12 release.\n",
      "\n",
      "statsmodels.tsa.arima.model.ARIMA makes use of the statespace framework and\n",
      "is both well tested and maintained.\n",
      "\n",
      "To silence this warning and continue using ARMA and ARIMA until they are\n",
      "removed, use:\n",
      "\n",
      "import warnings\n",
      "warnings.filterwarnings('ignore', 'statsmodels.tsa.arima_model.ARMA',\n",
      "                        FutureWarning)\n",
      "warnings.filterwarnings('ignore', 'statsmodels.tsa.arima_model.ARIMA',\n",
      "                        FutureWarning)\n",
      "\n",
      "  warnings.warn(ARIMA_DEPRECATION_WARN, FutureWarning)\n",
      "C:\\Users\\K\\anaconda3\\lib\\site-packages\\statsmodels\\tsa\\arima_model.py:472: FutureWarning: \n",
      "statsmodels.tsa.arima_model.ARMA and statsmodels.tsa.arima_model.ARIMA have\n",
      "been deprecated in favor of statsmodels.tsa.arima.model.ARIMA (note the .\n",
      "between arima and model) and\n",
      "statsmodels.tsa.SARIMAX. These will be removed after the 0.12 release.\n",
      "\n",
      "statsmodels.tsa.arima.model.ARIMA makes use of the statespace framework and\n",
      "is both well tested and maintained.\n",
      "\n",
      "To silence this warning and continue using ARMA and ARIMA until they are\n",
      "removed, use:\n",
      "\n",
      "import warnings\n",
      "warnings.filterwarnings('ignore', 'statsmodels.tsa.arima_model.ARMA',\n",
      "                        FutureWarning)\n",
      "warnings.filterwarnings('ignore', 'statsmodels.tsa.arima_model.ARIMA',\n",
      "                        FutureWarning)\n",
      "\n",
      "  warnings.warn(ARIMA_DEPRECATION_WARN, FutureWarning)\n"
     ]
    },
    {
     "data": {
      "text/plain": [
       "<AxesSubplot:>"
      ]
     },
     "execution_count": 31,
     "metadata": {},
     "output_type": "execute_result"
    },
    {
     "data": {
      "image/png": "[encoded data removed]",
      "text/plain": [
       "<Figure size 432x288 with 1 Axes>"
      ]
     },
     "metadata": {
      "needs_background": "light"
     },
     "output_type": "display_data"
    },
    {
     "data": {
      "image/png": "[encoded data removed]",
      "text/plain": [
       "<Figure size 432x288 with 1 Axes>"
      ]
     },
     "metadata": {
      "needs_background": "light"
     },
     "output_type": "display_data"
    }
   ],
   "source": [
    "#ARIMA 모델학습\n",
    "'''\n",
    "order=(2,1,2)\n",
    "2 => AR, 2번째 과거까지\n",
    "1 => 차분 정보. 현재상태값 -> 바로이전의 상태를 뺀값\n",
    "시계열 데이터의 불규칙성을 보정\n",
    "2=> MA, 2번째 과거 정보 오차를 이용해서 현재 추론\n",
    "'''\n",
    "from statsmodels.tsa.arima_model import ARIMA\n",
    "model=ARIMA(bitcoin_df.price.values, order=(2,1,2))\n",
    "model_fit=model.fit(trend='c', full_output=True, disp=True)\n",
    "fig=model_fit.plot_predict() # 학습데이터에 대한 예측 결과를 그래프로 출력 \n",
    "residuals=pd.DataFrame(model_fit.resid) # 잔차의 변동을 시각화합니다 (두번째그래프)\n",
    "residuals.plot()"
   ]
  },
  {
   "cell_type": "code",
   "execution_count": 33,
   "id": "6d0424b5",
   "metadata": {},
   "outputs": [
    {
     "data": {
      "text/html": [
       "<div>\n",
       "<style scoped>\n",
       "    .dataframe tbody tr th:only-of-type {\n",
       "        vertical-align: middle;\n",
       "    }\n",
       "\n",
       "    .dataframe tbody tr th {\n",
       "        vertical-align: top;\n",
       "    }\n",
       "\n",
       "    .dataframe thead th {\n",
       "        text-align: right;\n",
       "    }\n",
       "</style>\n",
       "<table border=\"1\" class=\"dataframe\">\n",
       "  <thead>\n",
       "    <tr style=\"text-align: right;\">\n",
       "      <th></th>\n",
       "      <th>ds</th>\n",
       "      <th>y</th>\n",
       "    </tr>\n",
       "  </thead>\n",
       "  <tbody>\n",
       "    <tr>\n",
       "      <th>0</th>\n",
       "      <td>2021-10-09 00:00:00</td>\n",
       "      <td>53867.30</td>\n",
       "    </tr>\n",
       "    <tr>\n",
       "      <th>1</th>\n",
       "      <td>2021-10-10 00:00:00</td>\n",
       "      <td>55122.59</td>\n",
       "    </tr>\n",
       "    <tr>\n",
       "      <th>2</th>\n",
       "      <td>2021-10-11 00:00:00</td>\n",
       "      <td>54625.74</td>\n",
       "    </tr>\n",
       "    <tr>\n",
       "      <th>3</th>\n",
       "      <td>2021-10-12 00:00:00</td>\n",
       "      <td>57452.01</td>\n",
       "    </tr>\n",
       "    <tr>\n",
       "      <th>4</th>\n",
       "      <td>2021-10-13 00:00:00</td>\n",
       "      <td>56242.94</td>\n",
       "    </tr>\n",
       "  </tbody>\n",
       "</table>\n",
       "</div>"
      ],
      "text/plain": [
       "                    ds         y\n",
       "0  2021-10-09 00:00:00  53867.30\n",
       "1  2021-10-10 00:00:00  55122.59\n",
       "2  2021-10-11 00:00:00  54625.74\n",
       "3  2021-10-12 00:00:00  57452.01\n",
       "4  2021-10-13 00:00:00  56242.94"
      ]
     },
     "execution_count": 33,
     "metadata": {},
     "output_type": "execute_result"
    }
   ],
   "source": [
    "#실제데이터와의 비교\n",
    "#이후 5일정보를 예측하기\n",
    "forecast_data=model_fit.forecast(steps=5)\n",
    "'''\n",
    "1번배열: 예측값. 5일치 예측값\n",
    "2번배열: 표준오차. 5일치 예측값\n",
    "3번배열: 5개의 배열\n",
    "[예측데이터 하한값. 예측데이터 상한값]\n",
    "'''\n",
    "forecast_data #예측데이터\n",
    "#실제데이터 읽어오기\n",
    "test_file_path='C:/pyy/market-price-test.csv'\n",
    "bitcoin_test_df=pd.read_csv(test_file_path, names=['ds','y'],header=0)\n",
    "bitcoin_test_df"
   ]
  },
  {
   "cell_type": "code",
   "execution_count": 34,
   "id": "4f71999e",
   "metadata": {},
   "outputs": [
    {
     "data": {
      "text/plain": [
       "0    53867.30\n",
       "1    55122.59\n",
       "2    54625.74\n",
       "3    57452.01\n",
       "4    56242.94\n",
       "Name: y, dtype: float64"
      ]
     },
     "execution_count": 34,
     "metadata": {},
     "output_type": "execute_result"
    }
   ],
   "source": [
    "bitcoin_test_df['y']"
   ]
  },
  {
   "cell_type": "code",
   "execution_count": 35,
   "id": "85eb93ef",
   "metadata": {},
   "outputs": [
    {
     "data": {
      "text/plain": [
       "array([53867.3 , 55122.59, 54625.74, 57452.01, 56242.94])"
      ]
     },
     "execution_count": 35,
     "metadata": {},
     "output_type": "execute_result"
    }
   ],
   "source": [
    "bitcoin_test_df['y'].values"
   ]
  },
  {
   "cell_type": "code",
   "execution_count": 36,
   "id": "ce5eb803",
   "metadata": {},
   "outputs": [
    {
     "data": {
      "text/plain": [
       "[53979.60094249369,\n",
       " 54416.07433886511,\n",
       " 54869.010065081406,\n",
       " 55103.837419975134,\n",
       " 55031.831689904895]"
      ]
     },
     "execution_count": 36,
     "metadata": {},
     "output_type": "execute_result"
    }
   ],
   "source": [
    "#예측값을 pred_y변수에 리스트로 저장하기 \n",
    "pred_y=forecast_data[0].tolist()\n",
    "pred_y"
   ]
  },
  {
   "cell_type": "code",
   "execution_count": 38,
   "id": "0efaf7aa",
   "metadata": {},
   "outputs": [
    {
     "data": {
      "text/plain": [
       "array([53867.3 , 55122.59, 54625.74, 57452.01, 56242.94])"
      ]
     },
     "execution_count": 38,
     "metadata": {},
     "output_type": "execute_result"
    }
   ],
   "source": [
    "#실제값을 test_y변수에 리스트로 저장하기\n",
    "test_y=bitcoin_test_df['y'].values\n",
    "test_y"
   ]
  },
  {
   "cell_type": "code",
   "execution_count": 40,
   "id": "7a734764",
   "metadata": {},
   "outputs": [
    {
     "data": {
      "text/plain": [
       "[57365.46766202985,\n",
       " 59123.154584679716,\n",
       " 60646.01455735992,\n",
       " 61891.25778960807,\n",
       " 62798.44404134529]"
      ]
     },
     "execution_count": 40,
     "metadata": {},
     "output_type": "execute_result"
    }
   ],
   "source": [
    "pred_y_lower=[] #최소 예측값들\n",
    "pred_y_upper=[] #최대 예측값들\n",
    "\n",
    "for low_up in forecast_data[2]:\n",
    "    pred_y_lower.append(low_up[0])\n",
    "    pred_y_upper.append(low_up[1])"
   ]
  },
  {
   "cell_type": "code",
   "execution_count": 41,
   "id": "cf5404a4",
   "metadata": {},
   "outputs": [
    {
     "data": {
      "text/plain": [
       "[50593.73422295754,\n",
       " 49708.9940930505,\n",
       " 49092.00557280289,\n",
       " 48316.4170503422,\n",
       " 47265.2193384645]"
      ]
     },
     "execution_count": 41,
     "metadata": {},
     "output_type": "execute_result"
    }
   ],
   "source": [
    "pred_y_lower "
   ]
  },
  {
   "cell_type": "code",
   "execution_count": 42,
   "id": "e91ad4cc",
   "metadata": {},
   "outputs": [
    {
     "data": {
      "text/plain": [
       "[57365.46766202985,\n",
       " 59123.154584679716,\n",
       " 60646.01455735992,\n",
       " 61891.25778960807,\n",
       " 62798.44404134529]"
      ]
     },
     "execution_count": 42,
     "metadata": {},
     "output_type": "execute_result"
    }
   ],
   "source": [
    "pred_y_upper"
   ]
  },
  {
   "cell_type": "code",
   "execution_count": 43,
   "id": "21beb01e",
   "metadata": {},
   "outputs": [
    {
     "data": {
      "text/plain": [
       "[<matplotlib.lines.Line2D at 0x2301a28ab20>]"
      ]
     },
     "execution_count": 43,
     "metadata": {},
     "output_type": "execute_result"
    },
    {
     "data": {
      "image/png": "[encoded data removed]",
      "text/plain": [
       "<Figure size 432x288 with 1 Axes>"
      ]
     },
     "metadata": {
      "needs_background": "light"
     },
     "output_type": "display_data"
    }
   ],
   "source": [
    "#시각화하기\n",
    "plt.plot(pred_y, color='gold') #예측값\n",
    "plt.plot(test_y, color='green') #실제값\n",
    "plt.plot(pred_y_lower, color='red') #최소예측값\n",
    "plt.plot(pred_y_upper, color='blue') #최대예측값"
   ]
  },
  {
   "cell_type": "code",
   "execution_count": 44,
   "id": "af095362",
   "metadata": {},
   "outputs": [
    {
     "data": {
      "text/plain": [
       "[<matplotlib.lines.Line2D at 0x23019697970>]"
      ]
     },
     "execution_count": 44,
     "metadata": {},
     "output_type": "execute_result"
    },
    {
     "data": {
      "image/png": "[encoded data removed]",
      "text/plain": [
       "<Figure size 432x288 with 1 Axes>"
      ]
     },
     "metadata": {
      "needs_background": "light"
     },
     "output_type": "display_data"
    }
   ],
   "source": [
    "plt.plot(pred_y, color='gold') #예측값\n",
    "plt.plot(test_y, color='green') #실제값"
   ]
  },
  {
   "cell_type": "markdown",
   "id": "5356f016",
   "metadata": {},
   "source": [
    "# Facebook Prophet을 활용한 시계열분석"
   ]
  },
  {
   "cell_type": "markdown",
   "id": "31d8c53d",
   "metadata": {},
   "source": [
    "시계열 데이터분석을 위한 모델\n",
    "AR(자기 회귀분석)\n",
    "현재값과 과거값의 관계\n",
    "AR(n) : n 이전의 시점\n",
    "MA(이동평균모델)\n",
    "과거와 현재의 오차관계\n",
    "ARMA(자기 회귀 이동 평균 모델)\n",
    "ARIMA(자기 회귀 누적 이동 평균 모델)\n",
    "->현재와 추세간의 관계정의\n",
    "-> ARMA방식은 불규칙적인 시계열데이터분석이 어려움. 이를 보안한것이 ARIMA(p,d,q)\n",
    "p: AR모형차수\n",
    "d: 차분\n",
    "q: MA모형차수"
   ]
  },
  {
   "cell_type": "markdown",
   "id": "1e5646e1",
   "metadata": {},
   "source": [
    "Facebook prophet설치방법\n",
    "아나콘다 prompt창에 conda install -c conda-forget fbprophet입력하고 엔터"
   ]
  },
  {
   "cell_type": "code",
   "execution_count": 5,
   "id": "6aaab066",
   "metadata": {},
   "outputs": [
    {
     "name": "stdout",
     "output_type": "stream",
     "text": [
      "Collecting plotly\n",
      "  Downloading plotly-5.3.1-py2.py3-none-any.whl (23.9 MB)\n",
      "Collecting tenacity>=6.2.0\n",
      "  Downloading tenacity-8.0.1-py3-none-any.whl (24 kB)\n",
      "Requirement already satisfied: six in c:\\users\\k\\anaconda3\\lib\\site-packages (from plotly) (1.15.0)\n",
      "Installing collected packages: tenacity, plotly\n",
      "Successfully installed plotly-5.3.1 tenacity-8.0.1\n"
     ]
    }
   ],
   "source": [
    "!pip install plotly \n",
    "#Importing plotly failed. Interactive plots will not work 오류해결"
   ]
  },
  {
   "cell_type": "code",
   "execution_count": 12,
   "id": "a6e3a7ad",
   "metadata": {},
   "outputs": [],
   "source": [
    "import pandas as pd \n",
    "import numpy as np\n",
    "import matplotlib.pyplot as plt\n",
    "from fbprophet import Prophet"
   ]
  },
  {
   "cell_type": "code",
   "execution_count": 5,
   "id": "0e0c3b01",
   "metadata": {},
   "outputs": [
    {
     "data": {
      "text/plain": [
       "(361, 2)"
      ]
     },
     "execution_count": 5,
     "metadata": {},
     "output_type": "execute_result"
    }
   ],
   "source": [
    "#피처이름은 df,y로 \n",
    "file_path='C:/pyy/market-price.csv'\n",
    "bitcoin_df=pd.read_csv(file_path,names=['ds','y'],header=0)\n",
    "bitcoin_df.shape"
   ]
  },
  {
   "cell_type": "code",
   "execution_count": null,
   "id": "af664473",
   "metadata": {},
   "outputs": [
    {
     "name": "stderr",
     "output_type": "stream",
     "text": [
      "INFO:numexpr.utils:NumExpr defaulting to 6 threads.\n"
     ]
    },
    {
     "ename": "KeyError",
     "evalue": "'metric_file'",
     "output_type": "error",
     "traceback": [
      "\u001b[1;31m---------------------------------------------------------------------------\u001b[0m",
      "\u001b[1;31mKeyError\u001b[0m                                  Traceback (most recent call last)",
      "\u001b[1;31mKeyError\u001b[0m: 'metric_file'"
     ]
    }
   ],
   "source": [
    "#Prophet : Facebook에서 생성한 모델\n",
    "prophet=Prophet(seasonality_mode='multiplicative',yearly_seasonality=True,\n",
    "               weekly_seasonality=True,\n",
    "               daily_seasonality=True,\n",
    "               changepoint_prior_scale=0.5)\n",
    "prophet.fit(bitcoin_df) #학습하기"
   ]
  },
  {
   "cell_type": "code",
   "execution_count": 1,
   "id": "27df9e07",
   "metadata": {},
   "outputs": [
    {
     "ename": "NameError",
     "evalue": "name 'prophet' is not defined",
     "output_type": "error",
     "traceback": [
      "\u001b[1;31m---------------------------------------------------------------------------\u001b[0m",
      "\u001b[1;31mNameError\u001b[0m                                 Traceback (most recent call last)",
      "\u001b[1;32m<ipython-input-1-036e96650862>\u001b[0m in \u001b[0;36m<module>\u001b[1;34m\u001b[0m\n\u001b[1;32m----> 1\u001b[1;33m \u001b[0mprophet\u001b[0m\u001b[1;33m.\u001b[0m\u001b[0mfit\u001b[0m\u001b[1;33m(\u001b[0m\u001b[0mbitcoin_df\u001b[0m\u001b[1;33m)\u001b[0m \u001b[1;31m#학습하기\u001b[0m\u001b[1;33m\u001b[0m\u001b[1;33m\u001b[0m\u001b[0m\n\u001b[0m",
      "\u001b[1;31mNameError\u001b[0m: name 'prophet' is not defined"
     ]
    }
   ],
   "source": [
    "prophet.fit(bitcoin_df) #학습하기"
   ]
  },
  {
   "cell_type": "code",
   "execution_count": 2,
   "id": "f4a127ec",
   "metadata": {},
   "outputs": [
    {
     "ename": "NameError",
     "evalue": "name 'prophet' is not defined",
     "output_type": "error",
     "traceback": [
      "\u001b[1;31m---------------------------------------------------------------------------\u001b[0m",
      "\u001b[1;31mNameError\u001b[0m                                 Traceback (most recent call last)",
      "\u001b[1;32m<ipython-input-2-0001895cb415>\u001b[0m in \u001b[0;36m<module>\u001b[1;34m\u001b[0m\n\u001b[0;32m      1\u001b[0m \u001b[1;31m#5일 앞을 예측하기\u001b[0m\u001b[1;33m\u001b[0m\u001b[1;33m\u001b[0m\u001b[1;33m\u001b[0m\u001b[0m\n\u001b[1;32m----> 2\u001b[1;33m \u001b[0mfuture_data\u001b[0m\u001b[1;33m=\u001b[0m\u001b[0mprophet\u001b[0m\u001b[1;33m.\u001b[0m\u001b[0mmake_future_dataframe\u001b[0m\u001b[1;33m(\u001b[0m\u001b[0mperiods\u001b[0m\u001b[1;33m=\u001b[0m\u001b[1;36m5\u001b[0m\u001b[1;33m,\u001b[0m \u001b[0mfreq\u001b[0m\u001b[1;33m=\u001b[0m\u001b[1;34m'd'\u001b[0m\u001b[1;33m)\u001b[0m\u001b[1;33m\u001b[0m\u001b[1;33m\u001b[0m\u001b[0m\n\u001b[0m\u001b[0;32m      3\u001b[0m \u001b[1;31m#예측하기\u001b[0m\u001b[1;33m\u001b[0m\u001b[1;33m\u001b[0m\u001b[1;33m\u001b[0m\u001b[0m\n\u001b[0;32m      4\u001b[0m \u001b[0mforecast_data\u001b[0m\u001b[1;33m=\u001b[0m\u001b[0mprophet\u001b[0m\u001b[1;33m.\u001b[0m\u001b[0mpredict\u001b[0m\u001b[1;33m(\u001b[0m\u001b[0mfuture_data\u001b[0m\u001b[1;33m)\u001b[0m\u001b[1;33m\u001b[0m\u001b[1;33m\u001b[0m\u001b[0m\n\u001b[0;32m      5\u001b[0m \u001b[0mforecast_data\u001b[0m\u001b[1;33m.\u001b[0m\u001b[0mshape\u001b[0m\u001b[1;33m\u001b[0m\u001b[1;33m\u001b[0m\u001b[0m\n",
      "\u001b[1;31mNameError\u001b[0m: name 'prophet' is not defined"
     ]
    }
   ],
   "source": [
    "#5일 앞을 예측하기\n",
    "future_data=prophet.make_future_dataframe(periods=5, freq='d')\n",
    "#예측하기\n",
    "forecast_data=prophet.predict(future_data)\n",
    "forecast_data.shape"
   ]
  },
  {
   "cell_type": "code",
   "execution_count": 3,
   "id": "c3ead96f",
   "metadata": {},
   "outputs": [
    {
     "ename": "NameError",
     "evalue": "name 'forecast_data' is not defined",
     "output_type": "error",
     "traceback": [
      "\u001b[1;31m---------------------------------------------------------------------------\u001b[0m",
      "\u001b[1;31mNameError\u001b[0m                                 Traceback (most recent call last)",
      "\u001b[1;32m<ipython-input-3-e479c682a7ae>\u001b[0m in \u001b[0;36m<module>\u001b[1;34m\u001b[0m\n\u001b[0;32m      1\u001b[0m \u001b[1;31m#예측된 데이터의 날짜, 예측값, 최소예측값,최대예측값\u001b[0m\u001b[1;33m\u001b[0m\u001b[1;33m\u001b[0m\u001b[1;33m\u001b[0m\u001b[0m\n\u001b[1;32m----> 2\u001b[1;33m \u001b[0mforecast_data\u001b[0m\u001b[1;33m[\u001b[0m\u001b[1;33m[\u001b[0m\u001b[1;34m'ds'\u001b[0m\u001b[1;33m,\u001b[0m\u001b[1;34m'yhat'\u001b[0m\u001b[1;33m,\u001b[0m\u001b[1;34m'yhat_lower'\u001b[0m\u001b[1;33m,\u001b[0m\u001b[1;34m'yhat_upper'\u001b[0m\u001b[1;33m]\u001b[0m\u001b[1;33m]\u001b[0m\u001b[1;33m.\u001b[0m\u001b[0mtail\u001b[0m\u001b[1;33m(\u001b[0m\u001b[1;36m5\u001b[0m\u001b[1;33m)\u001b[0m\u001b[1;33m\u001b[0m\u001b[1;33m\u001b[0m\u001b[0m\n\u001b[0m",
      "\u001b[1;31mNameError\u001b[0m: name 'forecast_data' is not defined"
     ]
    }
   ],
   "source": [
    "#예측된 데이터의 날짜, 예측값, 최소예측값,최대예측값\n",
    "forecast_data[['ds','yhat','yhat_lower','yhat_upper']].tail(5)"
   ]
  },
  {
   "cell_type": "code",
   "execution_count": 4,
   "id": "37074039",
   "metadata": {},
   "outputs": [
    {
     "ename": "NameError",
     "evalue": "name 'prophet' is not defined",
     "output_type": "error",
     "traceback": [
      "\u001b[1;31m---------------------------------------------------------------------------\u001b[0m",
      "\u001b[1;31mNameError\u001b[0m                                 Traceback (most recent call last)",
      "\u001b[1;32m<ipython-input-4-6855cd23bd83>\u001b[0m in \u001b[0;36m<module>\u001b[1;34m\u001b[0m\n\u001b[0;32m      2\u001b[0m \u001b[1;31m#검은점: 실데이터\u001b[0m\u001b[1;33m\u001b[0m\u001b[1;33m\u001b[0m\u001b[1;33m\u001b[0m\u001b[0m\n\u001b[0;32m      3\u001b[0m \u001b[1;31m#파란선: 예측값\u001b[0m\u001b[1;33m\u001b[0m\u001b[1;33m\u001b[0m\u001b[1;33m\u001b[0m\u001b[0m\n\u001b[1;32m----> 4\u001b[1;33m \u001b[0mfig1\u001b[0m\u001b[1;33m=\u001b[0m\u001b[0mprophet\u001b[0m\u001b[1;33m.\u001b[0m\u001b[0mplot\u001b[0m\u001b[1;33m(\u001b[0m\u001b[0mforecast_data\u001b[0m\u001b[1;33m)\u001b[0m\u001b[1;33m\u001b[0m\u001b[1;33m\u001b[0m\u001b[0m\n\u001b[0m\u001b[0;32m      5\u001b[0m \u001b[0mfig2\u001b[0m\u001b[1;33m-\u001b[0m\u001b[0mprophet\u001b[0m\u001b[1;33m.\u001b[0m\u001b[0mplot_components\u001b[0m\u001b[1;33m(\u001b[0m\u001b[0mforecast_data\u001b[0m\u001b[1;33m)\u001b[0m\u001b[1;33m\u001b[0m\u001b[1;33m\u001b[0m\u001b[0m\n",
      "\u001b[1;31mNameError\u001b[0m: name 'prophet' is not defined"
     ]
    }
   ],
   "source": [
    "#결과의 시각화\n",
    "#검은점: 실데이터\n",
    "#파란선: 예측값\n",
    "fig1=prophet.plot(forecast_data)\n",
    "fig2-prophet.plot_components(forecast_data)\n"
   ]
  },
  {
   "cell_type": "code",
   "execution_count": 5,
   "id": "a560fb0d",
   "metadata": {},
   "outputs": [
    {
     "ename": "NameError",
     "evalue": "name 'bitcoin_df' is not defined",
     "output_type": "error",
     "traceback": [
      "\u001b[1;31m---------------------------------------------------------------------------\u001b[0m",
      "\u001b[1;31mNameError\u001b[0m                                 Traceback (most recent call last)",
      "\u001b[1;32m<ipython-input-5-c49d9c348826>\u001b[0m in \u001b[0;36m<module>\u001b[1;34m\u001b[0m\n\u001b[0;32m      1\u001b[0m \u001b[1;31m#실제가격과 예측가격간의 차이 분석 => 성능\u001b[0m\u001b[1;33m\u001b[0m\u001b[1;33m\u001b[0m\u001b[1;33m\u001b[0m\u001b[0m\n\u001b[1;32m----> 2\u001b[1;33m \u001b[0my\u001b[0m\u001b[1;33m=\u001b[0m\u001b[0mbitcoin_df\u001b[0m\u001b[1;33m.\u001b[0m\u001b[0mvalues\u001b[0m\u001b[1;33m[\u001b[0m\u001b[1;36m5\u001b[0m\u001b[1;33m:\u001b[0m\u001b[1;33m]\u001b[0m \u001b[1;31m# 실제데이터. 첫 5일제외. 실데이터\u001b[0m\u001b[1;33m\u001b[0m\u001b[1;33m\u001b[0m\u001b[0m\n\u001b[0m\u001b[0;32m      3\u001b[0m \u001b[0my_pred\u001b[0m\u001b[1;33m=\u001b[0m\u001b[0mforecast_data\u001b[0m\u001b[1;33m.\u001b[0m\u001b[0myhat\u001b[0m\u001b[1;33m.\u001b[0m\u001b[0mvalues\u001b[0m\u001b[1;33m[\u001b[0m\u001b[1;36m5\u001b[0m\u001b[1;33m:\u001b[0m\u001b[1;33m-\u001b[0m\u001b[1;36m5\u001b[0m\u001b[1;33m]\u001b[0m \u001b[1;31m# 첫5일, 마지막5일을 제외한 예측데이터\u001b[0m\u001b[1;33m\u001b[0m\u001b[1;33m\u001b[0m\u001b[0m\n",
      "\u001b[1;31mNameError\u001b[0m: name 'bitcoin_df' is not defined"
     ]
    }
   ],
   "source": [
    "#실제가격과 예측가격간의 차이 분석 => 성능\n",
    "y=bitcoin_df.values[5:] # 실제데이터. 첫 5일제외. 실데이터\n",
    "y_pred=forecast_data.yhat.values[5:-5] # 첫5일, 마지막5일을 제외한 예측데이터"
   ]
  },
  {
   "cell_type": "code",
   "execution_count": 7,
   "id": "c3bf2aac",
   "metadata": {},
   "outputs": [],
   "source": [
    "#R2 score, RMSE 값을 출력하기\n",
    "from sklearn.metrics import mean_squared_error, r2_score\n",
    "from math import sqrt"
   ]
  },
  {
   "cell_type": "code",
   "execution_count": 9,
   "id": "65a36992",
   "metadata": {},
   "outputs": [
    {
     "ename": "NameError",
     "evalue": "name 'y' is not defined",
     "output_type": "error",
     "traceback": [
      "\u001b[1;31m---------------------------------------------------------------------------\u001b[0m",
      "\u001b[1;31mNameError\u001b[0m                                 Traceback (most recent call last)",
      "\u001b[1;32m<ipython-input-9-5c23d4313bb5>\u001b[0m in \u001b[0;36m<module>\u001b[1;34m\u001b[0m\n\u001b[1;32m----> 1\u001b[1;33m \u001b[0mr2\u001b[0m\u001b[1;33m=\u001b[0m\u001b[0mr2_score\u001b[0m\u001b[1;33m(\u001b[0m\u001b[0my\u001b[0m\u001b[1;33m,\u001b[0m\u001b[0my_pred\u001b[0m\u001b[1;33m)\u001b[0m\u001b[1;33m\u001b[0m\u001b[1;33m\u001b[0m\u001b[0m\n\u001b[0m\u001b[0;32m      2\u001b[0m \u001b[0mrmse\u001b[0m\u001b[1;33m=\u001b[0m\u001b[0msqrt\u001b[0m\u001b[1;33m(\u001b[0m\u001b[0mmean_square_error\u001b[0m\u001b[1;33m(\u001b[0m\u001b[0my\u001b[0m\u001b[1;33m,\u001b[0m\u001b[0my_pred\u001b[0m\u001b[1;33m)\u001b[0m\u001b[1;33m)\u001b[0m\u001b[1;33m\u001b[0m\u001b[1;33m\u001b[0m\u001b[0m\n\u001b[0;32m      3\u001b[0m \u001b[0mr2\u001b[0m\u001b[1;33m\u001b[0m\u001b[1;33m\u001b[0m\u001b[0m\n\u001b[0;32m      4\u001b[0m \u001b[0mrmse\u001b[0m\u001b[1;33m\u001b[0m\u001b[1;33m\u001b[0m\u001b[0m\n",
      "\u001b[1;31mNameError\u001b[0m: name 'y' is not defined"
     ]
    }
   ],
   "source": [
    "r2=r2_score(y,y_pred)\n",
    "rmse=sqrt(mean_square_error(y,y_pred))\n",
    "r2\n",
    "rmse"
   ]
  },
  {
   "cell_type": "code",
   "execution_count": 10,
   "id": "73a9ecd3",
   "metadata": {},
   "outputs": [
    {
     "ename": "NameError",
     "evalue": "name 'pd' is not defined",
     "output_type": "error",
     "traceback": [
      "\u001b[1;31m---------------------------------------------------------------------------\u001b[0m",
      "\u001b[1;31mNameError\u001b[0m                                 Traceback (most recent call last)",
      "\u001b[1;32m<ipython-input-10-105bab451e8f>\u001b[0m in \u001b[0;36m<module>\u001b[1;34m\u001b[0m\n\u001b[0;32m      2\u001b[0m \u001b[0mtest_file_path\u001b[0m\u001b[1;33m=\u001b[0m\u001b[1;34m'C:/pyy/market-price-test.csv'\u001b[0m\u001b[1;33m\u001b[0m\u001b[1;33m\u001b[0m\u001b[0m\n\u001b[0;32m      3\u001b[0m \u001b[1;31m#실데이터정보\u001b[0m\u001b[1;33m\u001b[0m\u001b[1;33m\u001b[0m\u001b[1;33m\u001b[0m\u001b[0m\n\u001b[1;32m----> 4\u001b[1;33m \u001b[0mbitcoin_test_df\u001b[0m\u001b[1;33m=\u001b[0m\u001b[0mpd\u001b[0m\u001b[1;33m.\u001b[0m\u001b[0mread_csv\u001b[0m\u001b[1;33m(\u001b[0m\u001b[0mtest_file_path\u001b[0m\u001b[1;33m,\u001b[0m\u001b[0mnames\u001b[0m\u001b[1;33m=\u001b[0m\u001b[1;33m[\u001b[0m\u001b[1;34m'ds'\u001b[0m\u001b[1;33m,\u001b[0m\u001b[1;34m'y'\u001b[0m\u001b[1;33m]\u001b[0m\u001b[1;33m,\u001b[0m\u001b[0mheader\u001b[0m\u001b[1;33m=\u001b[0m\u001b[1;36m0\u001b[0m\u001b[1;33m)\u001b[0m\u001b[1;33m\u001b[0m\u001b[1;33m\u001b[0m\u001b[0m\n\u001b[0m\u001b[0;32m      5\u001b[0m \u001b[0my\u001b[0m\u001b[1;33m=\u001b[0m\u001b[0mbitcoin_test_df\u001b[0m\u001b[1;33m.\u001b[0m\u001b[0my\u001b[0m\u001b[1;33m.\u001b[0m\u001b[0mvalues\u001b[0m\u001b[1;33m\u001b[0m\u001b[1;33m\u001b[0m\u001b[0m\n\u001b[0;32m      6\u001b[0m \u001b[0my_pred\u001b[0m\u001b[1;33m=\u001b[0m\u001b[0mforecast_data\u001b[0m\u001b[1;33m.\u001b[0m\u001b[0myhat\u001b[0m\u001b[1;33m.\u001b[0m\u001b[0mvalues\u001b[0m\u001b[1;33m[\u001b[0m\u001b[1;33m-\u001b[0m\u001b[1;36m5\u001b[0m\u001b[1;33m:\u001b[0m\u001b[1;33m]\u001b[0m\u001b[1;33m\u001b[0m\u001b[1;33m\u001b[0m\u001b[0m\n",
      "\u001b[1;31mNameError\u001b[0m: name 'pd' is not defined"
     ]
    }
   ],
   "source": [
    "#실제데이터와 비교\n",
    "test_file_path='C:/pyy/market-price-test.csv'\n",
    "#실데이터정보\n",
    "bitcoin_test_df=pd.read_csv(test_file_path,names=['ds','y'],header=0)\n",
    "y=bitcoin_test_df.y.values\n",
    "y_pred=forecast_data.yhat.values[-5:]\n",
    "y\n",
    "y_pred"
   ]
  },
  {
   "cell_type": "code",
   "execution_count": 13,
   "id": "2372aab2",
   "metadata": {},
   "outputs": [
    {
     "ename": "NameError",
     "evalue": "name 'y_pred' is not defined",
     "output_type": "error",
     "traceback": [
      "\u001b[1;31m---------------------------------------------------------------------------\u001b[0m",
      "\u001b[1;31mNameError\u001b[0m                                 Traceback (most recent call last)",
      "\u001b[1;32m<ipython-input-13-427d88d80871>\u001b[0m in \u001b[0;36m<module>\u001b[1;34m\u001b[0m\n\u001b[1;32m----> 1\u001b[1;33m \u001b[0mplt\u001b[0m\u001b[1;33m.\u001b[0m\u001b[0mplot\u001b[0m\u001b[1;33m(\u001b[0m\u001b[0my_pred\u001b[0m\u001b[1;33m,\u001b[0m\u001b[0mcolor\u001b[0m\u001b[1;33m=\u001b[0m\u001b[1;34m'gold'\u001b[0m\u001b[1;33m)\u001b[0m\u001b[1;33m\u001b[0m\u001b[1;33m\u001b[0m\u001b[0m\n\u001b[0m\u001b[0;32m      2\u001b[0m \u001b[0mplt\u001b[0m\u001b[1;33m.\u001b[0m\u001b[0mplot\u001b[0m\u001b[1;33m(\u001b[0m\u001b[0my\u001b[0m\u001b[1;33m,\u001b[0m\u001b[0mcolor\u001b[0m\u001b[1;33m=\u001b[0m\u001b[1;34m'green'\u001b[0m\u001b[1;33m)\u001b[0m\u001b[1;33m\u001b[0m\u001b[1;33m\u001b[0m\u001b[0m\n",
      "\u001b[1;31mNameError\u001b[0m: name 'y_pred' is not defined"
     ]
    }
   ],
   "source": [
    "plt.plot(y_pred,color='gold')\n",
    "plt.plot(y,color='green')"
   ]
  },
  {
   "cell_type": "code",
   "execution_count": null,
   "id": "f48ef578",
   "metadata": {},
   "outputs": [],
   "source": []
  }
 ],
 "metadata": {
  "kernelspec": {
   "display_name": "Python 3",
   "language": "python",
   "name": "python3"
  },
  "language_info": {
   "codemirror_mode": {
    "name": "ipython",
    "version": 3
   },
   "file_extension": ".py",
   "mimetype": "text/x-python",
   "name": "python",
   "nbconvert_exporter": "python",
   "pygments_lexer": "ipython3",
   "version": "3.8.8"
  }
 },
 "nbformat": 4,
 "nbformat_minor": 5
}
