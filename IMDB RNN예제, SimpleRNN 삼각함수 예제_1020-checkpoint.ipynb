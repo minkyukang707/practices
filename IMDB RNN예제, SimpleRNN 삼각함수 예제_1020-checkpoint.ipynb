{
 "cells": [
  {
   "cell_type": "code",
   "execution_count": null,
   "id": "b97d6cdd",
   "metadata": {},
   "outputs": [],
   "source": [
    "RNN: 순환신경망\n",
    "음성인식이나 문장 번역에 사용됨\n",
    "Embedding, SimpleRNN등의 층이 사용\n",
    "\n",
    "Embedding: 단어를 벡터 형태로 표현. 텍스트 분류를 위한 가장 기본층\n",
    "토큰화 필요\n",
    "토큰: 의미를 가진 기본적인 문자열. 문법적으로 더 이상 나눌 수 없는 언어의 요소"
   ]
  },
  {
   "cell_type": "code",
   "execution_count": 20,
   "id": "bd756c4b",
   "metadata": {},
   "outputs": [],
   "source": [
    "from tensorflow.keras.preprocessing.text import Tokenizer\n",
    "from tensorflow.keras.utils import to_categorical"
   ]
  },
  {
   "cell_type": "code",
   "execution_count": 21,
   "id": "4f4c57b0",
   "metadata": {},
   "outputs": [
    {
     "name": "stdout",
     "output_type": "stream",
     "text": [
      "{'<OOV>': 1, 'you': 2, 'are': 3, 'the': 4, 'best': 5, 'thing': 6, 'nice': 7}\n",
      "[[2, 3, 4, 5, 6], [2, 3, 4, 7]]\n",
      "[[0. 0. 1. 1. 1. 1. 1. 0. 0. 0.]\n",
      " [0. 0. 1. 1. 1. 0. 0. 1. 0. 0.]]\n",
      "[[2, 3, 4, 1]]\n"
     ]
    }
   ],
   "source": [
    "#example\n",
    "texts=['You are the Best Thing','You are the Nice']\n",
    "#num_words: 10개의 토큰으로 분리\n",
    "#oov_token: 기존에 분석된 단어가 없는 경우 대체되는 값 \n",
    "#Tokenizer: 문장을 토큰화\n",
    "tokenizer=Tokenizer(num_words =10, oov_token='<OOV>')\n",
    "#tokenizer=Tokenizer()\n",
    "#fit_on_texts 함수: texts값을 토큰화 함\n",
    "tokenizer.fit_on_texts(texts)\n",
    "#텍스트 데이터를 정수 인덱스로 변환함\n",
    "sequences=tokenizer.texts_to_sequences(texts)\n",
    "#이진 형태로 인코딩함\n",
    "binary_results=tokenizer.sequences_to_matrix(sequences,mode='binary')\n",
    "print(tokenizer.word_index) #text데이터를 분석 결과 출력\n",
    "print(sequences) #[[2,3,4,5,6],[2,3,4,7]]\n",
    "print(binary_results)\n",
    "test_text=['You are the One']\n",
    "test_seq=tokenizer.texts_to_sequences(test_text)\n",
    "#One이란 토큰은 기존의 저장된 토큰에 없으므로 <OOV>: 1번으로 대체됨\n",
    "print(test_seq) #[[2,3,4,1]]"
   ]
  },
  {
   "cell_type": "markdown",
   "id": "5c399186",
   "metadata": {},
   "source": [
    "# imdb 데이터셋을 이용한 딥러닝\n",
    "- 영화리뷰에 대한 데이터 5만개\n",
    "- 50%씩  긍정리뷰, 부정리뷰\n",
    "- 전처리가 완료된 상태 -> 내용이 숫자로 변환됨"
   ]
  },
  {
   "cell_type": "code",
   "execution_count": 22,
   "id": "a4ba2b04",
   "metadata": {},
   "outputs": [],
   "source": [
    "from tensorflow.keras.datasets import imdb"
   ]
  },
  {
   "cell_type": "code",
   "execution_count": 23,
   "id": "5956fd47",
   "metadata": {},
   "outputs": [
    {
     "name": "stdout",
     "output_type": "stream",
     "text": [
      "(25000,) (25000,)\n",
      "[1, 14, 22, 16, 43, 530, 973, 1622, 1385, 65, 458, 4468, 66, 3941, 4, 173, 36, 256, 5, 25, 100, 43, 838, 112, 50, 670, 2, 9, 35, 480, 284, 5, 150, 4, 172, 112, 167, 2, 336, 385, 39, 4, 172, 4536, 1111, 17, 546, 38, 13, 447, 4, 192, 50, 16, 6, 147, 2025, 19, 14, 22, 4, 1920, 4613, 469, 4, 22, 71, 87, 12, 16, 43, 530, 38, 76, 15, 13, 1247, 4, 22, 17, 515, 17, 12, 16, 626, 18, 2, 5, 62, 386, 12, 8, 316, 8, 106, 5, 4, 2223, 5244, 16, 480, 66, 3785, 33, 4, 130, 12, 16, 38, 619, 5, 25, 124, 51, 36, 135, 48, 25, 1415, 33, 6, 22, 12, 215, 28, 77, 52, 5, 14, 407, 16, 82, 2, 8, 4, 107, 117, 5952, 15, 256, 4, 2, 7, 3766, 5, 723, 36, 71, 43, 530, 476, 26, 400, 317, 46, 7, 4, 2, 1029, 13, 104, 88, 4, 381, 15, 297, 98, 32, 2071, 56, 26, 141, 6, 194, 7486, 18, 4, 226, 22, 21, 134, 476, 26, 480, 5, 144, 30, 5535, 18, 51, 36, 28, 224, 92, 25, 104, 4, 226, 65, 16, 38, 1334, 88, 12, 16, 283, 5, 16, 4472, 113, 103, 32, 15, 16, 5345, 19, 178, 32]\n",
      "218\n",
      "189\n"
     ]
    }
   ],
   "source": [
    "num_words=10000\n",
    "(X_train,y_train),(X_test,y_test) =imdb.load_data(num_words=num_words)\n",
    "print(X_train.shape,X_test.shape)\n",
    "#X_train의 첫번째 내용 출력 \n",
    "print(X_train[0])\n",
    "#X_train의 첫번째 내용의 토큰 갯수  #218개\n",
    "print(len(X_train[0]))\n",
    "#X_train의 두번째 내용의 토큰 갯수 #189개\n",
    "print(len(X_train[1]))"
   ]
  },
  {
   "cell_type": "code",
   "execution_count": 24,
   "id": "c0219237",
   "metadata": {},
   "outputs": [
    {
     "name": "stdout",
     "output_type": "stream",
     "text": [
      "1 번째로 가장 많이 쓰인 단어=the\n",
      "2 번째로 가장 많이 쓰인 단어=and\n",
      "3 번째로 가장 많이 쓰인 단어=a\n",
      "4 번째로 가장 많이 쓰인 단어=of\n",
      "5 번째로 가장 많이 쓰인 단어=to\n",
      "[1 0 0 1 0 0 1 0 1 0]\n"
     ]
    }
   ],
   "source": [
    "#imdb데이터 중 가장 빈번하게 사용되는 단어 5개 조회하기\n",
    "#imdb.get_word_index(); 단어:번호 값을 조회\n",
    "#key:단어\n",
    "#value: 숫자\n",
    "imdb_get_word_index={} #딕셔너리 객체\n",
    "for key,value in imdb.get_word_index().items():\n",
    "    imdb_get_word_index[value]=key #value값이 작은 경우 가장 빈번한 문장임\n",
    "for i in range(1,6):\n",
    "    print('{} 번째로 가장 많이 쓰인 단어={}'.format(i,imdb_get_word_index[i]))\n",
    "print(y_train[:10]) #0:부정, 1:긍정"
   ]
  },
  {
   "cell_type": "code",
   "execution_count": 25,
   "id": "8361cf6c",
   "metadata": {},
   "outputs": [
    {
     "name": "stdout",
     "output_type": "stream",
     "text": [
      "238.71364 178.0\n"
     ]
    }
   ],
   "source": [
    "#훈련데이터의 문장의 길이의 평균, 중간값 구하기\n",
    "import numpy as np\n",
    "lengths=np.array([len(x) for x in X_train])\n",
    "print(np.mean(lengths), np.median(lengths))"
   ]
  },
  {
   "cell_type": "code",
   "execution_count": 26,
   "id": "e27040c8",
   "metadata": {},
   "outputs": [
    {
     "data": {
      "image/png": "[encoded data removed]",
      "text/plain": [
       "<Figure size 432x288 with 1 Axes>"
      ]
     },
     "metadata": {
      "needs_background": "light"
     },
     "output_type": "display_data"
    }
   ],
   "source": [
    "#히스토그램으로 단어의 갯수를 출력하기\n",
    "import matplotlib.pyplot as plt\n",
    "plt.hist(lengths)\n",
    "plt.xlabel('length')\n",
    "plt.ylabel('frequency')\n",
    "plt.show()"
   ]
  },
  {
   "cell_type": "code",
   "execution_count": 27,
   "id": "3cdf3a4a",
   "metadata": {},
   "outputs": [
    {
     "name": "stdout",
     "output_type": "stream",
     "text": [
      "Befpre pad_sequences: 218\n",
      "After pad_sequences: 500\n",
      "[1, 14, 22, 16, 43, 530, 973, 1622, 1385, 65, 458, 4468, 66, 3941, 4, 173, 36, 256, 5, 25, 100, 43, 838, 112, 50, 670, 2, 9, 35, 480, 284, 5, 150, 4, 172, 112, 167, 2, 336, 385, 39, 4, 172, 4536, 1111, 17, 546, 38, 13, 447, 4, 192, 50, 16, 6, 147, 2025, 19, 14, 22, 4, 1920, 4613, 469, 4, 22, 71, 87, 12, 16, 43, 530, 38, 76, 15, 13, 1247, 4, 22, 17, 515, 17, 12, 16, 626, 18, 2, 5, 62, 386, 12, 8, 316, 8, 106, 5, 4, 2223, 5244, 16, 480, 66, 3785, 33, 4, 130, 12, 16, 38, 619, 5, 25, 124, 51, 36, 135, 48, 25, 1415, 33, 6, 22, 12, 215, 28, 77, 52, 5, 14, 407, 16, 82, 2, 8, 4, 107, 117, 5952, 15, 256, 4, 2, 7, 3766, 5, 723, 36, 71, 43, 530, 476, 26, 400, 317, 46, 7, 4, 2, 1029, 13, 104, 88, 4, 381, 15, 297, 98, 32, 2071, 56, 26, 141, 6, 194, 7486, 18, 4, 226, 22, 21, 134, 476, 26, 480, 5, 144, 30, 5535, 18, 51, 36, 28, 224, 92, 25, 104, 4, 226, 65, 16, 38, 1334, 88, 12, 16, 283, 5, 16, 4472, 113, 103, 32, 15, 16, 5345, 19, 178, 32]\n",
      "[   0    0    0    0    0    0    0    0    0    0    0    0    0    0\n",
      "    0    0    0    0    0    0    0    0    0    0    0    0    0    0\n",
      "    0    0    0    0    0    0    0    0    0    0    0    0    0    0\n",
      "    0    0    0    0    0    0    0    0    0    0    0    0    0    0\n",
      "    0    0    0    0    0    0    0    0    0    0    0    0    0    0\n",
      "    0    0    0    0    0    0    0    0    0    0    0    0    0    0\n",
      "    0    0    0    0    0    0    0    0    0    0    0    0    0    0\n",
      "    0    0    0    0    0    0    0    0    0    0    0    0    0    0\n",
      "    0    0    0    0    0    0    0    0    0    0    0    0    0    0\n",
      "    0    0    0    0    0    0    0    0    0    0    0    0    0    0\n",
      "    0    0    0    0    0    0    0    0    0    0    0    0    0    0\n",
      "    0    0    0    0    0    0    0    0    0    0    0    0    0    0\n",
      "    0    0    0    0    0    0    0    0    0    0    0    0    0    0\n",
      "    0    0    0    0    0    0    0    0    0    0    0    0    0    0\n",
      "    0    0    0    0    0    0    0    0    0    0    0    0    0    0\n",
      "    0    0    0    0    0    0    0    0    0    0    0    0    0    0\n",
      "    0    0    0    0    0    0    0    0    0    0    0    0    0    0\n",
      "    0    0    0    0    0    0    0    0    0    0    0    0    0    0\n",
      "    0    0    0    0    0    0    0    0    0    0    0    0    0    0\n",
      "    0    0    0    0    0    0    0    0    0    0    0    0    0    0\n",
      "    0    0    1   14   22   16   43  530  973 1622 1385   65  458 4468\n",
      "   66 3941    4  173   36  256    5   25  100   43  838  112   50  670\n",
      "    2    9   35  480  284    5  150    4  172  112  167    2  336  385\n",
      "   39    4  172 4536 1111   17  546   38   13  447    4  192   50   16\n",
      "    6  147 2025   19   14   22    4 1920 4613  469    4   22   71   87\n",
      "   12   16   43  530   38   76   15   13 1247    4   22   17  515   17\n",
      "   12   16  626   18    2    5   62  386   12    8  316    8  106    5\n",
      "    4 2223 5244   16  480   66 3785   33    4  130   12   16   38  619\n",
      "    5   25  124   51   36  135   48   25 1415   33    6   22   12  215\n",
      "   28   77   52    5   14  407   16   82    2    8    4  107  117 5952\n",
      "   15  256    4    2    7 3766    5  723   36   71   43  530  476   26\n",
      "  400  317   46    7    4    2 1029   13  104   88    4  381   15  297\n",
      "   98   32 2071   56   26  141    6  194 7486   18    4  226   22   21\n",
      "  134  476   26  480    5  144   30 5535   18   51   36   28  224   92\n",
      "   25  104    4  226   65   16   38 1334   88   12   16  283    5   16\n",
      " 4472  113  103   32   15   16 5345   19  178   32]\n"
     ]
    }
   ],
   "source": [
    "#분석을 위해 데이터의 길이를 동일하게 처리해야함\n",
    "#패딩필요: 데이터의 길이가 지정길이보다 짧으면 0으로 채움\n",
    "#데이터의 길이가 지정길이보다 길면 잘라냄\n",
    "from tensorflow.keras.preprocessing.sequence import pad_sequences\n",
    "max_len=500 #지정길이\n",
    "print('Befpre pad_sequences:', len(X_train[0])) #218\n",
    "#padding='pre' #기본값, 앞쪽에 0으로 채움\n",
    "#padding='post' #뒤쪽에 0으로 채움\n",
    "#학습데이터 패딩\n",
    "pad_X_train=pad_sequences(X_train, maxlen=max_len,padding='pre')\n",
    "#테스트 데이터 패딩\n",
    "pad_X_test=pad_sequences(X_test, maxlen=max_len,padding='pre')\n",
    "print('After pad_sequences:',len(pad_X_train[0])) #500\n",
    "print(X_train[0])\n",
    "print(pad_X_train[0])"
   ]
  },
  {
   "cell_type": "code",
   "execution_count": 28,
   "id": "ec146df1",
   "metadata": {},
   "outputs": [
    {
     "name": "stdout",
     "output_type": "stream",
     "text": [
      "[[0 0 1 2 3]]\n",
      "[[4 5 6 7 8]]\n",
      "[[1 2 3 0 0]]\n",
      "[[4 5 6 7 8]]\n"
     ]
    }
   ],
   "source": [
    "#example \n",
    "#padding 방법\n",
    "#잘리는 경우는 pre,post든 앞쪽부분이 잘림\n",
    "from tensorflow.keras.preprocessing.sequence import pad_sequences\n",
    "a1=[[1,2,3]]\n",
    "a2=[[1,2,3,4,5,6,7,8]]\n",
    "a1_pre=pad_sequences(a1,maxlen=5)\n",
    "a2_pre=pad_sequences(a2,maxlen=5)\n",
    "print(a1_pre)\n",
    "print(a2_pre)\n",
    "a1_post=pad_sequences(a1,maxlen=5,padding='post')\n",
    "a2_post=pad_sequences(a2,maxlen=5,padding='post')\n",
    "print(a1_post)\n",
    "print(a2_post)"
   ]
  },
  {
   "cell_type": "code",
   "execution_count": 29,
   "id": "ff2b2634",
   "metadata": {},
   "outputs": [
    {
     "name": "stdout",
     "output_type": "stream",
     "text": [
      "Model: \"sequential_1\"\n",
      "_________________________________________________________________\n",
      "Layer (type)                 Output Shape              Param #   \n",
      "=================================================================\n",
      "embedding_1 (Embedding)      (None, 500, 32)           320000    \n",
      "_________________________________________________________________\n",
      "flatten_1 (Flatten)          (None, 16000)             0         \n",
      "_________________________________________________________________\n",
      "dense_1 (Dense)              (None, 1)                 16001     \n",
      "=================================================================\n",
      "Total params: 336,001\n",
      "Trainable params: 336,001\n",
      "Non-trainable params: 0\n",
      "_________________________________________________________________\n"
     ]
    }
   ],
   "source": [
    "#Embedding 층: RNN의 가장 기본층. 첫번째 층으로 사용됨\n",
    "#밀짐행렬 형태임\n",
    "from tensorflow.keras.models import Sequential\n",
    "from tensorflow.keras.layers import Dense,Embedding,Flatten\n",
    "model=Sequential()\n",
    "'''\n",
    "input_dim: 입력데이터의 차수. num_words(10000)\n",
    "output_dim: 출력데이터의 차수. Flatten층의 입력데이터\n",
    "input_length: 입력데이터의 갯수\n",
    "'''\n",
    "model.add(Embedding(input_dim=num_words,output_dim=32,input_length=max_len))\n",
    "model.add(Flatten())\n",
    "model.add(Dense(1,activation='sigmoid'))\n",
    "model.compile(optimizer='adam',loss='binary_crossentropy', metrics=['acc'])\n",
    "model.summary()"
   ]
  },
  {
   "cell_type": "code",
   "execution_count": 30,
   "id": "b396c206",
   "metadata": {},
   "outputs": [
    {
     "name": "stdout",
     "output_type": "stream",
     "text": [
      "Epoch 1/30\n",
      "625/625 [==============================] - 4s 6ms/step - loss: 0.4655 - acc: 0.7663 - val_loss: 0.3112 - val_acc: 0.8642\n",
      "Epoch 2/30\n",
      "625/625 [==============================] - 4s 6ms/step - loss: 0.2022 - acc: 0.9244 - val_loss: 0.2821 - val_acc: 0.8806\n",
      "Epoch 3/30\n",
      "625/625 [==============================] - 4s 6ms/step - loss: 0.1071 - acc: 0.9703 - val_loss: 0.2861 - val_acc: 0.8870\n",
      "Epoch 4/30\n",
      "625/625 [==============================] - 4s 6ms/step - loss: 0.0516 - acc: 0.9908 - val_loss: 0.3130 - val_acc: 0.8818\n",
      "Epoch 5/30\n",
      "625/625 [==============================] - 4s 6ms/step - loss: 0.0243 - acc: 0.9979 - val_loss: 0.3369 - val_acc: 0.8796\n",
      "Epoch 6/30\n",
      "625/625 [==============================] - 4s 6ms/step - loss: 0.0120 - acc: 0.9995 - val_loss: 0.3620 - val_acc: 0.8780\n",
      "Epoch 7/30\n",
      "625/625 [==============================] - 4s 6ms/step - loss: 0.0065 - acc: 0.9998 - val_loss: 0.3846 - val_acc: 0.8808\n",
      "Epoch 8/30\n",
      "625/625 [==============================] - 4s 6ms/step - loss: 0.0038 - acc: 0.9999 - val_loss: 0.4083 - val_acc: 0.8786\n",
      "Epoch 9/30\n",
      "625/625 [==============================] - 4s 6ms/step - loss: 0.0024 - acc: 1.0000 - val_loss: 0.4326 - val_acc: 0.8774\n",
      "Epoch 10/30\n",
      "625/625 [==============================] - 4s 6ms/step - loss: 0.0014 - acc: 1.0000 - val_loss: 0.4495 - val_acc: 0.8764\n",
      "Epoch 11/30\n",
      "625/625 [==============================] - 4s 6ms/step - loss: 9.7301e-04 - acc: 1.0000 - val_loss: 0.4689 - val_acc: 0.8756\n",
      "Epoch 12/30\n",
      "625/625 [==============================] - 4s 6ms/step - loss: 6.3722e-04 - acc: 1.0000 - val_loss: 0.4879 - val_acc: 0.8760\n",
      "Epoch 13/30\n",
      "625/625 [==============================] - 4s 6ms/step - loss: 4.2796e-04 - acc: 1.0000 - val_loss: 0.5077 - val_acc: 0.8742\n",
      "Epoch 14/30\n",
      "625/625 [==============================] - 4s 6ms/step - loss: 2.9328e-04 - acc: 1.0000 - val_loss: 0.5274 - val_acc: 0.8744\n",
      "Epoch 15/30\n",
      "625/625 [==============================] - 4s 6ms/step - loss: 2.0258e-04 - acc: 1.0000 - val_loss: 0.5453 - val_acc: 0.8752\n",
      "Epoch 16/30\n",
      "625/625 [==============================] - 4s 6ms/step - loss: 1.3969e-04 - acc: 1.0000 - val_loss: 0.5632 - val_acc: 0.8750\n",
      "Epoch 17/30\n",
      "625/625 [==============================] - 4s 6ms/step - loss: 9.6090e-05 - acc: 1.0000 - val_loss: 0.5814 - val_acc: 0.8744\n",
      "Epoch 18/30\n",
      "625/625 [==============================] - 4s 6ms/step - loss: 6.9519e-05 - acc: 1.0000 - val_loss: 0.6013 - val_acc: 0.8734\n",
      "Epoch 19/30\n",
      "625/625 [==============================] - 4s 6ms/step - loss: 4.7244e-05 - acc: 1.0000 - val_loss: 0.6182 - val_acc: 0.8736\n",
      "Epoch 20/30\n",
      "625/625 [==============================] - 4s 6ms/step - loss: 3.3307e-05 - acc: 1.0000 - val_loss: 0.6368 - val_acc: 0.8732\n",
      "Epoch 21/30\n",
      "625/625 [==============================] - 4s 6ms/step - loss: 2.3475e-05 - acc: 1.0000 - val_loss: 0.6539 - val_acc: 0.8720\n",
      "Epoch 22/30\n",
      "625/625 [==============================] - 4s 6ms/step - loss: 1.6670e-05 - acc: 1.0000 - val_loss: 0.6712 - val_acc: 0.8722\n",
      "Epoch 23/30\n",
      "625/625 [==============================] - 4s 6ms/step - loss: 1.1931e-05 - acc: 1.0000 - val_loss: 0.6889 - val_acc: 0.8730\n",
      "Epoch 24/30\n",
      "625/625 [==============================] - 4s 6ms/step - loss: 8.4560e-06 - acc: 1.0000 - val_loss: 0.7074 - val_acc: 0.8720\n",
      "Epoch 25/30\n",
      "625/625 [==============================] - 4s 6ms/step - loss: 6.0472e-06 - acc: 1.0000 - val_loss: 0.7230 - val_acc: 0.8712\n",
      "Epoch 26/30\n",
      "625/625 [==============================] - 4s 6ms/step - loss: 4.3800e-06 - acc: 1.0000 - val_loss: 0.7412 - val_acc: 0.8720\n",
      "Epoch 27/30\n",
      "625/625 [==============================] - 4s 6ms/step - loss: 3.1655e-06 - acc: 1.0000 - val_loss: 0.7590 - val_acc: 0.8724\n",
      "Epoch 28/30\n",
      "625/625 [==============================] - 4s 6ms/step - loss: 2.3088e-06 - acc: 1.0000 - val_loss: 0.7740 - val_acc: 0.8722\n",
      "Epoch 29/30\n",
      "625/625 [==============================] - 4s 6ms/step - loss: 1.7092e-06 - acc: 1.0000 - val_loss: 0.7912 - val_acc: 0.8728\n",
      "Epoch 30/30\n",
      "625/625 [==============================] - 4s 6ms/step - loss: 1.2688e-06 - acc: 1.0000 - val_loss: 0.8088 - val_acc: 0.8722\n"
     ]
    }
   ],
   "source": [
    "history=model.fit(pad_X_train, y_train, batch_size=32,\n",
    "                 epochs=30, validation_split=0.2)"
   ]
  },
  {
   "cell_type": "code",
   "execution_count": 31,
   "id": "281696f0",
   "metadata": {},
   "outputs": [
    {
     "data": {
      "image/png": "[encoded data removed]",
      "text/plain": [
       "<Figure size 864x288 with 2 Axes>"
      ]
     },
     "metadata": {
      "needs_background": "light"
     },
     "output_type": "display_data"
    }
   ],
   "source": [
    "import matplotlib.pyplot as plt\n",
    "plt.figure(figsize=(12,4))\n",
    "plt.subplot(1,2,1)\n",
    "plt.plot(history.history['loss'],'b-',label='loss')\n",
    "plt.plot(history.history['val_loss'],'r--',label='val_loss')\n",
    "plt.xlabel('Epoch')\n",
    "plt.legend()\n",
    "plt.subplot(1,2,2)\n",
    "plt.plot(history.history['acc'],'g-',label='accuracy')\n",
    "plt.plot(history.history['val_acc'],'k--',label='val_accuracy')\n",
    "plt.xlabel('Epoch')\n",
    "plt.legend()\n",
    "plt.show()"
   ]
  },
  {
   "cell_type": "code",
   "execution_count": null,
   "id": "c5035bc5",
   "metadata": {},
   "outputs": [],
   "source": [
    "RNN\n",
    "embedding층은 데이터의 표현을 학습하여 데이터사전 구축하여 이해하는 정도\n",
    "단어의 순서와 맥락까지 고려애햐함 -> embedding층에서는 부족\n",
    "Simple RNN사용하기"
   ]
  },
  {
   "cell_type": "markdown",
   "id": "2fa88a12",
   "metadata": {},
   "source": [
    "# SimpleRNN 예제"
   ]
  },
  {
   "cell_type": "code",
   "execution_count": 32,
   "id": "b0609577",
   "metadata": {},
   "outputs": [
    {
     "name": "stdout",
     "output_type": "stream",
     "text": [
      "[  0   1   2   3   4   5   6   7   8   9  10  11  12  13  14  15  16  17\n",
      "  18  19  20  21  22  23  24  25  26  27  28  29  30  31  32  33  34  35\n",
      "  36  37  38  39  40  41  42  43  44  45  46  47  48  49  50  51  52  53\n",
      "  54  55  56  57  58  59  60  61  62  63  64  65  66  67  68  69  70  71\n",
      "  72  73  74  75  76  77  78  79  80  81  82  83  84  85  86  87  88  89\n",
      "  90  91  92  93  94  95  96  97  98  99 100 101 102 103 104 105 106 107\n",
      " 108 109 110 111 112 113 114 115 116 117 118 119 120 121 122 123 124 125\n",
      " 126 127 128 129 130 131 132 133 134 135 136 137 138 139 140 141 142 143\n",
      " 144 145 146 147 148 149 150 151 152 153 154 155 156 157 158 159 160 161\n",
      " 162 163 164 165 166 167 168 169 170 171 172 173 174 175 176 177 178 179\n",
      " 180 181 182 183 184 185 186 187 188 189 190 191 192 193 194 195 196 197\n",
      " 198 199 200 201 202 203 204 205 206 207 208 209 210 211 212 213 214 215\n",
      " 216 217 218 219 220 221 222 223 224 225 226 227 228 229 230 231 232 233\n",
      " 234 235 236 237 238 239 240 241 242 243 244 245 246 247 248 249 250 251\n",
      " 252 253 254 255 256 257 258 259 260 261 262 263 264 265 266 267 268 269\n",
      " 270 271 272 273 274 275 276 277 278 279 280 281 282 283 284 285 286 287\n",
      " 288 289 290 291 292 293 294 295 296 297 298 299 300 301 302 303 304 305\n",
      " 306 307 308 309 310 311 312 313 314 315 316 317 318 319 320 321 322 323\n",
      " 324 325 326 327 328 329 330 331 332 333 334 335 336 337 338 339 340 341\n",
      " 342 343 344 345 346 347 348 349 350 351 352 353 354 355 356 357 358 359\n",
      " 360]\n",
      "[0.         0.03333333 0.06666667 0.1        0.13333333 0.16666667\n",
      " 0.2        0.23333333 0.26666667 0.3        0.33333333 0.36666667\n",
      " 0.4        0.43333333 0.46666667 0.5        0.53333333 0.56666667\n",
      " 0.6        0.63333333 0.66666667 0.7        0.73333333 0.76666667\n",
      " 0.8        0.83333333 0.86666667 0.9        0.93333333 0.96666667\n",
      " 0.         0.03333333 0.06666667 0.1        0.13333333 0.16666667\n",
      " 0.2        0.23333333 0.26666667 0.3        0.33333333 0.36666667\n",
      " 0.4        0.43333333 0.46666667 0.5        0.53333333 0.56666667\n",
      " 0.6        0.63333333 0.66666667 0.7        0.73333333 0.76666667\n",
      " 0.8        0.83333333 0.86666667 0.9        0.93333333 0.96666667\n",
      " 0.         0.03333333 0.06666667 0.1        0.13333333 0.16666667\n",
      " 0.2        0.23333333 0.26666667 0.3        0.33333333 0.36666667\n",
      " 0.4        0.43333333 0.46666667 0.5        0.53333333 0.56666667\n",
      " 0.6        0.63333333 0.66666667 0.7        0.73333333 0.76666667\n",
      " 0.8        0.83333333 0.86666667 0.9        0.93333333 0.96666667\n",
      " 0.         0.03333333 0.06666667 0.1        0.13333333 0.16666667\n",
      " 0.2        0.23333333 0.26666667 0.3        0.33333333 0.36666667\n",
      " 0.4        0.43333333 0.46666667 0.5        0.53333333 0.56666667\n",
      " 0.6        0.63333333 0.66666667 0.7        0.73333333 0.76666667\n",
      " 0.8        0.83333333 0.86666667 0.9        0.93333333 0.96666667\n",
      " 0.         0.03333333 0.06666667 0.1        0.13333333 0.16666667\n",
      " 0.2        0.23333333 0.26666667 0.3        0.33333333 0.36666667\n",
      " 0.4        0.43333333 0.46666667 0.5        0.53333333 0.56666667\n",
      " 0.6        0.63333333 0.66666667 0.7        0.73333333 0.76666667\n",
      " 0.8        0.83333333 0.86666667 0.9        0.93333333 0.96666667\n",
      " 0.         0.03333333 0.06666667 0.1        0.13333333 0.16666667\n",
      " 0.2        0.23333333 0.26666667 0.3        0.33333333 0.36666667\n",
      " 0.4        0.43333333 0.46666667 0.5        0.53333333 0.56666667\n",
      " 0.6        0.63333333 0.66666667 0.7        0.73333333 0.76666667\n",
      " 0.8        0.83333333 0.86666667 0.9        0.93333333 0.96666667\n",
      " 0.         0.03333333 0.06666667 0.1        0.13333333 0.16666667\n",
      " 0.2        0.23333333 0.26666667 0.3        0.33333333 0.36666667\n",
      " 0.4        0.43333333 0.46666667 0.5        0.53333333 0.56666667\n",
      " 0.6        0.63333333 0.66666667 0.7        0.73333333 0.76666667\n",
      " 0.8        0.83333333 0.86666667 0.9        0.93333333 0.96666667\n",
      " 0.         0.03333333 0.06666667 0.1        0.13333333 0.16666667\n",
      " 0.2        0.23333333 0.26666667 0.3        0.33333333 0.36666667\n",
      " 0.4        0.43333333 0.46666667 0.5        0.53333333 0.56666667\n",
      " 0.6        0.63333333 0.66666667 0.7        0.73333333 0.76666667\n",
      " 0.8        0.83333333 0.86666667 0.9        0.93333333 0.96666667\n",
      " 0.         0.03333333 0.06666667 0.1        0.13333333 0.16666667\n",
      " 0.2        0.23333333 0.26666667 0.3        0.33333333 0.36666667\n",
      " 0.4        0.43333333 0.46666667 0.5        0.53333333 0.56666667\n",
      " 0.6        0.63333333 0.66666667 0.7        0.73333333 0.76666667\n",
      " 0.8        0.83333333 0.86666667 0.9        0.93333333 0.96666667\n",
      " 0.         0.03333333 0.06666667 0.1        0.13333333 0.16666667\n",
      " 0.2        0.23333333 0.26666667 0.3        0.33333333 0.36666667\n",
      " 0.4        0.43333333 0.46666667 0.5        0.53333333 0.56666667\n",
      " 0.6        0.63333333 0.66666667 0.7        0.73333333 0.76666667\n",
      " 0.8        0.83333333 0.86666667 0.9        0.93333333 0.96666667\n",
      " 0.         0.03333333 0.06666667 0.1        0.13333333 0.16666667\n",
      " 0.2        0.23333333 0.26666667 0.3        0.33333333 0.36666667\n",
      " 0.4        0.43333333 0.46666667 0.5        0.53333333 0.56666667\n",
      " 0.6        0.63333333 0.66666667 0.7        0.73333333 0.76666667\n",
      " 0.8        0.83333333 0.86666667 0.9        0.93333333 0.96666667\n",
      " 0.         0.03333333 0.06666667 0.1        0.13333333 0.16666667\n",
      " 0.2        0.23333333 0.26666667 0.3        0.33333333 0.36666667\n",
      " 0.4        0.43333333 0.46666667 0.5        0.53333333 0.56666667\n",
      " 0.6        0.63333333 0.66666667 0.7        0.73333333 0.76666667\n",
      " 0.8        0.83333333 0.86666667 0.9        0.93333333 0.96666667\n",
      " 0.        ]\n"
     ]
    }
   ],
   "source": [
    "#cos함수를 이용하여 데이터만들기 \n",
    "import numpy as np\n",
    "import matplotlib.pyplot as plt\n",
    "np.random.seed(2020)\n",
    "time=np.arange(30*12+1) #361개의 숫자. 0~360까지의 숫자\n",
    "print(time)\n",
    "month_time=(time%30)/30 #1미만의 실수값들이 반복됨\n",
    "print(month_time)"
   ]
  },
  {
   "cell_type": "code",
   "execution_count": 33,
   "id": "2bb60504",
   "metadata": {},
   "outputs": [
    {
     "name": "stdout",
     "output_type": "stream",
     "text": [
      "(361,)\n"
     ]
    },
    {
     "data": {
      "image/png": "[encoded data removed]",
      "text/plain": [
       "<Figure size 720x360 with 1 Axes>"
      ]
     },
     "metadata": {
      "needs_background": "light"
     },
     "output_type": "display_data"
    }
   ],
   "source": [
    "#np.where(조건문.참,거짓)\n",
    "#np.random.random(361): 361개의 1미만의 난수 발생\n",
    "time_series=20*np.where(month_time <0.5,\n",
    "                       np.cos(2*np.pi*month_time),\n",
    "                       np.cos(2*np.pi*month_time)+np.random.random(361))\n",
    "plt.figure(figsize=(10,5))\n",
    "plt.title('TimeSeries Data')\n",
    "plt.xlabel('Time')\n",
    "plt.ylabel('Value')\n",
    "plt.plot(np.arange(0,30*11+1),time_series[:30*11+1],\n",
    "        color='black',alpha=0.7, label='train')\n",
    "plt.plot(np.arange(30*11,30*12+1),time_series[30*11:],\n",
    "        color='orange',label='test')\n",
    "plt.legend()\n",
    "\n",
    "print(time_series.shape)"
   ]
  },
  {
   "cell_type": "code",
   "execution_count": 34,
   "id": "b7c301ec",
   "metadata": {},
   "outputs": [],
   "source": [
    "def make_sequence(time_series,n):\n",
    "    x_train,y_train=list(),list()\n",
    "    for i in range(len(time_series)):\n",
    "        x=time_series[i:(i+n)] #n=10. 0~9번째 데이터까지\n",
    "        if(i+n) < len(time_series):\n",
    "            x_train.append(x) #학습데이터\n",
    "            y_train.append(time_series[i+n]) #예측값\n",
    "        else:\n",
    "            break\n",
    "    return np.array(x_train), np.array(y_train)"
   ]
  },
  {
   "cell_type": "code",
   "execution_count": 35,
   "id": "8d1b71d6",
   "metadata": {},
   "outputs": [
    {
     "name": "stdout",
     "output_type": "stream",
     "text": [
      "학습데이터 (330, 10, 1) , (330, 1)\n",
      "테스트데이터 (21, 10, 1) , (21, 1)\n"
     ]
    }
   ],
   "source": [
    "n=10\n",
    "x_train, y_train = make_sequence(time_series,n)\n",
    "x_train=x_train.reshape(-1,n,1)\n",
    "y_train=y_train.reshape(-1,1)\n",
    "patial_x_train = x_train[:30*11]\n",
    "patial_y_train = y_train[:30*11]\n",
    "x_test= x_train[30*11:]\n",
    "y_test= y_train[30*11:]\n",
    "print('학습데이터',patial_x_train.shape,',',patial_y_train.shape)\n",
    "print('테스트데이터',x_test.shape,',',y_test.shape)"
   ]
  },
  {
   "cell_type": "code",
   "execution_count": 36,
   "id": "5d088d4a",
   "metadata": {},
   "outputs": [
    {
     "name": "stdout",
     "output_type": "stream",
     "text": [
      "[ 1  2  3  4  5  6  7  8  9 10] | 11\n",
      "[ 2  3  4  5  6  7  8  9 10 11] | 12\n",
      "[ 3  4  5  6  7  8  9 10 11 12] | 13\n"
     ]
    }
   ],
   "source": [
    "test_arr= np.arange(100) #0~99까지의 숫자\n",
    "a,b = make_sequence(test_arr, 10)\n",
    "for i in range(1,4):\n",
    "    print(a[i], '|',b[i])"
   ]
  },
  {
   "cell_type": "markdown",
   "id": "fca4ad9d",
   "metadata": {},
   "source": [
    "# SimpleRNN을 사용하여 모델 구성하기"
   ]
  },
  {
   "cell_type": "code",
   "execution_count": 37,
   "id": "ec2aad95",
   "metadata": {},
   "outputs": [],
   "source": [
    "from tensorflow.keras.layers import SimpleRNN,Flatten,Dense\n",
    "from tensorflow.keras.models import Sequential"
   ]
  },
  {
   "cell_type": "code",
   "execution_count": 40,
   "id": "c59a469e",
   "metadata": {},
   "outputs": [
    {
     "name": "stdout",
     "output_type": "stream",
     "text": [
      "Model: \"sequential_3\"\n",
      "_________________________________________________________________\n",
      "Layer (type)                 Output Shape              Param #   \n",
      "=================================================================\n",
      "simple_rnn (SimpleRNN)       (None, 32)                1088      \n",
      "_________________________________________________________________\n",
      "dense_2 (Dense)              (None, 1)                 33        \n",
      "=================================================================\n",
      "Total params: 1,121\n",
      "Trainable params: 1,121\n",
      "Non-trainable params: 0\n",
      "_________________________________________________________________\n"
     ]
    }
   ],
   "source": [
    "model=Sequential()\n",
    "model.add(SimpleRNN(units=32,activation='tanh',input_shape=(n,1)))\n",
    "model.add(Dense(1, activation='linear'))\n",
    "model.compile(optimizer='adam',loss='mse')\n",
    "model.summary()"
   ]
  },
  {
   "cell_type": "code",
   "execution_count": 41,
   "id": "adc8b960",
   "metadata": {},
   "outputs": [
    {
     "name": "stdout",
     "output_type": "stream",
     "text": [
      "Epoch 1/100\n",
      "28/28 [==============================] - 1s 1ms/step - loss: 274.0072\n",
      "Epoch 2/100\n",
      "28/28 [==============================] - 0s 1ms/step - loss: 229.0701\n",
      "Epoch 3/100\n",
      "28/28 [==============================] - 0s 1ms/step - loss: 196.6783\n",
      "Epoch 4/100\n",
      "28/28 [==============================] - 0s 1ms/step - loss: 168.4886\n",
      "Epoch 5/100\n",
      "28/28 [==============================] - 0s 1ms/step - loss: 142.9073\n",
      "Epoch 6/100\n",
      "28/28 [==============================] - 0s 1ms/step - loss: 126.1657\n",
      "Epoch 7/100\n",
      "28/28 [==============================] - 0s 1ms/step - loss: 116.5252\n",
      "Epoch 8/100\n",
      "28/28 [==============================] - 0s 1ms/step - loss: 108.0178\n",
      "Epoch 9/100\n",
      "28/28 [==============================] - 0s 1ms/step - loss: 99.5113\n",
      "Epoch 10/100\n",
      "28/28 [==============================] - 0s 1ms/step - loss: 93.1934\n",
      "Epoch 11/100\n",
      "28/28 [==============================] - 0s 1ms/step - loss: 87.8042\n",
      "Epoch 12/100\n",
      "28/28 [==============================] - 0s 1ms/step - loss: 83.0543\n",
      "Epoch 13/100\n",
      "28/28 [==============================] - 0s 1ms/step - loss: 78.7049\n",
      "Epoch 14/100\n",
      "28/28 [==============================] - 0s 1ms/step - loss: 74.9369\n",
      "Epoch 15/100\n",
      "28/28 [==============================] - 0s 1ms/step - loss: 71.6403\n",
      "Epoch 16/100\n",
      "28/28 [==============================] - 0s 1ms/step - loss: 68.4958\n",
      "Epoch 17/100\n",
      "28/28 [==============================] - 0s 1ms/step - loss: 65.6457\n",
      "Epoch 18/100\n",
      "28/28 [==============================] - 0s 1ms/step - loss: 62.9273\n",
      "Epoch 19/100\n",
      "28/28 [==============================] - 0s 1ms/step - loss: 60.7398\n",
      "Epoch 20/100\n",
      "28/28 [==============================] - 0s 1ms/step - loss: 58.3715\n",
      "Epoch 21/100\n",
      "28/28 [==============================] - 0s 1ms/step - loss: 56.5235\n",
      "Epoch 22/100\n",
      "28/28 [==============================] - 0s 1ms/step - loss: 54.4880\n",
      "Epoch 23/100\n",
      "28/28 [==============================] - 0s 1ms/step - loss: 52.7599\n",
      "Epoch 24/100\n",
      "28/28 [==============================] - 0s 1ms/step - loss: 50.9315\n",
      "Epoch 25/100\n",
      "28/28 [==============================] - 0s 1ms/step - loss: 49.0034\n",
      "Epoch 26/100\n",
      "28/28 [==============================] - 0s 1ms/step - loss: 47.1987\n",
      "Epoch 27/100\n",
      "28/28 [==============================] - 0s 1ms/step - loss: 45.4960\n",
      "Epoch 28/100\n",
      "28/28 [==============================] - 0s 1ms/step - loss: 43.9547\n",
      "Epoch 29/100\n",
      "28/28 [==============================] - 0s 1ms/step - loss: 42.5884\n",
      "Epoch 30/100\n",
      "28/28 [==============================] - 0s 1ms/step - loss: 41.6697\n",
      "Epoch 31/100\n",
      "28/28 [==============================] - 0s 1ms/step - loss: 40.1829\n",
      "Epoch 32/100\n",
      "28/28 [==============================] - 0s 1ms/step - loss: 39.4039\n",
      "Epoch 33/100\n",
      "28/28 [==============================] - 0s 1ms/step - loss: 38.3001\n",
      "Epoch 34/100\n",
      "28/28 [==============================] - 0s 1ms/step - loss: 37.4745\n",
      "Epoch 35/100\n",
      "28/28 [==============================] - 0s 1ms/step - loss: 36.3942\n",
      "Epoch 36/100\n",
      "28/28 [==============================] - 0s 1ms/step - loss: 35.6922\n",
      "Epoch 37/100\n",
      "28/28 [==============================] - 0s 1ms/step - loss: 35.1246\n",
      "Epoch 38/100\n",
      "28/28 [==============================] - 0s 1ms/step - loss: 34.0177\n",
      "Epoch 39/100\n",
      "28/28 [==============================] - 0s 1ms/step - loss: 33.4928\n",
      "Epoch 40/100\n",
      "28/28 [==============================] - 0s 1ms/step - loss: 32.7423\n",
      "Epoch 41/100\n",
      "28/28 [==============================] - 0s 1ms/step - loss: 31.9739\n",
      "Epoch 42/100\n",
      "28/28 [==============================] - 0s 1ms/step - loss: 31.1252\n",
      "Epoch 43/100\n",
      "28/28 [==============================] - 0s 1ms/step - loss: 30.4945\n",
      "Epoch 44/100\n",
      "28/28 [==============================] - 0s 1ms/step - loss: 29.3361\n",
      "Epoch 45/100\n",
      "28/28 [==============================] - 0s 1ms/step - loss: 28.2467\n",
      "Epoch 46/100\n",
      "28/28 [==============================] - 0s 1ms/step - loss: 27.1689\n",
      "Epoch 47/100\n",
      "28/28 [==============================] - 0s 1ms/step - loss: 26.5522\n",
      "Epoch 48/100\n",
      "28/28 [==============================] - 0s 1ms/step - loss: 26.0699\n",
      "Epoch 49/100\n",
      "28/28 [==============================] - 0s 1ms/step - loss: 25.1943\n",
      "Epoch 50/100\n",
      "28/28 [==============================] - 0s 1ms/step - loss: 24.6654\n",
      "Epoch 51/100\n",
      "28/28 [==============================] - 0s 1ms/step - loss: 24.0946\n",
      "Epoch 52/100\n",
      "28/28 [==============================] - 0s 1ms/step - loss: 23.5951\n",
      "Epoch 53/100\n",
      "28/28 [==============================] - 0s 1ms/step - loss: 23.2050\n",
      "Epoch 54/100\n",
      "28/28 [==============================] - 0s 1ms/step - loss: 22.8913\n",
      "Epoch 55/100\n",
      "28/28 [==============================] - 0s 1ms/step - loss: 22.4165\n",
      "Epoch 56/100\n",
      "28/28 [==============================] - 0s 1ms/step - loss: 22.1629\n",
      "Epoch 57/100\n",
      "28/28 [==============================] - 0s 1ms/step - loss: 21.8430\n",
      "Epoch 58/100\n",
      "28/28 [==============================] - 0s 1ms/step - loss: 21.5866\n",
      "Epoch 59/100\n",
      "28/28 [==============================] - 0s 1ms/step - loss: 21.4874\n",
      "Epoch 60/100\n",
      "28/28 [==============================] - 0s 1ms/step - loss: 21.1647\n",
      "Epoch 61/100\n",
      "28/28 [==============================] - 0s 1ms/step - loss: 20.8823\n",
      "Epoch 62/100\n",
      "28/28 [==============================] - 0s 1ms/step - loss: 20.6037\n",
      "Epoch 63/100\n",
      "28/28 [==============================] - 0s 1ms/step - loss: 20.4231\n",
      "Epoch 64/100\n",
      "28/28 [==============================] - 0s 1ms/step - loss: 20.6866\n",
      "Epoch 65/100\n",
      "28/28 [==============================] - 0s 1ms/step - loss: 20.2455\n",
      "Epoch 66/100\n",
      "28/28 [==============================] - 0s 1ms/step - loss: 19.8298\n",
      "Epoch 67/100\n",
      "28/28 [==============================] - 0s 1ms/step - loss: 19.5728\n",
      "Epoch 68/100\n",
      "28/28 [==============================] - 0s 1ms/step - loss: 19.2996\n",
      "Epoch 69/100\n",
      "28/28 [==============================] - 0s 1ms/step - loss: 19.2265\n",
      "Epoch 70/100\n",
      "28/28 [==============================] - 0s 1ms/step - loss: 19.0739\n",
      "Epoch 71/100\n",
      "28/28 [==============================] - 0s 1ms/step - loss: 18.6108\n",
      "Epoch 72/100\n",
      "28/28 [==============================] - 0s 1ms/step - loss: 18.5653\n",
      "Epoch 73/100\n",
      "28/28 [==============================] - 0s 1ms/step - loss: 18.8479\n",
      "Epoch 74/100\n",
      "28/28 [==============================] - 0s 1ms/step - loss: 18.3161\n",
      "Epoch 75/100\n",
      "28/28 [==============================] - 0s 1ms/step - loss: 18.1137\n",
      "Epoch 76/100\n",
      "28/28 [==============================] - 0s 1ms/step - loss: 17.9244\n",
      "Epoch 77/100\n",
      "28/28 [==============================] - 0s 1ms/step - loss: 17.7589\n",
      "Epoch 78/100\n",
      "28/28 [==============================] - 0s 1ms/step - loss: 17.4039\n",
      "Epoch 79/100\n",
      "28/28 [==============================] - 0s 1ms/step - loss: 17.4563\n",
      "Epoch 80/100\n",
      "28/28 [==============================] - 0s 1ms/step - loss: 17.0646\n",
      "Epoch 81/100\n",
      "28/28 [==============================] - 0s 1ms/step - loss: 16.9891\n",
      "Epoch 82/100\n",
      "28/28 [==============================] - 0s 1ms/step - loss: 16.7812\n",
      "Epoch 83/100\n",
      "28/28 [==============================] - 0s 1ms/step - loss: 16.5110\n",
      "Epoch 84/100\n",
      "28/28 [==============================] - 0s 1ms/step - loss: 16.2865\n",
      "Epoch 85/100\n",
      "28/28 [==============================] - 0s 1ms/step - loss: 16.2442\n",
      "Epoch 86/100\n",
      "28/28 [==============================] - 0s 1ms/step - loss: 15.9512\n",
      "Epoch 87/100\n",
      "28/28 [==============================] - 0s 1ms/step - loss: 16.5534\n",
      "Epoch 88/100\n",
      "28/28 [==============================] - 0s 1ms/step - loss: 15.5281\n",
      "Epoch 89/100\n",
      "28/28 [==============================] - 0s 1ms/step - loss: 15.2208\n",
      "Epoch 90/100\n",
      "28/28 [==============================] - 0s 1ms/step - loss: 15.2343\n",
      "Epoch 91/100\n",
      "28/28 [==============================] - 0s 1ms/step - loss: 15.1925\n",
      "Epoch 92/100\n",
      "28/28 [==============================] - 0s 1ms/step - loss: 14.6132\n",
      "Epoch 93/100\n",
      "28/28 [==============================] - 0s 1ms/step - loss: 15.2238\n",
      "Epoch 94/100\n",
      "28/28 [==============================] - 0s 1ms/step - loss: 14.6353\n",
      "Epoch 95/100\n",
      "28/28 [==============================] - 0s 1ms/step - loss: 14.4142\n",
      "Epoch 96/100\n",
      "28/28 [==============================] - 0s 1ms/step - loss: 14.1408\n",
      "Epoch 97/100\n",
      "28/28 [==============================] - 0s 1ms/step - loss: 14.0674\n",
      "Epoch 98/100\n",
      "28/28 [==============================] - 0s 1ms/step - loss: 14.0757\n",
      "Epoch 99/100\n",
      "28/28 [==============================] - 0s 1ms/step - loss: 14.0002\n",
      "Epoch 100/100\n"
     ]
    },
    {
     "name": "stdout",
     "output_type": "stream",
     "text": [
      " 1/28 [>.............................] - ETA: 0s - loss: 13.8513\b\b\b\b\b\b\b\b\b\b\b\b\b\b\b\b\b\b\b\b\b\b\b\b\b\b\b\b\b\b\b\b\b\b\b\b\b\b\b\b\b\b\b\b\b\b\b\b\b\b\b\b\b\b\b\b\b\b\b\b\b\b\b\b\r",
      "28/28 [==============================] - 0s 1ms/step - loss: 13.6906\n"
     ]
    }
   ],
   "source": [
    "#모델학습하기\n",
    "history=model.fit(patial_x_train, patial_y_train, epochs=100, batch_size=12)"
   ]
  },
  {
   "cell_type": "code",
   "execution_count": 43,
   "id": "5c98074a",
   "metadata": {},
   "outputs": [
    {
     "data": {
      "image/png": "[encoded data removed]",
      "text/plain": [
       "<Figure size 1080x360 with 1 Axes>"
      ]
     },
     "metadata": {
      "needs_background": "light"
     },
     "output_type": "display_data"
    }
   ],
   "source": [
    "#에측결과 그래프로 출력하기\n",
    "pred=model.predict(x_test)\n",
    "pred_range=np.arange(len(y_train), len(y_train)+len(pred))\n",
    "plt.figure(figsize=(15,5))\n",
    "plt.title('Prediction')\n",
    "plt.xlabel('Time') ; plt.ylabel('Value')\n",
    "plt.plot(pred_range,y_test.reshape(-1,), color='orange',label='ground-truth')\n",
    "plt.plot(pred_range,pred.reshape(-1,), color='blue',label='prediction')\n",
    "plt.legend()\n",
    "plt.show()"
   ]
  },
  {
   "cell_type": "code",
   "execution_count": null,
   "id": "bb12a342",
   "metadata": {},
   "outputs": [],
   "source": []
  }
 ],
 "metadata": {
  "kernelspec": {
   "display_name": "Python 3",
   "language": "python",
   "name": "python3"
  },
  "language_info": {
   "codemirror_mode": {
    "name": "ipython",
    "version": 3
   },
   "file_extension": ".py",
   "mimetype": "text/x-python",
   "name": "python",
   "nbconvert_exporter": "python",
   "pygments_lexer": "ipython3",
   "version": "3.8.8"
  }
 },
 "nbformat": 4,
 "nbformat_minor": 5
}
