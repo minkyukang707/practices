{
 "cells": [
  {
   "cell_type": "markdown",
   "id": "a0da0d3e",
   "metadata": {},
   "source": [
    "# Scipy 연습"
   ]
  },
  {
   "cell_type": "code",
   "execution_count": 1,
   "id": "d8f0f5e4",
   "metadata": {},
   "outputs": [],
   "source": [
    "import pandas as pd "
   ]
  },
  {
   "cell_type": "code",
   "execution_count": 2,
   "id": "8c9fb107",
   "metadata": {},
   "outputs": [],
   "source": [
    "drinks = pd.read_csv('C:/pyy/drinks.csv')"
   ]
  },
  {
   "cell_type": "code",
   "execution_count": 3,
   "id": "89973232",
   "metadata": {},
   "outputs": [
    {
     "data": {
      "text/plain": [
       "country                          0\n",
       "beer_servings                    0\n",
       "spirit_servings                  0\n",
       "wine_servings                    0\n",
       "total_litres_of_pure_alcohol     0\n",
       "continent                       23\n",
       "dtype: int64"
      ]
     },
     "execution_count": 3,
     "metadata": {},
     "output_type": "execute_result"
    }
   ],
   "source": [
    "#각 피처의 결측값 갯수 출력\n",
    "drinks.isnull().sum()"
   ]
  },
  {
   "cell_type": "code",
   "execution_count": 4,
   "id": "223a83fb",
   "metadata": {},
   "outputs": [
    {
     "name": "stdout",
     "output_type": "stream",
     "text": [
      "<class 'pandas.core.frame.DataFrame'>\n",
      "RangeIndex: 193 entries, 0 to 192\n",
      "Data columns (total 6 columns):\n",
      " #   Column                        Non-Null Count  Dtype  \n",
      "---  ------                        --------------  -----  \n",
      " 0   country                       193 non-null    object \n",
      " 1   beer_servings                 193 non-null    int64  \n",
      " 2   spirit_servings               193 non-null    int64  \n",
      " 3   wine_servings                 193 non-null    int64  \n",
      " 4   total_litres_of_pure_alcohol  193 non-null    float64\n",
      " 5   continent                     193 non-null    object \n",
      "dtypes: float64(1), int64(3), object(2)\n",
      "memory usage: 9.2+ KB\n"
     ]
    }
   ],
   "source": [
    "# 대륙의 결측값을 'OT'로 저장하기\n",
    "drinks['continent']=drinks['continent'].fillna('OT')\n",
    "drinks.info()"
   ]
  },
  {
   "cell_type": "code",
   "execution_count": 5,
   "id": "f074a7f5",
   "metadata": {},
   "outputs": [
    {
     "name": "stdout",
     "output_type": "stream",
     "text": [
      "Requirement already satisfied: scipy in c:\\users\\k\\anaconda3\\lib\\site-packages (1.6.2)\n",
      "Requirement already satisfied: numpy<1.23.0,>=1.16.5 in c:\\users\\k\\anaconda3\\lib\\site-packages (from scipy) (1.19.5)\n"
     ]
    }
   ],
   "source": [
    "!pip install scipy"
   ]
  },
  {
   "cell_type": "code",
   "execution_count": 6,
   "id": "32919fc7",
   "metadata": {},
   "outputs": [],
   "source": [
    "from scipy import stats"
   ]
  },
  {
   "cell_type": "markdown",
   "id": "b8844c62",
   "metadata": {},
   "source": [
    "# 아프리카와 유럽간의 맥주 소비량 차이를 검증"
   ]
  },
  {
   "cell_type": "code",
   "execution_count": 7,
   "id": "3f893f2a",
   "metadata": {},
   "outputs": [],
   "source": [
    "#t_test : 두 집단간의 평균의 차이\n",
    "#africa: 아프리카 대륙의 국가 정보만 저장 \n",
    "africa = drinks.loc[drinks['continent']=='AF']\n",
    "#europe: 유럽 대륙의 국가 정보만 저장 \n",
    "europe= drinks.loc[drinks['continent']=='EU']"
   ]
  },
  {
   "cell_type": "code",
   "execution_count": 12,
   "id": "d158617c",
   "metadata": {},
   "outputs": [
    {
     "name": "stdout",
     "output_type": "stream",
     "text": [
      "The t-statistic and p-value assuming equal variances is -7.268 and 0.000.\n",
      "The t-statistic and p-value not assuming equal variances is -7.144 and 0.000.\n"
     ]
    }
   ],
   "source": [
    "#t-statistic : 평균차이. 음수 : 뒤쪽의 데이터의 평균이 클 경우\n",
    "#p-value(유의확률): 결과가 0. 두 집단의 평균이 같지 않다. 귀무가설이 기각 \n",
    "#아프리카와 유럽의 맥주소비량으 차이는 확률적으로 유의미하다\n",
    "#귀무가설: 예상가설\n",
    "#대립가설: 귀무가설의 반대되는 가설\n",
    "#두 집단의 분산이 같다는 가설 \n",
    "tTestResult=stats.ttest_ind(africa['beer_servings'], europe['beer_servings'])\n",
    "tTestResultDiffVar=stats.ttest_ind(africa['beer_servings'], europe['beer_servings'],\n",
    "                                  equal_var=False)\n",
    "print(\"The t-statistic and p-value assuming equal variances is %.3f and %.3f.\"\n",
    "     % tTestResult)\n",
    "\n",
    "print(\"The t-statistic and p-value not assuming equal variances is %.3f and %.3f.\"\n",
    "     % tTestResultDiffVar)"
   ]
  },
  {
   "cell_type": "markdown",
   "id": "df0d5549",
   "metadata": {},
   "source": [
    "# 한국의 술 소비량 고찰"
   ]
  },
  {
   "cell_type": "code",
   "execution_count": 14,
   "id": "ce4c82f5",
   "metadata": {},
   "outputs": [
    {
     "data": {
      "text/html": [
       "<div>\n",
       "<style scoped>\n",
       "    .dataframe tbody tr th:only-of-type {\n",
       "        vertical-align: middle;\n",
       "    }\n",
       "\n",
       "    .dataframe tbody tr th {\n",
       "        vertical-align: top;\n",
       "    }\n",
       "\n",
       "    .dataframe thead th {\n",
       "        text-align: right;\n",
       "    }\n",
       "</style>\n",
       "<table border=\"1\" class=\"dataframe\">\n",
       "  <thead>\n",
       "    <tr style=\"text-align: right;\">\n",
       "      <th></th>\n",
       "      <th>country</th>\n",
       "      <th>beer_servings</th>\n",
       "      <th>spirit_servings</th>\n",
       "      <th>wine_servings</th>\n",
       "      <th>total_litres_of_pure_alcohol</th>\n",
       "      <th>continent</th>\n",
       "      <th>total_servings</th>\n",
       "    </tr>\n",
       "  </thead>\n",
       "  <tbody>\n",
       "    <tr>\n",
       "      <th>0</th>\n",
       "      <td>Afghanistan</td>\n",
       "      <td>0</td>\n",
       "      <td>0</td>\n",
       "      <td>0</td>\n",
       "      <td>0.0</td>\n",
       "      <td>AS</td>\n",
       "      <td>0</td>\n",
       "    </tr>\n",
       "    <tr>\n",
       "      <th>1</th>\n",
       "      <td>Albania</td>\n",
       "      <td>89</td>\n",
       "      <td>132</td>\n",
       "      <td>54</td>\n",
       "      <td>4.9</td>\n",
       "      <td>EU</td>\n",
       "      <td>275</td>\n",
       "    </tr>\n",
       "    <tr>\n",
       "      <th>2</th>\n",
       "      <td>Algeria</td>\n",
       "      <td>25</td>\n",
       "      <td>0</td>\n",
       "      <td>14</td>\n",
       "      <td>0.7</td>\n",
       "      <td>AF</td>\n",
       "      <td>39</td>\n",
       "    </tr>\n",
       "    <tr>\n",
       "      <th>3</th>\n",
       "      <td>Andorra</td>\n",
       "      <td>245</td>\n",
       "      <td>138</td>\n",
       "      <td>312</td>\n",
       "      <td>12.4</td>\n",
       "      <td>EU</td>\n",
       "      <td>695</td>\n",
       "    </tr>\n",
       "    <tr>\n",
       "      <th>4</th>\n",
       "      <td>Angola</td>\n",
       "      <td>217</td>\n",
       "      <td>57</td>\n",
       "      <td>45</td>\n",
       "      <td>5.9</td>\n",
       "      <td>AF</td>\n",
       "      <td>319</td>\n",
       "    </tr>\n",
       "  </tbody>\n",
       "</table>\n",
       "</div>"
      ],
      "text/plain": [
       "       country  beer_servings  spirit_servings  wine_servings  \\\n",
       "0  Afghanistan              0                0              0   \n",
       "1      Albania             89              132             54   \n",
       "2      Algeria             25                0             14   \n",
       "3      Andorra            245              138            312   \n",
       "4       Angola            217               57             45   \n",
       "\n",
       "   total_litres_of_pure_alcohol continent  total_servings  \n",
       "0                           0.0        AS               0  \n",
       "1                           4.9        EU             275  \n",
       "2                           0.7        AF              39  \n",
       "3                          12.4        EU             695  \n",
       "4                           5.9        AF             319  "
      ]
     },
     "execution_count": 14,
     "metadata": {},
     "output_type": "execute_result"
    }
   ],
   "source": [
    "#total_servings 피처생성\n",
    "#total_servings = 맥주, spirit, 와인 소비량의 합 \n",
    "drinks['total_servings']=drinks['beer_servings']+drinks['spirit_servings']+drinks['wine_servings']\n",
    "drinks.head()"
   ]
  },
  {
   "cell_type": "code",
   "execution_count": 16,
   "id": "f5c88afe",
   "metadata": {},
   "outputs": [
    {
     "name": "stdout",
     "output_type": "stream",
     "text": [
      "<class 'pandas.core.frame.DataFrame'>\n",
      "RangeIndex: 193 entries, 0 to 192\n",
      "Data columns (total 8 columns):\n",
      " #   Column                        Non-Null Count  Dtype  \n",
      "---  ------                        --------------  -----  \n",
      " 0   country                       193 non-null    object \n",
      " 1   beer_servings                 193 non-null    int64  \n",
      " 2   spirit_servings               193 non-null    int64  \n",
      " 3   wine_servings                 193 non-null    int64  \n",
      " 4   total_litres_of_pure_alcohol  193 non-null    float64\n",
      " 5   continent                     193 non-null    object \n",
      " 6   total_servings                193 non-null    int64  \n",
      " 7   alcohol_rate                  180 non-null    float64\n",
      "dtypes: float64(2), int64(4), object(2)\n",
      "memory usage: 12.2+ KB\n"
     ]
    }
   ],
   "source": [
    "#술 소비량 대비 알콜의 비율 피처 생성 \n",
    "#alcohol_rate=알콜소비량/ 총 주류소비량\n",
    "drinks['alcohol_rate']=drinks['total_litres_of_pure_alcohol']/drinks['total_servings']\n",
    "drinks.info()"
   ]
  },
  {
   "cell_type": "code",
   "execution_count": 17,
   "id": "37350eb8",
   "metadata": {},
   "outputs": [
    {
     "name": "stdout",
     "output_type": "stream",
     "text": [
      "<class 'pandas.core.frame.DataFrame'>\n",
      "RangeIndex: 193 entries, 0 to 192\n",
      "Data columns (total 8 columns):\n",
      " #   Column                        Non-Null Count  Dtype  \n",
      "---  ------                        --------------  -----  \n",
      " 0   country                       193 non-null    object \n",
      " 1   beer_servings                 193 non-null    int64  \n",
      " 2   spirit_servings               193 non-null    int64  \n",
      " 3   wine_servings                 193 non-null    int64  \n",
      " 4   total_litres_of_pure_alcohol  193 non-null    float64\n",
      " 5   continent                     193 non-null    object \n",
      " 6   total_servings                193 non-null    int64  \n",
      " 7   alcohol_rate                  193 non-null    float64\n",
      "dtypes: float64(2), int64(4), object(2)\n",
      "memory usage: 12.2+ KB\n"
     ]
    }
   ],
   "source": [
    "#alcohol_rate 피처의 결측값을 0으로 채우기\n",
    "drinks['alcohol_rate']=drinks['alcohol_rate'].fillna(0)\n",
    "drinks.info()"
   ]
  },
  {
   "cell_type": "code",
   "execution_count": 19,
   "id": "5b543d31",
   "metadata": {},
   "outputs": [
    {
     "data": {
      "text/html": [
       "<div>\n",
       "<style scoped>\n",
       "    .dataframe tbody tr th:only-of-type {\n",
       "        vertical-align: middle;\n",
       "    }\n",
       "\n",
       "    .dataframe tbody tr th {\n",
       "        vertical-align: top;\n",
       "    }\n",
       "\n",
       "    .dataframe thead th {\n",
       "        text-align: right;\n",
       "    }\n",
       "</style>\n",
       "<table border=\"1\" class=\"dataframe\">\n",
       "  <thead>\n",
       "    <tr style=\"text-align: right;\">\n",
       "      <th></th>\n",
       "      <th>country</th>\n",
       "      <th>alcohol_rate</th>\n",
       "    </tr>\n",
       "  </thead>\n",
       "  <tbody>\n",
       "    <tr>\n",
       "      <th>0</th>\n",
       "      <td>Afghanistan</td>\n",
       "      <td>0.000000</td>\n",
       "    </tr>\n",
       "    <tr>\n",
       "      <th>1</th>\n",
       "      <td>Albania</td>\n",
       "      <td>0.017818</td>\n",
       "    </tr>\n",
       "    <tr>\n",
       "      <th>2</th>\n",
       "      <td>Algeria</td>\n",
       "      <td>0.017949</td>\n",
       "    </tr>\n",
       "    <tr>\n",
       "      <th>3</th>\n",
       "      <td>Andorra</td>\n",
       "      <td>0.017842</td>\n",
       "    </tr>\n",
       "    <tr>\n",
       "      <th>4</th>\n",
       "      <td>Angola</td>\n",
       "      <td>0.018495</td>\n",
       "    </tr>\n",
       "  </tbody>\n",
       "</table>\n",
       "</div>"
      ],
      "text/plain": [
       "       country  alcohol_rate\n",
       "0  Afghanistan      0.000000\n",
       "1      Albania      0.017818\n",
       "2      Algeria      0.017949\n",
       "3      Andorra      0.017842\n",
       "4       Angola      0.018495"
      ]
     },
     "execution_count": 19,
     "metadata": {},
     "output_type": "execute_result"
    }
   ],
   "source": [
    "country_alcohol_rank = drinks[['country','alcohol_rate']]\n",
    "country_alcohol_rank.head()"
   ]
  },
  {
   "cell_type": "code",
   "execution_count": 21,
   "id": "cb637614",
   "metadata": {},
   "outputs": [
    {
     "data": {
      "text/html": [
       "<div>\n",
       "<style scoped>\n",
       "    .dataframe tbody tr th:only-of-type {\n",
       "        vertical-align: middle;\n",
       "    }\n",
       "\n",
       "    .dataframe tbody tr th {\n",
       "        vertical-align: top;\n",
       "    }\n",
       "\n",
       "    .dataframe thead th {\n",
       "        text-align: right;\n",
       "    }\n",
       "</style>\n",
       "<table border=\"1\" class=\"dataframe\">\n",
       "  <thead>\n",
       "    <tr style=\"text-align: right;\">\n",
       "      <th></th>\n",
       "      <th>country</th>\n",
       "      <th>alcohol_rate</th>\n",
       "    </tr>\n",
       "  </thead>\n",
       "  <tbody>\n",
       "    <tr>\n",
       "      <th>63</th>\n",
       "      <td>Gambia</td>\n",
       "      <td>0.266667</td>\n",
       "    </tr>\n",
       "    <tr>\n",
       "      <th>153</th>\n",
       "      <td>Sierra Leone</td>\n",
       "      <td>0.223333</td>\n",
       "    </tr>\n",
       "    <tr>\n",
       "      <th>124</th>\n",
       "      <td>Nigeria</td>\n",
       "      <td>0.185714</td>\n",
       "    </tr>\n",
       "    <tr>\n",
       "      <th>179</th>\n",
       "      <td>Uganda</td>\n",
       "      <td>0.153704</td>\n",
       "    </tr>\n",
       "    <tr>\n",
       "      <th>142</th>\n",
       "      <td>Rwanda</td>\n",
       "      <td>0.151111</td>\n",
       "    </tr>\n",
       "    <tr>\n",
       "      <th>183</th>\n",
       "      <td>Tanzania</td>\n",
       "      <td>0.132558</td>\n",
       "    </tr>\n",
       "    <tr>\n",
       "      <th>26</th>\n",
       "      <td>Burkina Faso</td>\n",
       "      <td>0.110256</td>\n",
       "    </tr>\n",
       "    <tr>\n",
       "      <th>33</th>\n",
       "      <td>Central African Republic</td>\n",
       "      <td>0.090000</td>\n",
       "    </tr>\n",
       "    <tr>\n",
       "      <th>28</th>\n",
       "      <td>Cote d'Ivoire</td>\n",
       "      <td>0.088889</td>\n",
       "    </tr>\n",
       "    <tr>\n",
       "      <th>104</th>\n",
       "      <td>Mali</td>\n",
       "      <td>0.085714</td>\n",
       "    </tr>\n",
       "  </tbody>\n",
       "</table>\n",
       "</div>"
      ],
      "text/plain": [
       "                      country  alcohol_rate\n",
       "63                     Gambia      0.266667\n",
       "153              Sierra Leone      0.223333\n",
       "124                   Nigeria      0.185714\n",
       "179                    Uganda      0.153704\n",
       "142                    Rwanda      0.151111\n",
       "183                  Tanzania      0.132558\n",
       "26               Burkina Faso      0.110256\n",
       "33   Central African Republic      0.090000\n",
       "28              Cote d'Ivoire      0.088889\n",
       "104                      Mali      0.085714"
      ]
     },
     "execution_count": 21,
     "metadata": {},
     "output_type": "execute_result"
    }
   ],
   "source": [
    "#알콜비율을 내림차순으로 정렬하기\n",
    "country_alcohol_rank = country_alcohol_rank.sort_values(by=['alcohol_rate'],\n",
    "                                                       ascending=False)\n",
    "country_alcohol_rank.head(10)"
   ]
  },
  {
   "cell_type": "code",
   "execution_count": 22,
   "id": "0f954152",
   "metadata": {},
   "outputs": [],
   "source": [
    "#알콜비율 기준으로 막대그래프 그리기\n",
    "import numpy as np \n",
    "import matplotlib.pyplot as plt"
   ]
  },
  {
   "cell_type": "code",
   "execution_count": 23,
   "id": "68732dec",
   "metadata": {},
   "outputs": [
    {
     "name": "stdout",
     "output_type": "stream",
     "text": [
      "['Gambia', 'Sierra Leone', 'Nigeria', 'Uganda', 'Rwanda', 'Tanzania', 'Burkina Faso', 'Central African Republic', \"Cote d'Ivoire\", 'Mali', 'Sudan', 'Malawi', 'Burundi', 'DR Congo', 'South Korea', 'Zimbabwe', 'Swaziland', 'Zambia', 'Ghana', 'Cameroon']\n"
     ]
    }
   ],
   "source": [
    "country_list = country_alcohol_rank.country.tolist()\n",
    "print(country_list[:20])"
   ]
  },
  {
   "cell_type": "code",
   "execution_count": 29,
   "id": "ca5ffe0f",
   "metadata": {},
   "outputs": [
    {
     "name": "stdout",
     "output_type": "stream",
     "text": [
      "한국의 알코올 비율: 0.0593939393939394\n"
     ]
    },
    {
     "data": {
      "image/png": "[encoded data removed]",
      "text/plain": [
       "<Figure size 432x288 with 1 Axes>"
      ]
     },
     "metadata": {
      "needs_background": "light"
     },
     "output_type": "display_data"
    }
   ],
   "source": [
    "#나라이름 대신 0~192까지의 데이터표시, x축의 값 설정\n",
    "x_pos = np.arange(len(country_list))\n",
    "#알콜비율 저장. y축의 값 \n",
    "rank = country_alcohol_rank.alcohol_rate.tolist()\n",
    "country_list.index('South Korea')\n",
    "bar_list = plt.bar(x_pos, rank)\n",
    "#인덱스값 0부터 시작. 14는 15번째 막대의 색을 빨간색으로 변경\n",
    "bar_list[country_list.index('South Korea')].set_color('r')\n",
    "plt.ylabel('alcohol rate')\n",
    "plt.title('liquor drink rank bt country')\n",
    "# x축의 범위: 0~200\n",
    "# y축의 범위: 0~0.3까지\n",
    "plt.axis([0,200,0,0.3])\n",
    "# 14: 대한민국의 인덱스\n",
    "korea_rank = country_list.index('South Korea')\n",
    "# 대한민국의 알콜비율값\n",
    "korea_alc_rate = country_alcohol_rank[country_alcohol_rank['country']=='South Korea']['alcohol_rate'].values[0]\n",
    "print(\"한국의 알코올 비율:\",korea_alc_rate)"
   ]
  },
  {
   "cell_type": "code",
   "execution_count": 35,
   "id": "d0735633",
   "metadata": {},
   "outputs": [
    {
     "data": {
      "image/png": "[encoded data removed]",
      "text/plain": [
       "<Figure size 432x288 with 1 Axes>"
      ]
     },
     "metadata": {
      "needs_background": "light"
     },
     "output_type": "display_data"
    }
   ],
   "source": [
    "#두번째 그래프\n",
    "#나라이름 대신 0~192까지의 데이터표시, x축의 값 설정\n",
    "x_pos = np.arange(len(country_list))\n",
    "#알콜비율 저장. y축의 값 \n",
    "rank = country_alcohol_rank.alcohol_rate.tolist()\n",
    "country_list.index('South Korea')\n",
    "bar_list = plt.bar(x_pos, rank)\n",
    "#인덱스값 0부터 시작. 14는 15번째 막대의 색을 빨간색으로 변경\n",
    "bar_list[country_list.index('South Korea')].set_color('r')\n",
    "plt.ylabel('alcohol rate')\n",
    "plt.title('liquor drink rank bt country')\n",
    "# x축의 범위: 0~200\n",
    "# y축의 범위: 0~0.3까지\n",
    "plt.axis([0,200,0,0.3])\n",
    "# 14: 대한민국의 인덱스\n",
    "korea_rank = country_list.index('South Korea')\n",
    "# 대한민국의 알콜비율값\n",
    "korea_alc_rate = country_alcohol_rank[country_alcohol_rank['country']=='South Korea']['alcohol_rate'].values[0]\n",
    "\n",
    "#추가표시 그래프 작성\n",
    "# annotate: 설명추가\n",
    "# xy: 설명하기 위한 막대값. x값: korea_rank\n",
    "# y값: korea_alc_rate\n",
    "# xytest: 텍스트 위치 설정\n",
    "# arrowprops: 화살표 표시 \n",
    "plt.annotate('South Korea:' + str(korea_rank+1)+'th',\n",
    "             xy=(korea_rank, korea_alc_rate),\n",
    "             xytext=(korea_rank+10,korea_alc_rate+0.05),\n",
    "             arrowprops=dict(facecolor='red',shrink=0.05))\n",
    "plt.show()"
   ]
  },
  {
   "cell_type": "code",
   "execution_count": 37,
   "id": "7decba9c",
   "metadata": {},
   "outputs": [
    {
     "data": {
      "text/html": [
       "<div>\n",
       "<style scoped>\n",
       "    .dataframe tbody tr th:only-of-type {\n",
       "        vertical-align: middle;\n",
       "    }\n",
       "\n",
       "    .dataframe tbody tr th {\n",
       "        vertical-align: top;\n",
       "    }\n",
       "\n",
       "    .dataframe thead th {\n",
       "        text-align: right;\n",
       "    }\n",
       "</style>\n",
       "<table border=\"1\" class=\"dataframe\">\n",
       "  <thead>\n",
       "    <tr style=\"text-align: right;\">\n",
       "      <th></th>\n",
       "      <th>country</th>\n",
       "      <th>total_servings</th>\n",
       "    </tr>\n",
       "  </thead>\n",
       "  <tbody>\n",
       "    <tr>\n",
       "      <th>0</th>\n",
       "      <td>Afghanistan</td>\n",
       "      <td>0</td>\n",
       "    </tr>\n",
       "    <tr>\n",
       "      <th>1</th>\n",
       "      <td>Albania</td>\n",
       "      <td>275</td>\n",
       "    </tr>\n",
       "    <tr>\n",
       "      <th>2</th>\n",
       "      <td>Algeria</td>\n",
       "      <td>39</td>\n",
       "    </tr>\n",
       "    <tr>\n",
       "      <th>3</th>\n",
       "      <td>Andorra</td>\n",
       "      <td>695</td>\n",
       "    </tr>\n",
       "    <tr>\n",
       "      <th>4</th>\n",
       "      <td>Angola</td>\n",
       "      <td>319</td>\n",
       "    </tr>\n",
       "  </tbody>\n",
       "</table>\n",
       "</div>"
      ],
      "text/plain": [
       "       country  total_servings\n",
       "0  Afghanistan               0\n",
       "1      Albania             275\n",
       "2      Algeria              39\n",
       "3      Andorra             695\n",
       "4       Angola             319"
      ]
     },
     "execution_count": 37,
     "metadata": {},
     "output_type": "execute_result"
    }
   ],
   "source": [
    "# 전체 술 소비량을 막대그래프로 작성하고 대한민국의 위치를 빨간색으로 표시하기\n",
    "#술소비량 데이터 저장\n",
    "country_serving_rank = drinks[['country','total_servings']]\n",
    "#술소비량 데이터 내림차순 정렬\n",
    "coutnry_serving_rank = country_serving_rank.sort_values(by=['total_servings'],ascending=0)\n",
    "country_serving_rank.head()"
   ]
  },
  {
   "cell_type": "code",
   "execution_count": 42,
   "id": "6851e644",
   "metadata": {},
   "outputs": [
    {
     "name": "stdout",
     "output_type": "stream",
     "text": [
      "한국의 순위: 138\n"
     ]
    },
    {
     "data": {
      "image/png": "[encoded data removed]",
      "text/plain": [
       "<Figure size 432x288 with 1 Axes>"
      ]
     },
     "metadata": {
      "needs_background": "light"
     },
     "output_type": "display_data"
    }
   ],
   "source": [
    "#그래프 작성하기\n",
    "country_list=country_serving_rank.country.tolist()\n",
    "x_pos= np.arange(len(country_list))\n",
    "rank = country_serving_rank.total_servings.tolist()\n",
    "bar_list=plt.bar(x_pos,rank)\n",
    "bar_list[country_list.index('South Korea')].set_color('r')\n",
    "plt.ylabel('alcohol rate')\n",
    "plt.title('drink serving rank by country')\n",
    "plt.axis([0,200,0,700])\n",
    "korea_rank = country_list.index('South Korea')\n",
    "print('한국의 순위:',korea_rank)\n",
    "\n",
    "korea_serving_rate = country_serving_rank[country_serving_rank['country']==\n",
    "                                         'South Korea']['total_servings'].values[0]\n",
    "\n",
    "plt.annotate('South Korea:'+str(korea_rank+1),\n",
    "            xy=(korea_rank,korea_serving_rate),\n",
    "            xytext=(korea_rank+10, korea_serving_rate+0.05),\n",
    "            arrowprops=dict(facecolor='red',shrink=0.05))\n",
    "plt.show()"
   ]
  },
  {
   "cell_type": "code",
   "execution_count": null,
   "id": "af61f01e",
   "metadata": {},
   "outputs": [],
   "source": []
  }
 ],
 "metadata": {
  "kernelspec": {
   "display_name": "Python 3",
   "language": "python",
   "name": "python3"
  },
  "language_info": {
   "codemirror_mode": {
    "name": "ipython",
    "version": 3
   },
   "file_extension": ".py",
   "mimetype": "text/x-python",
   "name": "python",
   "nbconvert_exporter": "python",
   "pygments_lexer": "ipython3",
   "version": "3.8.8"
  }
 },
 "nbformat": 4,
 "nbformat_minor": 5
}
