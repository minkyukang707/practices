{
 "cells": [
  {
   "cell_type": "markdown",
   "id": "fccc7d8d",
   "metadata": {},
   "source": [
    "# 카카오맵 크롤링"
   ]
  },
  {
   "cell_type": "code",
   "execution_count": 8,
   "id": "81992bb4",
   "metadata": {},
   "outputs": [],
   "source": [
    "import pandas as pd \n",
    "import numpy as np\n",
    "import matplotlib.pyplot as plt\n",
    "import seaborn as sns\n",
    "\n",
    "from selenium import webdriver\n",
    "from bs4 import BeautifulSoup\n",
    "import re\n",
    "import time"
   ]
  },
  {
   "cell_type": "code",
   "execution_count": 9,
   "id": "027d5cf2",
   "metadata": {},
   "outputs": [],
   "source": [
    "path='C:/pyy/chromedriver.exe'\n",
    "#크롤링할 사이트 주소를 정의합니다\n",
    "source_url='https://map.kakao.com/'\n",
    "driver=webdriver.Chrome(path)\n",
    "driver.get(source_url)\n",
    "searchbox=driver.find_element_by_xpath(\"//input[@id='search.keyword.query']\")\n",
    "searchbox.send_keys('강남역 고기집')"
   ]
  },
  {
   "cell_type": "code",
   "execution_count": 10,
   "id": "eb50084b",
   "metadata": {},
   "outputs": [],
   "source": [
    "#검색버튼을 눌러서 결과를 가져옵니다\n",
    "searchbutton=driver.find_element_by_xpath(\"//button[@id='search.keyword.submit']\")\n",
    "driver.execute_script(\"arguments[0].click();\",searchbutton)\n",
    "#검색 결과를 가져올 시간을 기다립니다\n",
    "time.sleep(2)"
   ]
  },
  {
   "cell_type": "code",
   "execution_count": 11,
   "id": "e7aa750b",
   "metadata": {},
   "outputs": [],
   "source": [
    "#검색 결과의 페이지 소스를 가져옵니다\n",
    "html=driver.page_source\n",
    "#BeautifulSoup을 이용하여 html정보를 파싱합니다\n",
    "soup=BeautifulSoup(html,'html.parser')\n",
    "#name='a': a태그\n",
    "#attrs: 속성 설정\n",
    "#검색된 맛집의 상세보기 버튼들: class 속성이 moreview인 a태그들\n",
    "moreviews=soup.find_all(name='a',attrs={'class':'moreview'})\n",
    "#moreviews 의 a태그의 href 속성을 리스트로 추출하여 크롤링할 페이지 리스트를 생성 "
   ]
  },
  {
   "cell_type": "code",
   "execution_count": 18,
   "id": "0ec10efa",
   "metadata": {},
   "outputs": [
    {
     "name": "stdout",
     "output_type": "stream",
     "text": [
      "https://place.map.kakao.com/85570955\n",
      "https://place.map.kakao.com/95713992\n",
      "https://place.map.kakao.com/1503746075\n",
      "https://place.map.kakao.com/741391811\n",
      "https://place.map.kakao.com/2011092566\n",
      "https://place.map.kakao.com/13573220\n",
      "https://place.map.kakao.com/1648266796\n",
      "https://place.map.kakao.com/2062959414\n",
      "https://place.map.kakao.com/168079537\n",
      "https://place.map.kakao.com/263830255\n",
      "https://place.map.kakao.com/27238067\n",
      "https://place.map.kakao.com/26431943\n",
      "https://place.map.kakao.com/1052874675\n",
      "https://place.map.kakao.com/1907052666\n",
      "https://place.map.kakao.com/1780387311\n",
      "https://place.map.kakao.com/1576421052\n"
     ]
    }
   ],
   "source": [
    "page_urls=[]\n",
    "for moreview in moreviews:\n",
    "    page_url=moreview.get('href')\n",
    "    print(page_url)\n",
    "    page_urls.append(page_url)"
   ]
  },
  {
   "cell_type": "code",
   "execution_count": null,
   "id": "bc309fa2",
   "metadata": {},
   "outputs": [],
   "source": [
    "driver.close()"
   ]
  },
  {
   "cell_type": "code",
   "execution_count": 21,
   "id": "badeb275",
   "metadata": {},
   "outputs": [
    {
     "name": "stdout",
     "output_type": "stream",
     "text": [
      "https://place.map.kakao.com/85570955\n",
      "https://place.map.kakao.com/95713992\n",
      "https://place.map.kakao.com/1503746075\n",
      "https://place.map.kakao.com/741391811\n",
      "https://place.map.kakao.com/2011092566\n",
      "https://place.map.kakao.com/13573220\n",
      "https://place.map.kakao.com/1648266796\n",
      "https://place.map.kakao.com/2062959414\n",
      "https://place.map.kakao.com/168079537\n",
      "https://place.map.kakao.com/263830255\n",
      "https://place.map.kakao.com/27238067\n",
      "https://place.map.kakao.com/26431943\n",
      "https://place.map.kakao.com/1052874675\n",
      "https://place.map.kakao.com/1907052666\n",
      "https://place.map.kakao.com/1780387311\n",
      "https://place.map.kakao.com/1576421052\n",
      "16\n",
      "<class 'pandas.core.frame.DataFrame'>\n",
      "RangeIndex: 376 entries, 0 to 375\n",
      "Data columns (total 2 columns):\n",
      " #   Column  Non-Null Count  Dtype \n",
      "---  ------  --------------  ----- \n",
      " 0   score   376 non-null    object\n",
      " 1   review  376 non-null    object\n",
      "dtypes: object(2)\n",
      "memory usage: 6.0+ KB\n"
     ]
    }
   ],
   "source": [
    "for p in page_urls:\n",
    "    print(p)\n",
    "print(len(page_urls))\n",
    "\n",
    "#페이지들을 검색하여 정보를 저장하기\n",
    "columns=['score','review']\n",
    "df=pd.DataFrame(columns=columns)\n",
    "df\n",
    "driver=webdriver.Chrome(path)\n",
    "\n",
    "for page in page_urls:\n",
    "    driver.get(page)\n",
    "    time.sleep(2)\n",
    "    html=driver.page_source\n",
    "    soup=BeautifulSoup(html,'html.parser')\n",
    "    #리뷰 크롤링\n",
    "    contents_div=soup.find(name='div',attrs={'class':'evaluation_review'})\n",
    "    #별점 저장\n",
    "    rates=contents_div.find_all(name='em',attrs={'class':'num_rate'})\n",
    "    #리뷰 저장\n",
    "    reviews=contents_div.find_all(name='p',attrs={'class':'txt_comment'})\n",
    "    \n",
    "    #1번 페이지\n",
    "    for rate, review in zip(rates, reviews):\n",
    "        row=[rate.text[0], review.find(name='span').text]\n",
    "        series=pd.Series(row, index=df.columns)\n",
    "        df=df.append(series,ignore_index=True)\n",
    "        \n",
    "    #2-5번 페이지 \n",
    "    for button_num in range(2,6):\n",
    "        try:\n",
    "            another_reviews=driver.find_element_by_xpath\\\n",
    "                (\"//a[@data-page='\"+str(button_num)+\"']\")\n",
    "            another_reviews.click()\n",
    "            time.sleep(2)\n",
    "            html=driver.page_source\n",
    "            soup=BeautifulSoup(html,'html.parser')\n",
    "            contents_div=soup.find\\\n",
    "                (name='div',attrs={'class':'evaluation_review'})\n",
    "            rates=contents_div.find_all(name='em',attrs={'class':'num_rate'})\n",
    "            reviews=contents_div.find_all\\\n",
    "                (name='p',attrs={'class':'txt_comment'})\n",
    "            for rate, review in zip(rates, reviews):\n",
    "                row=[rate.text[0], review.find(name='span').text]\n",
    "                series=pd.Series(row, index=df.columns)\n",
    "                df=df.append(series, ignore_index=True)\n",
    "        except:\n",
    "            break\n",
    "driver.close()\n",
    "df.head()\n",
    "df.info()                "
   ]
  },
  {
   "cell_type": "code",
   "execution_count": 23,
   "id": "71927268",
   "metadata": {},
   "outputs": [],
   "source": [
    "#df['y'] 추가하기. score 값이 4이상이면 1,3이하이면 0인 y추가 \n",
    "df['y']=df['score'].apply(lambda x:1 if float(x)>3 else 0)\n",
    "df.y.value_counts()\n",
    "df.score.value_counts()\n",
    "\n",
    "#review_data.csv 파일로 저장하기 \n",
    "df.to_csv('C:/pyy/review_data.csv', index=False)"
   ]
  },
  {
   "cell_type": "code",
   "execution_count": null,
   "id": "abd4942e",
   "metadata": {},
   "outputs": [],
   "source": []
  }
 ],
 "metadata": {
  "kernelspec": {
   "display_name": "Python 3",
   "language": "python",
   "name": "python3"
  },
  "language_info": {
   "codemirror_mode": {
    "name": "ipython",
    "version": 3
   },
   "file_extension": ".py",
   "mimetype": "text/x-python",
   "name": "python",
   "nbconvert_exporter": "python",
   "pygments_lexer": "ipython3",
   "version": "3.8.8"
  }
 },
 "nbformat": 4,
 "nbformat_minor": 5
}
