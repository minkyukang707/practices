{
 "cells": [
  {
   "cell_type": "markdown",
   "id": "e0205c69",
   "metadata": {},
   "source": [
    "# 리뷰데이터의 긍정부정 분류"
   ]
  },
  {
   "cell_type": "code",
   "execution_count": 1,
   "id": "db27991c",
   "metadata": {},
   "outputs": [],
   "source": [
    "import pandas as pd \n",
    "df=pd.read_csv('C:/pyy/review_data.csv')\n",
    "\n",
    "#한글이외의 글자는 전부 제거하기\n",
    "import re \n",
    "\n",
    "def text_cleaning(text):\n",
    "    #한글의 정규표현식으로 한글만 추출합니다\n",
    "    hangul=re.compile('[^ㄱ-ㅣ 가-힣]+')\n",
    "    result=hangul.sub('',text)\n",
    "    return result\n",
    "\n",
    "df['ko_text']=df['review'].apply(lambda x:text_cleaning(str(x)))\n",
    "df=df[df['ko_text'].str.len()>0]\n",
    "del df['review']\n",
    "\n",
    "#형태소 단위로 추출\n",
    "from konlpy.tag import Okt\n",
    "#konlpy라이브러리로 텍스트 데이터에서 형태소를 추출\n",
    "def get_pos(x):\n",
    "    tagger=Okt()\n",
    "    pos=tagger.pos(x)\n",
    "    #word:konlpy 모듈에 의해서 형태소 분석된 단어\n",
    "    #tag:konlpy 모듈에 의해서 형태소 분석된 품사\n",
    "    pos=['{0}/{1}'.format(word,tag) for word,tag in pos]\n",
    "    return pos"
   ]
  },
  {
   "cell_type": "code",
   "execution_count": 2,
   "id": "0608c388",
   "metadata": {},
   "outputs": [
    {
     "name": "stdout",
     "output_type": "stream",
     "text": [
      "['예약/Noun', '할/Verb', '때/Noun', '는/Josa', '룸/Noun', '을/Josa', '주기/Noun', '로/Josa', '하고/Verb', '홀/Noun', '을/Josa', '주고/Verb', '덥고/Adjective', '직원/Noun', '들/Suffix', '이/Josa', '정신/Noun', '이/Josa', '없어/Adjective', '그/Noun', '가격/Noun', '에/Josa', '내/Noun', '가/Josa', '직접/Noun', '구워/Verb', '먹고/Verb', '갈비살/Noun', '등심/Noun', '은/Josa', '질/Noun', '기고/Noun', '냉면/Noun', '은/Josa', '맛/Noun', '이/Josa', '없고/Adjective', '장어/Noun', '양념/Noun', '들/Suffix', '도/Josa', '제/Noun', '때/Noun', '안/Noun', '가져다/Verb', '주고/Verb', '회식/Noun', '으로/Josa', '한/Determiner', '시간/Noun', '만에/Josa', '만원/Noun', '을/Josa', '썼는데/Verb', '이런/Adjective', '경험/Noun', '처음/Noun', '입니다/Adjective']\n"
     ]
    }
   ],
   "source": [
    "result=get_pos(df['ko_text'].values[0])\n",
    "print(result)"
   ]
  },
  {
   "cell_type": "code",
   "execution_count": 3,
   "id": "df1a2542",
   "metadata": {},
   "outputs": [
    {
     "data": {
      "text/plain": [
       "(309, 2383)"
      ]
     },
     "execution_count": 3,
     "metadata": {},
     "output_type": "execute_result"
    }
   ],
   "source": [
    "#분류 모델의 학습 데이터로 변환하기\n",
    "#글뭉치로 변환하기\n",
    "from sklearn.feature_extraction.text import CountVectorizer\n",
    "#CountVectorizer: 글뭉치(corpus)의 인덱스로 생성하기\n",
    "index_vectorizer=CountVectorizer(tokenizer=lambda x:get_pos(x))\n",
    "X=index_vectorizer.fit_transform(df['ko_text'].tolist())\n",
    "X.shape"
   ]
  },
  {
   "cell_type": "code",
   "execution_count": 4,
   "id": "5d8eac69",
   "metadata": {},
   "outputs": [],
   "source": [
    "from sklearn.feature_extraction.text import TfidfTransformer\n",
    "tfidf_vectorizer=TfidfTransformer()\n",
    "X=tfidf_vectorizer.fit_transform(X)"
   ]
  },
  {
   "cell_type": "code",
   "execution_count": 5,
   "id": "e3068999",
   "metadata": {},
   "outputs": [],
   "source": [
    "#긍정 부정 리뷰 분류\n",
    "#데이터셋 분리\n",
    "from sklearn.model_selection import train_test_split\n",
    "y=df['y']\n",
    "x_train, x_test,y_train, y_test=train_test_split(X,y,test_size=0.3)\n",
    "\n",
    "from sklearn.linear_model import LogisticRegression\n",
    "lr=LogisticRegression(solver='liblinear', random_state=0)\n",
    "lr.fit(x_train,y_train) #학습하기\n",
    "y_pred=lr.predict(x_test) #검증하기"
   ]
  },
  {
   "cell_type": "code",
   "execution_count": 6,
   "id": "e42ac0f4",
   "metadata": {},
   "outputs": [
    {
     "data": {
      "text/plain": [
       "array([[ 0.        , -0.12548772, -0.16911266, ...,  0.        ,\n",
       "        -0.05212915,  0.        ]])"
      ]
     },
     "execution_count": 6,
     "metadata": {},
     "output_type": "execute_result"
    }
   ],
   "source": [
    "#각 피처별 가중치값\n",
    "lr.coef_"
   ]
  },
  {
   "cell_type": "code",
   "execution_count": 7,
   "id": "1d9cef57",
   "metadata": {},
   "outputs": [
    {
     "data": {
      "text/plain": [
       "2383"
      ]
     },
     "execution_count": 7,
     "metadata": {},
     "output_type": "execute_result"
    }
   ],
   "source": [
    "len(lr.coef_[0])"
   ]
  },
  {
   "cell_type": "code",
   "execution_count": 8,
   "id": "ce7d167c",
   "metadata": {},
   "outputs": [
    {
     "data": {
      "text/plain": [
       "<BarContainer object of 2383 artists>"
      ]
     },
     "execution_count": 8,
     "metadata": {},
     "output_type": "execute_result"
    },
    {
     "data": {
      "image/png": "[encoded data removed]",
      "text/plain": [
       "<Figure size 720x576 with 1 Axes>"
      ]
     },
     "metadata": {
      "needs_background": "light"
     },
     "output_type": "display_data"
    }
   ],
   "source": [
    "import matplotlib.pyplot as plt\n",
    "plt.rcParams['figure.figsize']=[10,8]\n",
    "plt.bar(range(len(lr.coef_[0])),lr.coef_[0])"
   ]
  },
  {
   "cell_type": "code",
   "execution_count": 9,
   "id": "024b27ab",
   "metadata": {},
   "outputs": [
    {
     "name": "stdout",
     "output_type": "stream",
     "text": [
      "0 월\n",
      "1 화\n",
      "2 수\n",
      "3 목\n",
      "4 금\n",
      "5 토\n",
      "6 일\n"
     ]
    }
   ],
   "source": [
    "#enumerate기능\n",
    "for i,v in enumerate(['월','화','수','목','금','토','일']):\n",
    "    print(i,v)"
   ]
  },
  {
   "cell_type": "code",
   "execution_count": 10,
   "id": "9f5ab666",
   "metadata": {},
   "outputs": [
    {
     "data": {
      "text/plain": [
       "[(1.342170448819547, 782),\n",
       " (0.9242512842933028, 2073),\n",
       " (0.8688860948359118, 1896),\n",
       " (0.7946501300752946, 789),\n",
       " (0.6076327762151916, 762)]"
      ]
     },
     "execution_count": 10,
     "metadata": {},
     "output_type": "execute_result"
    }
   ],
   "source": [
    "#lr.coef_[0] 내림차순 정렬\n",
    "#상위(양수): 긍정적인 단어\n",
    "#하위(음수): 부정적인 단어\n",
    "#긍정의 가중치값 5개\n",
    "sorted(((value,index) for index,value in enumerate(lr.coef_[0])),reverse=True)[:5]"
   ]
  },
  {
   "cell_type": "code",
   "execution_count": 11,
   "id": "f6ff747c",
   "metadata": {},
   "outputs": [
    {
     "data": {
      "text/plain": [
       "[(-0.6455887025086361, 998),\n",
       " (-0.7854346503672003, 1667),\n",
       " (-0.8553325107009196, 897),\n",
       " (-0.8575600094668404, 198),\n",
       " (-1.046977014474237, 1653)]"
      ]
     },
     "execution_count": 11,
     "metadata": {},
     "output_type": "execute_result"
    }
   ],
   "source": [
    "#부정의 가중치값 5개\n",
    "sorted(((value,index) for index,value in enumerate(lr.coef_[0])),reverse=True)[-5:]"
   ]
  },
  {
   "cell_type": "code",
   "execution_count": 13,
   "id": "53548df8",
   "metadata": {},
   "outputs": [],
   "source": [
    "coef_pos_index=sorted(((value,index) \\\n",
    "                       for index, value in enumerate(lr.coef_[0])), reverse=True)"
   ]
  },
  {
   "cell_type": "code",
   "execution_count": 16,
   "id": "798180f2",
   "metadata": {},
   "outputs": [
    {
     "name": "stdout",
     "output_type": "stream",
     "text": [
      "예약/Noun 1549\n",
      "할/Verb 2281\n",
      "때/Noun 666\n",
      "는/Josa 477\n",
      "룸/Noun 697\n",
      "을/Josa 1653\n",
      "주기/Noun 1939\n",
      "로/Josa 693\n",
      "하고/Verb 2221\n",
      "홀/Noun 2344\n"
     ]
    }
   ],
   "source": [
    "#상위 20개의 긍정 형태소를 출력합니다\n",
    "#index_vectorizer: 글뭉치 데이터\n",
    "#invert_index_vectorizer: 피처의 인덱스: 단어/품사\n",
    "invert_index_vectorizer={v:k for k,v in index_vectorizer.vocabulary_.items()}\n",
    "\n",
    "cnt=0\n",
    "for k,v in index_vectorizer.vocabulary_.items():\n",
    "    print(k,v)\n",
    "    cnt+=1\n",
    "    if cnt>=10:\n",
    "        break"
   ]
  },
  {
   "cell_type": "code",
   "execution_count": 17,
   "id": "1bf99db7",
   "metadata": {},
   "outputs": [
    {
     "name": "stdout",
     "output_type": "stream",
     "text": [
      "맛있어요/Adjective 1.342170448819547\n",
      "최고/Noun 0.9242512842933028\n",
      "존맛/Noun 0.8688860948359118\n",
      "맛있음/Adjective 0.7946501300752946\n",
      "맛있게/Adjective 0.6076327762151916\n",
      "또/Noun 0.4729613203330136\n",
      "맛있고/Adjective 0.47287242706689625\n",
      "삼겹살/Noun 0.4548550790009878\n",
      "맛집/Noun 0.4193733825747398\n",
      "ㅎ/KoreanParticle 0.4011860502976734\n",
      "과/Josa 0.39311677229969316\n",
      "자극/Noun 0.36437507302050326\n",
      "곱/Noun 0.3559936229118588\n",
      "에요/Josa 0.3437329224970926\n",
      "에서/Josa 0.33984175656259197\n",
      "ㅎㅎ/KoreanParticle 0.33817694292122996\n",
      "거기/Noun 0.33650961709297705\n",
      "편/Noun 0.33539180951961106\n",
      "정말/Noun 0.3350235967165174\n",
      "진짜/Noun 0.3298241428323883\n",
      "그/Determiner -0.40090431577580954\n",
      "괜찮아요/Adjective -0.4064946839135616\n",
      "는/Josa -0.4123119210720354\n",
      "안/VerbPrefix -0.4150918882970453\n",
      "말/Noun -0.42303238396569437\n",
      "비추/Verb -0.4272592938110442\n",
      "볶음밥/Noun -0.4385512848341643\n",
      "를/Josa -0.4669780356549883\n",
      "건지/Verb -0.4704744072221815\n",
      "불친절/Noun -0.47674866928048937\n",
      "은/Josa -0.4950732857903761\n",
      "없고/Adjective -0.503946304671966\n",
      "요/Josa -0.5391574587762242\n",
      "점/Noun -0.5531084463332351\n",
      "에/Josa -0.5689194355828028\n",
      "별로/Noun -0.6455887025086361\n",
      "이/Josa -0.7854346503672003\n",
      "무난/Noun -0.8553325107009196\n",
      "곱창/Noun -0.8575600094668404\n",
      "을/Josa -1.046977014474237\n"
     ]
    }
   ],
   "source": [
    "for coef in coef_pos_index[:20]:\n",
    "    #invert_index_vactorizer[coef[1]]: 컬럼인덱스에 해당하는 단어/품사\n",
    "    #coef[0]: 가중치\n",
    "    print(invert_index_vectorizer[coef[1]],coef[0])\n",
    "\n",
    "#하위 20개 부정 형태소를 출력합니다\n",
    "for coef in coef_pos_index[-20:]:\n",
    "    print(invert_index_vectorizer[coef[1]],coef[0])"
   ]
  },
  {
   "cell_type": "code",
   "execution_count": 18,
   "id": "bc3eb08e",
   "metadata": {},
   "outputs": [],
   "source": [
    "#명사 기준으로 긍정순의 단어 10개, 부정순의 10개단어 출력하기\n",
    "#형용사 기준으로 긍정10개, 부정10개의 단어 출력하기\n",
    "noun_list=[]\n",
    "adjective_list=[]\n",
    "for coef in coef_pos_index:\n",
    "    category=invert_index_vectorizer[coef[1]].split('/')[1]\n",
    "    if category=='Noun':\n",
    "        noun_list.append((invert_index_vectorizer[coef[1]],coef[0]))\n",
    "    elif category=='Adjective':\n",
    "        adjective_list.append((invert_index_vectorizer[coef[1]],coef[0]))\n",
    "        "
   ]
  },
  {
   "cell_type": "code",
   "execution_count": 23,
   "id": "31ee16dc",
   "metadata": {},
   "outputs": [
    {
     "name": "stdout",
     "output_type": "stream",
     "text": [
      "명사 긍정10개:\n",
      " [('최고/Noun', 0.9242512842933028), ('존맛/Noun', 0.8688860948359118), ('또/Noun', 0.4729613203330136), ('삼겹살/Noun', 0.4548550790009878), ('맛집/Noun', 0.4193733825747398), ('자극/Noun', 0.36437507302050326), ('곱/Noun', 0.3559936229118588), ('거기/Noun', 0.33650961709297705), ('편/Noun', 0.33539180951961106), ('정말/Noun', 0.3350235967165174)] \n",
      "\n",
      "명사 부정10개:\n",
      " [('맛/Noun', -0.3821861125192106), ('그닥/Noun', -0.3843309338824836), ('인분/Noun', -0.39217366808313653), ('말/Noun', -0.42303238396569437), ('볶음밥/Noun', -0.4385512848341643), ('불친절/Noun', -0.47674866928048937), ('점/Noun', -0.5531084463332351), ('별로/Noun', -0.6455887025086361), ('무난/Noun', -0.8553325107009196), ('곱창/Noun', -0.8575600094668404)] \n",
      "\n",
      "형용사 긍정10개:\n",
      " [('맛있어요/Adjective', 1.342170448819547), ('맛있음/Adjective', 0.7946501300752946), ('맛있게/Adjective', 0.6076327762151916), ('맛있고/Adjective', 0.47287242706689625), ('좋고/Adjective', 0.3285480951825351), ('좋은/Adjective', 0.30543503289280666), ('맛있었어요/Adjective', 0.2786569650894562), ('맛있네요/Adjective', 0.27835633026149265), ('좋음/Adjective', 0.2772081675446278), ('맛있는데/Adjective', 0.26849055841060365)] \n",
      "\n",
      "형용사 부정10개:\n",
      " [('특별함은/Adjective', -0.22909796534079635), ('편하게/Adjective', -0.23488350346171302), ('없다/Adjective', -0.23867484560170033), ('많지만/Adjective', -0.24557058463008735), ('없네요/Adjective', -0.27578566981353125), ('불친절해요/Adjective', -0.32423592418105224), ('맛있다/Adjective', -0.3433187760138282), ('비싸긴한데/Adjective', -0.35818301370099226), ('괜찮아요/Adjective', -0.4064946839135616), ('없고/Adjective', -0.503946304671966)] \n",
      "\n"
     ]
    }
   ],
   "source": [
    "print('명사 긍정10개:\\n',noun_list[:10],'\\n')\n",
    "print('명사 부정10개:\\n',noun_list[-10:],'\\n')\n",
    "print('형용사 긍정10개:\\n',adjective_list[:10],'\\n')\n",
    "print('형용사 부정10개:\\n',adjective_list[-10:],'\\n')"
   ]
  },
  {
   "cell_type": "code",
   "execution_count": null,
   "id": "3f38676a",
   "metadata": {},
   "outputs": [],
   "source": []
  }
 ],
 "metadata": {
  "kernelspec": {
   "display_name": "Python 3",
   "language": "python",
   "name": "python3"
  },
  "language_info": {
   "codemirror_mode": {
    "name": "ipython",
    "version": 3
   },
   "file_extension": ".py",
   "mimetype": "text/x-python",
   "name": "python",
   "nbconvert_exporter": "python",
   "pygments_lexer": "ipython3",
   "version": "3.8.8"
  }
 },
 "nbformat": 4,
 "nbformat_minor": 5
}
