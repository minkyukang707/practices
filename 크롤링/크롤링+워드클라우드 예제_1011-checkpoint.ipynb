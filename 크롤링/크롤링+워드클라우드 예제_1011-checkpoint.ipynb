{
 "cells": [
  {
   "cell_type": "markdown",
   "id": "bfbd05fa",
   "metadata": {},
   "source": [
    "# 크롤링데이터를 워드클라우드로 시각화"
   ]
  },
  {
   "cell_type": "code",
   "execution_count": 1,
   "id": "5e3f4096",
   "metadata": {},
   "outputs": [
    {
     "name": "stdout",
     "output_type": "stream",
     "text": [
      "Collecting pytagcloud\n",
      "  Using cached pytagcloud-0.3.5-py3-none-any.whl\n",
      "Collecting pygame\n",
      "  Downloading pygame-2.0.2-cp38-cp38-win_amd64.whl (5.3 MB)\n",
      "Collecting simplejson\n",
      "  Downloading simplejson-3.17.5-cp38-cp38-win_amd64.whl (75 kB)\n",
      "Installing collected packages: simplejson, pytagcloud, pygame\n",
      "Successfully installed pygame-2.0.2 pytagcloud-0.3.5 simplejson-3.17.5\n"
     ]
    }
   ],
   "source": [
    "#pytagcloud => wordcloud 그래프\n",
    "!pip install pytagcloud pygame simplejson "
   ]
  },
  {
   "cell_type": "code",
   "execution_count": 2,
   "id": "b644880d",
   "metadata": {},
   "outputs": [
    {
     "name": "stdout",
     "output_type": "stream",
     "text": [
      "Requirement already satisfied: konlpy in c:\\users\\k\\anaconda3\\lib\\site-packages (0.5.2)\n",
      "Requirement already satisfied: numpy>=1.6 in c:\\users\\k\\anaconda3\\lib\\site-packages (from konlpy) (1.19.5)\n",
      "Requirement already satisfied: beautifulsoup4==4.6.0 in c:\\users\\k\\anaconda3\\lib\\site-packages (from konlpy) (4.6.0)\n",
      "Requirement already satisfied: tweepy>=3.7.0 in c:\\users\\k\\anaconda3\\lib\\site-packages (from konlpy) (3.10.0)\n",
      "Requirement already satisfied: colorama in c:\\users\\k\\anaconda3\\lib\\site-packages (from konlpy) (0.4.4)\n",
      "Requirement already satisfied: lxml>=4.1.0 in c:\\users\\k\\anaconda3\\lib\\site-packages (from konlpy) (4.6.3)\n",
      "Requirement already satisfied: JPype1>=0.7.0 in c:\\users\\k\\anaconda3\\lib\\site-packages (from konlpy) (1.3.0)\n",
      "Requirement already satisfied: six>=1.10.0 in c:\\users\\k\\anaconda3\\lib\\site-packages (from tweepy>=3.7.0->konlpy) (1.15.0)\n",
      "Requirement already satisfied: requests[socks]>=2.11.1 in c:\\users\\k\\anaconda3\\lib\\site-packages (from tweepy>=3.7.0->konlpy) (2.25.1)\n",
      "Requirement already satisfied: requests-oauthlib>=0.7.0 in c:\\users\\k\\anaconda3\\lib\\site-packages (from tweepy>=3.7.0->konlpy) (1.3.0)\n",
      "Requirement already satisfied: oauthlib>=3.0.0 in c:\\users\\k\\anaconda3\\lib\\site-packages (from requests-oauthlib>=0.7.0->tweepy>=3.7.0->konlpy) (3.1.1)\n",
      "Requirement already satisfied: chardet<5,>=3.0.2 in c:\\users\\k\\anaconda3\\lib\\site-packages (from requests[socks]>=2.11.1->tweepy>=3.7.0->konlpy) (4.0.0)\n",
      "Requirement already satisfied: certifi>=2017.4.17 in c:\\users\\k\\anaconda3\\lib\\site-packages (from requests[socks]>=2.11.1->tweepy>=3.7.0->konlpy) (2020.12.5)\n",
      "Requirement already satisfied: urllib3<1.27,>=1.21.1 in c:\\users\\k\\anaconda3\\lib\\site-packages (from requests[socks]>=2.11.1->tweepy>=3.7.0->konlpy) (1.26.4)\n",
      "Requirement already satisfied: idna<3,>=2.5 in c:\\users\\k\\anaconda3\\lib\\site-packages (from requests[socks]>=2.11.1->tweepy>=3.7.0->konlpy) (2.10)\n",
      "Requirement already satisfied: PySocks!=1.5.7,>=1.5.6 in c:\\users\\k\\anaconda3\\lib\\site-packages (from requests[socks]>=2.11.1->tweepy>=3.7.0->konlpy) (1.7.1)\n"
     ]
    }
   ],
   "source": [
    "#형태소분석: konlpy 모듈필요\n",
    "!pip install konlpy"
   ]
  },
  {
   "cell_type": "code",
   "execution_count": 3,
   "id": "25332556",
   "metadata": {},
   "outputs": [
    {
     "data": {
      "text/plain": [
       "'\\nhttps://www.lfd.uci.edu/~gohlke/pythonlibs/#jpype\\n파이썬의 버전 확인\\n윈도우 시작버튼 -> anaconda3 > anaconda prompt\\ncmd창 로드\\npython --version -> 3.8.8출력?\\njpype 사이트에서\\nJpype1-1.1.2-cp38-cp38-win_amd64.whl 파일 다운받기 \\n다운받은 파일 특정 폴더에 복사 \\ncmd 창에 pip install Jpype1-1.1.2-cp38-cp38-win_amd64.whl\\n설정\\n'"
      ]
     },
     "execution_count": 3,
     "metadata": {},
     "output_type": "execute_result"
    }
   ],
   "source": [
    "'''\n",
    "https://www.lfd.uci.edu/~gohlke/pythonlibs/#jpype\n",
    "파이썬의 버전 확인\n",
    "윈도우 시작버튼 -> anaconda3 > anaconda prompt\n",
    "cmd창 로드\n",
    "python --version -> 3.8.8출력?\n",
    "jpype 사이트에서\n",
    "Jpype1-1.1.2-cp38-cp38-win_amd64.whl 파일 다운받기 \n",
    "다운받은 파일 C:\\Users\\K 폴더에 복사\n",
    "cmd 창에 pip install Jpype1-1.1.2-cp38-cp38-win_amd64.whl\n",
    "설정\n",
    "'''"
   ]
  },
  {
   "cell_type": "code",
   "execution_count": 4,
   "id": "ee663062",
   "metadata": {},
   "outputs": [],
   "source": [
    "from konlpy.tag import Okt"
   ]
  },
  {
   "cell_type": "code",
   "execution_count": 5,
   "id": "778ef47a",
   "metadata": {},
   "outputs": [
    {
     "name": "stdout",
     "output_type": "stream",
     "text": [
      "['단독', '입찰', '보다', '복수', '입찰', '의', '경우']\n"
     ]
    }
   ],
   "source": [
    "okt=Okt()\n",
    "print(okt.morphs(u'단독입찰보다 복수입찰의 경우')) #예시"
   ]
  },
  {
   "cell_type": "code",
   "execution_count": 6,
   "id": "8e708894",
   "metadata": {},
   "outputs": [],
   "source": [
    "#나무위키 사이트로 접속하여 데이터 가져오기\n",
    "from selenium import webdriver \n",
    "import re # 정규식"
   ]
  },
  {
   "cell_type": "code",
   "execution_count": 20,
   "id": "e62e0961",
   "metadata": {},
   "outputs": [],
   "source": [
    "path ='C:/pyy/chromedriver' #크롬 웹드라이버 위치\n",
    "source_url = \"https://namu.wiki/RecentChanges\" #크롤링할 사이트 주소 "
   ]
  },
  {
   "cell_type": "code",
   "execution_count": 21,
   "id": "2c8db317",
   "metadata": {},
   "outputs": [
    {
     "name": "stdout",
     "output_type": "stream",
     "text": [
      "0\n"
     ]
    }
   ],
   "source": [
    "driver=webdriver.Chrome(path)\n",
    "driver.get(source_url)\n",
    "a_data = driver.find_elements_by_css_selector('table tr td a')\n",
    "print(len(a_data))"
   ]
  },
  {
   "cell_type": "code",
   "execution_count": 15,
   "id": "c09b3b09",
   "metadata": {},
   "outputs": [
    {
     "name": "stdout",
     "output_type": "stream",
     "text": [
      "0\n",
      "***************************\n",
      "[]\n"
     ]
    }
   ],
   "source": [
    "driver=webdriver.Chrome(path)\n",
    "driver.get(source_url)\n",
    "a_data = driver.find_elements_by_css_selector('table tr td a')\n",
    "print(len(a_data))\n",
    "\n",
    "page_urls=[]\n",
    "cnt=0\n",
    "for a in a_data:\n",
    "    if a.get_attribute('href')==None:\n",
    "        continue\n",
    "    page_url=a.get_attribute('href')\n",
    "    if 'png' not in page_url:\n",
    "        page_urls.append(page_url)\n",
    "        cnt+=1\n",
    "    if cnt>10:\n",
    "        break\n",
    "\n",
    "#중복 url을 제거합니다 \n",
    "page_urls = list(set(page_urls))\n",
    "for page in page_urls[:5]:\n",
    "    print(page)\n",
    "print('***************************')    \n",
    "print(page_urls)\n",
    "\n",
    "#크롤링에 사용한 브라우저를 종료합니다\n",
    "driver.close()\n",
    "\n",
    "import pandas as pd \n",
    "from bs4 import BeautifulSoup\n",
    "columns = ['title','category','content_text']\n",
    "df=pd.DataFrame(columns=columns)\n",
    "\n",
    "for page_url in page_urls:\n",
    "    driver = webdriver.Chrome(path)\n",
    "    driver.get(page_url)\n",
    "    req=driver.page_source\n",
    "    soup=BeautifulSoup(req,'html.parser')\n",
    "    \n",
    "    #contents_table: ariticle이름의 태그를 선택하여 저장\n",
    "    contents_table=soup.find(name = 'article')\n",
    "    #contents_table의 하위 태그들 중 h1태그의 첫번째\n",
    "    title=contents_table.find_all('h1')[0]\n",
    "    #contents_table 태그의 하위 태그 들 중 ul태그의 갯수가 0보다 큰 경우\n",
    "    if len(contents_table.find_all('ul'))>0:\n",
    "    #category : contents_table 태그 하위 태그 중 첫번째 ul태그\n",
    "        category = contents_table.find_all('ul')[0]\n",
    "    else:\n",
    "        category = None\n",
    "    content_paragraphs = contents_table.find_all(name='div', attrs=\n",
    "                                                {'class':'wiki-paragraph'})\n",
    "    content_corpus_list=[]\n",
    "    \n",
    "    if title is not None:\n",
    "        #row_title: 제목 \n",
    "        row_title = title.text.replace('\\n',' ')\n",
    "    else:\n",
    "        row_title=''\n",
    "    if content_paragraphs is not None:\n",
    "        for paragraphs in content_paragraphs:\n",
    "            if paragraphs is not None:\n",
    "                content_corpus_list.append(paragraphs.text.replace('\\n',''))\n",
    "            else:\n",
    "                content_corpus_list.append('')\n",
    "    else: \n",
    "        content_corpus_list.append(\"\")\n",
    "    #category : 첫번째 ul태그    \n",
    "    if category is not None:\n",
    "        #row_category : ul태그의 텍스트\n",
    "        row_category = category.text.replace('\\n',' ')\n",
    "    else: \n",
    "        row_category =''\n",
    "    \n",
    "    row= [row_title, row_category, \"\".join(content_corpus_list)]\n",
    "    series = pd.Series(row,index=df.columns)\n",
    "    df=df.append(series, ignore_index=True)\n",
    "    driver.close()"
   ]
  },
  {
   "cell_type": "markdown",
   "id": "27f8e843",
   "metadata": {},
   "source": [
    "# for 구문 종"
   ]
  },
  {
   "cell_type": "code",
   "execution_count": 16,
   "id": "29ed7399",
   "metadata": {},
   "outputs": [],
   "source": [
    "#한글제외하고 모두 제거\n",
    "def text_cleaning(text):\n",
    "    hangul=re.compile('[^ㄱ-ㅣ 가-힣]+')\n",
    "    result = hangul.sub('',text)\n",
    "    return result"
   ]
  },
  {
   "cell_type": "code",
   "execution_count": 22,
   "id": "15d451fb",
   "metadata": {},
   "outputs": [
    {
     "data": {
      "text/html": [
       "<div>\n",
       "<style scoped>\n",
       "    .dataframe tbody tr th:only-of-type {\n",
       "        vertical-align: middle;\n",
       "    }\n",
       "\n",
       "    .dataframe tbody tr th {\n",
       "        vertical-align: top;\n",
       "    }\n",
       "\n",
       "    .dataframe thead th {\n",
       "        text-align: right;\n",
       "    }\n",
       "</style>\n",
       "<table border=\"1\" class=\"dataframe\">\n",
       "  <thead>\n",
       "    <tr style=\"text-align: right;\">\n",
       "      <th></th>\n",
       "      <th>title</th>\n",
       "      <th>category</th>\n",
       "      <th>content_text</th>\n",
       "    </tr>\n",
       "  </thead>\n",
       "  <tbody>\n",
       "  </tbody>\n",
       "</table>\n",
       "</div>"
      ],
      "text/plain": [
       "Empty DataFrame\n",
       "Columns: [title, category, content_text]\n",
       "Index: []"
      ]
     },
     "execution_count": 22,
     "metadata": {},
     "output_type": "execute_result"
    }
   ],
   "source": [
    "df['title']=df['title'].apply(lambda x:text_cleaning(x))\n",
    "df['category'] = df['category'].apply(lambda x:text_cleaning(x))\n",
    "df['content_text']=df['content_text'].apply(lambda x:text_cleaning(x))\n",
    "df.head(5)"
   ]
  },
  {
   "cell_type": "code",
   "execution_count": 23,
   "id": "2886b8cb",
   "metadata": {},
   "outputs": [
    {
     "name": "stdout",
     "output_type": "stream",
     "text": [
      "자는 복잡하고 한글은 하고   \n"
     ]
    }
   ],
   "source": [
    "print(text_cleaning(\"漢자는 복잡하고, 한글은 smart하고 English ... 1111\"))"
   ]
  },
  {
   "cell_type": "code",
   "execution_count": null,
   "id": "1f4e5c65",
   "metadata": {},
   "outputs": [],
   "source": []
  }
 ],
 "metadata": {
  "kernelspec": {
   "display_name": "Python 3",
   "language": "python",
   "name": "python3"
  },
  "language_info": {
   "codemirror_mode": {
    "name": "ipython",
    "version": 3
   },
   "file_extension": ".py",
   "mimetype": "text/x-python",
   "name": "python",
   "nbconvert_exporter": "python",
   "pygments_lexer": "ipython3",
   "version": "3.8.8"
  }
 },
 "nbformat": 4,
 "nbformat_minor": 5
}
