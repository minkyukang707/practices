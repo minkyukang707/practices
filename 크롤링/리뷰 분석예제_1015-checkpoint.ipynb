{
 "cells": [
  {
   "cell_type": "markdown",
   "id": "11d19300",
   "metadata": {},
   "source": [
    "# 형태소분석"
   ]
  },
  {
   "cell_type": "code",
   "execution_count": 1,
   "id": "3a0db2ce",
   "metadata": {},
   "outputs": [],
   "source": [
    "import pandas as pd "
   ]
  },
  {
   "cell_type": "code",
   "execution_count": 2,
   "id": "40f56075",
   "metadata": {},
   "outputs": [
    {
     "name": "stdout",
     "output_type": "stream",
     "text": [
      "<class 'pandas.core.frame.DataFrame'>\n",
      "RangeIndex: 376 entries, 0 to 375\n",
      "Data columns (total 3 columns):\n",
      " #   Column  Non-Null Count  Dtype \n",
      "---  ------  --------------  ----- \n",
      " 0   score   376 non-null    int64 \n",
      " 1   review  310 non-null    object\n",
      " 2   y       376 non-null    int64 \n",
      "dtypes: int64(2), object(1)\n",
      "memory usage: 8.9+ KB\n"
     ]
    }
   ],
   "source": [
    "df=pd.read_csv('C:/pyy/review_data.csv')\n",
    "df.info()"
   ]
  },
  {
   "cell_type": "code",
   "execution_count": 3,
   "id": "8cf021f8",
   "metadata": {},
   "outputs": [
    {
     "data": {
      "text/html": [
       "<div>\n",
       "<style scoped>\n",
       "    .dataframe tbody tr th:only-of-type {\n",
       "        vertical-align: middle;\n",
       "    }\n",
       "\n",
       "    .dataframe tbody tr th {\n",
       "        vertical-align: top;\n",
       "    }\n",
       "\n",
       "    .dataframe thead th {\n",
       "        text-align: right;\n",
       "    }\n",
       "</style>\n",
       "<table border=\"1\" class=\"dataframe\">\n",
       "  <thead>\n",
       "    <tr style=\"text-align: right;\">\n",
       "      <th></th>\n",
       "      <th>score</th>\n",
       "      <th>review</th>\n",
       "      <th>y</th>\n",
       "    </tr>\n",
       "  </thead>\n",
       "  <tbody>\n",
       "    <tr>\n",
       "      <th>0</th>\n",
       "      <td>1</td>\n",
       "      <td>예약할 때는 룸을 주기로 하고 홀을 주고, 덥고, 직원들이 정신이 없어 그 가격에 ...</td>\n",
       "      <td>0</td>\n",
       "    </tr>\n",
       "    <tr>\n",
       "      <th>1</th>\n",
       "      <td>5</td>\n",
       "      <td>점심식사 잘했던곳.후식커피한잔 하기도 좋고 주차가능합니다. 음식 맛있고 직원분 친절...</td>\n",
       "      <td>1</td>\n",
       "    </tr>\n",
       "    <tr>\n",
       "      <th>2</th>\n",
       "      <td>5</td>\n",
       "      <td>新鮮でおいしいです。</td>\n",
       "      <td>1</td>\n",
       "    </tr>\n",
       "    <tr>\n",
       "      <th>3</th>\n",
       "      <td>4</td>\n",
       "      <td>녹는다 녹아</td>\n",
       "      <td>1</td>\n",
       "    </tr>\n",
       "    <tr>\n",
       "      <th>4</th>\n",
       "      <td>4</td>\n",
       "      <td>NaN</td>\n",
       "      <td>1</td>\n",
       "    </tr>\n",
       "  </tbody>\n",
       "</table>\n",
       "</div>"
      ],
      "text/plain": [
       "   score                                             review  y\n",
       "0      1  예약할 때는 룸을 주기로 하고 홀을 주고, 덥고, 직원들이 정신이 없어 그 가격에 ...  0\n",
       "1      5  점심식사 잘했던곳.후식커피한잔 하기도 좋고 주차가능합니다. 음식 맛있고 직원분 친절...  1\n",
       "2      5                                         新鮮でおいしいです。  1\n",
       "3      4                                             녹는다 녹아  1\n",
       "4      4                                                NaN  1"
      ]
     },
     "execution_count": 3,
     "metadata": {},
     "output_type": "execute_result"
    }
   ],
   "source": [
    "df.head()"
   ]
  },
  {
   "cell_type": "code",
   "execution_count": 4,
   "id": "859693d0",
   "metadata": {},
   "outputs": [],
   "source": [
    "#한글이외의 글자는 전부 제거하기\n",
    "import re \n",
    "\n",
    "def text_cleaning(text):\n",
    "    #한글의 정규표현식으로 한글만 추출합니다\n",
    "    hangul=re.compile('[^ㄱ-ㅣ 가-힣]+')\n",
    "    result=hangul.sub('',text)\n",
    "    return result"
   ]
  },
  {
   "cell_type": "code",
   "execution_count": 6,
   "id": "f1c7037a",
   "metadata": {},
   "outputs": [
    {
     "data": {
      "text/plain": [
       "0    예약할 때는 룸을 주기로 하고 홀을 주고 덥고 직원들이 정신이 없어 그 가격에 내가...\n",
       "1    점심식사 잘했던곳후식커피한잔 하기도 좋고 주차가능합니다 음식 맛있고 직원분 친절하여...\n",
       "2                                                     \n",
       "3                                               녹는다 녹아\n",
       "4                                                     \n",
       "Name: ko_text, dtype: object"
      ]
     },
     "execution_count": 6,
     "metadata": {},
     "output_type": "execute_result"
    }
   ],
   "source": [
    "text_cleaning('abc가나다123라마사아123')\n",
    "#text_cleaning 함수를 df['review']컬럼의 값에 적용\n",
    "#한글결과를 df['ko_text']컬럼에 저장하기 \n",
    "df['ko_text']=df['review'].apply(lambda x:text_cleaning(str(x)))\n",
    "df['ko_text'].head()"
   ]
  },
  {
   "cell_type": "code",
   "execution_count": 7,
   "id": "1eb947a1",
   "metadata": {},
   "outputs": [
    {
     "data": {
      "text/plain": [
       "0    예약할 때는 룸을 주기로 하고 홀을 주고, 덥고, 직원들이 정신이 없어 그 가격에 ...\n",
       "1    점심식사 잘했던곳.후식커피한잔 하기도 좋고 주차가능합니다. 음식 맛있고 직원분 친절...\n",
       "2                                           新鮮でおいしいです。\n",
       "3                                               녹는다 녹아\n",
       "4                                                  NaN\n",
       "Name: review, dtype: object"
      ]
     },
     "execution_count": 7,
     "metadata": {},
     "output_type": "execute_result"
    }
   ],
   "source": [
    "df['review'].head()"
   ]
  },
  {
   "cell_type": "code",
   "execution_count": 8,
   "id": "b29248e9",
   "metadata": {},
   "outputs": [
    {
     "data": {
      "text/html": [
       "<div>\n",
       "<style scoped>\n",
       "    .dataframe tbody tr th:only-of-type {\n",
       "        vertical-align: middle;\n",
       "    }\n",
       "\n",
       "    .dataframe tbody tr th {\n",
       "        vertical-align: top;\n",
       "    }\n",
       "\n",
       "    .dataframe thead th {\n",
       "        text-align: right;\n",
       "    }\n",
       "</style>\n",
       "<table border=\"1\" class=\"dataframe\">\n",
       "  <thead>\n",
       "    <tr style=\"text-align: right;\">\n",
       "      <th></th>\n",
       "      <th>score</th>\n",
       "      <th>review</th>\n",
       "      <th>y</th>\n",
       "      <th>ko_text</th>\n",
       "    </tr>\n",
       "  </thead>\n",
       "  <tbody>\n",
       "    <tr>\n",
       "      <th>0</th>\n",
       "      <td>1</td>\n",
       "      <td>예약할 때는 룸을 주기로 하고 홀을 주고, 덥고, 직원들이 정신이 없어 그 가격에 ...</td>\n",
       "      <td>0</td>\n",
       "      <td>예약할 때는 룸을 주기로 하고 홀을 주고 덥고 직원들이 정신이 없어 그 가격에 내가...</td>\n",
       "    </tr>\n",
       "    <tr>\n",
       "      <th>1</th>\n",
       "      <td>5</td>\n",
       "      <td>점심식사 잘했던곳.후식커피한잔 하기도 좋고 주차가능합니다. 음식 맛있고 직원분 친절...</td>\n",
       "      <td>1</td>\n",
       "      <td>점심식사 잘했던곳후식커피한잔 하기도 좋고 주차가능합니다 음식 맛있고 직원분 친절하여...</td>\n",
       "    </tr>\n",
       "    <tr>\n",
       "      <th>3</th>\n",
       "      <td>4</td>\n",
       "      <td>녹는다 녹아</td>\n",
       "      <td>1</td>\n",
       "      <td>녹는다 녹아</td>\n",
       "    </tr>\n",
       "    <tr>\n",
       "      <th>5</th>\n",
       "      <td>5</td>\n",
       "      <td>흠잡을곳 없는 반찬이 정갈합니다</td>\n",
       "      <td>1</td>\n",
       "      <td>흠잡을곳 없는 반찬이 정갈합니다</td>\n",
       "    </tr>\n",
       "    <tr>\n",
       "      <th>6</th>\n",
       "      <td>5</td>\n",
       "      <td>코로나 땜에 걱정했는데 방역수칙도 잘 지키시고 살치실이랑 등심 부드러워서 너무 좋아...</td>\n",
       "      <td>1</td>\n",
       "      <td>코로나 땜에 걱정했는데 방역수칙도 잘 지키시고 살치실이랑 등심 부드러워서 너무 좋아...</td>\n",
       "    </tr>\n",
       "  </tbody>\n",
       "</table>\n",
       "</div>"
      ],
      "text/plain": [
       "   score                                             review  y  \\\n",
       "0      1  예약할 때는 룸을 주기로 하고 홀을 주고, 덥고, 직원들이 정신이 없어 그 가격에 ...  0   \n",
       "1      5  점심식사 잘했던곳.후식커피한잔 하기도 좋고 주차가능합니다. 음식 맛있고 직원분 친절...  1   \n",
       "3      4                                             녹는다 녹아  1   \n",
       "5      5                                 흠잡을곳 없는 반찬이 정갈합니다   1   \n",
       "6      5  코로나 땜에 걱정했는데 방역수칙도 잘 지키시고 살치실이랑 등심 부드러워서 너무 좋아...  1   \n",
       "\n",
       "                                             ko_text  \n",
       "0  예약할 때는 룸을 주기로 하고 홀을 주고 덥고 직원들이 정신이 없어 그 가격에 내가...  \n",
       "1  점심식사 잘했던곳후식커피한잔 하기도 좋고 주차가능합니다 음식 맛있고 직원분 친절하여...  \n",
       "3                                             녹는다 녹아  \n",
       "5                                 흠잡을곳 없는 반찬이 정갈합니다   \n",
       "6  코로나 땜에 걱정했는데 방역수칙도 잘 지키시고 살치실이랑 등심 부드러워서 너무 좋아...  "
      ]
     },
     "execution_count": 8,
     "metadata": {},
     "output_type": "execute_result"
    }
   ],
   "source": [
    "#ko_text컬럼에 한글자 이상의 텍스트를 가지고 있는 데이터만 선택하여 df변경하기\n",
    "df=df[df['ko_text'].str.len()>0]\n",
    "df.head()"
   ]
  },
  {
   "cell_type": "code",
   "execution_count": 9,
   "id": "ed46a431",
   "metadata": {},
   "outputs": [
    {
     "name": "stdout",
     "output_type": "stream",
     "text": [
      "<class 'pandas.core.frame.DataFrame'>\n",
      "Int64Index: 309 entries, 0 to 375\n",
      "Data columns (total 4 columns):\n",
      " #   Column   Non-Null Count  Dtype \n",
      "---  ------   --------------  ----- \n",
      " 0   score    309 non-null    int64 \n",
      " 1   review   309 non-null    object\n",
      " 2   y        309 non-null    int64 \n",
      " 3   ko_text  309 non-null    object\n",
      "dtypes: int64(2), object(2)\n",
      "memory usage: 12.1+ KB\n"
     ]
    }
   ],
   "source": [
    "df.info()"
   ]
  },
  {
   "cell_type": "code",
   "execution_count": 10,
   "id": "b7efc186",
   "metadata": {},
   "outputs": [
    {
     "name": "stdout",
     "output_type": "stream",
     "text": [
      "<class 'pandas.core.frame.DataFrame'>\n",
      "Int64Index: 309 entries, 0 to 375\n",
      "Data columns (total 3 columns):\n",
      " #   Column   Non-Null Count  Dtype \n",
      "---  ------   --------------  ----- \n",
      " 0   score    309 non-null    int64 \n",
      " 1   y        309 non-null    int64 \n",
      " 2   ko_text  309 non-null    object\n",
      "dtypes: int64(2), object(1)\n",
      "memory usage: 9.7+ KB\n"
     ]
    }
   ],
   "source": [
    "#review 컬럼제거하기\n",
    "del df['review']\n",
    "df.info()"
   ]
  },
  {
   "cell_type": "code",
   "execution_count": 11,
   "id": "a1e5348f",
   "metadata": {},
   "outputs": [],
   "source": [
    "#형태소 단위로 추출\n",
    "from konlpy.tag import Okt\n",
    "#konlpy라이브러리로 텍스트 데이터에서 형태소를 추출\n",
    "def get_pos(x):\n",
    "    tagger=Okt()\n",
    "    pos=tagger.pos(x)\n",
    "    #word:konlpy 모듈에 의해서 형태소 분석된 단어\n",
    "    #tag:konlpy 모듈에 의해서 형태소 분석된 품사\n",
    "    pos=['{0}/{1}'.format(word,tag) for word,tag in pos]\n",
    "    return pos"
   ]
  },
  {
   "cell_type": "code",
   "execution_count": 12,
   "id": "b50bedf5",
   "metadata": {},
   "outputs": [
    {
     "name": "stdout",
     "output_type": "stream",
     "text": [
      "['예약/Noun', '할/Verb', '때/Noun', '는/Josa', '룸/Noun', '을/Josa', '주기/Noun', '로/Josa', '하고/Verb', '홀/Noun', '을/Josa', '주고/Verb', '덥고/Adjective', '직원/Noun', '들/Suffix', '이/Josa', '정신/Noun', '이/Josa', '없어/Adjective', '그/Noun', '가격/Noun', '에/Josa', '내/Noun', '가/Josa', '직접/Noun', '구워/Verb', '먹고/Verb', '갈비살/Noun', '등심/Noun', '은/Josa', '질/Noun', '기고/Noun', '냉면/Noun', '은/Josa', '맛/Noun', '이/Josa', '없고/Adjective', '장어/Noun', '양념/Noun', '들/Suffix', '도/Josa', '제/Noun', '때/Noun', '안/Noun', '가져다/Verb', '주고/Verb', '회식/Noun', '으로/Josa', '한/Determiner', '시간/Noun', '만에/Josa', '만원/Noun', '을/Josa', '썼는데/Verb', '이런/Adjective', '경험/Noun', '처음/Noun', '입니다/Adjective']\n"
     ]
    }
   ],
   "source": [
    "#get_pos 함수 테스트 \n",
    "df['ko_text'].values[0]\n",
    "result=get_pos(df['ko_text'].values[0])\n",
    "print(result)"
   ]
  },
  {
   "cell_type": "code",
   "execution_count": 13,
   "id": "c1e230e8",
   "metadata": {},
   "outputs": [
    {
     "data": {
      "text/plain": [
       "(309, 2383)"
      ]
     },
     "execution_count": 13,
     "metadata": {},
     "output_type": "execute_result"
    }
   ],
   "source": [
    "#분류 모델의 학습 데이터로 변환하기\n",
    "#글뭉치로 변환하기\n",
    "from sklearn.feature_extraction.text import CountVectorizer\n",
    "#CountVectorizer: 글뭉치(corpus)의 인덱스로 생성하기\n",
    "index_vectorizer=CountVectorizer(tokenizer=lambda x:get_pos(x))\n",
    "X=index_vectorizer.fit_transform(df['ko_text'].tolist())\n",
    "X.shape"
   ]
  },
  {
   "cell_type": "code",
   "execution_count": 19,
   "id": "28486eac",
   "metadata": {},
   "outputs": [
    {
     "name": "stdout",
     "output_type": "stream",
     "text": [
      "  (0, 1549)\t1\n",
      "  (0, 2281)\t1\n",
      "  (0, 666)\t2\n",
      "  (0, 477)\t1\n",
      "  (0, 697)\t1\n",
      "  (0, 1653)\t3\n",
      "  (0, 1939)\t1\n",
      "  (0, 693)\t1\n",
      "  (0, 2221)\t1\n",
      "  (0, 2344)\t1\n",
      "  (0, 1937)\t2\n",
      "  (0, 561)\t1\n",
      "  (0, 1995)\t1\n",
      "  (0, 635)\t2\n",
      "  (0, 1667)\t3\n",
      "  (0, 1878)\t1\n",
      "  (0, 1489)\t1\n",
      "  (0, 254)\t1\n",
      "  (0, 34)\t1\n",
      "  (0, 1506)\t1\n",
      "  (0, 416)\t1\n",
      "  (0, 29)\t1\n",
      "  (0, 1996)\t1\n",
      "  (0, 224)\t1\n",
      "  (0, 814)\t1\n",
      "  (0, 84)\t1\n",
      "  (0, 653)\t1\n",
      "  (0, 1652)\t2\n",
      "  (0, 1999)\t1\n",
      "  (0, 295)\t1\n",
      "  (0, 424)\t1\n",
      "  (0, 753)\t1\n",
      "  (0, 1475)\t1\n",
      "  (0, 1813)\t1\n",
      "  (0, 1438)\t1\n",
      "  (0, 568)\t1\n",
      "  (0, 1881)\t1\n",
      "  (0, 1369)\t1\n",
      "  (0, 69)\t1\n",
      "  (0, 2357)\t1\n",
      "  (0, 1648)\t1\n",
      "  (0, 2266)\t1\n",
      "  (0, 1245)\t1\n",
      "  (0, 727)\t1\n",
      "  (0, 728)\t1\n",
      "  (0, 1313)\t1\n",
      "  (0, 1688)\t1\n",
      "  (0, 168)\t1\n",
      "  (0, 2060)\t1\n",
      "  (0, 1756)\t1\n",
      "  (0, 1995)\t1\n",
      "  (0, 29)\t1\n",
      "  (0, 1865)\t1\n",
      "  (0, 1796)\t1\n",
      "  (0, 2326)\t1\n",
      "  (0, 199)\t1\n",
      "  (0, 2362)\t1\n",
      "  (0, 2121)\t1\n",
      "  (0, 2224)\t1\n",
      "  (0, 1908)\t1\n",
      "  (0, 1951)\t1\n",
      "  (0, 45)\t1\n",
      "  (0, 1656)\t1\n",
      "  (0, 763)\t1\n",
      "  (0, 1055)\t1\n",
      "  (0, 2111)\t1\n",
      "  (0, 1860)\t1\n",
      "  (0, 932)\t1\n",
      "  (0, 1983)\t1\n",
      "  (0, 444)\t1\n",
      "  (0, 445)\t1\n",
      "{'예약/Noun'..\n"
     ]
    }
   ],
   "source": [
    "for a in X[:3]:\n",
    "    print(a)\n",
    "print(str(index_vectorizer.vocabulary_)[:10]+'..')"
   ]
  },
  {
   "cell_type": "code",
   "execution_count": null,
   "id": "25992657",
   "metadata": {},
   "outputs": [],
   "source": [
    "TF-IDF로 변환\n",
    "TF: 1개의 텍스트에 맛집단어가 3번이 있다고 가장. 3값\n",
    "IDF: DF의 역산(inverse)\n",
    "모든 데이터에서 맛집단어가 10번이 존재. 0.1값\n",
    "TF-IDF: 전체 문서에서 나타나지 않는 값인 경우, 현재 문서에서 많이 나타난다고 가정할때,\n",
    "단어가 현재문서에서 중요한 단어로 판단할 수 있는 값: 0.3"
   ]
  },
  {
   "cell_type": "code",
   "execution_count": 23,
   "id": "42ea17fa",
   "metadata": {},
   "outputs": [
    {
     "name": "stdout",
     "output_type": "stream",
     "text": [
      "(309, 2383)\n",
      "  (0, 2357)\t0.12531785720141547\n",
      "  (0, 2344)\t0.1668409499560611\n",
      "  (0, 2281)\t0.11977793756784255\n",
      "  (0, 2266)\t0.12531785720141547\n",
      "  (0, 2221)\t0.14770522281017084\n",
      "  (0, 2060)\t0.11977793756784255\n",
      "  (0, 1999)\t0.12240916747991974\n",
      "  (0, 1996)\t0.12856949566428058\n",
      "  (0, 1995)\t0.08027930263742446\n",
      "  (0, 1939)\t0.1668409499560611\n",
      "  (0, 1937)\t0.2730230800115863\n",
      "  (0, 1881)\t0.13225589931178502\n",
      "  (0, 1878)\t0.13651154000579316\n",
      "  (0, 1813)\t0.1668409499560611\n",
      "  (0, 1756)\t0.10468949526917481\n",
      "  (0, 1688)\t0.14154489462581002\n",
      "  (0, 1667)\t0.1686312838374327\n",
      "  (0, 1653)\t0.2588699967541082\n",
      "  (0, 1652)\t0.13817123966609354\n",
      "  (0, 1648)\t0.09207975752965179\n",
      "  (0, 1549)\t0.12240916747991974\n",
      "  (0, 1506)\t0.06398566199940517\n",
      "  (0, 1489)\t0.15564726715168342\n",
      "  (0, 1475)\t0.11312017216589476\n",
      "  (0, 1438)\t0.12531785720141547\n",
      "  (0, 1369)\t0.11121548467554206\n",
      "  (0, 1313)\t0.1668409499560611\n",
      "  (0, 1245)\t0.11977793756784255\n",
      "  (0, 814)\t0.11516607233578838\n",
      "  (0, 753)\t0.06989764951071706\n",
      "  (0, 728)\t0.13651154000579316\n",
      "  (0, 727)\t0.1668409499560611\n",
      "  (0, 697)\t0.13651154000579316\n",
      "  (0, 693)\t0.09301567829926968\n",
      "  (0, 666)\t0.19648017142802526\n",
      "  (0, 653)\t0.13651154000579316\n",
      "  (0, 635)\t0.17564823367128732\n",
      "  (0, 568)\t0.06268626834900173\n",
      "  (0, 561)\t0.1668409499560611\n",
      "  (0, 477)\t0.08704640290963495\n",
      "  (0, 424)\t0.14770522281017084\n",
      "  (0, 416)\t0.11977793756784255\n",
      "  (0, 295)\t0.14154489462581002\n",
      "  (0, 254)\t0.13225589931178502\n",
      "  (0, 224)\t0.13651154000579316\n",
      "  (0, 168)\t0.1668409499560611\n",
      "  (0, 84)\t0.1668409499560611\n",
      "  (0, 69)\t0.15564726715168342\n",
      "  (0, 34)\t0.09207975752965179\n",
      "  (0, 29)\t0.07436008531890687\n"
     ]
    }
   ],
   "source": [
    "from sklearn.feature_extraction.text import TfidfTransformer\n",
    "tfidf_vectorizer=TfidfTransformer()\n",
    "X=tfidf_vectorizer.fit_transform(X)\n",
    "print(X.shape)\n",
    "print(X[0])"
   ]
  },
  {
   "cell_type": "code",
   "execution_count": 28,
   "id": "0e7f529a",
   "metadata": {},
   "outputs": [
    {
     "name": "stdout",
     "output_type": "stream",
     "text": [
      "학습데이터 크기: (216, 2383)\n",
      "테스트 데이터 크기: (93, 2383)\n"
     ]
    }
   ],
   "source": [
    "#긍정 부정 리뷰 분류\n",
    "#데이터셋 분리\n",
    "from sklearn.model_selection import train_test_split\n",
    "y=df['y']\n",
    "x_train, x_test,y_train, y_test=train_test_split(X,y,test_size=0.3)\n",
    "\n",
    "#학습데이터 크기 #테스트데이터 크기\n",
    "print('학습데이터 크기:',x_train.shape)\n",
    "print('테스트 데이터 크기:',x_test.shape)"
   ]
  },
  {
   "cell_type": "code",
   "execution_count": 29,
   "id": "d2e0f576",
   "metadata": {},
   "outputs": [],
   "source": [
    "from sklearn.linear_model import LogisticRegression\n",
    "lr=LogisticRegression(solver='liblinear', random_state=0)\n",
    "lr.fit(x_train,y_train) #학습하기\n",
    "y_pred=lr.predict(x_test) #검증하기"
   ]
  },
  {
   "cell_type": "code",
   "execution_count": 30,
   "id": "15e35712",
   "metadata": {},
   "outputs": [
    {
     "name": "stdout",
     "output_type": "stream",
     "text": [
      "accuracy:0.68\n",
      "Precision:0.659\n",
      "Recall:0.982\n",
      "F1:0.789\n"
     ]
    }
   ],
   "source": [
    "from sklearn.metrics import accuracy_score,precision_score,recall_score,f1_score\n",
    "\n",
    "#로지스틱 회귀모델의 성능을 평가합니다\n",
    "print('accuracy:%.2f'% accuracy_score(y_test,y_pred))\n",
    "print('Precision:%.3f'% precision_score(y_test,y_pred))\n",
    "print('Recall:%.3f'% recall_score(y_test,y_pred))\n",
    "print('F1:%.3f'% f1_score(y_test,y_pred))"
   ]
  },
  {
   "cell_type": "code",
   "execution_count": 31,
   "id": "38f06889",
   "metadata": {},
   "outputs": [
    {
     "name": "stdout",
     "output_type": "stream",
     "text": [
      "[[ 7 29]\n",
      " [ 1 56]]\n"
     ]
    }
   ],
   "source": [
    "#혼동행렬 출력하기\n",
    "from sklearn.metrics import confusion_matrix\n",
    "confmat=confusion_matrix(y_test,y_pred)\n",
    "print(confmat)"
   ]
  },
  {
   "cell_type": "code",
   "execution_count": null,
   "id": "8ed1a87c",
   "metadata": {},
   "outputs": [],
   "source": [
    "[[ 7 29]\n",
    " [ 1 56]]\n",
    "\n",
    "         예측값0 예측값 1\n",
    "           N       P\n",
    "실제값0 F [7]     [29]\n",
    "실제값1 T [1]     [56]\n",
    "\n",
    "    N   P\n",
    "F [TN] [FP]\n",
    "T [FN] [TP]\n",
    "\n",
    "TP: 실제가 T, 예측도 T 진짜 POSITIVE : 56\n",
    "TN: 실제가 F, 예측도 F, 진짜 NEGATIVE : 7\n",
    "FP: 실제는 F, 예측은 T, 가짜 POSITIVE : 29\n",
    "FN: 실제는 T, 예측은 F, 가짜 NEGATIVE : 1\n",
    "\n",
    "특이도: 모델이 false로 예측한 정답 중 실제 false \n",
    "tn/tn+fp "
   ]
  },
  {
   "cell_type": "code",
   "execution_count": 36,
   "id": "7b981d2e",
   "metadata": {},
   "outputs": [],
   "source": [
    "#ROC곡선 \n",
    "#TPR(True Positive Rate) : 진짜 양성 비율 민감도와 같은값 \n",
    "#FPR(False Positive Rate) : 가짜 양성율 \n",
    "#AUC(Area Under the Curve) : 곡선의 아래 면적 \n",
    "from sklearn.metrics import roc_curve, roc_auc_score\n",
    "import matplotlib.pyplot as plt "
   ]
  },
  {
   "cell_type": "code",
   "execution_count": 34,
   "id": "292bca81",
   "metadata": {},
   "outputs": [
    {
     "name": "stdout",
     "output_type": "stream",
     "text": [
      "AUC:0.850\n"
     ]
    }
   ],
   "source": [
    "y_pred_probability=lr.predict_proba(x_test)[:,1]\n",
    "false_positive_rate, true_positive_rate,thresholds=roc_curve(y_test,y_pred_probability)\n",
    "roc_auc=roc_auc_score(y_test,y_pred_probability)\n",
    "print('AUC:%.3f'%roc_auc)"
   ]
  },
  {
   "cell_type": "code",
   "execution_count": 35,
   "id": "bbba8226",
   "metadata": {},
   "outputs": [
    {
     "data": {
      "text/plain": [
       "<matplotlib.legend.Legend at 0x29ac4a43970>"
      ]
     },
     "execution_count": 35,
     "metadata": {},
     "output_type": "execute_result"
    },
    {
     "data": {
      "image/png": "[encoded data removed]",
      "text/plain": [
       "<Figure size 360x288 with 1 Axes>"
      ]
     },
     "metadata": {
      "needs_background": "light"
     },
     "output_type": "display_data"
    }
   ],
   "source": [
    "plt.rcParams['figure.figsize']=[5,4]\n",
    "plt.plot(false_positive_rate, true_positive_rate,label='ROC curve(area=%0.3f)'\\\n",
    "        %roc_auc, color='red',linewidth=4.0)\n",
    "plt.plot([0,1],[0,1],'k--')\n",
    "plt.xlim([0.0,1.0])\n",
    "plt.ylim([0.0,1.0])\n",
    "plt.xlabel('False Positive Rate')\n",
    "plt.ylabel('True Positive Rate')\n",
    "plt.title('ROC curve of Logistic regression')\n",
    "plt.legend(loc='lower right')"
   ]
  },
  {
   "cell_type": "markdown",
   "id": "2108b807",
   "metadata": {},
   "source": []
  },
  {
   "cell_type": "code",
   "execution_count": null,
   "id": "0c80041c",
   "metadata": {},
   "outputs": [],
   "source": []
  }
 ],
 "metadata": {
  "kernelspec": {
   "display_name": "Python 3",
   "language": "python",
   "name": "python3"
  },
  "language_info": {
   "codemirror_mode": {
    "name": "ipython",
    "version": 3
   },
   "file_extension": ".py",
   "mimetype": "text/x-python",
   "name": "python",
   "nbconvert_exporter": "python",
   "pygments_lexer": "ipython3",
   "version": "3.8.8"
  }
 },
 "nbformat": 4,
 "nbformat_minor": 5
}
