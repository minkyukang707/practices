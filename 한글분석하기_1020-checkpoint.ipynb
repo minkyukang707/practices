{
 "cells": [
  {
   "cell_type": "code",
   "execution_count": 2,
   "id": "99b2cae1",
   "metadata": {},
   "outputs": [
    {
     "ename": "SyntaxError",
     "evalue": "invalid syntax (<ipython-input-2-c280d4e5ec78>, line 1)",
     "output_type": "error",
     "traceback": [
      "\u001b[1;36m  File \u001b[1;32m\"<ipython-input-2-c280d4e5ec78>\"\u001b[1;36m, line \u001b[1;32m1\u001b[0m\n\u001b[1;33m    LSTM(Long Short-Term Memory)\u001b[0m\n\u001b[1;37m              ^\u001b[0m\n\u001b[1;31mSyntaxError\u001b[0m\u001b[1;31m:\u001b[0m invalid syntax\n"
     ]
    }
   ],
   "source": [
    "LSTM(Long Short-Term Memory)\n",
    "한글 분석하기\n",
    "한글 형태소 분석기\n",
    "Kkma(코코마)\n",
    "Komoran(코모란)\n",
    "Okt(Open Korean Text)\n",
    "Hannanum(한나눔)"
   ]
  },
  {
   "cell_type": "code",
   "execution_count": 3,
   "id": "c5e23ab9",
   "metadata": {},
   "outputs": [],
   "source": [
    "import konlpy \n",
    "from konlpy.tag import Kkma, Komoran, Okt, Hannanum\n",
    "import time\n",
    "\n",
    "kkma=Kkma()\n",
    "komoran=Komoran()\n",
    "okt=Okt()\n",
    "hannanum=Hannanum()"
   ]
  },
  {
   "cell_type": "code",
   "execution_count": 4,
   "id": "bfcc12bd",
   "metadata": {},
   "outputs": [],
   "source": [
    "def sample_ko_pos(text):\n",
    "    print(f\"===={text}====\")\n",
    "    start=time.time() #현재 시간\n",
    "    print(\"kkma:\",kkma.pos(text),'실행시간:',time.time()-start)\n",
    "    start=time.time()\n",
    "    print(\"komoran:\",komoran.pos(text),'실행시간:',time.time()-start)\n",
    "    start=time.time()\n",
    "    print(\"okt:\",okt.pos(text),'실행시간:',time.time()-start)\n",
    "    start=time.time()\n",
    "    print(\"hannanum:\",hannanum.pos(text),'실행시간:',time.time()-start)\n",
    "    print('\\n')"
   ]
  },
  {
   "cell_type": "code",
   "execution_count": 5,
   "id": "37992df3",
   "metadata": {},
   "outputs": [
    {
     "name": "stdout",
     "output_type": "stream",
     "text": [
      "====영실아안녕오늘날씨어때?====\n",
      "kkma: [('영', 'MAG'), ('싣', 'VV'), ('아', 'ECD'), ('안녕', 'NNG'), ('오늘날', 'NNG'), ('씨', 'VV'), ('어', 'ECD'), ('때', 'NNG'), ('?', 'SF')] 실행시간: 6.444092512130737\n",
      "komoran: [('영', 'NNP'), ('실', 'NNP'), ('아', 'NNP'), ('안녕', 'NNP'), ('오늘날', 'NNP'), ('씨', 'NNB'), ('어떻', 'VA'), ('어', 'EF'), ('?', 'SF')] 실행시간: 0.004987239837646484\n",
      "okt: [('영', 'Modifier'), ('실아', 'Noun'), ('안녕', 'Noun'), ('오늘날', 'Noun'), ('씨', 'Suffix'), ('어때', 'Adjective'), ('?', 'Punctuation')] 실행시간: 4.060380935668945\n",
      "hannanum: [('영실아안녕오늘날씨어때', 'N'), ('?', 'S')] 실행시간: 0.41249632835388184\n",
      "\n",
      "\n",
      "====아녕 하세 여 저는 ㄷ ㅐ 학 생 입니다====\n",
      "kkma: [('아', 'VV'), ('아', 'ECS'), ('녕', 'UN'), ('하세', 'NNG'), ('여', 'NNG'), ('저', 'NP'), ('는', 'JX'), ('ㄷ', 'NNG'), ('ㅐ', 'UN'), ('학', 'NNG'), ('생', 'NNG'), ('이', 'VCP'), ('ㅂ니다', 'EFN')] 실행시간: 0.007977724075317383\n",
      "komoran: [('아녕', 'NA'), ('하', 'VV'), ('세', 'EC'), ('여', 'NNG'), ('저', 'NP'), ('는', 'JX'), ('ㄷ', 'NA'), ('ㅐ', 'NA'), ('학', 'NNG'), ('생', 'NNG'), ('이', 'VV'), ('ㅂ니다', 'EC')] 실행시간: 0.0029926300048828125\n",
      "okt: [('아녕', 'Noun'), ('하세', 'Verb'), ('여', 'Noun'), ('저', 'Noun'), ('는', 'Josa'), ('ㄷ', 'KoreanParticle'), ('ㅐ', 'KoreanParticle'), ('학', 'Noun'), ('생', 'Noun'), ('입니다', 'Adjective')] 실행시간: 0.004985809326171875\n",
      "hannanum: [('아녕', 'N'), ('하', 'P'), ('세', 'E'), ('여', 'N'), ('저', 'N'), ('는', 'J'), ('ㄷ', 'N'), ('ㅐ', 'N'), ('학', 'N'), ('생', 'N'), ('입', 'P'), ('니다', 'E')] 실행시간: 0.002992868423461914\n",
      "\n",
      "\n",
      "====정말 재미있고 매력적인 영화에요 추천합니다====\n",
      "kkma: [('정말', 'MAG'), ('재미있', 'VA'), ('고', 'ECE'), ('매력적', 'NNG'), ('이', 'VCP'), ('ㄴ', 'ETD'), ('영화', 'NNG'), ('에', 'JKM'), ('요', 'JX'), ('추천', 'NNG'), ('하', 'XSV'), ('ㅂ니다', 'EFN')] 실행시간: 0.022940635681152344\n",
      "komoran: [('정말', 'MAG'), ('재미있', 'VA'), ('고', 'EC'), ('매력', 'NNG'), ('적', 'XSN'), ('이', 'VCP'), ('ㄴ', 'ETM'), ('영화', 'NNG'), ('에', 'JKB'), ('요', 'JX'), ('추천', 'NNG'), ('하', 'XSV'), ('ㅂ니다', 'EC')] 실행시간: 0.000997304916381836\n",
      "okt: [('정말', 'Noun'), ('재미있고', 'Adjective'), ('매력', 'Noun'), ('적', 'Suffix'), ('인', 'Josa'), ('영화', 'Noun'), ('에요', 'Josa'), ('추천', 'Noun'), ('합니다', 'Verb')] 실행시간: 0.012967348098754883\n",
      "hannanum: [('정말', 'M'), ('재미있', 'P'), ('고', 'E'), ('매력적', 'N'), ('이', 'J'), ('ㄴ', 'E'), ('영화', 'N'), ('이', 'J'), ('에요', 'E'), ('추천', 'N'), ('하', 'X'), ('ㅂ니다', 'E')] 실행시간: 0.004986763000488281\n",
      "\n",
      "\n"
     ]
    }
   ],
   "source": [
    "#example\n",
    "#띄어쓰기가 올바르지 않은 문장\n",
    "text1='영실아안녕오늘날씨어때?'\n",
    "sample_ko_pos(text1)\n",
    "\n",
    "#오타가 있는 문장\n",
    "text2='아녕 하세 여 저는 ㄷ ㅐ 학 생 입니다'\n",
    "sample_ko_pos(text2)\n",
    "\n",
    "text3='정말 재미있고 매력적인 영화에요 추천합니다'\n",
    "sample_ko_pos(text3)"
   ]
  },
  {
   "cell_type": "markdown",
   "id": "9a05a871",
   "metadata": {},
   "source": [
    "# 네이버 영화 리뷰 데이터"
   ]
  },
  {
   "cell_type": "code",
   "execution_count": 6,
   "id": "2531a81a",
   "metadata": {},
   "outputs": [],
   "source": [
    "import pandas as pd \n",
    "import numpy as np\n",
    "import seaborn as sns\n",
    "import matplotlib.pyplot as plt\n",
    "import tensorflow as tf\n",
    "\n",
    "train_file=tf.keras.utils.get_file('ratings_train.txt',\n",
    "                                  origin='https://raw.githubusercontent.com/e9t/nsmc/master/ratings_train.txt',\n",
    "                                  extract=True)"
   ]
  },
  {
   "cell_type": "code",
   "execution_count": 7,
   "id": "8c1e8f2a",
   "metadata": {},
   "outputs": [
    {
     "data": {
      "text/html": [
       "<div>\n",
       "<style scoped>\n",
       "    .dataframe tbody tr th:only-of-type {\n",
       "        vertical-align: middle;\n",
       "    }\n",
       "\n",
       "    .dataframe tbody tr th {\n",
       "        vertical-align: top;\n",
       "    }\n",
       "\n",
       "    .dataframe thead th {\n",
       "        text-align: right;\n",
       "    }\n",
       "</style>\n",
       "<table border=\"1\" class=\"dataframe\">\n",
       "  <thead>\n",
       "    <tr style=\"text-align: right;\">\n",
       "      <th></th>\n",
       "      <th>id</th>\n",
       "      <th>document</th>\n",
       "      <th>label</th>\n",
       "    </tr>\n",
       "  </thead>\n",
       "  <tbody>\n",
       "    <tr>\n",
       "      <th>0</th>\n",
       "      <td>9976970</td>\n",
       "      <td>아 더빙.. 진짜 짜증나네요 목소리</td>\n",
       "      <td>0</td>\n",
       "    </tr>\n",
       "    <tr>\n",
       "      <th>1</th>\n",
       "      <td>3819312</td>\n",
       "      <td>흠...포스터보고 초딩영화줄....오버연기조차 가볍지 않구나</td>\n",
       "      <td>1</td>\n",
       "    </tr>\n",
       "    <tr>\n",
       "      <th>2</th>\n",
       "      <td>10265843</td>\n",
       "      <td>너무재밓었다그래서보는것을추천한다</td>\n",
       "      <td>0</td>\n",
       "    </tr>\n",
       "    <tr>\n",
       "      <th>3</th>\n",
       "      <td>9045019</td>\n",
       "      <td>교도소 이야기구먼 ..솔직히 재미는 없다..평점 조정</td>\n",
       "      <td>0</td>\n",
       "    </tr>\n",
       "    <tr>\n",
       "      <th>4</th>\n",
       "      <td>6483659</td>\n",
       "      <td>사이몬페그의 익살스런 연기가 돋보였던 영화!스파이더맨에서 늙어보이기만 했던 커스틴 ...</td>\n",
       "      <td>1</td>\n",
       "    </tr>\n",
       "  </tbody>\n",
       "</table>\n",
       "</div>"
      ],
      "text/plain": [
       "         id                                           document  label\n",
       "0   9976970                                아 더빙.. 진짜 짜증나네요 목소리      0\n",
       "1   3819312                  흠...포스터보고 초딩영화줄....오버연기조차 가볍지 않구나      1\n",
       "2  10265843                                  너무재밓었다그래서보는것을추천한다      0\n",
       "3   9045019                      교도소 이야기구먼 ..솔직히 재미는 없다..평점 조정      0\n",
       "4   6483659  사이몬페그의 익살스런 연기가 돋보였던 영화!스파이더맨에서 늙어보이기만 했던 커스틴 ...      1"
      ]
     },
     "execution_count": 7,
     "metadata": {},
     "output_type": "execute_result"
    }
   ],
   "source": [
    "train=pd.read_csv(train_file, sep='\\t')\n",
    "train.head()"
   ]
  },
  {
   "cell_type": "code",
   "execution_count": 8,
   "id": "037ec2fa",
   "metadata": {},
   "outputs": [
    {
     "name": "stdout",
     "output_type": "stream",
     "text": [
      "train shape: (150000, 3)\n"
     ]
    }
   ],
   "source": [
    "print('train shape:',train.shape)"
   ]
  },
  {
   "cell_type": "code",
   "execution_count": 11,
   "id": "c22534d1",
   "metadata": {},
   "outputs": [
    {
     "data": {
      "text/plain": [
       "<AxesSubplot:xlabel='label', ylabel='count'>"
      ]
     },
     "execution_count": 11,
     "metadata": {},
     "output_type": "execute_result"
    },
    {
     "data": {
      "image/png": "[encoded data removed]",
      "text/plain": [
       "<Figure size 432x288 with 1 Axes>"
      ]
     },
     "metadata": {
      "needs_background": "light"
     },
     "output_type": "display_data"
    }
   ],
   "source": [
    "#라벨(label)별 갯수 출력하기\n",
    "train['label'].value_counts()\n",
    "sns.countplot(x='label',data=train)"
   ]
  },
  {
   "cell_type": "code",
   "execution_count": 13,
   "id": "37783932",
   "metadata": {},
   "outputs": [
    {
     "name": "stdout",
     "output_type": "stream",
     "text": [
      "id          0\n",
      "document    5\n",
      "label       0\n",
      "dtype: int64\n"
     ]
    },
    {
     "data": {
      "text/html": [
       "<div>\n",
       "<style scoped>\n",
       "    .dataframe tbody tr th:only-of-type {\n",
       "        vertical-align: middle;\n",
       "    }\n",
       "\n",
       "    .dataframe tbody tr th {\n",
       "        vertical-align: top;\n",
       "    }\n",
       "\n",
       "    .dataframe thead th {\n",
       "        text-align: right;\n",
       "    }\n",
       "</style>\n",
       "<table border=\"1\" class=\"dataframe\">\n",
       "  <thead>\n",
       "    <tr style=\"text-align: right;\">\n",
       "      <th></th>\n",
       "      <th>id</th>\n",
       "      <th>document</th>\n",
       "      <th>label</th>\n",
       "    </tr>\n",
       "  </thead>\n",
       "  <tbody>\n",
       "    <tr>\n",
       "      <th>25857</th>\n",
       "      <td>2172111</td>\n",
       "      <td>NaN</td>\n",
       "      <td>1</td>\n",
       "    </tr>\n",
       "    <tr>\n",
       "      <th>55737</th>\n",
       "      <td>6369843</td>\n",
       "      <td>NaN</td>\n",
       "      <td>1</td>\n",
       "    </tr>\n",
       "    <tr>\n",
       "      <th>110014</th>\n",
       "      <td>1034280</td>\n",
       "      <td>NaN</td>\n",
       "      <td>0</td>\n",
       "    </tr>\n",
       "    <tr>\n",
       "      <th>126782</th>\n",
       "      <td>5942978</td>\n",
       "      <td>NaN</td>\n",
       "      <td>0</td>\n",
       "    </tr>\n",
       "    <tr>\n",
       "      <th>140721</th>\n",
       "      <td>1034283</td>\n",
       "      <td>NaN</td>\n",
       "      <td>0</td>\n",
       "    </tr>\n",
       "  </tbody>\n",
       "</table>\n",
       "</div>"
      ],
      "text/plain": [
       "             id document  label\n",
       "25857   2172111      NaN      1\n",
       "55737   6369843      NaN      1\n",
       "110014  1034280      NaN      0\n",
       "126782  5942978      NaN      0\n",
       "140721  1034283      NaN      0"
      ]
     },
     "execution_count": 13,
     "metadata": {},
     "output_type": "execute_result"
    }
   ],
   "source": [
    "#결측값 조회\n",
    "print(train.isnull().sum())\n",
    "train[train['document'].isnull()]"
   ]
  },
  {
   "cell_type": "code",
   "execution_count": 14,
   "id": "4e1fc990",
   "metadata": {},
   "outputs": [
    {
     "name": "stdout",
     "output_type": "stream",
     "text": [
      "train shape: (149995, 3)\n"
     ]
    }
   ],
   "source": [
    "#결측값 제거\n",
    "train=train.dropna()\n",
    "print('train shape:',train.shape)"
   ]
  },
  {
   "cell_type": "code",
   "execution_count": 15,
   "id": "6825f53d",
   "metadata": {},
   "outputs": [
    {
     "data": {
      "text/plain": [
       "1     33\n",
       "4     61\n",
       "8     22\n",
       "9     45\n",
       "10    16\n",
       "11    43\n",
       "13    51\n",
       "15    16\n",
       "16    64\n",
       "18    45\n",
       "Name: document, dtype: int64"
      ]
     },
     "execution_count": 15,
     "metadata": {},
     "output_type": "execute_result"
    }
   ],
   "source": [
    "#레이블별 글자수의 분포를 히스토그램으로 출력\n",
    "#긍정의 글자수\n",
    "positive_len=train[train['label']==1]['document'].str.len()\n",
    "#부정의 글자수\n",
    "negative_len=train[train['label']==0]['document'].str.len()\n",
    "positive_len.iloc[:10]"
   ]
  },
  {
   "cell_type": "code",
   "execution_count": 16,
   "id": "7d99cf82",
   "metadata": {},
   "outputs": [
    {
     "data": {
      "image/png": "[encoded data removed]",
      "text/plain": [
       "<Figure size 720x360 with 2 Axes>"
      ]
     },
     "metadata": {
      "needs_background": "light"
     },
     "output_type": "display_data"
    }
   ],
   "source": [
    "fig,(ax1,ax2)=plt.subplots(1,2,figsize=(10,5))\n",
    "ax1.hist(positive_len)\n",
    "ax1.set_title('positive')\n",
    "ax2.hist(negative_len)\n",
    "ax2.set_title('negative')\n",
    "fig.suptitle('Number of characters')\n",
    "plt.show()"
   ]
  },
  {
   "cell_type": "markdown",
   "id": "f6f2f285",
   "metadata": {},
   "source": [
    "# 형태소분석하기"
   ]
  },
  {
   "cell_type": "code",
   "execution_count": 18,
   "id": "b04fe076",
   "metadata": {},
   "outputs": [
    {
     "data": {
      "text/plain": [
       "[('한글', 'Noun'),\n",
       " ('자연어', 'Noun'),\n",
       " ('처리', 'Noun'),\n",
       " ('는', 'Josa'),\n",
       " ('재밌다', 'Adjective'),\n",
       " ('.', 'Punctuation'),\n",
       " ('이제', 'Noun'),\n",
       " ('부터', 'Josa'),\n",
       " ('열심히', 'Adverb'),\n",
       " ('해야지', 'Verb'),\n",
       " ('ㅎㅎㅎㅎ', 'KoreanParticle')]"
      ]
     },
     "execution_count": 18,
     "metadata": {},
     "output_type": "execute_result"
    }
   ],
   "source": [
    "text='한글 자연어 처리는 재밌다. 이제부터 열심히 해야지 ㅎㅎㅎㅎ'\n",
    "okt.morphs(text) #형태소로 분리\n",
    "okt.morphs(text,stem=True) #형태소로 분리. 어간 추출\n",
    "okt.nouns(text) #명사만 추출\n",
    "okt.phrases(text) #어절까지 추출\n",
    "okt.pos(text) #품사를 붙여서 형태소 분석"
   ]
  },
  {
   "cell_type": "code",
   "execution_count": 21,
   "id": "f7368864",
   "metadata": {},
   "outputs": [
    {
     "name": "stderr",
     "output_type": "stream",
     "text": [
      "<ipython-input-21-484c4cf750c8>:3: FutureWarning: The default value of regex will change from True to False in a future version.\n",
      "  train['document']=train['document'].str.replace('[^A-Za-z가-힣ㄱ-ㅎㅏ-ㅣ ]',\"\")\n",
      "<ipython-input-21-484c4cf750c8>:3: SettingWithCopyWarning: \n",
      "A value is trying to be set on a copy of a slice from a DataFrame.\n",
      "Try using .loc[row_indexer,col_indexer] = value instead\n",
      "\n",
      "See the caveats in the documentation: https://pandas.pydata.org/pandas-docs/stable/user_guide/indexing.html#returning-a-view-versus-a-copy\n",
      "  train['document']=train['document'].str.replace('[^A-Za-z가-힣ㄱ-ㅎㅏ-ㅣ ]',\"\")\n"
     ]
    },
    {
     "data": {
      "text/plain": [
       "0                                        아더빙진짜짜증나네요목소리\n",
       "1                              흠포스터보고초딩영화줄오버연기조차가볍지않구나\n",
       "2                                    너무재밓었다그래서보는것을추천한다\n",
       "3                                 교도소이야기구먼솔직히재미는없다평점조정\n",
       "4    사이몬페그의익살스런연기가돋보였던영화스파이더맨에서늙어보이기만했던커스틴던스트가너무나도이...\n",
       "Name: document, dtype: object"
      ]
     },
     "execution_count": 21,
     "metadata": {},
     "output_type": "execute_result"
    }
   ],
   "source": [
    "#데이터 전처리\n",
    "#텍스트의 내용 중 한글, 영문, 공백을 제외한 다른 문자들은 제거 \n",
    "train['document']=train['document'].str.replace('[^A-Za-z가-힣ㄱ-ㅎㅏ-ㅣ ]',\"\")\n",
    "train['document'].head()"
   ]
  },
  {
   "cell_type": "code",
   "execution_count": 22,
   "id": "506b6f00",
   "metadata": {},
   "outputs": [],
   "source": [
    "#형태소 분석. stopword 제거 후 형태소 분석하기\n",
    "def word_tokenization(text):\n",
    "    #한글 불용어\n",
    "    stop_words=['는','을','를','이','가','의','던','고','하','다','은','에','들','지'\n",
    "               ,'게','도']\n",
    "    return [word for word in okt.morphs(text) if word not in stop_words]"
   ]
  },
  {
   "cell_type": "code",
   "execution_count": 23,
   "id": "e0c190a7",
   "metadata": {},
   "outputs": [
    {
     "name": "stdout",
     "output_type": "stream",
     "text": [
      "실행시간: 2005.9744334220886\n"
     ]
    },
    {
     "data": {
      "text/plain": [
       "0                              [아더, 빙, 진짜, 짜증나네요, 목소리]\n",
       "1        [흠, 포스터, 보고, 초딩, 영화, 줄, 오버, 연기, 조차, 가볍지, 않구나]\n",
       "2                     [너, 무재, 밓었, 다그, 래서, 보는것을, 추천, 한]\n",
       "3                  [교도소, 이야기, 구먼, 솔직히, 재미, 없다, 평점, 조정]\n",
       "4    [사이, 몬페, 그, 익살스런, 연기, 돋보였던, 영화, 스파이더맨, 에서, 늙어,...\n",
       "Name: document, dtype: object"
      ]
     },
     "execution_count": 23,
     "metadata": {},
     "output_type": "execute_result"
    }
   ],
   "source": [
    "start=time.time()\n",
    "data=train['document'].apply((lambda x: word_tokenization(x)))\n",
    "print('실행시간:',time.time()-start)\n",
    "data.head()"
   ]
  },
  {
   "cell_type": "code",
   "execution_count": 24,
   "id": "0fbfcd56",
   "metadata": {},
   "outputs": [],
   "source": [
    "from tensorflow.keras.preprocessing.text import Tokenizer\n",
    "from tensorflow.keras.preprocessing.sequence import pad_sequences"
   ]
  },
  {
   "cell_type": "code",
   "execution_count": 25,
   "id": "b313fe36",
   "metadata": {},
   "outputs": [
    {
     "name": "stdout",
     "output_type": "stream",
     "text": [
      "총 단어 갯수: 122402\n"
     ]
    }
   ],
   "source": [
    "tokenizer=Tokenizer()\n",
    "tokenizer.fit_on_texts(data)\n",
    "print('총 단어 갯수:', len(tokenizer.word_index)) "
   ]
  },
  {
   "cell_type": "code",
   "execution_count": 26,
   "id": "ad214b1e",
   "metadata": {},
   "outputs": [],
   "source": [
    "#5회 이상만 vocab_size에 포함\n",
    "def get_vocab_size(threshold):\n",
    "    cnt=0\n",
    "    for x in tokenizer.word_counts.values():\n",
    "        if x>= threshold:\n",
    "            cnt+=1\n",
    "    return cnt"
   ]
  },
  {
   "cell_type": "code",
   "execution_count": 27,
   "id": "d76d71d5",
   "metadata": {},
   "outputs": [
    {
     "name": "stdout",
     "output_type": "stream",
     "text": [
      "vocab_size: 23384\n"
     ]
    }
   ],
   "source": [
    "vocab_size=get_vocab_size(5) #5회 이상 출현단어\n",
    "print('vocab_size:', vocab_size)"
   ]
  },
  {
   "cell_type": "code",
   "execution_count": 29,
   "id": "f6281647",
   "metadata": {},
   "outputs": [
    {
     "name": "stdout",
     "output_type": "stream",
     "text": [
      "(120000,)\n",
      "(29995,)\n",
      "단어 사전 개수: 122402\n",
      "0                          [아더, 빙, 진짜, 짜증나네요, 목소리]\n",
      "1    [흠, 포스터, 보고, 초딩, 영화, 줄, 오버, 연기, 조차, 가볍지, 않구나]\n",
      "Name: document, dtype: object\n",
      "0                          [아더, 빙, 진짜, 짜증나네요, 목소리]\n",
      "1    [흠, 포스터, 보고, 초딩, 영화, 줄, 오버, 연기, 조차, 가볍지, 않구나]\n",
      "Name: document, dtype: object\n",
      "120003    [공포, 로, 시작, 해, 미스테리, 거쳐, 멜로, 로, 마무리, 너, 무오, 바,...\n",
      "120004    [b, 급, 영화, 수, 작, 고딩, 때, 봤는데, 요즘, 더블, 타켓, 보고, 생...\n",
      "Name: document, dtype: object\n",
      "문장 최대 길이: 69\n"
     ]
    },
    {
     "data": {
      "text/plain": [
       "array([[13657,     1,     8,  6835,   615,     0,     0,     0,     0,\n",
       "            0,     0,     0,     0,     0,     0,     0,     0,     0,\n",
       "            0,     0,     0,     0,     0,     0,     0,     0,     0,\n",
       "            0,     0,     0,     0,     0,     0,     0,     0,     0,\n",
       "            0,     0,     0,     0,     0,     0,     0,     0,     0,\n",
       "            0,     0,     0,     0,     0,     0,     0,     0,     0,\n",
       "            0,     0,     0,     0,     0,     0,     0,     0,     0,\n",
       "            0,     0,     0,     0,     0,     0]])"
      ]
     },
     "execution_count": 29,
     "metadata": {},
     "output_type": "execute_result"
    }
   ],
   "source": [
    "#훈련데이터와 검증데이터로 분리\n",
    "training_size=120000\n",
    "#train 분할\n",
    "train_sentences=data[:training_size] #훈련데이터\n",
    "valid_sentences=data[training_size:] #검증데이터\n",
    "#label분할\n",
    "train_labels=train['label'][:training_size] #훈련데이터의 레이블\n",
    "valid_labels=train['label'][training_size:] #검증데이터의 레이블\n",
    "print(train_sentences.shape)\n",
    "print(valid_sentences.shape)\n",
    "\n",
    "#토큰화하기\n",
    "oov_tok='<OOV>' #사전에 없는 단어\n",
    "vocab_size=15000\n",
    "\n",
    "tokenizer=Tokenizer(oov_token=oov_tok, num_words=vocab_size)\n",
    "tokenizer.fit_on_texts(data)\n",
    "print('단어 사전 개수:', len(tokenizer.word_counts))\n",
    "#문자를 숫자로 표현\n",
    "print(train_sentences[:2])\n",
    "train_sequences=tokenizer.texts_to_sequences(train_sentences)\n",
    "valid_sequences=tokenizer.texts_to_sequences(valid_sentences)\n",
    "print(train_sentences[:2])\n",
    "print(valid_sentences[:2])\n",
    "#문장의 최대길이\n",
    "max_length=max(len(x) for x in train_sequences)\n",
    "print('문장 최대 길이:',max_length)\n",
    "train_padded=pad_sequences(train_sequences,padding='post',maxlen=max_length)\n",
    "valid_padded=pad_sequences(valid_sequences,padding='post',maxlen=max_length)\n",
    "train_padded[:1]"
   ]
  },
  {
   "cell_type": "code",
   "execution_count": 33,
   "id": "d568821f",
   "metadata": {},
   "outputs": [],
   "source": [
    "#모델 구성하기\n",
    "import tensorflow as tf\n",
    "from tensorflow.keras import Sequential\n",
    "from tensorflow.keras.layers import Dense,LSTM,Embedding,Bidirectional\n",
    "\n",
    "def create_model():\n",
    "    #Bidirectional:양방향 RNN\n",
    "    #return_sequences=True : 상태값을 전달함\n",
    "    model=Sequential([\n",
    "        Embedding(vocab_size,32),\n",
    "        Bidirectional(LSTM(32,return_sequences=True)),\n",
    "        Dense(32,activation='relu'),\n",
    "        Dense(1, activation='sigmoid')\n",
    "    ])\n",
    "    model.compile(loss='binary_crossentropy',optimizer='adam',metrics=['accuracy'])\n",
    "    return model"
   ]
  },
  {
   "cell_type": "code",
   "execution_count": 34,
   "id": "1de5090c",
   "metadata": {},
   "outputs": [
    {
     "name": "stdout",
     "output_type": "stream",
     "text": [
      "Model: \"sequential\"\n",
      "_________________________________________________________________\n",
      "Layer (type)                 Output Shape              Param #   \n",
      "=================================================================\n",
      "embedding_1 (Embedding)      (None, None, 32)          480000    \n",
      "_________________________________________________________________\n",
      "bidirectional_1 (Bidirection (None, None, 64)          16640     \n",
      "_________________________________________________________________\n",
      "dense_1 (Dense)              (None, None, 32)          2080      \n",
      "_________________________________________________________________\n",
      "dense_2 (Dense)              (None, None, 1)           33        \n",
      "=================================================================\n",
      "Total params: 498,753\n",
      "Trainable params: 498,753\n",
      "Non-trainable params: 0\n",
      "_________________________________________________________________\n"
     ]
    }
   ],
   "source": [
    "model=create_model() #함수호출\n",
    "model.summary()"
   ]
  },
  {
   "cell_type": "markdown",
   "id": "bafb67ef",
   "metadata": {},
   "source": [
    "# ModelCheckpoint 함수"
   ]
  },
  {
   "cell_type": "code",
   "execution_count": null,
   "id": "8939feb1",
   "metadata": {},
   "outputs": [],
   "source": [
    "딥러닝 모델의 구조가 복잡하고 데이터 크기가 클수록 학습시간이 오래걸림\n",
    "-> 오랜시간 학습한 모델을 저장할 필요가 있음. ModelCheckpoint 함수를 이용\n",
    "save_weights_only=True : weight만 저장\n",
    "save_weights_only=False : 모델의 레이터와 weight 모두 저장\n",
    "save_best_only=True : 좋은 가중치값만 저장\n",
    "save_best_only=False : 모든 가중치값 저장"
   ]
  },
  {
   "cell_type": "code",
   "execution_count": 35,
   "id": "d11cdb91",
   "metadata": {},
   "outputs": [],
   "source": [
    "checkpoint_path='bset_performed_model.ckpt'\n",
    "checkpoint=tf.keras.callbacks.ModelCheckpoint(checkpoint_path,\n",
    "                                             save_weights_only=True,\n",
    "                                             save_bset_only=True,\n",
    "                                             monitor='val_loss', #평가기준\n",
    "                                             verbose=1)"
   ]
  },
  {
   "cell_type": "code",
   "execution_count": 36,
   "id": "41c8b33f",
   "metadata": {},
   "outputs": [
    {
     "name": "stdout",
     "output_type": "stream",
     "text": [
      "Epoch 1/10\n",
      "1875/1875 - 40s - loss: 0.4158 - accuracy: 0.8036 - val_loss: 0.3550 - val_accuracy: 0.8420\n",
      "\n",
      "Epoch 00001: saving model to bset_performed_model.ckpt\n",
      "Epoch 2/10\n",
      "1875/1875 - 36s - loss: 0.3229 - accuracy: 0.8564 - val_loss: 0.3579 - val_accuracy: 0.8406\n",
      "\n",
      "Epoch 00002: saving model to bset_performed_model.ckpt\n",
      "Epoch 3/10\n",
      "1875/1875 - 36s - loss: 0.2862 - accuracy: 0.8717 - val_loss: 0.3628 - val_accuracy: 0.8382\n",
      "\n",
      "Epoch 00003: saving model to bset_performed_model.ckpt\n"
     ]
    }
   ],
   "source": [
    "'''\n",
    "EarlyStopping 함수: 모델의 성능이 개선되지 않을 경우 학습을 중단\n",
    "monitor='val_loss' : 성능 평가 기준\n",
    "patience=2 : 2번 epohcs까지 개선되지 않으면 학습중지\n",
    "'''\n",
    "#학습조기종료\n",
    "early_stop=tf.keras.callbacks.EarlyStopping(monitor='val_loss',patience=2)\n",
    "\n",
    "'''\n",
    "callback 함수: 함수에서 호출되는 함수\n",
    "'''\n",
    "#학습하기\n",
    "history=model.fit(train_padded,train_labels,\n",
    "                 validation_data=(valid_padded,valid_labels),\n",
    "                 callbacks=[early_stop, checkpoint], #콜백함수 등록\n",
    "                 batch_size=64, epochs=10, verbose=2)"
   ]
  },
  {
   "cell_type": "code",
   "execution_count": 39,
   "id": "d4b157c9",
   "metadata": {},
   "outputs": [],
   "source": [
    "def plot_graphs(history,metric):\n",
    "    plt.plot(history.history[metric])\n",
    "    plt.plot(history.history['val_'+metric],'')\n",
    "    plt.xlabel('Epochs')\n",
    "    plt.ylabel(metric)\n",
    "    plt.legend([metric,'val_'+metric])\n",
    "    plt.show()"
   ]
  },
  {
   "cell_type": "code",
   "execution_count": 40,
   "id": "4e040486",
   "metadata": {},
   "outputs": [
    {
     "data": {
      "image/png": "[encoded data removed]",
      "text/plain": [
       "<Figure size 432x288 with 1 Axes>"
      ]
     },
     "metadata": {
      "needs_background": "light"
     },
     "output_type": "display_data"
    },
    {
     "data": {
      "image/png": "[encoded data removed]",
      "text/plain": [
       "<Figure size 432x288 with 1 Axes>"
      ]
     },
     "metadata": {
      "needs_background": "light"
     },
     "output_type": "display_data"
    }
   ],
   "source": [
    "plot_graphs(history,'accuracy')\n",
    "plot_graphs(history,'loss')"
   ]
  },
  {
   "cell_type": "code",
   "execution_count": null,
   "id": "631b40ac",
   "metadata": {},
   "outputs": [],
   "source": []
  }
 ],
 "metadata": {
  "kernelspec": {
   "display_name": "Python 3",
   "language": "python",
   "name": "python3"
  },
  "language_info": {
   "codemirror_mode": {
    "name": "ipython",
    "version": 3
   },
   "file_extension": ".py",
   "mimetype": "text/x-python",
   "name": "python",
   "nbconvert_exporter": "python",
   "pygments_lexer": "ipython3",
   "version": "3.8.8"
  }
 },
 "nbformat": 4,
 "nbformat_minor": 5
}
