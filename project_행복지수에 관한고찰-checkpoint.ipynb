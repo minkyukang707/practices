{
 "cells": [
  {
   "cell_type": "markdown",
   "id": "07692595",
   "metadata": {},
   "source": [
    "# 세계행복지수 데이터 로드"
   ]
  },
  {
   "cell_type": "code",
   "execution_count": 3,
   "id": "d51a336d",
   "metadata": {},
   "outputs": [],
   "source": [
    "import pandas as pd \n",
    "import numpy as np\n",
    "file_path='C:/pyy/pjt/'"
   ]
  },
  {
   "cell_type": "code",
   "execution_count": 11,
   "id": "58e09bdb",
   "metadata": {},
   "outputs": [
    {
     "data": {
      "text/html": [
       "<div>\n",
       "<style scoped>\n",
       "    .dataframe tbody tr th:only-of-type {\n",
       "        vertical-align: middle;\n",
       "    }\n",
       "\n",
       "    .dataframe tbody tr th {\n",
       "        vertical-align: top;\n",
       "    }\n",
       "\n",
       "    .dataframe thead th {\n",
       "        text-align: right;\n",
       "    }\n",
       "</style>\n",
       "<table border=\"1\" class=\"dataframe\">\n",
       "  <thead>\n",
       "    <tr style=\"text-align: right;\">\n",
       "      <th></th>\n",
       "      <th>Country name</th>\n",
       "      <th>year</th>\n",
       "      <th>Life Ladder</th>\n",
       "      <th>Log GDP per capita</th>\n",
       "      <th>Social support</th>\n",
       "      <th>Healthy life expectancy at birth</th>\n",
       "      <th>Freedom to make life choices</th>\n",
       "      <th>Generosity</th>\n",
       "      <th>Perceptions of corruption</th>\n",
       "      <th>Positive affect</th>\n",
       "      <th>Negative affect</th>\n",
       "    </tr>\n",
       "  </thead>\n",
       "  <tbody>\n",
       "    <tr>\n",
       "      <th>0</th>\n",
       "      <td>Afghanistan</td>\n",
       "      <td>2008</td>\n",
       "      <td>3.724</td>\n",
       "      <td>7.370</td>\n",
       "      <td>0.451</td>\n",
       "      <td>50.80</td>\n",
       "      <td>0.718</td>\n",
       "      <td>0.168</td>\n",
       "      <td>0.882</td>\n",
       "      <td>0.518</td>\n",
       "      <td>0.258</td>\n",
       "    </tr>\n",
       "    <tr>\n",
       "      <th>1</th>\n",
       "      <td>Afghanistan</td>\n",
       "      <td>2009</td>\n",
       "      <td>4.402</td>\n",
       "      <td>7.540</td>\n",
       "      <td>0.552</td>\n",
       "      <td>51.20</td>\n",
       "      <td>0.679</td>\n",
       "      <td>0.190</td>\n",
       "      <td>0.850</td>\n",
       "      <td>0.584</td>\n",
       "      <td>0.237</td>\n",
       "    </tr>\n",
       "    <tr>\n",
       "      <th>2</th>\n",
       "      <td>Afghanistan</td>\n",
       "      <td>2010</td>\n",
       "      <td>4.758</td>\n",
       "      <td>7.647</td>\n",
       "      <td>0.539</td>\n",
       "      <td>51.60</td>\n",
       "      <td>0.600</td>\n",
       "      <td>0.121</td>\n",
       "      <td>0.707</td>\n",
       "      <td>0.618</td>\n",
       "      <td>0.275</td>\n",
       "    </tr>\n",
       "    <tr>\n",
       "      <th>3</th>\n",
       "      <td>Afghanistan</td>\n",
       "      <td>2011</td>\n",
       "      <td>3.832</td>\n",
       "      <td>7.620</td>\n",
       "      <td>0.521</td>\n",
       "      <td>51.92</td>\n",
       "      <td>0.496</td>\n",
       "      <td>0.162</td>\n",
       "      <td>0.731</td>\n",
       "      <td>0.611</td>\n",
       "      <td>0.267</td>\n",
       "    </tr>\n",
       "    <tr>\n",
       "      <th>4</th>\n",
       "      <td>Afghanistan</td>\n",
       "      <td>2012</td>\n",
       "      <td>3.783</td>\n",
       "      <td>7.705</td>\n",
       "      <td>0.521</td>\n",
       "      <td>52.24</td>\n",
       "      <td>0.531</td>\n",
       "      <td>0.236</td>\n",
       "      <td>0.776</td>\n",
       "      <td>0.710</td>\n",
       "      <td>0.268</td>\n",
       "    </tr>\n",
       "  </tbody>\n",
       "</table>\n",
       "</div>"
      ],
      "text/plain": [
       "  Country name  year  Life Ladder  Log GDP per capita  Social support  \\\n",
       "0  Afghanistan  2008        3.724               7.370           0.451   \n",
       "1  Afghanistan  2009        4.402               7.540           0.552   \n",
       "2  Afghanistan  2010        4.758               7.647           0.539   \n",
       "3  Afghanistan  2011        3.832               7.620           0.521   \n",
       "4  Afghanistan  2012        3.783               7.705           0.521   \n",
       "\n",
       "   Healthy life expectancy at birth  Freedom to make life choices  Generosity  \\\n",
       "0                             50.80                         0.718       0.168   \n",
       "1                             51.20                         0.679       0.190   \n",
       "2                             51.60                         0.600       0.121   \n",
       "3                             51.92                         0.496       0.162   \n",
       "4                             52.24                         0.531       0.236   \n",
       "\n",
       "   Perceptions of corruption  Positive affect  Negative affect  \n",
       "0                      0.882            0.518            0.258  \n",
       "1                      0.850            0.584            0.237  \n",
       "2                      0.707            0.618            0.275  \n",
       "3                      0.731            0.611            0.267  \n",
       "4                      0.776            0.710            0.268  "
      ]
     },
     "execution_count": 11,
     "metadata": {},
     "output_type": "execute_result"
    }
   ],
   "source": [
    "whr=pd.read_csv(file_path+'world-happiness-report.csv')\n",
    "whr.head()"
   ]
  },
  {
   "cell_type": "markdown",
   "id": "530c4de2",
   "metadata": {},
   "source": [
    "# 데이터 전처리"
   ]
  },
  {
   "cell_type": "code",
   "execution_count": 12,
   "id": "6a43a8cf",
   "metadata": {},
   "outputs": [
    {
     "ename": "SyntaxError",
     "evalue": "invalid syntax (<ipython-input-12-5e344c7e3c51>, line 1)",
     "output_type": "error",
     "traceback": [
      "\u001b[1;36m  File \u001b[1;32m\"<ipython-input-12-5e344c7e3c51>\"\u001b[1;36m, line \u001b[1;32m1\u001b[0m\n\u001b[1;33m    추가할 데이터들과 통일성을 부여해야함\u001b[0m\n\u001b[1;37m        ^\u001b[0m\n\u001b[1;31mSyntaxError\u001b[0m\u001b[1;31m:\u001b[0m invalid syntax\n"
     ]
    }
   ],
   "source": [
    "추가할 데이터들과 통일성을 부여해야함\n",
    "국가이름 통일 \n",
    "\n",
    "<추가할데이터>\n",
    "1. 정신잘환 \n",
    "2. 교육년수\n",
    "3. 알콜섭취량\n",
    "4. 자살률\n",
    "5. 출생률\n",
    "6. 비만률\n",
    "\n",
    "각 데이터는 Code컬럼을 삭제하고 사용하려는 데이터값의 컬럼은 간소화시킨다\n",
    "결측값은 전년도 값으로 채우기 위해 method='ffil'을 이용한다"
   ]
  },
  {
   "cell_type": "code",
   "execution_count": 13,
   "id": "05cc7444",
   "metadata": {},
   "outputs": [
    {
     "name": "stdout",
     "output_type": "stream",
     "text": [
      "<class 'pandas.core.frame.DataFrame'>\n",
      "Index: 1906 entries, Afghanistan to Zimbabwe\n",
      "Data columns (total 8 columns):\n",
      " #   Column                            Non-Null Count  Dtype  \n",
      "---  ------                            --------------  -----  \n",
      " 0   Year                              1906 non-null   int64  \n",
      " 1   Life Ladder                       1906 non-null   float64\n",
      " 2   Log GDP per capita                1882 non-null   float64\n",
      " 3   Social support                    1893 non-null   float64\n",
      " 4   Healthy life expectancy at birth  1876 non-null   float64\n",
      " 5   Freedom to make life choices      1875 non-null   float64\n",
      " 6   Generosity                        1829 non-null   float64\n",
      " 7   Perceptions of corruption         1797 non-null   float64\n",
      "dtypes: float64(7), int64(1)\n",
      "memory usage: 134.0+ KB\n"
     ]
    }
   ],
   "source": [
    "#positive affectm negative affect 컬럼 제거\n",
    "whr=whr.drop(['Positive affect','Negative affect'],axis=1)\n",
    "whr=whr.rename(columns={'Country name':'Country','year':'Year'})\n",
    "\n",
    "#나라이름 통일\n",
    "whr.Country.replace('Czech Republic','Czechia',inplace=True)\n",
    "whr.Country.replace('Hong Kong S.A.R. of China','Hong Kong',inplace=True)\n",
    "whr.Country.replace('Taiwan Province of China','Taiwan',inplace=True)\n",
    "whr.Country.replace('Palestinian Territories','Palestine',inplace=True)\n",
    "whr.Country.replace(\"Ivory Coast\",\"Cote d'Ivoire\",inplace=True)\n",
    "whr.Country.replace('Swaziland','Eswatini',inplace=True)\n",
    "whr=whr.set_index('Country')\n",
    "\n",
    "#데이터양이 불충한 국가삭제\n",
    "whr.drop(index=['Kosovo','North Cyprus','Somaliland region',\\\n",
    "            'Congo (Brazzaville)','Congo (Kinshasa)'],inplace=True)\n",
    "whr.info()"
   ]
  },
  {
   "cell_type": "markdown",
   "id": "eb968f66",
   "metadata": {},
   "source": [
    "# 정신질환 데이터추가"
   ]
  },
  {
   "cell_type": "code",
   "execution_count": 19,
   "id": "da89c9ea",
   "metadata": {},
   "outputs": [
    {
     "name": "stdout",
     "output_type": "stream",
     "text": [
      "<class 'pandas.core.frame.DataFrame'>\n",
      "RangeIndex: 6468 entries, 0 to 6467\n",
      "Data columns (total 3 columns):\n",
      " #   Column            Non-Null Count  Dtype  \n",
      "---  ------            --------------  -----  \n",
      " 0   Country           6468 non-null   object \n",
      " 1   Year              6468 non-null   int64  \n",
      " 2   Mental disorders  6468 non-null   float64\n",
      "dtypes: float64(1), int64(1), object(1)\n",
      "memory usage: 151.7+ KB\n"
     ]
    }
   ],
   "source": [
    "#데이터로드\n",
    "men=pd.read_csv(file_path+'mental-and-substance-use-as-share-of-disease.csv')\n",
    "del men['Code']\n",
    "men.rename\\\n",
    "    (columns={'Entity':'Country','DALYs (Disability-Adjusted Life Years) - Mental and substance use disorders - Sex: Both - Age: All Ages (Percent)':'Mental disorders'},inplace=True)\n",
    "men.info()"
   ]
  },
  {
   "cell_type": "code",
   "execution_count": 21,
   "id": "f83b122d",
   "metadata": {},
   "outputs": [
    {
     "name": "stdout",
     "output_type": "stream",
     "text": [
      "<class 'pandas.core.frame.DataFrame'>\n",
      "Int64Index: 1906 entries, 0 to 1905\n",
      "Data columns (total 10 columns):\n",
      " #   Column                            Non-Null Count  Dtype  \n",
      "---  ------                            --------------  -----  \n",
      " 0   Country                           1906 non-null   object \n",
      " 1   Year                              1906 non-null   int64  \n",
      " 2   Life Ladder                       1906 non-null   float64\n",
      " 3   Log GDP per capita                1882 non-null   float64\n",
      " 4   Social support                    1893 non-null   float64\n",
      " 5   Healthy life expectancy at birth  1876 non-null   float64\n",
      " 6   Freedom to make life choices      1875 non-null   float64\n",
      " 7   Generosity                        1829 non-null   float64\n",
      " 8   Perceptions of corruption         1797 non-null   float64\n",
      " 9   Mental disorders                  1523 non-null   float64\n",
      "dtypes: float64(8), int64(1), object(1)\n",
      "memory usage: 163.8+ KB\n"
     ]
    }
   ],
   "source": [
    "#세계행복지수데이터와 합치기\n",
    "report1=pd.merge(whr,men,how='left',on=['Country','Year'])\n",
    "#파일로 저장\n",
    "report1.to_csv(file_path+'report1.csv') \n",
    "report1.info()"
   ]
  },
  {
   "cell_type": "markdown",
   "id": "906a5e47",
   "metadata": {},
   "source": [
    "# 교육년수 데이터추가"
   ]
  },
  {
   "cell_type": "code",
   "execution_count": 22,
   "id": "2d03cd04",
   "metadata": {},
   "outputs": [],
   "source": [
    "scho=pd.read_csv(file_path+'mean-years-of-schooling-1.csv')\n",
    "del scho['Code']\n",
    "scho=\\\n",
    "    scho.rename(columns={'Entity':'Country','Average Total Years of Schooling for Adult Population (Lee-Lee (2016), Barro-Lee (2018) and UNDP (2018))':'schooling'})"
   ]
  },
  {
   "cell_type": "code",
   "execution_count": 23,
   "id": "aea3de73",
   "metadata": {},
   "outputs": [
    {
     "name": "stdout",
     "output_type": "stream",
     "text": [
      "<class 'pandas.core.frame.DataFrame'>\n",
      "Int64Index: 1906 entries, 0 to 1905\n",
      "Data columns (total 11 columns):\n",
      " #   Column                            Non-Null Count  Dtype  \n",
      "---  ------                            --------------  -----  \n",
      " 0   Country                           1906 non-null   object \n",
      " 1   Year                              1906 non-null   int64  \n",
      " 2   Life Ladder                       1906 non-null   float64\n",
      " 3   Log GDP per capita                1882 non-null   float64\n",
      " 4   Social support                    1893 non-null   float64\n",
      " 5   Healthy life expectancy at birth  1876 non-null   float64\n",
      " 6   Freedom to make life choices      1875 non-null   float64\n",
      " 7   Generosity                        1829 non-null   float64\n",
      " 8   Perceptions of corruption         1797 non-null   float64\n",
      " 9   Mental disorders                  1523 non-null   float64\n",
      " 10  schooling                         1518 non-null   float64\n",
      "dtypes: float64(9), int64(1), object(1)\n",
      "memory usage: 178.7+ KB\n"
     ]
    }
   ],
   "source": [
    "#세계행복지수데이터와 합치기\n",
    "report2=pd.merge(report1,scho,how='left',on=['Country','Year'])\n",
    "#파일로 저장\n",
    "report2.to_csv(file_path+'report2.csv') \n",
    "report2.info()"
   ]
  },
  {
   "cell_type": "markdown",
   "id": "bf9c3a7d",
   "metadata": {},
   "source": [
    "# 알콜섭취량 데이터추가"
   ]
  },
  {
   "cell_type": "code",
   "execution_count": 26,
   "id": "bb3f6652",
   "metadata": {},
   "outputs": [],
   "source": [
    "alc=pd.read_csv(file_path+'death-rates-from-alcohol-use-disorders (1).csv')\n",
    "del alc['Code']\n",
    "alc=\\\n",
    "    alc.rename(columns={'Entity':'Country','Deaths - Alcohol use disorders - Sex: Both - Age: Age-standardized (Rate)':'alcohol disorders'})"
   ]
  },
  {
   "cell_type": "code",
   "execution_count": 27,
   "id": "8b11dea1",
   "metadata": {},
   "outputs": [
    {
     "name": "stdout",
     "output_type": "stream",
     "text": [
      "<class 'pandas.core.frame.DataFrame'>\n",
      "Int64Index: 1906 entries, 0 to 1905\n",
      "Data columns (total 12 columns):\n",
      " #   Column                            Non-Null Count  Dtype  \n",
      "---  ------                            --------------  -----  \n",
      " 0   Country                           1906 non-null   object \n",
      " 1   Year                              1906 non-null   int64  \n",
      " 2   Life Ladder                       1906 non-null   float64\n",
      " 3   Log GDP per capita                1882 non-null   float64\n",
      " 4   Social support                    1893 non-null   float64\n",
      " 5   Healthy life expectancy at birth  1876 non-null   float64\n",
      " 6   Freedom to make life choices      1875 non-null   float64\n",
      " 7   Generosity                        1829 non-null   float64\n",
      " 8   Perceptions of corruption         1797 non-null   float64\n",
      " 9   Mental disorders                  1523 non-null   float64\n",
      " 10  schooling                         1518 non-null   float64\n",
      " 11  alcohol disorders                 1523 non-null   float64\n",
      "dtypes: float64(10), int64(1), object(1)\n",
      "memory usage: 193.6+ KB\n"
     ]
    }
   ],
   "source": [
    "#세계행복지수데이터와 합치기\n",
    "report3=pd.merge(report2,alc,how='left',on=['Country','Year'])\n",
    "#파일로 저장\n",
    "report3.to_csv(file_path+'report3.csv') \n",
    "report3.info()"
   ]
  },
  {
   "cell_type": "markdown",
   "id": "ef2f029f",
   "metadata": {},
   "source": [
    "# 자살률 데이터 추가"
   ]
  },
  {
   "cell_type": "code",
   "execution_count": 29,
   "id": "be44a916",
   "metadata": {},
   "outputs": [],
   "source": [
    "sui=pd.read_csv(file_path+'share-deaths-suicide.csv')\n",
    "del sui['Code']\n",
    "sui.rename\\\n",
    "    (columns={'Entity':'Country','Deaths - Self-harm - Sex: Both - Age: All Ages (Percent)':'suicide rates'},inplace=True)"
   ]
  },
  {
   "cell_type": "code",
   "execution_count": 30,
   "id": "9a3ff303",
   "metadata": {},
   "outputs": [
    {
     "name": "stdout",
     "output_type": "stream",
     "text": [
      "<class 'pandas.core.frame.DataFrame'>\n",
      "Int64Index: 1906 entries, 0 to 1905\n",
      "Data columns (total 13 columns):\n",
      " #   Column                            Non-Null Count  Dtype  \n",
      "---  ------                            --------------  -----  \n",
      " 0   Country                           1906 non-null   object \n",
      " 1   Year                              1906 non-null   int64  \n",
      " 2   Life Ladder                       1906 non-null   float64\n",
      " 3   Log GDP per capita                1882 non-null   float64\n",
      " 4   Social support                    1893 non-null   float64\n",
      " 5   Healthy life expectancy at birth  1876 non-null   float64\n",
      " 6   Freedom to make life choices      1875 non-null   float64\n",
      " 7   Generosity                        1829 non-null   float64\n",
      " 8   Perceptions of corruption         1797 non-null   float64\n",
      " 9   Mental disorders                  1523 non-null   float64\n",
      " 10  schooling                         1518 non-null   float64\n",
      " 11  alcohol disorders                 1523 non-null   float64\n",
      " 12  suicide rates                     1523 non-null   float64\n",
      "dtypes: float64(11), int64(1), object(1)\n",
      "memory usage: 208.5+ KB\n"
     ]
    }
   ],
   "source": [
    "#세계행복지수데이터와 합치기\n",
    "report4=pd.merge(report3,sui,how='left',on=['Country','Year'])\n",
    "#파일로 저장\n",
    "report4.to_csv(file_path+'report4.csv') \n",
    "report4.info()"
   ]
  },
  {
   "cell_type": "markdown",
   "id": "7cf7a80d",
   "metadata": {},
   "source": [
    "# 출산률 데이터추가"
   ]
  },
  {
   "cell_type": "code",
   "execution_count": 31,
   "id": "16e221a2",
   "metadata": {},
   "outputs": [],
   "source": [
    "br=pd.read_csv(file_path+'children-per-woman-UN.csv')\n",
    "del br['Code']\n",
    "br.rename\\\n",
    "    (columns={'Entity':'Country','Estimates, 1950 - 2020: Annually interpolated demographic indicators - Total fertility (live births per woman)':'Fertility'},inplace=True)"
   ]
  },
  {
   "cell_type": "code",
   "execution_count": 32,
   "id": "74475100",
   "metadata": {},
   "outputs": [
    {
     "name": "stdout",
     "output_type": "stream",
     "text": [
      "<class 'pandas.core.frame.DataFrame'>\n",
      "Int64Index: 1906 entries, 0 to 1905\n",
      "Data columns (total 14 columns):\n",
      " #   Column                            Non-Null Count  Dtype  \n",
      "---  ------                            --------------  -----  \n",
      " 0   Country                           1906 non-null   object \n",
      " 1   Year                              1906 non-null   int64  \n",
      " 2   Life Ladder                       1906 non-null   float64\n",
      " 3   Log GDP per capita                1882 non-null   float64\n",
      " 4   Social support                    1893 non-null   float64\n",
      " 5   Healthy life expectancy at birth  1876 non-null   float64\n",
      " 6   Freedom to make life choices      1875 non-null   float64\n",
      " 7   Generosity                        1829 non-null   float64\n",
      " 8   Perceptions of corruption         1797 non-null   float64\n",
      " 9   Mental disorders                  1523 non-null   float64\n",
      " 10  schooling                         1518 non-null   float64\n",
      " 11  alcohol disorders                 1523 non-null   float64\n",
      " 12  suicide rates                     1523 non-null   float64\n",
      " 13  Fertility                         1906 non-null   float64\n",
      "dtypes: float64(12), int64(1), object(1)\n",
      "memory usage: 223.4+ KB\n"
     ]
    }
   ],
   "source": [
    "#세계행복지수데이터와 합치기\n",
    "report5=pd.merge(report4,br,how='left',on=['Country','Year'])\n",
    "#파일로 저장\n",
    "report5.to_csv(file_path+'report5.csv') \n",
    "report5.info()"
   ]
  },
  {
   "cell_type": "markdown",
   "id": "07625dc3",
   "metadata": {},
   "source": [
    "# 비만율 데이터추가"
   ]
  },
  {
   "cell_type": "code",
   "execution_count": 33,
   "id": "28eacc56",
   "metadata": {},
   "outputs": [],
   "source": [
    "obesity=pd.read_csv(file_path+'share-of-deaths-obesity.csv')\n",
    "del obesity['Code']\n",
    "obesity.rename(columns={'Entity':'Country','Obesity (IHME, 2019)':'Obesity'},inplace=True)"
   ]
  },
  {
   "cell_type": "code",
   "execution_count": 35,
   "id": "26eecaf7",
   "metadata": {},
   "outputs": [
    {
     "name": "stdout",
     "output_type": "stream",
     "text": [
      "<class 'pandas.core.frame.DataFrame'>\n",
      "Int64Index: 1906 entries, 0 to 1905\n",
      "Data columns (total 15 columns):\n",
      " #   Column                            Non-Null Count  Dtype  \n",
      "---  ------                            --------------  -----  \n",
      " 0   Country                           1906 non-null   object \n",
      " 1   Year                              1906 non-null   int64  \n",
      " 2   Life Ladder                       1906 non-null   float64\n",
      " 3   Log GDP per capita                1882 non-null   float64\n",
      " 4   Social support                    1893 non-null   float64\n",
      " 5   Healthy life expectancy at birth  1876 non-null   float64\n",
      " 6   Freedom to make life choices      1875 non-null   float64\n",
      " 7   Generosity                        1829 non-null   float64\n",
      " 8   Perceptions of corruption         1797 non-null   float64\n",
      " 9   Mental disorders                  1523 non-null   float64\n",
      " 10  schooling                         1518 non-null   float64\n",
      " 11  alcohol disorders                 1523 non-null   float64\n",
      " 12  suicide rates                     1523 non-null   float64\n",
      " 13  Fertility                         1906 non-null   float64\n",
      " 14  Obesity                           1523 non-null   float64\n",
      "dtypes: float64(13), int64(1), object(1)\n",
      "memory usage: 238.2+ KB\n"
     ]
    }
   ],
   "source": [
    "#세계행복지수데이터와 합치기\n",
    "report6=pd.merge(report5,obesity,how='left',on=['Country','Year'])\n",
    "#파일로 저장\n",
    "report6.to_csv(file_path+'report6.csv') \n",
    "report6.info()"
   ]
  },
  {
   "cell_type": "code",
   "execution_count": 36,
   "id": "d7bca43f",
   "metadata": {},
   "outputs": [
    {
     "name": "stdout",
     "output_type": "stream",
     "text": [
      "<class 'pandas.core.frame.DataFrame'>\n",
      "Int64Index: 1906 entries, 0 to 1905\n",
      "Data columns (total 15 columns):\n",
      " #   Column                            Non-Null Count  Dtype  \n",
      "---  ------                            --------------  -----  \n",
      " 0   Country                           1906 non-null   object \n",
      " 1   Year                              1906 non-null   int64  \n",
      " 2   Life Ladder                       1906 non-null   float64\n",
      " 3   Log GDP per capita                1906 non-null   float64\n",
      " 4   Social support                    1906 non-null   float64\n",
      " 5   Healthy life expectancy at birth  1906 non-null   float64\n",
      " 6   Freedom to make life choices      1906 non-null   float64\n",
      " 7   Generosity                        1906 non-null   float64\n",
      " 8   Perceptions of corruption         1906 non-null   float64\n",
      " 9   Mental disorders                  1906 non-null   float64\n",
      " 10  schooling                         1906 non-null   float64\n",
      " 11  alcohol disorders                 1906 non-null   float64\n",
      " 12  suicide rates                     1906 non-null   float64\n",
      " 13  Fertility                         1906 non-null   float64\n",
      " 14  Obesity                           1906 non-null   float64\n",
      "dtypes: float64(13), int64(1), object(1)\n",
      "memory usage: 238.2+ KB\n"
     ]
    }
   ],
   "source": [
    "#결측값을 method='ffill'로 채우기\n",
    "report6.fillna(method='ffill',inplace=True)\n",
    "report6.info()"
   ]
  },
  {
   "cell_type": "code",
   "execution_count": null,
   "id": "5ef49d77",
   "metadata": {},
   "outputs": [],
   "source": []
  }
 ],
 "metadata": {
  "kernelspec": {
   "display_name": "Python 3",
   "language": "python",
   "name": "python3"
  },
  "language_info": {
   "codemirror_mode": {
    "name": "ipython",
    "version": 3
   },
   "file_extension": ".py",
   "mimetype": "text/x-python",
   "name": "python",
   "nbconvert_exporter": "python",
   "pygments_lexer": "ipython3",
   "version": "3.8.8"
  }
 },
 "nbformat": 4,
 "nbformat_minor": 5
}
