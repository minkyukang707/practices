{
 "cells": [
  {
   "cell_type": "markdown",
   "id": "231227b2",
   "metadata": {},
   "source": [
    "# 2017년도 데이터를 이용하여 2018년도 예측"
   ]
  },
  {
   "cell_type": "code",
   "execution_count": 1,
   "id": "9f56c4c6",
   "metadata": {},
   "outputs": [],
   "source": [
    "import pandas as pd \n",
    "import numpy as np\n",
    "import matplotlib.pyplot as plt"
   ]
  },
  {
   "cell_type": "code",
   "execution_count": 2,
   "id": "ee0db38f",
   "metadata": {},
   "outputs": [],
   "source": [
    "picher_file_path='C:/pyy/picher_stats_2017.csv'\n",
    "batter_file_path='C:/pyy/batter_stats_2017.csv'\n",
    "picher=pd.read_csv(picher_file_path)\n",
    "batter=pd.read_csv(batter_file_path)"
   ]
  },
  {
   "cell_type": "code",
   "execution_count": 4,
   "id": "1af6221e",
   "metadata": {},
   "outputs": [
    {
     "data": {
      "text/plain": [
       "Index(['선수명', '팀명', '승', '패', '세', '홀드', '블론', '경기', '선발', '이닝', '삼진/9',\n",
       "       '볼넷/9', '홈런/9', 'BABIP', 'LOB%', 'ERA', 'RA9-WAR', 'FIP', 'kFIP', 'WAR',\n",
       "       '연봉(2018)', '연봉(2017)'],\n",
       "      dtype='object')"
      ]
     },
     "execution_count": 4,
     "metadata": {},
     "output_type": "execute_result"
    }
   ],
   "source": [
    "picher.columns"
   ]
  },
  {
   "cell_type": "code",
   "execution_count": 6,
   "id": "9752355b",
   "metadata": {},
   "outputs": [
    {
     "data": {
      "text/plain": [
       "Index(['선수명', '팀명', '경기', '타석', '타수', '안타', '홈런', '득점', '타점', '볼넷', '삼진', '도루',\n",
       "       'BABIP', '타율', '출루율', '장타율', 'OPS', 'wOBA', 'WAR', '연봉(2018)',\n",
       "       '연봉(2017)'],\n",
       "      dtype='object')"
      ]
     },
     "execution_count": 6,
     "metadata": {},
     "output_type": "execute_result"
    }
   ],
   "source": [
    "batter.columns"
   ]
  },
  {
   "cell_type": "code",
   "execution_count": 8,
   "id": "b053dfee",
   "metadata": {},
   "outputs": [
    {
     "data": {
      "text/plain": [
       "count       152.000000\n",
       "mean      18932.236842\n",
       "std       30940.732924\n",
       "min        2700.000000\n",
       "25%        4000.000000\n",
       "50%        7550.000000\n",
       "75%       18500.000000\n",
       "max      230000.000000\n",
       "Name: 연봉(2018), dtype: float64"
      ]
     },
     "execution_count": 8,
     "metadata": {},
     "output_type": "execute_result"
    }
   ],
   "source": [
    "#pihcer 수치데이터 정보 조회하기\n",
    "picher['연봉(2018)'].describe() # 2018년 연봉"
   ]
  },
  {
   "cell_type": "code",
   "execution_count": 9,
   "id": "eae6f7d3",
   "metadata": {},
   "outputs": [
    {
     "data": {
      "text/plain": [
       "count       152.000000\n",
       "mean      16505.263158\n",
       "std       25046.478092\n",
       "min        2700.000000\n",
       "25%        3000.000000\n",
       "50%        6000.000000\n",
       "75%       15250.000000\n",
       "max      150000.000000\n",
       "Name: 연봉(2017), dtype: float64"
      ]
     },
     "execution_count": 9,
     "metadata": {},
     "output_type": "execute_result"
    }
   ],
   "source": [
    "picher['연봉(2017)'].describe() # 2017년 연봉"
   ]
  },
  {
   "cell_type": "code",
   "execution_count": 12,
   "id": "f920b487",
   "metadata": {},
   "outputs": [
    {
     "data": {
      "text/plain": [
       "<AxesSubplot:>"
      ]
     },
     "execution_count": 12,
     "metadata": {},
     "output_type": "execute_result"
    },
    {
     "data": {
      "image/png": "[encoded data removed]",
      "text/plain": [
       "<Figure size 432x288 with 1 Axes>"
      ]
     },
     "metadata": {
      "needs_background": "light"
     },
     "output_type": "display_data"
    }
   ],
   "source": [
    "#picher['연봉(2018)'] 히스토그램 작성하기\n",
    "plt.rc('font', family='Malgun Gothic') #plt 한글 폰트 설정 \n",
    "picher['연봉(2018)'].hist(bins=100)"
   ]
  },
  {
   "cell_type": "code",
   "execution_count": 13,
   "id": "723a6670",
   "metadata": {},
   "outputs": [
    {
     "data": {
      "text/plain": [
       "<AxesSubplot:>"
      ]
     },
     "execution_count": 13,
     "metadata": {},
     "output_type": "execute_result"
    },
    {
     "data": {
      "image/png": "[encoded data removed]",
      "text/plain": [
       "<Figure size 432x288 with 1 Axes>"
      ]
     },
     "metadata": {
      "needs_background": "light"
     },
     "output_type": "display_data"
    }
   ],
   "source": [
    "picher.boxplot(column=['연봉(2018)'])"
   ]
  },
  {
   "cell_type": "code",
   "execution_count": 14,
   "id": "dac0ba85",
   "metadata": {},
   "outputs": [
    {
     "name": "stdout",
     "output_type": "stream",
     "text": [
      "<class 'pandas.core.frame.DataFrame'>\n",
      "RangeIndex: 152 entries, 0 to 151\n",
      "Data columns (total 22 columns):\n",
      " #   Column    Non-Null Count  Dtype  \n",
      "---  ------    --------------  -----  \n",
      " 0   선수명       152 non-null    object \n",
      " 1   팀명        152 non-null    object \n",
      " 2   승         152 non-null    int64  \n",
      " 3   패         152 non-null    int64  \n",
      " 4   세         152 non-null    int64  \n",
      " 5   홀드        152 non-null    int64  \n",
      " 6   블론        152 non-null    int64  \n",
      " 7   경기        152 non-null    int64  \n",
      " 8   선발        152 non-null    int64  \n",
      " 9   이닝        152 non-null    float64\n",
      " 10  삼진/9      152 non-null    float64\n",
      " 11  볼넷/9      152 non-null    float64\n",
      " 12  홈런/9      152 non-null    float64\n",
      " 13  BABIP     152 non-null    float64\n",
      " 14  LOB%      152 non-null    float64\n",
      " 15  ERA       152 non-null    float64\n",
      " 16  RA9-WAR   152 non-null    float64\n",
      " 17  FIP       152 non-null    float64\n",
      " 18  kFIP      152 non-null    float64\n",
      " 19  WAR       152 non-null    float64\n",
      " 20  연봉(2018)  152 non-null    int64  \n",
      " 21  연봉(2017)  152 non-null    int64  \n",
      "dtypes: float64(11), int64(9), object(2)\n",
      "memory usage: 26.2+ KB\n"
     ]
    }
   ],
   "source": [
    "#회귀분석에 사용한 피처 \n",
    "picher_features_df=picher[['승','패','세','홀드','블론','경기','선발','이닝',\\\n",
    "                          '삼진/9','볼넷/9','홈런/9','BABIP',\\\n",
    "                          'LOB%','ERA','RA9-WAR','FIP','kFIP','WAR',\\\n",
    "                          '연봉(2018)','연봉(2017)']]\n",
    "picher.info()"
   ]
  },
  {
   "cell_type": "code",
   "execution_count": 20,
   "id": "4d81db77",
   "metadata": {},
   "outputs": [],
   "source": [
    "#모든 피처의 히스토그램을 한페이지에 출력하기\n",
    "def plot_hist_each_column(df):\n",
    "    plt.rcParams['figure.figsize']=[25,16]\n",
    "    fig=plt.figure(1)\n",
    "    \n",
    "    #df의 컬럼갯수만큼의 subplot을 출력합니다\n",
    "    for i in range(len(df.columns)):\n",
    "        ax=fig.add_subplot(4,5,i+1)\n",
    "        plt.hist(df[df.columns[i]],bins=50)\n",
    "        ax.set_title(df.columns[i])\n",
    "    plt.show()"
   ]
  },
  {
   "cell_type": "code",
   "execution_count": 21,
   "id": "21a1548a",
   "metadata": {},
   "outputs": [
    {
     "data": {
      "image/png": "[encoded data removed]",
      "text/plain": [
       "<Figure size 1800x1152 with 20 Axes>"
      ]
     },
     "metadata": {
      "needs_background": "light"
     },
     "output_type": "display_data"
    }
   ],
   "source": [
    "plot_hist_each_column(picher_features_df)"
   ]
  },
  {
   "cell_type": "code",
   "execution_count": 22,
   "id": "83bdaf81",
   "metadata": {},
   "outputs": [
    {
     "name": "stdout",
     "output_type": "stream",
     "text": [
      "<class 'pandas.core.frame.DataFrame'>\n",
      "RangeIndex: 152 entries, 0 to 151\n",
      "Data columns (total 22 columns):\n",
      " #   Column    Non-Null Count  Dtype  \n",
      "---  ------    --------------  -----  \n",
      " 0   선수명       152 non-null    object \n",
      " 1   팀명        152 non-null    object \n",
      " 2   승         152 non-null    int64  \n",
      " 3   패         152 non-null    int64  \n",
      " 4   세         152 non-null    int64  \n",
      " 5   홀드        152 non-null    int64  \n",
      " 6   블론        152 non-null    int64  \n",
      " 7   경기        152 non-null    int64  \n",
      " 8   선발        152 non-null    int64  \n",
      " 9   이닝        152 non-null    float64\n",
      " 10  삼진/9      152 non-null    float64\n",
      " 11  볼넷/9      152 non-null    float64\n",
      " 12  홈런/9      152 non-null    float64\n",
      " 13  BABIP     152 non-null    float64\n",
      " 14  LOB%      152 non-null    float64\n",
      " 15  ERA       152 non-null    float64\n",
      " 16  RA9-WAR   152 non-null    float64\n",
      " 17  FIP       152 non-null    float64\n",
      " 18  kFIP      152 non-null    float64\n",
      " 19  WAR       152 non-null    float64\n",
      " 20  연봉(2018)  152 non-null    int64  \n",
      " 21  연봉(2017)  152 non-null    int64  \n",
      "dtypes: float64(11), int64(9), object(2)\n",
      "memory usage: 26.2+ KB\n"
     ]
    }
   ],
   "source": [
    "picher.info()"
   ]
  },
  {
   "cell_type": "code",
   "execution_count": 24,
   "id": "c8a0761a",
   "metadata": {},
   "outputs": [
    {
     "data": {
      "text/html": [
       "<div>\n",
       "<style scoped>\n",
       "    .dataframe tbody tr th:only-of-type {\n",
       "        vertical-align: middle;\n",
       "    }\n",
       "\n",
       "    .dataframe tbody tr th {\n",
       "        vertical-align: top;\n",
       "    }\n",
       "\n",
       "    .dataframe thead th {\n",
       "        text-align: right;\n",
       "    }\n",
       "</style>\n",
       "<table border=\"1\" class=\"dataframe\">\n",
       "  <thead>\n",
       "    <tr style=\"text-align: right;\">\n",
       "      <th></th>\n",
       "      <th>KIA</th>\n",
       "      <th>KT</th>\n",
       "      <th>LG</th>\n",
       "      <th>NC</th>\n",
       "      <th>SK</th>\n",
       "      <th>두산</th>\n",
       "      <th>롯데</th>\n",
       "      <th>삼성</th>\n",
       "      <th>한화</th>\n",
       "    </tr>\n",
       "  </thead>\n",
       "  <tbody>\n",
       "    <tr>\n",
       "      <th>0</th>\n",
       "      <td>0</td>\n",
       "      <td>0</td>\n",
       "      <td>0</td>\n",
       "      <td>0</td>\n",
       "      <td>1</td>\n",
       "      <td>0</td>\n",
       "      <td>0</td>\n",
       "      <td>0</td>\n",
       "      <td>0</td>\n",
       "    </tr>\n",
       "    <tr>\n",
       "      <th>1</th>\n",
       "      <td>0</td>\n",
       "      <td>0</td>\n",
       "      <td>1</td>\n",
       "      <td>0</td>\n",
       "      <td>0</td>\n",
       "      <td>0</td>\n",
       "      <td>0</td>\n",
       "      <td>0</td>\n",
       "      <td>0</td>\n",
       "    </tr>\n",
       "    <tr>\n",
       "      <th>2</th>\n",
       "      <td>1</td>\n",
       "      <td>0</td>\n",
       "      <td>0</td>\n",
       "      <td>0</td>\n",
       "      <td>0</td>\n",
       "      <td>0</td>\n",
       "      <td>0</td>\n",
       "      <td>0</td>\n",
       "      <td>0</td>\n",
       "    </tr>\n",
       "    <tr>\n",
       "      <th>3</th>\n",
       "      <td>0</td>\n",
       "      <td>0</td>\n",
       "      <td>1</td>\n",
       "      <td>0</td>\n",
       "      <td>0</td>\n",
       "      <td>0</td>\n",
       "      <td>0</td>\n",
       "      <td>0</td>\n",
       "      <td>0</td>\n",
       "    </tr>\n",
       "    <tr>\n",
       "      <th>4</th>\n",
       "      <td>0</td>\n",
       "      <td>0</td>\n",
       "      <td>0</td>\n",
       "      <td>0</td>\n",
       "      <td>0</td>\n",
       "      <td>0</td>\n",
       "      <td>1</td>\n",
       "      <td>0</td>\n",
       "      <td>0</td>\n",
       "    </tr>\n",
       "  </tbody>\n",
       "</table>\n",
       "</div>"
      ],
      "text/plain": [
       "   KIA  KT  LG  NC  SK  두산  롯데  삼성  한화\n",
       "0    0   0   0   0   1   0   0   0   0\n",
       "1    0   0   1   0   0   0   0   0   0\n",
       "2    1   0   0   0   0   0   0   0   0\n",
       "3    0   0   1   0   0   0   0   0   0\n",
       "4    0   0   0   0   0   0   1   0   0"
      ]
     },
     "execution_count": 24,
     "metadata": {},
     "output_type": "execute_result"
    }
   ],
   "source": [
    "#팀명 원핫인코딩하기 \n",
    "team_encoding=pd.get_dummies(picher['팀명'])\n",
    "team_encoding.head()"
   ]
  },
  {
   "cell_type": "code",
   "execution_count": 25,
   "id": "f9d971cf",
   "metadata": {},
   "outputs": [
    {
     "name": "stdout",
     "output_type": "stream",
     "text": [
      "<class 'pandas.core.frame.DataFrame'>\n",
      "RangeIndex: 152 entries, 0 to 151\n",
      "Data columns (total 31 columns):\n",
      " #   Column    Non-Null Count  Dtype  \n",
      "---  ------    --------------  -----  \n",
      " 0   선수명       152 non-null    object \n",
      " 1   팀명        152 non-null    object \n",
      " 2   승         152 non-null    int64  \n",
      " 3   패         152 non-null    int64  \n",
      " 4   세         152 non-null    int64  \n",
      " 5   홀드        152 non-null    int64  \n",
      " 6   블론        152 non-null    int64  \n",
      " 7   경기        152 non-null    int64  \n",
      " 8   선발        152 non-null    int64  \n",
      " 9   이닝        152 non-null    float64\n",
      " 10  삼진/9      152 non-null    float64\n",
      " 11  볼넷/9      152 non-null    float64\n",
      " 12  홈런/9      152 non-null    float64\n",
      " 13  BABIP     152 non-null    float64\n",
      " 14  LOB%      152 non-null    float64\n",
      " 15  ERA       152 non-null    float64\n",
      " 16  RA9-WAR   152 non-null    float64\n",
      " 17  FIP       152 non-null    float64\n",
      " 18  kFIP      152 non-null    float64\n",
      " 19  WAR       152 non-null    float64\n",
      " 20  연봉(2018)  152 non-null    int64  \n",
      " 21  연봉(2017)  152 non-null    int64  \n",
      " 22  KIA       152 non-null    uint8  \n",
      " 23  KT        152 non-null    uint8  \n",
      " 24  LG        152 non-null    uint8  \n",
      " 25  NC        152 non-null    uint8  \n",
      " 26  SK        152 non-null    uint8  \n",
      " 27  두산        152 non-null    uint8  \n",
      " 28  롯데        152 non-null    uint8  \n",
      " 29  삼성        152 non-null    uint8  \n",
      " 30  한화        152 non-null    uint8  \n",
      "dtypes: float64(11), int64(9), object(2), uint8(9)\n",
      "memory usage: 27.6+ KB\n"
     ]
    }
   ],
   "source": [
    "#picher데이터프레임에 team_encoding컬럼 추가하기\n",
    "picher=pd.concat([picher,team_encoding],axis=1)\n",
    "picher.info()"
   ]
  },
  {
   "cell_type": "code",
   "execution_count": 26,
   "id": "468051bd",
   "metadata": {},
   "outputs": [
    {
     "name": "stdout",
     "output_type": "stream",
     "text": [
      "<class 'pandas.core.frame.DataFrame'>\n",
      "RangeIndex: 152 entries, 0 to 151\n",
      "Data columns (total 31 columns):\n",
      " #   Column    Non-Null Count  Dtype  \n",
      "---  ------    --------------  -----  \n",
      " 0   선수명       152 non-null    object \n",
      " 1   팀명        152 non-null    object \n",
      " 2   승         152 non-null    int64  \n",
      " 3   패         152 non-null    int64  \n",
      " 4   세         152 non-null    int64  \n",
      " 5   홀드        152 non-null    int64  \n",
      " 6   블론        152 non-null    int64  \n",
      " 7   경기        152 non-null    int64  \n",
      " 8   선발        152 non-null    int64  \n",
      " 9   이닝        152 non-null    float64\n",
      " 10  삼진/9      152 non-null    float64\n",
      " 11  볼넷/9      152 non-null    float64\n",
      " 12  홈런/9      152 non-null    float64\n",
      " 13  BABIP     152 non-null    float64\n",
      " 14  LOB%      152 non-null    float64\n",
      " 15  ERA       152 non-null    float64\n",
      " 16  RA9-WAR   152 non-null    float64\n",
      " 17  FIP       152 non-null    float64\n",
      " 18  kFIP      152 non-null    float64\n",
      " 19  WAR       152 non-null    float64\n",
      " 20  y         152 non-null    int64  \n",
      " 21  연봉(2017)  152 non-null    int64  \n",
      " 22  KIA       152 non-null    uint8  \n",
      " 23  KT        152 non-null    uint8  \n",
      " 24  LG        152 non-null    uint8  \n",
      " 25  NC        152 non-null    uint8  \n",
      " 26  SK        152 non-null    uint8  \n",
      " 27  두산        152 non-null    uint8  \n",
      " 28  롯데        152 non-null    uint8  \n",
      " 29  삼성        152 non-null    uint8  \n",
      " 30  한화        152 non-null    uint8  \n",
      "dtypes: float64(11), int64(9), object(2), uint8(9)\n",
      "memory usage: 27.6+ KB\n"
     ]
    }
   ],
   "source": [
    "#picher데이터프레임의 연봉(2018)컬럼명을 y로 변경하기\n",
    "picher=picher.rename(columns={'연봉(2018)':'y'})\n",
    "picher.info()"
   ]
  },
  {
   "cell_type": "code",
   "execution_count": 27,
   "id": "fd29c223",
   "metadata": {},
   "outputs": [
    {
     "name": "stdout",
     "output_type": "stream",
     "text": [
      "<class 'pandas.core.frame.DataFrame'>\n",
      "RangeIndex: 152 entries, 0 to 151\n",
      "Data columns (total 30 columns):\n",
      " #   Column    Non-Null Count  Dtype  \n",
      "---  ------    --------------  -----  \n",
      " 0   선수명       152 non-null    object \n",
      " 1   승         152 non-null    int64  \n",
      " 2   패         152 non-null    int64  \n",
      " 3   세         152 non-null    int64  \n",
      " 4   홀드        152 non-null    int64  \n",
      " 5   블론        152 non-null    int64  \n",
      " 6   경기        152 non-null    int64  \n",
      " 7   선발        152 non-null    int64  \n",
      " 8   이닝        152 non-null    float64\n",
      " 9   삼진/9      152 non-null    float64\n",
      " 10  볼넷/9      152 non-null    float64\n",
      " 11  홈런/9      152 non-null    float64\n",
      " 12  BABIP     152 non-null    float64\n",
      " 13  LOB%      152 non-null    float64\n",
      " 14  ERA       152 non-null    float64\n",
      " 15  RA9-WAR   152 non-null    float64\n",
      " 16  FIP       152 non-null    float64\n",
      " 17  kFIP      152 non-null    float64\n",
      " 18  WAR       152 non-null    float64\n",
      " 19  y         152 non-null    int64  \n",
      " 20  연봉(2017)  152 non-null    int64  \n",
      " 21  KIA       152 non-null    uint8  \n",
      " 22  KT        152 non-null    uint8  \n",
      " 23  LG        152 non-null    uint8  \n",
      " 24  NC        152 non-null    uint8  \n",
      " 25  SK        152 non-null    uint8  \n",
      " 26  두산        152 non-null    uint8  \n",
      " 27  롯데        152 non-null    uint8  \n",
      " 28  삼성        152 non-null    uint8  \n",
      " 29  한화        152 non-null    uint8  \n",
      "dtypes: float64(11), int64(9), object(1), uint8(9)\n",
      "memory usage: 26.4+ KB\n"
     ]
    }
   ],
   "source": [
    "#picher 데이터프레임의 팀명 컬럼을 제거하기\n",
    "picher.drop('팀명',axis=1,inplace=True)\n",
    "picher.info()"
   ]
  },
  {
   "cell_type": "code",
   "execution_count": 28,
   "id": "40ee10d3",
   "metadata": {},
   "outputs": [
    {
     "data": {
      "text/html": [
       "<div>\n",
       "<style scoped>\n",
       "    .dataframe tbody tr th:only-of-type {\n",
       "        vertical-align: middle;\n",
       "    }\n",
       "\n",
       "    .dataframe tbody tr th {\n",
       "        vertical-align: top;\n",
       "    }\n",
       "\n",
       "    .dataframe thead th {\n",
       "        text-align: right;\n",
       "    }\n",
       "</style>\n",
       "<table border=\"1\" class=\"dataframe\">\n",
       "  <thead>\n",
       "    <tr style=\"text-align: right;\">\n",
       "      <th></th>\n",
       "      <th>승</th>\n",
       "      <th>패</th>\n",
       "      <th>세</th>\n",
       "      <th>홀드</th>\n",
       "      <th>블론</th>\n",
       "      <th>경기</th>\n",
       "      <th>선발</th>\n",
       "      <th>이닝</th>\n",
       "      <th>삼진/9</th>\n",
       "      <th>볼넷/9</th>\n",
       "      <th>...</th>\n",
       "      <th>연봉(2017)</th>\n",
       "      <th>KIA</th>\n",
       "      <th>KT</th>\n",
       "      <th>LG</th>\n",
       "      <th>NC</th>\n",
       "      <th>SK</th>\n",
       "      <th>두산</th>\n",
       "      <th>롯데</th>\n",
       "      <th>삼성</th>\n",
       "      <th>한화</th>\n",
       "    </tr>\n",
       "  </thead>\n",
       "  <tbody>\n",
       "    <tr>\n",
       "      <th>count</th>\n",
       "      <td>152.000000</td>\n",
       "      <td>152.000000</td>\n",
       "      <td>152.000000</td>\n",
       "      <td>152.000000</td>\n",
       "      <td>152.000000</td>\n",
       "      <td>152.000000</td>\n",
       "      <td>152.000000</td>\n",
       "      <td>152.000000</td>\n",
       "      <td>152.000000</td>\n",
       "      <td>152.000000</td>\n",
       "      <td>...</td>\n",
       "      <td>152.000000</td>\n",
       "      <td>152.000000</td>\n",
       "      <td>152.000000</td>\n",
       "      <td>152.000000</td>\n",
       "      <td>152.000000</td>\n",
       "      <td>152.000000</td>\n",
       "      <td>152.000000</td>\n",
       "      <td>152.000000</td>\n",
       "      <td>152.000000</td>\n",
       "      <td>152.000000</td>\n",
       "    </tr>\n",
       "    <tr>\n",
       "      <th>mean</th>\n",
       "      <td>3.197368</td>\n",
       "      <td>3.157895</td>\n",
       "      <td>1.473684</td>\n",
       "      <td>2.644737</td>\n",
       "      <td>0.888158</td>\n",
       "      <td>28.848684</td>\n",
       "      <td>6.092105</td>\n",
       "      <td>56.953947</td>\n",
       "      <td>7.049605</td>\n",
       "      <td>4.183289</td>\n",
       "      <td>...</td>\n",
       "      <td>16505.263158</td>\n",
       "      <td>0.098684</td>\n",
       "      <td>0.125000</td>\n",
       "      <td>0.118421</td>\n",
       "      <td>0.085526</td>\n",
       "      <td>0.118421</td>\n",
       "      <td>0.098684</td>\n",
       "      <td>0.092105</td>\n",
       "      <td>0.131579</td>\n",
       "      <td>0.131579</td>\n",
       "    </tr>\n",
       "    <tr>\n",
       "      <th>std</th>\n",
       "      <td>3.863635</td>\n",
       "      <td>3.130929</td>\n",
       "      <td>4.808860</td>\n",
       "      <td>4.515474</td>\n",
       "      <td>1.633869</td>\n",
       "      <td>19.371502</td>\n",
       "      <td>9.750093</td>\n",
       "      <td>50.297632</td>\n",
       "      <td>2.827552</td>\n",
       "      <td>2.362819</td>\n",
       "      <td>...</td>\n",
       "      <td>25046.478092</td>\n",
       "      <td>0.299223</td>\n",
       "      <td>0.331812</td>\n",
       "      <td>0.324174</td>\n",
       "      <td>0.280588</td>\n",
       "      <td>0.324174</td>\n",
       "      <td>0.299223</td>\n",
       "      <td>0.290130</td>\n",
       "      <td>0.339150</td>\n",
       "      <td>0.339150</td>\n",
       "    </tr>\n",
       "    <tr>\n",
       "      <th>min</th>\n",
       "      <td>0.000000</td>\n",
       "      <td>0.000000</td>\n",
       "      <td>0.000000</td>\n",
       "      <td>0.000000</td>\n",
       "      <td>0.000000</td>\n",
       "      <td>1.000000</td>\n",
       "      <td>0.000000</td>\n",
       "      <td>1.000000</td>\n",
       "      <td>0.000000</td>\n",
       "      <td>0.000000</td>\n",
       "      <td>...</td>\n",
       "      <td>2700.000000</td>\n",
       "      <td>0.000000</td>\n",
       "      <td>0.000000</td>\n",
       "      <td>0.000000</td>\n",
       "      <td>0.000000</td>\n",
       "      <td>0.000000</td>\n",
       "      <td>0.000000</td>\n",
       "      <td>0.000000</td>\n",
       "      <td>0.000000</td>\n",
       "      <td>0.000000</td>\n",
       "    </tr>\n",
       "    <tr>\n",
       "      <th>25%</th>\n",
       "      <td>0.000000</td>\n",
       "      <td>0.000000</td>\n",
       "      <td>0.000000</td>\n",
       "      <td>0.000000</td>\n",
       "      <td>0.000000</td>\n",
       "      <td>14.000000</td>\n",
       "      <td>0.000000</td>\n",
       "      <td>19.900000</td>\n",
       "      <td>5.492500</td>\n",
       "      <td>2.585000</td>\n",
       "      <td>...</td>\n",
       "      <td>3000.000000</td>\n",
       "      <td>0.000000</td>\n",
       "      <td>0.000000</td>\n",
       "      <td>0.000000</td>\n",
       "      <td>0.000000</td>\n",
       "      <td>0.000000</td>\n",
       "      <td>0.000000</td>\n",
       "      <td>0.000000</td>\n",
       "      <td>0.000000</td>\n",
       "      <td>0.000000</td>\n",
       "    </tr>\n",
       "    <tr>\n",
       "      <th>50%</th>\n",
       "      <td>2.000000</td>\n",
       "      <td>2.000000</td>\n",
       "      <td>0.000000</td>\n",
       "      <td>0.000000</td>\n",
       "      <td>0.000000</td>\n",
       "      <td>26.000000</td>\n",
       "      <td>0.000000</td>\n",
       "      <td>43.700000</td>\n",
       "      <td>6.900000</td>\n",
       "      <td>3.750000</td>\n",
       "      <td>...</td>\n",
       "      <td>6000.000000</td>\n",
       "      <td>0.000000</td>\n",
       "      <td>0.000000</td>\n",
       "      <td>0.000000</td>\n",
       "      <td>0.000000</td>\n",
       "      <td>0.000000</td>\n",
       "      <td>0.000000</td>\n",
       "      <td>0.000000</td>\n",
       "      <td>0.000000</td>\n",
       "      <td>0.000000</td>\n",
       "    </tr>\n",
       "    <tr>\n",
       "      <th>75%</th>\n",
       "      <td>5.000000</td>\n",
       "      <td>6.000000</td>\n",
       "      <td>0.000000</td>\n",
       "      <td>3.000000</td>\n",
       "      <td>1.000000</td>\n",
       "      <td>41.000000</td>\n",
       "      <td>7.000000</td>\n",
       "      <td>80.325000</td>\n",
       "      <td>8.212500</td>\n",
       "      <td>5.262500</td>\n",
       "      <td>...</td>\n",
       "      <td>15250.000000</td>\n",
       "      <td>0.000000</td>\n",
       "      <td>0.000000</td>\n",
       "      <td>0.000000</td>\n",
       "      <td>0.000000</td>\n",
       "      <td>0.000000</td>\n",
       "      <td>0.000000</td>\n",
       "      <td>0.000000</td>\n",
       "      <td>0.000000</td>\n",
       "      <td>0.000000</td>\n",
       "    </tr>\n",
       "    <tr>\n",
       "      <th>max</th>\n",
       "      <td>20.000000</td>\n",
       "      <td>12.000000</td>\n",
       "      <td>37.000000</td>\n",
       "      <td>24.000000</td>\n",
       "      <td>7.000000</td>\n",
       "      <td>75.000000</td>\n",
       "      <td>31.000000</td>\n",
       "      <td>193.100000</td>\n",
       "      <td>22.500000</td>\n",
       "      <td>18.000000</td>\n",
       "      <td>...</td>\n",
       "      <td>150000.000000</td>\n",
       "      <td>1.000000</td>\n",
       "      <td>1.000000</td>\n",
       "      <td>1.000000</td>\n",
       "      <td>1.000000</td>\n",
       "      <td>1.000000</td>\n",
       "      <td>1.000000</td>\n",
       "      <td>1.000000</td>\n",
       "      <td>1.000000</td>\n",
       "      <td>1.000000</td>\n",
       "    </tr>\n",
       "  </tbody>\n",
       "</table>\n",
       "<p>8 rows × 29 columns</p>\n",
       "</div>"
      ],
      "text/plain": [
       "                승           패           세          홀드          블론          경기  \\\n",
       "count  152.000000  152.000000  152.000000  152.000000  152.000000  152.000000   \n",
       "mean     3.197368    3.157895    1.473684    2.644737    0.888158   28.848684   \n",
       "std      3.863635    3.130929    4.808860    4.515474    1.633869   19.371502   \n",
       "min      0.000000    0.000000    0.000000    0.000000    0.000000    1.000000   \n",
       "25%      0.000000    0.000000    0.000000    0.000000    0.000000   14.000000   \n",
       "50%      2.000000    2.000000    0.000000    0.000000    0.000000   26.000000   \n",
       "75%      5.000000    6.000000    0.000000    3.000000    1.000000   41.000000   \n",
       "max     20.000000   12.000000   37.000000   24.000000    7.000000   75.000000   \n",
       "\n",
       "               선발          이닝        삼진/9        볼넷/9  ...       연봉(2017)  \\\n",
       "count  152.000000  152.000000  152.000000  152.000000  ...     152.000000   \n",
       "mean     6.092105   56.953947    7.049605    4.183289  ...   16505.263158   \n",
       "std      9.750093   50.297632    2.827552    2.362819  ...   25046.478092   \n",
       "min      0.000000    1.000000    0.000000    0.000000  ...    2700.000000   \n",
       "25%      0.000000   19.900000    5.492500    2.585000  ...    3000.000000   \n",
       "50%      0.000000   43.700000    6.900000    3.750000  ...    6000.000000   \n",
       "75%      7.000000   80.325000    8.212500    5.262500  ...   15250.000000   \n",
       "max     31.000000  193.100000   22.500000   18.000000  ...  150000.000000   \n",
       "\n",
       "              KIA          KT          LG          NC          SK          두산  \\\n",
       "count  152.000000  152.000000  152.000000  152.000000  152.000000  152.000000   \n",
       "mean     0.098684    0.125000    0.118421    0.085526    0.118421    0.098684   \n",
       "std      0.299223    0.331812    0.324174    0.280588    0.324174    0.299223   \n",
       "min      0.000000    0.000000    0.000000    0.000000    0.000000    0.000000   \n",
       "25%      0.000000    0.000000    0.000000    0.000000    0.000000    0.000000   \n",
       "50%      0.000000    0.000000    0.000000    0.000000    0.000000    0.000000   \n",
       "75%      0.000000    0.000000    0.000000    0.000000    0.000000    0.000000   \n",
       "max      1.000000    1.000000    1.000000    1.000000    1.000000    1.000000   \n",
       "\n",
       "               롯데          삼성          한화  \n",
       "count  152.000000  152.000000  152.000000  \n",
       "mean     0.092105    0.131579    0.131579  \n",
       "std      0.290130    0.339150    0.339150  \n",
       "min      0.000000    0.000000    0.000000  \n",
       "25%      0.000000    0.000000    0.000000  \n",
       "50%      0.000000    0.000000    0.000000  \n",
       "75%      0.000000    0.000000    0.000000  \n",
       "max      1.000000    1.000000    1.000000  \n",
       "\n",
       "[8 rows x 29 columns]"
      ]
     },
     "execution_count": 28,
     "metadata": {},
     "output_type": "execute_result"
    }
   ],
   "source": [
    "picher.describe()"
   ]
  },
  {
   "cell_type": "code",
   "execution_count": 30,
   "id": "942b15fd",
   "metadata": {},
   "outputs": [],
   "source": [
    "#회귀분석시작\n",
    "from sklearn import preprocessing"
   ]
  },
  {
   "cell_type": "code",
   "execution_count": 33,
   "id": "78edff47",
   "metadata": {},
   "outputs": [
    {
     "data": {
      "text/plain": [
       "0    140000\n",
       "1    120000\n",
       "2    230000\n",
       "3    100000\n",
       "4    111000\n",
       "Name: y, dtype: int64"
      ]
     },
     "execution_count": 33,
     "metadata": {},
     "output_type": "execute_result"
    }
   ],
   "source": [
    "#X: picher.columns.difference(['선수명','y'])\n",
    "#선수명컬럼과 y컬럼을 제외한 나머지 컬럼을 X데이터에 저장\n",
    "X=picher[picher.columns.difference(['선수명','y'])]\n",
    "y=picher['y']\n",
    "X[:5]\n",
    "y[:5]"
   ]
  },
  {
   "cell_type": "code",
   "execution_count": 34,
   "id": "9716297b",
   "metadata": {},
   "outputs": [],
   "source": [
    "#8:2비율로 데이터셋 분리 \n",
    "#random_state=19\n",
    "from sklearn import linear_model\n",
    "from sklearn.model_selection import train_test_split"
   ]
  },
  {
   "cell_type": "code",
   "execution_count": 37,
   "id": "acc658e1",
   "metadata": {},
   "outputs": [],
   "source": [
    "#독립변수들의 정규화\n",
    "X=preprocessing.StandardScaler().fit(X).transform(X)\n",
    "X_train,X_test,y_train,y_test=train_test_split(X,y,test_size=0.2,random_state=19)"
   ]
  },
  {
   "cell_type": "code",
   "execution_count": 38,
   "id": "ff08d207",
   "metadata": {},
   "outputs": [
    {
     "name": "stdout",
     "output_type": "stream",
     "text": [
      "[ -1476.1375322    -415.31442203 -93826.06683012   -485.02755309\n",
      "    498.24588755   -262.52374388  -1371.00603916   -164.72102845\n",
      "   3946.06166906    269.12329154  10238.64062632  77416.61465357\n",
      "  -2426.36839983   -285.5829684     111.17613998   7587.07530902\n",
      "   1266.85703204   -972.18372693   5379.19030318  -4781.49611719\n",
      "   -249.87170696    235.24762032  19067.55679603    851.21211383\n",
      "   1297.33103703   1199.47087074   -931.99184478  18084.81631763]\n"
     ]
    }
   ],
   "source": [
    "# 회귀분석 계수를 학습합니다 (회귀 모델학습)\n",
    "lr=linear_model.LinearRegression() #회귀분석을 위한 모델\n",
    "model=lr.fit(X_train,y_train) #학습하기\n",
    "print(lr.coef_)"
   ]
  },
  {
   "cell_type": "code",
   "execution_count": 39,
   "id": "fa553601",
   "metadata": {},
   "outputs": [
    {
     "name": "stdout",
     "output_type": "stream",
     "text": [
      "0.9276949405576705\n",
      "0.8860171644977816\n"
     ]
    }
   ],
   "source": [
    "#회귀분석 모델을 평가합니다 : R2 Score\n",
    "#R2 Score의 값은 1에 가까울수록 성능이 좋다\n",
    "#학습데이터의 R2값과 테스트데이터의 R2값이 비슷한경우는 학습데이터가 \n",
    "#모델을 잘 설명하는 데이터이다\n",
    "#과적합: 학습데이터를 너무 많이 학습한 경우 \n",
    "print(model.score(X_train, y_train)) # train R2 Score\n",
    "print(model.score(X_test, y_test)) # test R2 Score"
   ]
  },
  {
   "cell_type": "code",
   "execution_count": 40,
   "id": "c2694245",
   "metadata": {},
   "outputs": [
    {
     "name": "stdout",
     "output_type": "stream",
     "text": [
      "7282.718684746372\n",
      "14310.696436889142\n"
     ]
    }
   ],
   "source": [
    "#RMSE score : MSE score의 제곱근값\n",
    "#MSE: 평균제곱오차\n",
    "#실제데이터와 추정값사이의 제곱의 평균\n",
    "#RMSE데이터의 값이 낮을 수록 모델의 평가가 좋다\n",
    "#회귀분석 모델을 평가합니다\n",
    "from math import sqrt\n",
    "from sklearn.metrics import mean_squared_error\n",
    "y_predictions=lr.predict(X_train)\n",
    "print(sqrt(mean_squared_error(y_train,y_predictions))) # train RMSE score를 출력합니다\n",
    "y_predictions=lr.predict(X_test)\n",
    "print(sqrt(mean_squared_error(y_test,y_predictions))) # test RMSE score를 출력합니다"
   ]
  },
  {
   "cell_type": "code",
   "execution_count": null,
   "id": "b246e076",
   "metadata": {},
   "outputs": [],
   "source": []
  }
 ],
 "metadata": {
  "kernelspec": {
   "display_name": "Python 3",
   "language": "python",
   "name": "python3"
  },
  "language_info": {
   "codemirror_mode": {
    "name": "ipython",
    "version": 3
   },
   "file_extension": ".py",
   "mimetype": "text/x-python",
   "name": "python",
   "nbconvert_exporter": "python",
   "pygments_lexer": "ipython3",
   "version": "3.8.8"
  }
 },
 "nbformat": 4,
 "nbformat_minor": 5
}
