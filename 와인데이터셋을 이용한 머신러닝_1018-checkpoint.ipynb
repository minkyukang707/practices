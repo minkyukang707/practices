{
 "cells": [
  {
   "cell_type": "markdown",
   "id": "3588911b",
   "metadata": {},
   "source": [
    "# 이항분류"
   ]
  },
  {
   "cell_type": "code",
   "execution_count": 56,
   "id": "0e177dd1",
   "metadata": {},
   "outputs": [],
   "source": [
    "import pandas as pd \n",
    "url=\"http://archive.ics.uci.edu/ml/machine-learning-databases/wine-quality/\""
   ]
  },
  {
   "cell_type": "code",
   "execution_count": 57,
   "id": "4fc38def",
   "metadata": {},
   "outputs": [
    {
     "name": "stdout",
     "output_type": "stream",
     "text": [
      "레드와인\n",
      "    fixed acidity  volatile acidity  citric acid  residual sugar  chlorides  \\\n",
      "0            7.4              0.70         0.00             1.9      0.076   \n",
      "1            7.8              0.88         0.00             2.6      0.098   \n",
      "2            7.8              0.76         0.04             2.3      0.092   \n",
      "3           11.2              0.28         0.56             1.9      0.075   \n",
      "4            7.4              0.70         0.00             1.9      0.076   \n",
      "\n",
      "   free sulfur dioxide  total sulfur dioxide  density    pH  sulphates  \\\n",
      "0                 11.0                  34.0   0.9978  3.51       0.56   \n",
      "1                 25.0                  67.0   0.9968  3.20       0.68   \n",
      "2                 15.0                  54.0   0.9970  3.26       0.65   \n",
      "3                 17.0                  60.0   0.9980  3.16       0.58   \n",
      "4                 11.0                  34.0   0.9978  3.51       0.56   \n",
      "\n",
      "   alcohol  quality  \n",
      "0      9.4        5  \n",
      "1      9.8        5  \n",
      "2      9.8        5  \n",
      "3      9.8        6  \n",
      "4      9.4        5   \n",
      "\n",
      "화이트와인\n",
      "    fixed acidity  volatile acidity  citric acid  residual sugar  chlorides  \\\n",
      "0            7.0              0.27         0.36            20.7      0.045   \n",
      "1            6.3              0.30         0.34             1.6      0.049   \n",
      "2            8.1              0.28         0.40             6.9      0.050   \n",
      "3            7.2              0.23         0.32             8.5      0.058   \n",
      "4            7.2              0.23         0.32             8.5      0.058   \n",
      "\n",
      "   free sulfur dioxide  total sulfur dioxide  density    pH  sulphates  \\\n",
      "0                 45.0                 170.0   1.0010  3.00       0.45   \n",
      "1                 14.0                 132.0   0.9940  3.30       0.49   \n",
      "2                 30.0                  97.0   0.9951  3.26       0.44   \n",
      "3                 47.0                 186.0   0.9956  3.19       0.40   \n",
      "4                 47.0                 186.0   0.9956  3.19       0.40   \n",
      "\n",
      "   alcohol  quality  \n",
      "0      8.8        6  \n",
      "1      9.5        6  \n",
      "2     10.1        6  \n",
      "3      9.9        6  \n",
      "4      9.9        6  \n"
     ]
    }
   ],
   "source": [
    "red=pd.read_csv(url+'winequality-red.csv',sep=';')\n",
    "white=pd.read_csv(url+'winequality-white.csv',sep=';')\n",
    "print('레드와인\\n',red.head(),'\\n')\n",
    "print('화이트와인\\n',white.head())"
   ]
  },
  {
   "cell_type": "code",
   "execution_count": 58,
   "id": "ceea3eb2",
   "metadata": {},
   "outputs": [
    {
     "name": "stdout",
     "output_type": "stream",
     "text": [
      "<class 'pandas.core.frame.DataFrame'>\n",
      "RangeIndex: 1599 entries, 0 to 1598\n",
      "Data columns (total 12 columns):\n",
      " #   Column                Non-Null Count  Dtype  \n",
      "---  ------                --------------  -----  \n",
      " 0   fixed acidity         1599 non-null   float64\n",
      " 1   volatile acidity      1599 non-null   float64\n",
      " 2   citric acid           1599 non-null   float64\n",
      " 3   residual sugar        1599 non-null   float64\n",
      " 4   chlorides             1599 non-null   float64\n",
      " 5   free sulfur dioxide   1599 non-null   float64\n",
      " 6   total sulfur dioxide  1599 non-null   float64\n",
      " 7   density               1599 non-null   float64\n",
      " 8   pH                    1599 non-null   float64\n",
      " 9   sulphates             1599 non-null   float64\n",
      " 10  alcohol               1599 non-null   float64\n",
      " 11  quality               1599 non-null   int64  \n",
      "dtypes: float64(11), int64(1)\n",
      "memory usage: 150.0 KB\n"
     ]
    }
   ],
   "source": [
    "red.info() #적와인 정보"
   ]
  },
  {
   "cell_type": "code",
   "execution_count": 59,
   "id": "e8222fde",
   "metadata": {},
   "outputs": [
    {
     "name": "stdout",
     "output_type": "stream",
     "text": [
      "<class 'pandas.core.frame.DataFrame'>\n",
      "RangeIndex: 4898 entries, 0 to 4897\n",
      "Data columns (total 12 columns):\n",
      " #   Column                Non-Null Count  Dtype  \n",
      "---  ------                --------------  -----  \n",
      " 0   fixed acidity         4898 non-null   float64\n",
      " 1   volatile acidity      4898 non-null   float64\n",
      " 2   citric acid           4898 non-null   float64\n",
      " 3   residual sugar        4898 non-null   float64\n",
      " 4   chlorides             4898 non-null   float64\n",
      " 5   free sulfur dioxide   4898 non-null   float64\n",
      " 6   total sulfur dioxide  4898 non-null   float64\n",
      " 7   density               4898 non-null   float64\n",
      " 8   pH                    4898 non-null   float64\n",
      " 9   sulphates             4898 non-null   float64\n",
      " 10  alcohol               4898 non-null   float64\n",
      " 11  quality               4898 non-null   int64  \n",
      "dtypes: float64(11), int64(1)\n",
      "memory usage: 459.3 KB\n"
     ]
    }
   ],
   "source": [
    "white.info() #백와인 정보"
   ]
  },
  {
   "cell_type": "code",
   "execution_count": 60,
   "id": "c30b58b3",
   "metadata": {},
   "outputs": [
    {
     "name": "stdout",
     "output_type": "stream",
     "text": [
      "<class 'pandas.core.frame.DataFrame'>\n",
      "Int64Index: 6497 entries, 0 to 4897\n",
      "Data columns (total 13 columns):\n",
      " #   Column                Non-Null Count  Dtype  \n",
      "---  ------                --------------  -----  \n",
      " 0   fixed acidity         6497 non-null   float64\n",
      " 1   volatile acidity      6497 non-null   float64\n",
      " 2   citric acid           6497 non-null   float64\n",
      " 3   residual sugar        6497 non-null   float64\n",
      " 4   chlorides             6497 non-null   float64\n",
      " 5   free sulfur dioxide   6497 non-null   float64\n",
      " 6   total sulfur dioxide  6497 non-null   float64\n",
      " 7   density               6497 non-null   float64\n",
      " 8   pH                    6497 non-null   float64\n",
      " 9   sulphates             6497 non-null   float64\n",
      " 10  alcohol               6497 non-null   float64\n",
      " 11  quality               6497 non-null   int64  \n",
      " 12  type                  6497 non-null   int64  \n",
      "dtypes: float64(11), int64(2)\n",
      "memory usage: 710.6 KB\n"
     ]
    }
   ],
   "source": [
    "red['type']=0\n",
    "white['type']=1\n",
    "wine=pd.concat([red,white])\n",
    "wine.info()"
   ]
  },
  {
   "cell_type": "code",
   "execution_count": 61,
   "id": "33925b6d",
   "metadata": {},
   "outputs": [
    {
     "name": "stdout",
     "output_type": "stream",
     "text": [
      "       fixed acidity  volatile acidity  citric acid  residual sugar  \\\n",
      "count    6497.000000       6497.000000  6497.000000     6497.000000   \n",
      "mean        7.215307          0.339666     0.318633        5.443235   \n",
      "std         1.296434          0.164636     0.145318        4.757804   \n",
      "min         3.800000          0.080000     0.000000        0.600000   \n",
      "25%         6.400000          0.230000     0.250000        1.800000   \n",
      "50%         7.000000          0.290000     0.310000        3.000000   \n",
      "75%         7.700000          0.400000     0.390000        8.100000   \n",
      "max        15.900000          1.580000     1.660000       65.800000   \n",
      "\n",
      "         chlorides  free sulfur dioxide  total sulfur dioxide      density  \\\n",
      "count  6497.000000          6497.000000           6497.000000  6497.000000   \n",
      "mean      0.056034            30.525319            115.744574     0.994697   \n",
      "std       0.035034            17.749400             56.521855     0.002999   \n",
      "min       0.009000             1.000000              6.000000     0.987110   \n",
      "25%       0.038000            17.000000             77.000000     0.992340   \n",
      "50%       0.047000            29.000000            118.000000     0.994890   \n",
      "75%       0.065000            41.000000            156.000000     0.996990   \n",
      "max       0.611000           289.000000            440.000000     1.038980   \n",
      "\n",
      "                pH    sulphates      alcohol      quality         type  \n",
      "count  6497.000000  6497.000000  6497.000000  6497.000000  6497.000000  \n",
      "mean      3.218501     0.531268    10.491801     5.818378     0.753886  \n",
      "std       0.160787     0.148806     1.192712     0.873255     0.430779  \n",
      "min       2.720000     0.220000     8.000000     3.000000     0.000000  \n",
      "25%       3.110000     0.430000     9.500000     5.000000     1.000000  \n",
      "50%       3.210000     0.510000    10.300000     6.000000     1.000000  \n",
      "75%       3.320000     0.600000    11.300000     6.000000     1.000000  \n",
      "max       4.010000     2.000000    14.900000     9.000000     1.000000  \n"
     ]
    }
   ],
   "source": [
    "#데이터(평균, 중간값...)정보 출력하기\n",
    "print(wine.describe())"
   ]
  },
  {
   "cell_type": "code",
   "execution_count": 62,
   "id": "815e7f85",
   "metadata": {},
   "outputs": [
    {
     "name": "stdout",
     "output_type": "stream",
     "text": [
      "1    4898\n",
      "0    1599\n",
      "Name: type, dtype: int64\n"
     ]
    }
   ],
   "source": [
    "#red,white와인의 데이터 건수 조회하기\n",
    "print(wine['type'].value_counts())"
   ]
  },
  {
   "cell_type": "code",
   "execution_count": 63,
   "id": "f46c8676",
   "metadata": {},
   "outputs": [
    {
     "name": "stdout",
     "output_type": "stream",
     "text": [
      "   fixed acidity  volatile acidity  citric acid  residual sugar  chlorides  \\\n",
      "0       0.297521          0.413333     0.000000        0.019939   0.111296   \n",
      "1       0.330579          0.533333     0.000000        0.030675   0.147841   \n",
      "2       0.330579          0.453333     0.024096        0.026074   0.137874   \n",
      "3       0.611570          0.133333     0.337349        0.019939   0.109635   \n",
      "4       0.297521          0.413333     0.000000        0.019939   0.111296   \n",
      "\n",
      "   free sulfur dioxide  total sulfur dioxide   density        pH  sulphates  \\\n",
      "0             0.034722              0.064516  0.206092  0.612403   0.191011   \n",
      "1             0.083333              0.140553  0.186813  0.372093   0.258427   \n",
      "2             0.048611              0.110599  0.190669  0.418605   0.241573   \n",
      "3             0.055556              0.124424  0.209948  0.341085   0.202247   \n",
      "4             0.034722              0.064516  0.206092  0.612403   0.191011   \n",
      "\n",
      "    alcohol   quality  type  \n",
      "0  0.202899  0.333333   0.0  \n",
      "1  0.260870  0.333333   0.0  \n",
      "2  0.260870  0.333333   0.0  \n",
      "3  0.260870  0.500000   0.0  \n",
      "4  0.202899  0.333333   0.0   \n",
      "n\n",
      "       fixed acidity  volatile acidity  citric acid  residual sugar  \\\n",
      "count    6497.000000       6497.000000  6497.000000     6497.000000   \n",
      "mean        0.282257          0.173111     0.191948        0.074283   \n",
      "std         0.107143          0.109758     0.087541        0.072972   \n",
      "min         0.000000          0.000000     0.000000        0.000000   \n",
      "25%         0.214876          0.100000     0.150602        0.018405   \n",
      "50%         0.264463          0.140000     0.186747        0.036810   \n",
      "75%         0.322314          0.213333     0.234940        0.115031   \n",
      "max         1.000000          1.000000     1.000000        1.000000   \n",
      "\n",
      "         chlorides  free sulfur dioxide  total sulfur dioxide      density  \\\n",
      "count  6497.000000          6497.000000           6497.000000  6497.000000   \n",
      "mean      0.078129             0.102518              0.252868     0.146262   \n",
      "std       0.058195             0.061630              0.130235     0.057811   \n",
      "min       0.000000             0.000000              0.000000     0.000000   \n",
      "25%       0.048173             0.055556              0.163594     0.100829   \n",
      "50%       0.063123             0.097222              0.258065     0.149990   \n",
      "75%       0.093023             0.138889              0.345622     0.190476   \n",
      "max       1.000000             1.000000              1.000000     1.000000   \n",
      "\n",
      "                pH    sulphates      alcohol      quality         type  \n",
      "count  6497.000000  6497.000000  6497.000000  6497.000000  6497.000000  \n",
      "mean      0.386435     0.174870     0.361131     0.469730     0.753886  \n",
      "std       0.124641     0.083599     0.172857     0.145543     0.430779  \n",
      "min       0.000000     0.000000     0.000000     0.000000     0.000000  \n",
      "25%       0.302326     0.117978     0.217391     0.333333     1.000000  \n",
      "50%       0.379845     0.162921     0.333333     0.500000     1.000000  \n",
      "75%       0.465116     0.213483     0.478261     0.500000     1.000000  \n",
      "max       1.000000     1.000000     1.000000     1.000000     1.000000  \n"
     ]
    }
   ],
   "source": [
    "#maxmin 정규화하기\n",
    "wine_norm=(wine-wine.min())/(wine.max()-wine.min())\n",
    "print(wine_norm.head(),'\\nn')\n",
    "print(wine_norm.describe())"
   ]
  },
  {
   "cell_type": "code",
   "execution_count": 64,
   "id": "7d2f73b7",
   "metadata": {},
   "outputs": [
    {
     "name": "stdout",
     "output_type": "stream",
     "text": [
      "      fixed acidity  volatile acidity  citric acid  residual sugar  chlorides  \\\n",
      "4775       0.099174          0.126667     0.240964        0.009202   0.111296   \n",
      "1310       0.115702          0.190000     0.048193        0.197853   0.053156   \n",
      "2428       0.289256          0.093333     0.156627        0.013804   0.051495   \n",
      "3479       0.173554          0.160000     0.168675        0.062883   0.049834   \n",
      "2117       0.322314          0.120000     0.192771        0.009202   0.051495   \n",
      "\n",
      "      free sulfur dioxide  total sulfur dioxide   density        pH  \\\n",
      "4775             0.142361              0.271889  0.095045  0.465116   \n",
      "1310             0.125000              0.313364  0.190669  0.573643   \n",
      "2428             0.107639              0.382488  0.093117  0.426357   \n",
      "3479             0.114583              0.202765  0.048776  0.387597   \n",
      "2117             0.086806              0.255760  0.113553  0.379845   \n",
      "\n",
      "      sulphates   alcohol   quality  type  \n",
      "4775   0.140449  0.304348  0.500000   1.0  \n",
      "1310   0.095506  0.275362  0.500000   1.0  \n",
      "2428   0.146067  0.463768  0.500000   1.0  \n",
      "3479   0.196629  0.739130  0.666667   1.0  \n",
      "2117   0.191011  0.405797  0.333333   1.0  \n"
     ]
    }
   ],
   "source": [
    "#wine_norm데이터 섞기\n",
    "import numpy as np\n",
    "#frac=1: 임의 표본추출비율. 100%\n",
    "wine_shuffle=wine_norm.sample(frac=1)\n",
    "print(wine_shuffle.head())"
   ]
  },
  {
   "cell_type": "code",
   "execution_count": 65,
   "id": "96a6b82b",
   "metadata": {},
   "outputs": [
    {
     "name": "stdout",
     "output_type": "stream",
     "text": [
      "[[0.09917355 0.12666667 0.24096386 0.00920245 0.11129568 0.14236111\n",
      "  0.2718894  0.09504531 0.46511628 0.14044944 0.30434783 0.5\n",
      "  1.        ]\n",
      " [0.11570248 0.19       0.04819277 0.19785276 0.05315615 0.125\n",
      "  0.31336406 0.19066898 0.57364341 0.09550562 0.27536232 0.5\n",
      "  1.        ]\n",
      " [0.2892562  0.09333333 0.15662651 0.01380368 0.05149502 0.10763889\n",
      "  0.38248848 0.09311741 0.42635659 0.14606742 0.46376812 0.5\n",
      "  1.        ]\n",
      " [0.17355372 0.16       0.1686747  0.06288344 0.04983389 0.11458333\n",
      "  0.20276498 0.04877579 0.3875969  0.19662921 0.73913043 0.66666667\n",
      "  1.        ]\n",
      " [0.32231405 0.12       0.19277108 0.00920245 0.05149502 0.08680556\n",
      "  0.25576037 0.11355311 0.37984496 0.19101124 0.4057971  0.33333333\n",
      "  1.        ]]\n"
     ]
    }
   ],
   "source": [
    "#wine_np numpy 데이터로 변경\n",
    "#to_numpy()\n",
    "wine_np=wine_shuffle.to_numpy()\n",
    "print(wine_np[:5])"
   ]
  },
  {
   "cell_type": "code",
   "execution_count": 66,
   "id": "dd7bfe75",
   "metadata": {},
   "outputs": [
    {
     "name": "stdout",
     "output_type": "stream",
     "text": [
      "데이터의 길이: 6497\n"
     ]
    }
   ],
   "source": [
    "#train,test데이터로 분리\n",
    "import tensorflow as tf\n",
    "print('데이터의 길이:',len(wine_np))\n",
    "#train_idx: wine_np 갯수의 80%값을 정수로 저장\n",
    "train_idx=int(len(wine_np)*0.8)\n",
    "train_X, train_Y=wine_np[:train_idx,:-1],wine_np[:train_idx,-1]\n",
    "test_X, test_Y=wine_np[train_idx:,:-1],wine_np[train_idx:,-1]"
   ]
  },
  {
   "cell_type": "code",
   "execution_count": 67,
   "id": "bb3b64b1",
   "metadata": {},
   "outputs": [
    {
     "name": "stdout",
     "output_type": "stream",
     "text": [
      "[0.09917355 0.12666667 0.24096386 0.00920245 0.11129568 0.14236111\n",
      " 0.2718894  0.09504531 0.46511628 0.14044944 0.30434783 0.5       ]\n",
      "1.0\n",
      "[0.32231405 0.42333333 0.0060241  0.02300613 0.09136213 0.10416667\n",
      " 0.08525346 0.12724118 0.53488372 0.19662921 0.55072464 0.5       ]\n",
      "0.0\n"
     ]
    }
   ],
   "source": [
    "print(train_X[0])\n",
    "print(train_Y[0])\n",
    "print(test_X[0])\n",
    "print(test_Y[0])"
   ]
  },
  {
   "cell_type": "code",
   "execution_count": 68,
   "id": "8f042b8c",
   "metadata": {},
   "outputs": [
    {
     "name": "stdout",
     "output_type": "stream",
     "text": [
      "[0. 1.]\n",
      "[1. 0.]\n"
     ]
    }
   ],
   "source": [
    "#train_Y,test_Y, one-hot encoding 형태로 변경\n",
    "train_Y=tf.keras.utils.to_categorical(train_Y,num_classes=2)\n",
    "test_Y=tf.keras.utils.to_categorical(test_Y,num_classes=2)\n",
    "print(train_Y[0])\n",
    "print(test_Y[0])"
   ]
  },
  {
   "cell_type": "code",
   "execution_count": 69,
   "id": "a4a8e84d",
   "metadata": {},
   "outputs": [
    {
     "name": "stdout",
     "output_type": "stream",
     "text": [
      "Model: \"sequential_3\"\n",
      "_________________________________________________________________\n",
      "Layer (type)                 Output Shape              Param #   \n",
      "=================================================================\n",
      "dense_14 (Dense)             (None, 48)                624       \n",
      "_________________________________________________________________\n",
      "dense_15 (Dense)             (None, 24)                1176      \n",
      "_________________________________________________________________\n",
      "dense_16 (Dense)             (None, 12)                300       \n",
      "_________________________________________________________________\n",
      "dense_17 (Dense)             (None, 2)                 26        \n",
      "=================================================================\n",
      "Total params: 2,126\n",
      "Trainable params: 2,126\n",
      "Non-trainable params: 0\n",
      "_________________________________________________________________\n"
     ]
    },
    {
     "name": "stderr",
     "output_type": "stream",
     "text": [
      "C:\\Users\\K\\anaconda3\\lib\\site-packages\\keras\\optimizer_v2\\optimizer_v2.py:355: UserWarning: The `lr` argument is deprecated, use `learning_rate` instead.\n",
      "  warnings.warn(\n"
     ]
    }
   ],
   "source": [
    "#와인 데이터셋 분류모델 생성\n",
    "import tensorflow as tf\n",
    "model=tf.keras.Sequential([\n",
    "    tf.keras.layers.Dense(units=48,activation='relu',input_shape=(12,)),\n",
    "    tf.keras.layers.Dense(units=24,activation='relu'),\n",
    "    tf.keras.layers.Dense(units=12,activation='relu'),\n",
    "    tf.keras.layers.Dense(units=2,activation='sigmoid'),\n",
    "    #tf.keras.layers.Dense(units=2,activation='softmax)\n",
    "])\n",
    "model.compile(optimizer=tf.keras.optimizers.Adam(lr=0.07),\n",
    "             #loss='categorical_crossentropy',metrics=['accuracy'])\n",
    "             loss='binary_crossentropy',metrics=['accuracy'])\n",
    "model.summary()\n"
   ]
  },
  {
   "cell_type": "code",
   "execution_count": 70,
   "id": "2167261e",
   "metadata": {},
   "outputs": [
    {
     "name": "stdout",
     "output_type": "stream",
     "text": [
      "Epoch 1/25\n",
      "122/122 [==============================] - 0s 1ms/step - loss: 0.1080 - accuracy: 0.9633 - val_loss: 0.0540 - val_accuracy: 0.9877\n",
      "Epoch 2/25\n",
      "122/122 [==============================] - 0s 862us/step - loss: 0.0591 - accuracy: 0.9854 - val_loss: 0.0513 - val_accuracy: 0.9831\n",
      "Epoch 3/25\n",
      "122/122 [==============================] - 0s 845us/step - loss: 0.0541 - accuracy: 0.9841 - val_loss: 0.0582 - val_accuracy: 0.9900\n",
      "Epoch 4/25\n",
      "122/122 [==============================] - 0s 821us/step - loss: 0.0638 - accuracy: 0.9826 - val_loss: 0.1102 - val_accuracy: 0.9777\n",
      "Epoch 5/25\n",
      "122/122 [==============================] - 0s 807us/step - loss: 0.0582 - accuracy: 0.9861 - val_loss: 0.0644 - val_accuracy: 0.9800\n",
      "Epoch 6/25\n",
      "122/122 [==============================] - 0s 816us/step - loss: 0.0436 - accuracy: 0.9867 - val_loss: 0.0376 - val_accuracy: 0.9892\n",
      "Epoch 7/25\n",
      "122/122 [==============================] - 0s 810us/step - loss: 0.0564 - accuracy: 0.9836 - val_loss: 0.0453 - val_accuracy: 0.9869\n",
      "Epoch 8/25\n",
      "122/122 [==============================] - 0s 902us/step - loss: 0.0380 - accuracy: 0.9905 - val_loss: 0.0361 - val_accuracy: 0.9908\n",
      "Epoch 9/25\n",
      "122/122 [==============================] - 0s 855us/step - loss: 0.0395 - accuracy: 0.9908 - val_loss: 0.0669 - val_accuracy: 0.9762\n",
      "Epoch 10/25\n",
      "122/122 [==============================] - 0s 794us/step - loss: 0.0563 - accuracy: 0.9864 - val_loss: 0.1371 - val_accuracy: 0.9438\n",
      "Epoch 11/25\n",
      "122/122 [==============================] - 0s 805us/step - loss: 0.0423 - accuracy: 0.9887 - val_loss: 0.0345 - val_accuracy: 0.9892\n",
      "Epoch 12/25\n",
      "122/122 [==============================] - 0s 803us/step - loss: 0.0397 - accuracy: 0.9920 - val_loss: 0.0404 - val_accuracy: 0.9892\n",
      "Epoch 13/25\n",
      "122/122 [==============================] - 0s 801us/step - loss: 0.0402 - accuracy: 0.9902 - val_loss: 0.0413 - val_accuracy: 0.9908\n",
      "Epoch 14/25\n",
      "122/122 [==============================] - 0s 845us/step - loss: 0.0403 - accuracy: 0.9900 - val_loss: 0.0503 - val_accuracy: 0.9877\n",
      "Epoch 15/25\n",
      "122/122 [==============================] - 0s 832us/step - loss: 0.0474 - accuracy: 0.9882 - val_loss: 0.0461 - val_accuracy: 0.9846\n",
      "Epoch 16/25\n",
      "122/122 [==============================] - 0s 822us/step - loss: 0.0463 - accuracy: 0.9869 - val_loss: 0.1064 - val_accuracy: 0.9785\n",
      "Epoch 17/25\n",
      "122/122 [==============================] - 0s 902us/step - loss: 0.0417 - accuracy: 0.9897 - val_loss: 0.0432 - val_accuracy: 0.9908\n",
      "Epoch 18/25\n",
      "122/122 [==============================] - 0s 856us/step - loss: 0.0448 - accuracy: 0.9882 - val_loss: 0.0383 - val_accuracy: 0.9892\n",
      "Epoch 19/25\n",
      "122/122 [==============================] - 0s 815us/step - loss: 0.0447 - accuracy: 0.9854 - val_loss: 0.0352 - val_accuracy: 0.9892\n",
      "Epoch 20/25\n",
      "122/122 [==============================] - 0s 860us/step - loss: 0.0370 - accuracy: 0.9913 - val_loss: 0.0382 - val_accuracy: 0.9900\n",
      "Epoch 21/25\n",
      "122/122 [==============================] - 0s 807us/step - loss: 0.0350 - accuracy: 0.9908 - val_loss: 0.0594 - val_accuracy: 0.9831\n",
      "Epoch 22/25\n",
      "122/122 [==============================] - 0s 840us/step - loss: 0.0422 - accuracy: 0.9895 - val_loss: 0.0357 - val_accuracy: 0.9900\n",
      "Epoch 23/25\n",
      "122/122 [==============================] - 0s 835us/step - loss: 0.0443 - accuracy: 0.9882 - val_loss: 0.0524 - val_accuracy: 0.9869\n",
      "Epoch 24/25\n",
      "122/122 [==============================] - 0s 883us/step - loss: 0.0482 - accuracy: 0.9869 - val_loss: 0.0351 - val_accuracy: 0.9908\n",
      "Epoch 25/25\n",
      "122/122 [==============================] - 0s 842us/step - loss: 0.0342 - accuracy: 0.9923 - val_loss: 0.0338 - val_accuracy: 0.9915\n"
     ]
    },
    {
     "data": {
      "image/png": "[encoded data removed]",
      "text/plain": [
       "<Figure size 864x288 with 2 Axes>"
      ]
     },
     "metadata": {
      "needs_background": "light"
     },
     "output_type": "display_data"
    }
   ],
   "source": [
    "#와인데이터셋 분류 모델 학습\n",
    "history=model.fit(train_X,train_Y,epochs=25, batch_size=32,\n",
    "                 validation_split=0.25)\n",
    "#분류 모델 학습결과 시각화(loss,accuracy)\n",
    "import matplotlib.pyplot as plt\n",
    "plt.figure(figsize=(12,4))\n",
    "plt.subplot(1,2,1)\n",
    "plt.plot(history.history['loss'],'b-',label='loss')\n",
    "plt.plot(history.history['val_loss'],'r-',label='val_loss')\n",
    "plt.xlabel('Epoch')\n",
    "plt.legend()\n",
    "\n",
    "plt.subplot(1,2,2)\n",
    "plt.plot(history.history['accuracy'],'g-',label='accuracy')\n",
    "plt.plot(history.history['val_accuracy'],'b-',label='val_accuracy')\n",
    "plt.xlabel('Epoch')\n",
    "plt.ylim(0.7,1)\n",
    "plt.legend()\n",
    "plt.show()"
   ]
  },
  {
   "cell_type": "code",
   "execution_count": 71,
   "id": "3532c104",
   "metadata": {},
   "outputs": [
    {
     "name": "stdout",
     "output_type": "stream",
     "text": [
      "41/41 [==============================] - 0s 607us/step - loss: 0.0213 - accuracy: 0.9923\n"
     ]
    },
    {
     "data": {
      "text/plain": [
       "[0.02133031189441681, 0.9923076629638672]"
      ]
     },
     "execution_count": 71,
     "metadata": {},
     "output_type": "execute_result"
    }
   ],
   "source": [
    "#모델평가하기\n",
    "model.evaluate(test_X,test_Y)"
   ]
  },
  {
   "cell_type": "markdown",
   "id": "9eda6ca9",
   "metadata": {},
   "source": [
    "# 와인데이터를 읽어서 와인품질분석 / 다중분류"
   ]
  },
  {
   "cell_type": "code",
   "execution_count": 90,
   "id": "8937cfc7",
   "metadata": {},
   "outputs": [
    {
     "name": "stdout",
     "output_type": "stream",
     "text": [
      "<class 'pandas.core.frame.DataFrame'>\n",
      "Int64Index: 6497 entries, 0 to 4897\n",
      "Data columns (total 12 columns):\n",
      " #   Column                Non-Null Count  Dtype  \n",
      "---  ------                --------------  -----  \n",
      " 0   fixed acidity         6497 non-null   float64\n",
      " 1   volatile acidity      6497 non-null   float64\n",
      " 2   citric acid           6497 non-null   float64\n",
      " 3   residual sugar        6497 non-null   float64\n",
      " 4   chlorides             6497 non-null   float64\n",
      " 5   free sulfur dioxide   6497 non-null   float64\n",
      " 6   total sulfur dioxide  6497 non-null   float64\n",
      " 7   density               6497 non-null   float64\n",
      " 8   pH                    6497 non-null   float64\n",
      " 9   sulphates             6497 non-null   float64\n",
      " 10  alcohol               6497 non-null   float64\n",
      " 11  quality               6497 non-null   int64  \n",
      "dtypes: float64(11), int64(1)\n",
      "memory usage: 659.9 KB\n"
     ]
    }
   ],
   "source": [
    "#1.loss,accuracy값을 학습, 검증데이터 부분 그래프로 출력\n",
    "#2. 테스트 데이터를 이용하여 평가 결과 출력\n",
    "import pandas as pd \n",
    "url=\"http://archive.ics.uci.edu/ml/machine-learning-databases/wine-quality/\"\n",
    "red=pd.read_csv(url+'winequality-red.csv',sep=';')\n",
    "white=pd.read_csv(url+'winequality-white.csv',sep=';')\n",
    "wine=pd.concat([red,white])\n",
    "wine.info()"
   ]
  },
  {
   "cell_type": "code",
   "execution_count": 91,
   "id": "585d752c",
   "metadata": {},
   "outputs": [
    {
     "name": "stdout",
     "output_type": "stream",
     "text": [
      "       fixed acidity  volatile acidity  citric acid  residual sugar  \\\n",
      "count    6497.000000       6497.000000  6497.000000     6497.000000   \n",
      "mean        7.215307          0.339666     0.318633        5.443235   \n",
      "std         1.296434          0.164636     0.145318        4.757804   \n",
      "min         3.800000          0.080000     0.000000        0.600000   \n",
      "25%         6.400000          0.230000     0.250000        1.800000   \n",
      "50%         7.000000          0.290000     0.310000        3.000000   \n",
      "75%         7.700000          0.400000     0.390000        8.100000   \n",
      "max        15.900000          1.580000     1.660000       65.800000   \n",
      "\n",
      "         chlorides  free sulfur dioxide  total sulfur dioxide      density  \\\n",
      "count  6497.000000          6497.000000           6497.000000  6497.000000   \n",
      "mean      0.056034            30.525319            115.744574     0.994697   \n",
      "std       0.035034            17.749400             56.521855     0.002999   \n",
      "min       0.009000             1.000000              6.000000     0.987110   \n",
      "25%       0.038000            17.000000             77.000000     0.992340   \n",
      "50%       0.047000            29.000000            118.000000     0.994890   \n",
      "75%       0.065000            41.000000            156.000000     0.996990   \n",
      "max       0.611000           289.000000            440.000000     1.038980   \n",
      "\n",
      "                pH    sulphates      alcohol  \n",
      "count  6497.000000  6497.000000  6497.000000  \n",
      "mean      3.218501     0.531268    10.491801  \n",
      "std       0.160787     0.148806     1.192712  \n",
      "min       2.720000     0.220000     8.000000  \n",
      "25%       3.110000     0.430000     9.500000  \n",
      "50%       3.210000     0.510000    10.300000  \n",
      "75%       3.320000     0.600000    11.300000  \n",
      "max       4.010000     2.000000    14.900000     \n",
      "\n",
      "6    2836\n",
      "5    2138\n",
      "7    1079\n",
      "4     216\n",
      "8     193\n",
      "3      30\n",
      "9       5\n",
      "Name: quality, dtype: int64\n"
     ]
    }
   ],
   "source": [
    "wine_x=wine.iloc[:,:-1] #변수\n",
    "wine_y=wine.iloc[:,-1] #품질컬럼\n",
    "print(wine_x.describe(),'  \\n')\n",
    "print(wine_y.value_counts())"
   ]
  },
  {
   "cell_type": "code",
   "execution_count": 92,
   "id": "4ed6f693",
   "metadata": {},
   "outputs": [
    {
     "name": "stdout",
     "output_type": "stream",
     "text": [
      "   fixed acidity  volatile acidity  citric acid  residual sugar  chlorides  \\\n",
      "0       0.297521          0.413333     0.000000        0.019939   0.111296   \n",
      "1       0.330579          0.533333     0.000000        0.030675   0.147841   \n",
      "2       0.330579          0.453333     0.024096        0.026074   0.137874   \n",
      "3       0.611570          0.133333     0.337349        0.019939   0.109635   \n",
      "4       0.297521          0.413333     0.000000        0.019939   0.111296   \n",
      "\n",
      "   free sulfur dioxide  total sulfur dioxide   density        pH  sulphates  \\\n",
      "0             0.034722              0.064516  0.206092  0.612403   0.191011   \n",
      "1             0.083333              0.140553  0.186813  0.372093   0.258427   \n",
      "2             0.048611              0.110599  0.190669  0.418605   0.241573   \n",
      "3             0.055556              0.124424  0.209948  0.341085   0.202247   \n",
      "4             0.034722              0.064516  0.206092  0.612403   0.191011   \n",
      "\n",
      "    alcohol  \n",
      "0  0.202899  \n",
      "1  0.260870  \n",
      "2  0.260870  \n",
      "3  0.260870  \n",
      "4  0.202899  \n",
      "       fixed acidity  volatile acidity  citric acid  residual sugar  \\\n",
      "count    6497.000000       6497.000000  6497.000000     6497.000000   \n",
      "mean        0.282257          0.173111     0.191948        0.074283   \n",
      "std         0.107143          0.109758     0.087541        0.072972   \n",
      "min         0.000000          0.000000     0.000000        0.000000   \n",
      "25%         0.214876          0.100000     0.150602        0.018405   \n",
      "50%         0.264463          0.140000     0.186747        0.036810   \n",
      "75%         0.322314          0.213333     0.234940        0.115031   \n",
      "max         1.000000          1.000000     1.000000        1.000000   \n",
      "\n",
      "         chlorides  free sulfur dioxide  total sulfur dioxide      density  \\\n",
      "count  6497.000000          6497.000000           6497.000000  6497.000000   \n",
      "mean      0.078129             0.102518              0.252868     0.146262   \n",
      "std       0.058195             0.061630              0.130235     0.057811   \n",
      "min       0.000000             0.000000              0.000000     0.000000   \n",
      "25%       0.048173             0.055556              0.163594     0.100829   \n",
      "50%       0.063123             0.097222              0.258065     0.149990   \n",
      "75%       0.093023             0.138889              0.345622     0.190476   \n",
      "max       1.000000             1.000000              1.000000     1.000000   \n",
      "\n",
      "                pH    sulphates      alcohol  \n",
      "count  6497.000000  6497.000000  6497.000000  \n",
      "mean      0.386435     0.174870     0.361131  \n",
      "std       0.124641     0.083599     0.172857  \n",
      "min       0.000000     0.000000     0.000000  \n",
      "25%       0.302326     0.117978     0.217391  \n",
      "50%       0.379845     0.162921     0.333333  \n",
      "75%       0.465116     0.213483     0.478261  \n",
      "max       1.000000     1.000000     1.000000  \n",
      "<class 'pandas.core.frame.DataFrame'>\n",
      "Int64Index: 6497 entries, 0 to 4897\n",
      "Data columns (total 12 columns):\n",
      " #   Column                Non-Null Count  Dtype  \n",
      "---  ------                --------------  -----  \n",
      " 0   fixed acidity         6497 non-null   float64\n",
      " 1   volatile acidity      6497 non-null   float64\n",
      " 2   citric acid           6497 non-null   float64\n",
      " 3   residual sugar        6497 non-null   float64\n",
      " 4   chlorides             6497 non-null   float64\n",
      " 5   free sulfur dioxide   6497 non-null   float64\n",
      " 6   total sulfur dioxide  6497 non-null   float64\n",
      " 7   density               6497 non-null   float64\n",
      " 8   pH                    6497 non-null   float64\n",
      " 9   sulphates             6497 non-null   float64\n",
      " 10  alcohol               6497 non-null   float64\n",
      " 11  quality               6497 non-null   int64  \n",
      "dtypes: float64(11), int64(1)\n",
      "memory usage: 659.9 KB\n"
     ]
    }
   ],
   "source": [
    "#maxmin 정규화\n",
    "wine_norm=(wine_x-wine_x.min())/(wine_x.max()-wine_x.min())\n",
    "print(wine_norm.head())\n",
    "print(wine_norm.describe())\n",
    "wine_norm=pd.concat([wine_norm,wine_y],axis=1)\n",
    "wine_norm.info()"
   ]
  },
  {
   "cell_type": "code",
   "execution_count": 93,
   "id": "8a8260e8",
   "metadata": {},
   "outputs": [],
   "source": [
    "import numpy as np"
   ]
  },
  {
   "cell_type": "code",
   "execution_count": 94,
   "id": "77f8b228",
   "metadata": {},
   "outputs": [
    {
     "name": "stdout",
     "output_type": "stream",
     "text": [
      "[0.27272727 0.08666667 0.19879518 0.00920245 0.04983389 0.11458333\n",
      " 0.20967742 0.07730866 0.30232558 0.29775281 0.46376812]\n",
      "6.0\n",
      "[0.16528926 0.13333333 0.18072289 0.01380368 0.0282392  0.10416667\n",
      " 0.24884793 0.04646231 0.46511628 0.21348315 0.65217391]\n",
      "7.0\n"
     ]
    }
   ],
   "source": [
    "wine_shuffle=wine_norm.sample(frac=1)\n",
    "wine_np=wine_shuffle.to_numpy()\n",
    "\n",
    "#train,test분리\n",
    "import tensorflow as tf\n",
    "train_idx=int(len(wine_np)*0.8)\n",
    "train_X,train_Y= wine_np[:train_idx,:-1],wine_np[:train_idx,-1]\n",
    "test_X,test_Y= wine_np[train_idx:,:-1],wine_np[train_idx:,-1]\n",
    "\n",
    "print(train_X[0])\n",
    "print(train_Y[0])\n",
    "print(test_X[0])\n",
    "print(test_Y[0])"
   ]
  },
  {
   "cell_type": "code",
   "execution_count": 95,
   "id": "3ff1051c",
   "metadata": {},
   "outputs": [
    {
     "name": "stdout",
     "output_type": "stream",
     "text": [
      "[0. 0. 0. 0. 0. 0. 1. 0. 0. 0.]\n",
      "[0. 0. 0. 0. 0. 0. 0. 1. 0. 0.]\n"
     ]
    }
   ],
   "source": [
    "#train_Y,test_Y, one-hot encoding 형태로 변경\n",
    "train_Y=tf.keras.utils.to_categorical(train_Y)\n",
    "test_Y=tf.keras.utils.to_categorical(test_Y)\n",
    "print(train_Y[0])\n",
    "print(test_Y[0])"
   ]
  },
  {
   "cell_type": "code",
   "execution_count": 96,
   "id": "bb4e3694",
   "metadata": {},
   "outputs": [
    {
     "name": "stdout",
     "output_type": "stream",
     "text": [
      "Model: \"sequential_7\"\n",
      "_________________________________________________________________\n",
      "Layer (type)                 Output Shape              Param #   \n",
      "=================================================================\n",
      "dense_33 (Dense)             (None, 128)               1536      \n",
      "_________________________________________________________________\n",
      "dense_34 (Dense)             (None, 64)                8256      \n",
      "_________________________________________________________________\n",
      "dense_35 (Dense)             (None, 32)                2080      \n",
      "_________________________________________________________________\n",
      "dense_36 (Dense)             (None, 24)                792       \n",
      "_________________________________________________________________\n",
      "dense_37 (Dense)             (None, 10)                250       \n",
      "=================================================================\n",
      "Total params: 12,914\n",
      "Trainable params: 12,914\n",
      "Non-trainable params: 0\n",
      "_________________________________________________________________\n"
     ]
    }
   ],
   "source": [
    "#와인 데이터셋 분류모델생성 \n",
    "import tensorflow as tf\n",
    "model=tf.keras.Sequential([\n",
    "    tf.keras.layers.Dense(units=128,activation='relu',input_shape=(11,)),\n",
    "    tf.keras.layers.Dense(units=64,activation='relu'),\n",
    "    tf.keras.layers.Dense(units=32,activation='relu'),\n",
    "    tf.keras.layers.Dense(units=24,activation='relu'),\n",
    "    tf.keras.layers.Dense(units=10,activation='softmax')\n",
    "])\n",
    "model.compile(optimizer=tf.keras.optimizers.Adam(),\n",
    "            loss='categorical_crossentropy',metrics=['accuracy'])             \n",
    "model.summary()\n"
   ]
  },
  {
   "cell_type": "code",
   "execution_count": 97,
   "id": "a4eb2c2c",
   "metadata": {},
   "outputs": [
    {
     "name": "stdout",
     "output_type": "stream",
     "text": [
      "Epoch 1/100\n",
      "13/13 [==============================] - 0s 10ms/step - loss: 2.0933 - accuracy: 0.2127 - val_loss: 1.8656 - val_accuracy: 0.1762\n",
      "Epoch 2/100\n",
      "13/13 [==============================] - 0s 3ms/step - loss: 1.6633 - accuracy: 0.3413 - val_loss: 1.4565 - val_accuracy: 0.4438\n",
      "Epoch 3/100\n",
      "13/13 [==============================] - 0s 2ms/step - loss: 1.3498 - accuracy: 0.4509 - val_loss: 1.3858 - val_accuracy: 0.4677\n",
      "Epoch 4/100\n",
      "13/13 [==============================] - 0s 2ms/step - loss: 1.3026 - accuracy: 0.4352 - val_loss: 1.3229 - val_accuracy: 0.5085\n",
      "Epoch 5/100\n",
      "13/13 [==============================] - 0s 3ms/step - loss: 1.2557 - accuracy: 0.5117 - val_loss: 1.2724 - val_accuracy: 0.4885\n",
      "Epoch 6/100\n",
      "13/13 [==============================] - 0s 3ms/step - loss: 1.2224 - accuracy: 0.5142 - val_loss: 1.2376 - val_accuracy: 0.5185\n",
      "Epoch 7/100\n",
      "13/13 [==============================] - 0s 3ms/step - loss: 1.1903 - accuracy: 0.5225 - val_loss: 1.2086 - val_accuracy: 0.5138\n",
      "Epoch 8/100\n",
      "13/13 [==============================] - 0s 3ms/step - loss: 1.1637 - accuracy: 0.5276 - val_loss: 1.1798 - val_accuracy: 0.5231\n",
      "Epoch 9/100\n",
      "13/13 [==============================] - 0s 3ms/step - loss: 1.1416 - accuracy: 0.5299 - val_loss: 1.1707 - val_accuracy: 0.4969\n",
      "Epoch 10/100\n",
      "13/13 [==============================] - 0s 3ms/step - loss: 1.1304 - accuracy: 0.5266 - val_loss: 1.1475 - val_accuracy: 0.5154\n",
      "Epoch 11/100\n",
      "13/13 [==============================] - 0s 3ms/step - loss: 1.1190 - accuracy: 0.5317 - val_loss: 1.1389 - val_accuracy: 0.5162\n",
      "Epoch 12/100\n",
      "13/13 [==============================] - 0s 3ms/step - loss: 1.1107 - accuracy: 0.5355 - val_loss: 1.1278 - val_accuracy: 0.5292\n",
      "Epoch 13/100\n",
      "13/13 [==============================] - 0s 3ms/step - loss: 1.1067 - accuracy: 0.5361 - val_loss: 1.1209 - val_accuracy: 0.5354\n",
      "Epoch 14/100\n",
      "13/13 [==============================] - 0s 3ms/step - loss: 1.1015 - accuracy: 0.5345 - val_loss: 1.1156 - val_accuracy: 0.5362\n",
      "Epoch 15/100\n",
      "13/13 [==============================] - 0s 3ms/step - loss: 1.1006 - accuracy: 0.5389 - val_loss: 1.1137 - val_accuracy: 0.5346\n",
      "Epoch 16/100\n",
      "13/13 [==============================] - 0s 3ms/step - loss: 1.0965 - accuracy: 0.5368 - val_loss: 1.1075 - val_accuracy: 0.5400\n",
      "Epoch 17/100\n",
      "13/13 [==============================] - 0s 2ms/step - loss: 1.0945 - accuracy: 0.5353 - val_loss: 1.1044 - val_accuracy: 0.5462\n",
      "Epoch 18/100\n",
      "13/13 [==============================] - 0s 3ms/step - loss: 1.0975 - accuracy: 0.5355 - val_loss: 1.1029 - val_accuracy: 0.5485\n",
      "Epoch 19/100\n",
      "13/13 [==============================] - 0s 3ms/step - loss: 1.0907 - accuracy: 0.5304 - val_loss: 1.1082 - val_accuracy: 0.5192\n",
      "Epoch 20/100\n",
      "13/13 [==============================] - 0s 2ms/step - loss: 1.0891 - accuracy: 0.5409 - val_loss: 1.1111 - val_accuracy: 0.5177\n",
      "Epoch 21/100\n",
      "13/13 [==============================] - 0s 3ms/step - loss: 1.0880 - accuracy: 0.5402 - val_loss: 1.1123 - val_accuracy: 0.5115\n",
      "Epoch 22/100\n",
      "13/13 [==============================] - 0s 3ms/step - loss: 1.0851 - accuracy: 0.5473 - val_loss: 1.0968 - val_accuracy: 0.5408\n",
      "Epoch 23/100\n",
      "13/13 [==============================] - 0s 3ms/step - loss: 1.0816 - accuracy: 0.5453 - val_loss: 1.1032 - val_accuracy: 0.5208\n",
      "Epoch 24/100\n",
      "13/13 [==============================] - ETA: 0s - loss: 1.1165 - accuracy: 0.53 - 0s 3ms/step - loss: 1.0801 - accuracy: 0.5422 - val_loss: 1.0966 - val_accuracy: 0.5362\n",
      "Epoch 25/100\n",
      "13/13 [==============================] - 0s 3ms/step - loss: 1.0781 - accuracy: 0.5443 - val_loss: 1.0932 - val_accuracy: 0.5315\n",
      "Epoch 26/100\n",
      "13/13 [==============================] - 0s 3ms/step - loss: 1.0761 - accuracy: 0.5458 - val_loss: 1.0960 - val_accuracy: 0.5277\n",
      "Epoch 27/100\n",
      "13/13 [==============================] - 0s 3ms/step - loss: 1.0801 - accuracy: 0.5435 - val_loss: 1.0926 - val_accuracy: 0.5300\n",
      "Epoch 28/100\n",
      "13/13 [==============================] - 0s 3ms/step - loss: 1.0735 - accuracy: 0.5535 - val_loss: 1.0879 - val_accuracy: 0.5462\n",
      "Epoch 29/100\n",
      "13/13 [==============================] - 0s 3ms/step - loss: 1.0737 - accuracy: 0.5479 - val_loss: 1.0915 - val_accuracy: 0.5377\n",
      "Epoch 30/100\n",
      "13/13 [==============================] - 0s 3ms/step - loss: 1.0718 - accuracy: 0.5479 - val_loss: 1.0832 - val_accuracy: 0.5492\n",
      "Epoch 31/100\n",
      "13/13 [==============================] - 0s 3ms/step - loss: 1.0685 - accuracy: 0.5535 - val_loss: 1.0827 - val_accuracy: 0.5454\n",
      "Epoch 32/100\n",
      "13/13 [==============================] - 0s 3ms/step - loss: 1.0676 - accuracy: 0.5540 - val_loss: 1.0814 - val_accuracy: 0.5508\n",
      "Epoch 33/100\n",
      "13/13 [==============================] - 0s 3ms/step - loss: 1.0673 - accuracy: 0.5527 - val_loss: 1.0797 - val_accuracy: 0.5446\n",
      "Epoch 34/100\n",
      "13/13 [==============================] - 0s 3ms/step - loss: 1.0653 - accuracy: 0.5502 - val_loss: 1.0893 - val_accuracy: 0.5315\n",
      "Epoch 35/100\n",
      "13/13 [==============================] - 0s 3ms/step - loss: 1.0714 - accuracy: 0.5520 - val_loss: 1.0880 - val_accuracy: 0.5338\n",
      "Epoch 36/100\n",
      "13/13 [==============================] - 0s 3ms/step - loss: 1.0665 - accuracy: 0.5504 - val_loss: 1.0786 - val_accuracy: 0.5408\n",
      "Epoch 37/100\n",
      "13/13 [==============================] - 0s 2ms/step - loss: 1.0664 - accuracy: 0.5455 - val_loss: 1.0764 - val_accuracy: 0.5492\n",
      "Epoch 38/100\n",
      "13/13 [==============================] - 0s 2ms/step - loss: 1.0597 - accuracy: 0.5502 - val_loss: 1.0751 - val_accuracy: 0.5454\n",
      "Epoch 39/100\n",
      "13/13 [==============================] - 0s 2ms/step - loss: 1.0642 - accuracy: 0.5497 - val_loss: 1.0726 - val_accuracy: 0.5531\n",
      "Epoch 40/100\n",
      "13/13 [==============================] - 0s 2ms/step - loss: 1.0556 - accuracy: 0.5581 - val_loss: 1.0751 - val_accuracy: 0.5492\n",
      "Epoch 41/100\n",
      "13/13 [==============================] - 0s 2ms/step - loss: 1.0570 - accuracy: 0.5530 - val_loss: 1.0719 - val_accuracy: 0.5523\n",
      "Epoch 42/100\n",
      "13/13 [==============================] - 0s 3ms/step - loss: 1.0541 - accuracy: 0.5543 - val_loss: 1.0741 - val_accuracy: 0.5477\n",
      "Epoch 43/100\n",
      "13/13 [==============================] - 0s 3ms/step - loss: 1.0533 - accuracy: 0.5527 - val_loss: 1.0716 - val_accuracy: 0.5554\n",
      "Epoch 44/100\n",
      "13/13 [==============================] - 0s 3ms/step - loss: 1.0542 - accuracy: 0.5571 - val_loss: 1.0783 - val_accuracy: 0.5408\n",
      "Epoch 45/100\n",
      "13/13 [==============================] - 0s 3ms/step - loss: 1.0636 - accuracy: 0.5494 - val_loss: 1.0766 - val_accuracy: 0.5515\n",
      "Epoch 46/100\n",
      "13/13 [==============================] - 0s 3ms/step - loss: 1.0551 - accuracy: 0.5476 - val_loss: 1.0720 - val_accuracy: 0.5492\n",
      "Epoch 47/100\n",
      "13/13 [==============================] - 0s 3ms/step - loss: 1.0485 - accuracy: 0.5604 - val_loss: 1.0713 - val_accuracy: 0.5531\n",
      "Epoch 48/100\n",
      "13/13 [==============================] - 0s 3ms/step - loss: 1.0488 - accuracy: 0.5563 - val_loss: 1.0714 - val_accuracy: 0.5454\n",
      "Epoch 49/100\n",
      "13/13 [==============================] - 0s 2ms/step - loss: 1.0601 - accuracy: 0.5432 - val_loss: 1.0658 - val_accuracy: 0.5546\n",
      "Epoch 50/100\n",
      "13/13 [==============================] - 0s 2ms/step - loss: 1.0513 - accuracy: 0.5504 - val_loss: 1.0646 - val_accuracy: 0.5523\n",
      "Epoch 51/100\n",
      "13/13 [==============================] - 0s 2ms/step - loss: 1.0442 - accuracy: 0.5607 - val_loss: 1.0626 - val_accuracy: 0.5531\n",
      "Epoch 52/100\n",
      "13/13 [==============================] - 0s 2ms/step - loss: 1.0445 - accuracy: 0.5584 - val_loss: 1.0631 - val_accuracy: 0.5492\n",
      "Epoch 53/100\n",
      "13/13 [==============================] - 0s 3ms/step - loss: 1.0390 - accuracy: 0.5597 - val_loss: 1.0638 - val_accuracy: 0.5485\n",
      "Epoch 54/100\n",
      "13/13 [==============================] - 0s 3ms/step - loss: 1.0402 - accuracy: 0.5538 - val_loss: 1.0620 - val_accuracy: 0.5523\n",
      "Epoch 55/100\n",
      "13/13 [==============================] - 0s 3ms/step - loss: 1.0427 - accuracy: 0.5579 - val_loss: 1.0602 - val_accuracy: 0.5469\n",
      "Epoch 56/100\n",
      "13/13 [==============================] - 0s 2ms/step - loss: 1.0377 - accuracy: 0.5627 - val_loss: 1.0597 - val_accuracy: 0.5546\n",
      "Epoch 57/100\n",
      "13/13 [==============================] - 0s 3ms/step - loss: 1.0350 - accuracy: 0.5651 - val_loss: 1.0587 - val_accuracy: 0.5462\n",
      "Epoch 58/100\n"
     ]
    },
    {
     "name": "stdout",
     "output_type": "stream",
     "text": [
      "13/13 [==============================] - 0s 3ms/step - loss: 1.0352 - accuracy: 0.5640 - val_loss: 1.0592 - val_accuracy: 0.5485\n",
      "Epoch 59/100\n",
      "13/13 [==============================] - 0s 2ms/step - loss: 1.0343 - accuracy: 0.5635 - val_loss: 1.0570 - val_accuracy: 0.5469\n",
      "Epoch 60/100\n",
      "13/13 [==============================] - 0s 3ms/step - loss: 1.0305 - accuracy: 0.5622 - val_loss: 1.0574 - val_accuracy: 0.5431\n",
      "Epoch 61/100\n",
      "13/13 [==============================] - 0s 3ms/step - loss: 1.0324 - accuracy: 0.5599 - val_loss: 1.0554 - val_accuracy: 0.5585\n",
      "Epoch 62/100\n",
      "13/13 [==============================] - 0s 2ms/step - loss: 1.0307 - accuracy: 0.5615 - val_loss: 1.0575 - val_accuracy: 0.5469\n",
      "Epoch 63/100\n",
      "13/13 [==============================] - 0s 2ms/step - loss: 1.0291 - accuracy: 0.5617 - val_loss: 1.0543 - val_accuracy: 0.5508\n",
      "Epoch 64/100\n",
      "13/13 [==============================] - 0s 3ms/step - loss: 1.0239 - accuracy: 0.5679 - val_loss: 1.0536 - val_accuracy: 0.5531\n",
      "Epoch 65/100\n",
      "13/13 [==============================] - 0s 3ms/step - loss: 1.0282 - accuracy: 0.5615 - val_loss: 1.0530 - val_accuracy: 0.5500\n",
      "Epoch 66/100\n",
      "13/13 [==============================] - 0s 3ms/step - loss: 1.0226 - accuracy: 0.5681 - val_loss: 1.0515 - val_accuracy: 0.5508\n",
      "Epoch 67/100\n",
      "13/13 [==============================] - 0s 3ms/step - loss: 1.0205 - accuracy: 0.5694 - val_loss: 1.0502 - val_accuracy: 0.5454\n",
      "Epoch 68/100\n",
      "13/13 [==============================] - 0s 3ms/step - loss: 1.0212 - accuracy: 0.5648 - val_loss: 1.0528 - val_accuracy: 0.5562\n",
      "Epoch 69/100\n",
      "13/13 [==============================] - 0s 3ms/step - loss: 1.0216 - accuracy: 0.5666 - val_loss: 1.0488 - val_accuracy: 0.5477\n",
      "Epoch 70/100\n",
      "13/13 [==============================] - 0s 3ms/step - loss: 1.0217 - accuracy: 0.5697 - val_loss: 1.0469 - val_accuracy: 0.5492\n",
      "Epoch 71/100\n",
      "13/13 [==============================] - 0s 3ms/step - loss: 1.0174 - accuracy: 0.5717 - val_loss: 1.0488 - val_accuracy: 0.5515\n",
      "Epoch 72/100\n",
      "13/13 [==============================] - 0s 3ms/step - loss: 1.0177 - accuracy: 0.5681 - val_loss: 1.0461 - val_accuracy: 0.5577\n",
      "Epoch 73/100\n",
      "13/13 [==============================] - 0s 3ms/step - loss: 1.0138 - accuracy: 0.5751 - val_loss: 1.0501 - val_accuracy: 0.5462\n",
      "Epoch 74/100\n",
      "13/13 [==============================] - 0s 2ms/step - loss: 1.0137 - accuracy: 0.5681 - val_loss: 1.0458 - val_accuracy: 0.5508\n",
      "Epoch 75/100\n",
      "13/13 [==============================] - 0s 2ms/step - loss: 1.0118 - accuracy: 0.5704 - val_loss: 1.0500 - val_accuracy: 0.5485\n",
      "Epoch 76/100\n",
      "13/13 [==============================] - 0s 2ms/step - loss: 1.0126 - accuracy: 0.5702 - val_loss: 1.0461 - val_accuracy: 0.5462\n",
      "Epoch 77/100\n",
      "13/13 [==============================] - 0s 2ms/step - loss: 1.0106 - accuracy: 0.5663 - val_loss: 1.0479 - val_accuracy: 0.5485\n",
      "Epoch 78/100\n",
      "13/13 [==============================] - 0s 2ms/step - loss: 1.0086 - accuracy: 0.5727 - val_loss: 1.0448 - val_accuracy: 0.5515\n",
      "Epoch 79/100\n",
      "13/13 [==============================] - 0s 2ms/step - loss: 1.0077 - accuracy: 0.5727 - val_loss: 1.0426 - val_accuracy: 0.5531\n",
      "Epoch 80/100\n",
      "13/13 [==============================] - 0s 2ms/step - loss: 1.0051 - accuracy: 0.5735 - val_loss: 1.0416 - val_accuracy: 0.5562\n",
      "Epoch 81/100\n",
      "13/13 [==============================] - 0s 2ms/step - loss: 1.0055 - accuracy: 0.5717 - val_loss: 1.0439 - val_accuracy: 0.5585\n",
      "Epoch 82/100\n",
      "13/13 [==============================] - 0s 2ms/step - loss: 1.0087 - accuracy: 0.5720 - val_loss: 1.0443 - val_accuracy: 0.5508\n",
      "Epoch 83/100\n",
      "13/13 [==============================] - 0s 3ms/step - loss: 1.0070 - accuracy: 0.5715 - val_loss: 1.0704 - val_accuracy: 0.5285\n",
      "Epoch 84/100\n",
      "13/13 [==============================] - 0s 2ms/step - loss: 1.0076 - accuracy: 0.5656 - val_loss: 1.0522 - val_accuracy: 0.5462\n",
      "Epoch 85/100\n",
      "13/13 [==============================] - 0s 3ms/step - loss: 1.0005 - accuracy: 0.5722 - val_loss: 1.0457 - val_accuracy: 0.5485\n",
      "Epoch 86/100\n",
      "13/13 [==============================] - 0s 3ms/step - loss: 1.0030 - accuracy: 0.5686 - val_loss: 1.0399 - val_accuracy: 0.5538\n",
      "Epoch 87/100\n",
      "13/13 [==============================] - 0s 2ms/step - loss: 1.0025 - accuracy: 0.5625 - val_loss: 1.0387 - val_accuracy: 0.5515\n",
      "Epoch 88/100\n",
      "13/13 [==============================] - 0s 3ms/step - loss: 0.9995 - accuracy: 0.5743 - val_loss: 1.0381 - val_accuracy: 0.5515\n",
      "Epoch 89/100\n",
      "13/13 [==============================] - 0s 3ms/step - loss: 1.0036 - accuracy: 0.5615 - val_loss: 1.0458 - val_accuracy: 0.5538\n",
      "Epoch 90/100\n",
      "13/13 [==============================] - 0s 3ms/step - loss: 0.9982 - accuracy: 0.5676 - val_loss: 1.0581 - val_accuracy: 0.5400\n",
      "Epoch 91/100\n",
      "13/13 [==============================] - 0s 3ms/step - loss: 1.0000 - accuracy: 0.5704 - val_loss: 1.0365 - val_accuracy: 0.5615\n",
      "Epoch 92/100\n",
      "13/13 [==============================] - 0s 3ms/step - loss: 0.9934 - accuracy: 0.5756 - val_loss: 1.0364 - val_accuracy: 0.5492\n",
      "Epoch 93/100\n",
      "13/13 [==============================] - 0s 3ms/step - loss: 0.9940 - accuracy: 0.5810 - val_loss: 1.0360 - val_accuracy: 0.5608\n",
      "Epoch 94/100\n",
      "13/13 [==============================] - 0s 3ms/step - loss: 0.9986 - accuracy: 0.5699 - val_loss: 1.0411 - val_accuracy: 0.5492\n",
      "Epoch 95/100\n",
      "13/13 [==============================] - 0s 3ms/step - loss: 0.9959 - accuracy: 0.5740 - val_loss: 1.0487 - val_accuracy: 0.5454\n",
      "Epoch 96/100\n",
      "13/13 [==============================] - 0s 3ms/step - loss: 0.9936 - accuracy: 0.5766 - val_loss: 1.0459 - val_accuracy: 0.5554\n",
      "Epoch 97/100\n",
      "13/13 [==============================] - 0s 3ms/step - loss: 0.9910 - accuracy: 0.5733 - val_loss: 1.0415 - val_accuracy: 0.5592\n",
      "Epoch 98/100\n",
      "13/13 [==============================] - 0s 2ms/step - loss: 0.9944 - accuracy: 0.5761 - val_loss: 1.0407 - val_accuracy: 0.5623\n",
      "Epoch 99/100\n",
      "13/13 [==============================] - 0s 3ms/step - loss: 0.9909 - accuracy: 0.5774 - val_loss: 1.0363 - val_accuracy: 0.5531\n",
      "Epoch 100/100\n",
      "13/13 [==============================] - 0s 2ms/step - loss: 0.9870 - accuracy: 0.5763 - val_loss: 1.0360 - val_accuracy: 0.5538\n"
     ]
    },
    {
     "data": {
      "image/png": "[encoded data removed]",
      "text/plain": [
       "<Figure size 864x288 with 2 Axes>"
      ]
     },
     "metadata": {
      "needs_background": "light"
     },
     "output_type": "display_data"
    }
   ],
   "source": [
    "#와인데이터셋 분류 모델 학습\n",
    "history=model.fit(train_X,train_Y,epochs=100, batch_size=320,\n",
    "                 validation_split=0.25)\n",
    "#분류 모델 학습결과 시각화(loss,accuracy)\n",
    "import matplotlib.pyplot as plt\n",
    "plt.figure(figsize=(12,4))\n",
    "plt.subplot(1,2,1)\n",
    "plt.plot(history.history['loss'],'b-',label='loss')\n",
    "plt.plot(history.history['val_loss'],'r-',label='val_loss')\n",
    "plt.xlabel('Epoch')\n",
    "plt.legend()\n",
    "\n",
    "plt.subplot(1,2,2)\n",
    "plt.plot(history.history['accuracy'],'g-',label='accuracy')\n",
    "plt.plot(history.history['val_accuracy'],'k--',label='val_accuracy')\n",
    "plt.xlabel('Epoch')\n",
    "plt.legend()\n",
    "plt.show()"
   ]
  },
  {
   "cell_type": "code",
   "execution_count": 98,
   "id": "c1e4e4f7",
   "metadata": {},
   "outputs": [
    {
     "name": "stdout",
     "output_type": "stream",
     "text": [
      "41/41 [==============================] - 0s 545us/step - loss: 1.0445 - accuracy: 0.5638\n"
     ]
    },
    {
     "data": {
      "text/plain": [
       "[1.0444930791854858, 0.5638461709022522]"
      ]
     },
     "execution_count": 98,
     "metadata": {},
     "output_type": "execute_result"
    }
   ],
   "source": [
    "#모델평가하기\n",
    "model.evaluate(test_X,test_Y)"
   ]
  },
  {
   "cell_type": "code",
   "execution_count": null,
   "id": "1aa5522d",
   "metadata": {},
   "outputs": [],
   "source": [
    "Dense: 완전연결층\n",
    "1차원 배열의 형태로 데이터학습\n",
    "이미지의 픽셀의 관계를 고려안함\n",
    "2차원배열 형태의 이미지를 1차원형태로 변환하므로, 이미지 특징을 잃어버림\n",
    "\n",
    "Convolution layer(컨볼루션층): Conv2D층\n",
    "    => 이미지 픽셀사이의 관게를 고려"
   ]
  }
 ],
 "metadata": {
  "kernelspec": {
   "display_name": "Python 3",
   "language": "python",
   "name": "python3"
  },
  "language_info": {
   "codemirror_mode": {
    "name": "ipython",
    "version": 3
   },
   "file_extension": ".py",
   "mimetype": "text/x-python",
   "name": "python",
   "nbconvert_exporter": "python",
   "pygments_lexer": "ipython3",
   "version": "3.8.8"
  }
 },
 "nbformat": 4,
 "nbformat_minor": 5
}
